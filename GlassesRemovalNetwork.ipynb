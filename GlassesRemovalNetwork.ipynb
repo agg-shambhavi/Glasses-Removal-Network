{
  "nbformat": 4,
  "nbformat_minor": 2,
  "metadata": {
    "colab": {
      "name": "GlassesRemovalNetwork.ipynb",
      "provenance": [],
      "authorship_tag": "ABX9TyNbSHsuB3OGOFqwOCcN8CBd",
      "include_colab_link": true
    },
    "kernelspec": {
      "display_name": "Python 3",
      "name": "python3"
    },
    "language_info": {
      "name": "python"
    }
  },
  "cells": [
    {
      "cell_type": "markdown",
      "source": [
        "<a href=\"https://colab.research.google.com/github/agg-shambhavi/Glasses-Removal-Network/blob/main/GlassesRemovalNetwork.ipynb\" target=\"_parent\"><img src=\"https://colab.research.google.com/assets/colab-badge.svg\" alt=\"Open In Colab\"/></a>"
      ],
      "metadata": {
        "id": "view-in-github",
        "colab_type": "text"
      }
    },
    {
      "cell_type": "code",
      "execution_count": null,
      "source": [
        "from google.colab import drive\r\n",
        "drive.mount('/content/drive')"
      ],
      "outputs": [
        {
          "output_type": "stream",
          "name": "stdout",
          "text": [
            "Drive already mounted at /content/drive; to attempt to forcibly remount, call drive.mount(\"/content/drive\", force_remount=True).\n"
          ]
        }
      ],
      "metadata": {
        "colab": {
          "base_uri": "https://localhost:8080/"
        },
        "id": "7cmaAqcpVEgg",
        "outputId": "3447306f-6625-4753-e510-9fd30f947dcc"
      }
    },
    {
      "cell_type": "markdown",
      "source": [
        "# Constants "
      ],
      "metadata": {
        "id": "gqdtrCTAXLCm"
      }
    },
    {
      "cell_type": "code",
      "execution_count": null,
      "source": [
        "import torch\r\n",
        "DEVICE = torch.device(\"cuda\" if torch.cuda.is_available() else \"cpu\")\r\n",
        "BATCH_SIZE = 1\r\n",
        "LEARNING_RATE = 2e-4\r\n",
        "NUM_EPOCHS = 2\r\n",
        "LAMBDA_IDENTITY = 0.0\r\n",
        "LAMBDA_CYCLE = 10\r\n",
        "# Korean paper trained for 200 epochs"
      ],
      "outputs": [],
      "metadata": {
        "id": "ZqOKjlG-XIE1"
      }
    },
    {
      "cell_type": "markdown",
      "source": [
        "# File Paths"
      ],
      "metadata": {
        "id": "EUzv7cBk7sBx"
      }
    },
    {
      "cell_type": "code",
      "execution_count": null,
      "source": [
        "import zipfile\r\n",
        "import os"
      ],
      "outputs": [],
      "metadata": {
        "id": "BbrXEkZD8a1D"
      }
    },
    {
      "cell_type": "code",
      "execution_count": null,
      "source": [
        "def extract_zip_file(path):\r\n",
        "  # extract all contents of zip file\r\n",
        "  zip_train = zipfile.ZipFile(path, 'r')\r\n",
        "  zip_train.extractall(\"./\")\r\n",
        "  zip_train.close()"
      ],
      "outputs": [],
      "metadata": {
        "id": "pdY1ttvDiP_c"
      }
    },
    {
      "cell_type": "code",
      "execution_count": null,
      "source": [
        "trainGlassesZip  = \"/content/drive/MyDrive/Computer Vision /Cyclegan/Data/train glasses.zip\"\r\n",
        "trainNoglassesZip = \"/content/drive/MyDrive/Computer Vision /Cyclegan/Data/train non glasses.zip\"\r\n",
        "valGlassesZip  = \"/content/drive/MyDrive/Computer Vision /Cyclegan/Data/val glasses.zip\"\r\n",
        "valNoglassesZip = \"/content/drive/MyDrive/Computer Vision /Cyclegan/Data/val non glasses.zip\""
      ],
      "outputs": [],
      "metadata": {
        "id": "G7_zABZthBJY"
      }
    },
    {
      "cell_type": "code",
      "execution_count": null,
      "source": [
        "extract_zip_file(trainGlassesZip)\r\n",
        "extract_zip_file(trainNoglassesZip)\r\n",
        "extract_zip_file(valGlassesZip)\r\n",
        "extract_zip_file(valNoglassesZip)"
      ],
      "outputs": [],
      "metadata": {
        "id": "EJp5LmlhiUos"
      }
    },
    {
      "cell_type": "code",
      "execution_count": null,
      "source": [
        "trainGlassesDir = \"/content/train glasses\"\r\n",
        "trainNoglassesDir = \"/content/train non glasses\"\r\n",
        "valGlassesDir = \"/content/val glasses\"\r\n",
        "valNoglassesDir = \"/content/val non glasses\""
      ],
      "outputs": [],
      "metadata": {
        "id": "qoaA5HgS8krj"
      }
    },
    {
      "cell_type": "code",
      "execution_count": null,
      "source": [
        "resultsNoGlasses = \"/content/drive/MyDrive/Computer Vision /Cyclegan/Results - G -> N\"\r\n",
        "resultGlasses = \"/content/drive/MyDrive/Computer Vision /Cyclegan/Results N -> G \""
      ],
      "outputs": [],
      "metadata": {
        "id": "fCUImld1Fvym"
      }
    },
    {
      "cell_type": "markdown",
      "source": [
        "# Imports"
      ],
      "metadata": {
        "id": "94uxbuA5XBTV"
      }
    },
    {
      "cell_type": "code",
      "execution_count": null,
      "source": [
        "!pip install -U git+https://github.com/albu/albumentations > /dev/null "
      ],
      "outputs": [
        {
          "output_type": "stream",
          "name": "stdout",
          "text": [
            "  Running command git clone -q https://github.com/albu/albumentations /tmp/pip-req-build-pajr_r11\n"
          ]
        }
      ],
      "metadata": {
        "colab": {
          "base_uri": "https://localhost:8080/"
        },
        "id": "kREi2vocg3B1",
        "outputId": "d7dd50cf-89b5-4313-bab6-8c4ace42b535"
      }
    },
    {
      "cell_type": "code",
      "execution_count": null,
      "source": [
        "import torch.nn as nn\r\n",
        "from torch.utils.data import DataLoader\r\n",
        "import torch.optim as optim\r\n",
        "from tqdm import tqdm\r\n",
        "from PIL import Image, ImageOps\r\n",
        "import numpy as np\r\n",
        "from torch.utils.data import Dataset\r\n",
        "from torchvision.utils import save_image\r\n",
        "import torchvision.models.vgg as models\r\n",
        "import albumentations as A\r\n",
        "from albumentations.pytorch import ToTensorV2\r\n",
        "import time"
      ],
      "outputs": [],
      "metadata": {
        "id": "mofkH1iNWGTl"
      }
    },
    {
      "cell_type": "markdown",
      "source": [
        "# Dataset Class & Transforms"
      ],
      "metadata": {
        "id": "ELkrRs0Xd2QR"
      }
    },
    {
      "cell_type": "code",
      "execution_count": null,
      "source": [
        "class GlassesDataset(Dataset):\r\n",
        "    def __init__(self, root_dir_glass, root_dir_noglass, transform=None):\r\n",
        "        super().__init__()\r\n",
        "        self.root_dir_glasses = root_dir_glass\r\n",
        "        self.root_dir_noglasses = root_dir_noglass\r\n",
        "        self.list_glasses = os.listdir(self.root_dir_glasses)\r\n",
        "        self.list_noglasses = os.listdir(self.root_dir_noglasses)\r\n",
        "        self.transform = transform\r\n",
        "        self.len_glasses = len(self.list_glasses)\r\n",
        "        self.len_noglasses = len(self.list_noglasses)\r\n",
        "        self.dataset_length = max(self.len_glasses, self.len_noglasses)\r\n",
        "        \r\n",
        "    def __len__(self):\r\n",
        "        return self.dataset_length\r\n",
        "    \r\n",
        "    def __getitem__(self, index):\r\n",
        "        start_time = time.time()\r\n",
        "        glasses_file = self.list_glasses[index % self.len_glasses]\r\n",
        "        no_glasses_file = self.list_noglasses[index % self.len_noglasses]\r\n",
        "        glasses_path = os.path.join(self.root_dir_glasses, glasses_file)\r\n",
        "        no_glasses_path = os.path.join(self.root_dir_noglasses, no_glasses_file)\r\n",
        "        img_glasses = np.array(ImageOps.grayscale(Image.open(glasses_path).convert('RGB')))\r\n",
        "        img_noglasses = np.array(ImageOps.grayscale(Image.open(no_glasses_path).convert('RGB')))\r\n",
        "        \r\n",
        "        if self.transform:\r\n",
        "            augmentation = self.transform(image=img_glasses, image0=img_noglasses)\r\n",
        "            img_glasses = augmentation[\"image\"]\r\n",
        "            img_noglasses = augmentation[\"image0\"]\r\n",
        "\r\n",
        "        end_time = time.time()\r\n",
        "        print(f\"{end_time - start_time} data loading time\")\r\n",
        "            \r\n",
        "        return img_glasses, img_noglasses"
      ],
      "outputs": [],
      "metadata": {
        "id": "Qq6HKnqyd13e"
      }
    },
    {
      "cell_type": "code",
      "execution_count": null,
      "source": [
        "transforms_train = A.Compose(\r\n",
        "    [\r\n",
        "        A.Resize(width=256, height=256),\r\n",
        "        A.HorizontalFlip(p=0.5),\r\n",
        "        A.Normalize(mean=[0.5], std=[0.5], max_pixel_value=255),\r\n",
        "        ToTensorV2(),\r\n",
        "     ],\r\n",
        "    additional_targets={\"image0\": \"image\"},\r\n",
        ")"
      ],
      "outputs": [],
      "metadata": {
        "id": "3Kblie8fiUWe"
      }
    },
    {
      "cell_type": "code",
      "execution_count": null,
      "source": [
        "transforms_val = A.Compose(\r\n",
        "    [\r\n",
        "        A.Resize(width=256, height=256),\r\n",
        "        A.Normalize(mean=[0.5], std=[0.5], max_pixel_value=255),\r\n",
        "        ToTensorV2(),\r\n",
        "     ],\r\n",
        "    additional_targets={\"image0\": \"image\"},\r\n",
        ")"
      ],
      "outputs": [],
      "metadata": {
        "id": "ATkRsGOB6CAF"
      }
    },
    {
      "cell_type": "markdown",
      "source": [
        "# Model Architecture \r\n",
        "## Generator"
      ],
      "metadata": {
        "id": "Ayn6B4I7eWD7"
      }
    },
    {
      "cell_type": "code",
      "execution_count": null,
      "source": [
        "class SelfAttentionBlock(nn.Module):\r\n",
        "    \"\"\"Self Attention Layer/Block\"\"\"\r\n",
        "\r\n",
        "    def __init__(self, in_dim):\r\n",
        "        super().__init__()\r\n",
        "        self.in_channel = in_dim\r\n",
        "        self.query_conv = nn.Conv2d(\r\n",
        "            in_channels=in_dim, out_channels=in_dim // 8, kernel_size=1\r\n",
        "        )\r\n",
        "        self.key_conv = nn.Conv2d(\r\n",
        "            in_channels=in_dim, out_channels=in_dim // 8, kernel_size=1\r\n",
        "        )\r\n",
        "        self.value_conv = nn.Conv2d(\r\n",
        "            in_channels=in_dim, out_channels=in_dim, kernel_size=1\r\n",
        "        )\r\n",
        "        self.gamma = nn.Parameter(torch.zeros(1))\r\n",
        "        self.softmax = nn.Softmax(dim=-1)\r\n",
        "\r\n",
        "    def forward(self, x):\r\n",
        "        \"\"\"\r\n",
        "        inputs:\r\n",
        "            x : input feature maps (B X C X W X H)\r\n",
        "        returns:\r\n",
        "            out : self attention value + input features\r\n",
        "            attention: B x N X N (N is Width*Height)\r\n",
        "        \"\"\"\r\n",
        "\r\n",
        "        batch_size, c, h, w = x.shape\r\n",
        "        proj_query = self.query_conv(x).view(batch_size, -1, w * h).permute(0, 2, 1)\r\n",
        "        # proj_query with view is of shape (batch_size, c, w*h)\r\n",
        "        # proj_query with permute becomes batch_size, w*h, c), ie transpose of proj_query for matrix multiplication\r\n",
        "        proj_key = self.key_conv(x).view(batch_size, -1, w * h)  # (batch_size, c, w*h)\r\n",
        "\r\n",
        "        energy = torch.bmm(proj_query, proj_key)  # (batch_size, w*h, w*h)\r\n",
        "        attention = self.softmax(energy)  # (batch_size, w*h, w*h)\r\n",
        "\r\n",
        "        proj_value = self.value_conv(x).view(\r\n",
        "            batch_size, -1, w * h\r\n",
        "        )  # (batch_size, c*8, w*h) c*8 = C\r\n",
        "\r\n",
        "        out = torch.bmm(\r\n",
        "            proj_value, attention.permute(0, 2, 1)\r\n",
        "        )  # (batch_size, c*8, w*h)\r\n",
        "        # attention is transposed for matrix mul\r\n",
        "        out = out.view(batch_size, c, w, h)\r\n",
        "\r\n",
        "        out = self.gamma * out + x\r\n",
        "        return out, attention\r\n",
        "\r\n",
        "\r\n",
        "class ResidualBlock(nn.Module):\r\n",
        "    def __init__(self, channels):\r\n",
        "        super().__init__()\r\n",
        "        self.block = nn.Sequential(\r\n",
        "            # I am not sure which res block to take\r\n",
        "            nn.Conv2d(\r\n",
        "                in_channels=channels,\r\n",
        "                out_channels=channels,\r\n",
        "                kernel_size=1,\r\n",
        "                stride=1,\r\n",
        "                padding=0,\r\n",
        "            )\r\n",
        "            # nn.Conv2d(\r\n",
        "            #     in_channels=channels,\r\n",
        "            #     out_channels=channels,\r\n",
        "            #     kernel_size=7,\r\n",
        "            #     stride=1,\r\n",
        "            #     padding=3,\r\n",
        "            # )\r\n",
        "        )\r\n",
        "\r\n",
        "    def forward(self, x):\r\n",
        "        return x + self.block(x)\r\n",
        "\r\n",
        "\r\n",
        "class Generator(nn.Module):\r\n",
        "    def __init__(self, img_channels):\r\n",
        "        super().__init__()\r\n",
        "\r\n",
        "        self.downConvBlock = nn.Sequential(\r\n",
        "            nn.Conv2d(\r\n",
        "                in_channels=img_channels,\r\n",
        "                out_channels=1,\r\n",
        "                kernel_size=7,\r\n",
        "                stride=1,\r\n",
        "                padding=3,\r\n",
        "            ),\r\n",
        "            nn.Conv2d(\r\n",
        "                in_channels=1,\r\n",
        "                out_channels=64,\r\n",
        "                kernel_size=6,\r\n",
        "                stride=2,\r\n",
        "                padding=2,\r\n",
        "                bias=False,\r\n",
        "            ),\r\n",
        "            nn.InstanceNorm2d(64),\r\n",
        "            nn.ReLU(),\r\n",
        "            nn.Conv2d(\r\n",
        "                in_channels=64,\r\n",
        "                out_channels=128,\r\n",
        "                kernel_size=3,\r\n",
        "                stride=2,\r\n",
        "                padding=1,\r\n",
        "                bias=False,\r\n",
        "            ),\r\n",
        "            nn.InstanceNorm2d(128),\r\n",
        "            nn.ReLU(),\r\n",
        "            nn.Conv2d(\r\n",
        "                in_channels=128,\r\n",
        "                out_channels=256,\r\n",
        "                kernel_size=3,\r\n",
        "                stride=2,\r\n",
        "                padding=1,\r\n",
        "                bias=False,\r\n",
        "            ),\r\n",
        "            nn.InstanceNorm2d(256),\r\n",
        "            nn.ReLU(),\r\n",
        "        )\r\n",
        "\r\n",
        "        self.convtrans1 = nn.ConvTranspose2d(\r\n",
        "            in_channels=256,\r\n",
        "            out_channels=128,\r\n",
        "            kernel_size=3,\r\n",
        "            stride=2,\r\n",
        "            padding=1,\r\n",
        "            bias=False,\r\n",
        "        )\r\n",
        "\r\n",
        "        self.active1 = nn.Sequential(nn.InstanceNorm2d(128), nn.ReLU())\r\n",
        "        self.convtrans2 = nn.ConvTranspose2d(\r\n",
        "            in_channels=128, out_channels=64, kernel_size=3, stride=2, padding=1\r\n",
        "        )\r\n",
        "        self.convtrans3 = nn.ConvTranspose2d(\r\n",
        "            in_channels=64, out_channels=1, kernel_size=6, stride=2, padding=2\r\n",
        "        )\r\n",
        "        self.selfAttentionlayer = SelfAttentionBlock(in_dim=256)\r\n",
        "        self.resBlock1 = ResidualBlock(channels=256)\r\n",
        "        self.resBlock2 = ResidualBlock(channels=256)\r\n",
        "\r\n",
        "    def forward(self, x):\r\n",
        "        batch_size, ch, h, w = x.shape\r\n",
        "        out = self.downConvBlock(x)\r\n",
        "        out = self.resBlock1(out)\r\n",
        "        out, _ = self.selfAttentionlayer(out)\r\n",
        "        out = self.resBlock2(out)\r\n",
        "        out = self.convtrans1(out, output_size=(batch_size, 128, 32, 32))\r\n",
        "        out = self.active1(out)\r\n",
        "        out = self.convtrans2(out, output_size=(batch_size, 64, 64, 64))\r\n",
        "        out = self.convtrans3(out, output_size=(batch_size, 1, 128, 128))\r\n",
        "        out = self.lastlayer(out)\r\n",
        "        return out"
      ],
      "outputs": [],
      "metadata": {
        "id": "wVHW9DZMeU2J"
      }
    },
    {
      "cell_type": "markdown",
      "source": [
        "## Discriminator"
      ],
      "metadata": {
        "id": "4DAeulBUeumi"
      }
    },
    {
      "cell_type": "code",
      "execution_count": null,
      "source": [
        "class Block(nn.Module):\r\n",
        "    def __init__(self, in_channels, out_channels, stride):\r\n",
        "        super().__init__()\r\n",
        "        self.conv = nn.Sequential(\r\n",
        "            nn.Conv2d(\r\n",
        "                in_channels,\r\n",
        "                out_channels,\r\n",
        "                kernel_size=4,\r\n",
        "                stride=stride,\r\n",
        "                padding=1,\r\n",
        "                bias=True,\r\n",
        "                padding_mode=\"reflect\",\r\n",
        "            ),\r\n",
        "            nn.InstanceNorm2d(out_channels),\r\n",
        "            nn.LeakyReLU(0.2),\r\n",
        "        )\r\n",
        "\r\n",
        "    def forward(self, x):\r\n",
        "        return self.conv(x)\r\n",
        "\r\n",
        "\r\n",
        "class Discriminator(nn.Module):\r\n",
        "    def __init__(self, in_channels, features=[64, 128, 256, 512]):\r\n",
        "        super().__init__()\r\n",
        "        self.initial = nn.Sequential(\r\n",
        "            nn.Conv2d(\r\n",
        "                in_channels,\r\n",
        "                features[0],\r\n",
        "                kernel_size=4,\r\n",
        "                stride=2,\r\n",
        "                padding=1,\r\n",
        "                padding_mode=\"reflect\",\r\n",
        "            ),\r\n",
        "            nn.LeakyReLU(0.2),\r\n",
        "        )\r\n",
        "\r\n",
        "        layers = []\r\n",
        "\r\n",
        "        in_channels = features[0]\r\n",
        "\r\n",
        "        for feature in features[1:]:\r\n",
        "            layers.append(\r\n",
        "                Block(in_channels, feature, stride=1 if feature == features[-1] else 2)\r\n",
        "            )\r\n",
        "            in_channels = feature\r\n",
        "\r\n",
        "        layers.append(\r\n",
        "            nn.Conv2d(\r\n",
        "                in_channels,\r\n",
        "                1,\r\n",
        "                kernel_size=4,\r\n",
        "                stride=1,\r\n",
        "                padding=1,\r\n",
        "                padding_mode=\"reflect\",\r\n",
        "            )\r\n",
        "        )\r\n",
        "\r\n",
        "        self.model = nn.Sequential(*layers)\r\n",
        "\r\n",
        "    def forward(self, x):\r\n",
        "        x = self.initial(x)\r\n",
        "        return torch.sigmoid(self.model(x))"
      ],
      "outputs": [],
      "metadata": {
        "id": "x2QQ9_w6exxu"
      }
    },
    {
      "cell_type": "markdown",
      "source": [
        "# Utility Functions"
      ],
      "metadata": {
        "id": "yGCQy8VEfIM8"
      }
    },
    {
      "cell_type": "code",
      "execution_count": null,
      "source": [
        "def save_some_examples_g(gen, val_loader, epoch, idx, folder):\r\n",
        "    img_glasses, img_noglasses = next(iter(val_loader))\r\n",
        "    img_glasses, img_noglasses = img_glasses.to(DEVICE), img_noglasses.to(DEVICE)\r\n",
        "    gen.eval()\r\n",
        "    with torch.no_grad():\r\n",
        "        y_fake_glasses = gen(img_noglasses)\r\n",
        "        y_fake_glasses = y_fake_glasses * 0.5 + 0.5\r\n",
        "        save_image(y_fake_glasses, os.path.join(folder, f\"{epoch}_{idx}_fake_glasses.png\"))\r\n",
        "        # save_image(img_noglasses, os.path.join(folder, f\"{epoch}_no_glasses.png\"))\r\n",
        "        # save_image(img_glasses, os.path.join(folder, f\"{epoch}_glasses.png\"))\r\n",
        "    gen.train()\r\n",
        "\r\n",
        "def save_some_examples_n(gen, val_loader, epoch, idx, folder):\r\n",
        "    img_glasses, img_noglasses = next(iter(val_loader))\r\n",
        "    img_glasses, img_noglasses = img_glasses.to(DEVICE), img_noglasses.to(DEVICE)\r\n",
        "    gen.eval()\r\n",
        "    with torch.no_grad():\r\n",
        "        y_fake_no_glasses = gen(img_glasses)\r\n",
        "        y_fake_no_glasses = y_fake_no_glasses * 0.5 + 0.5\r\n",
        "        save_image(y_fake_no_glasses, os.path.join(folder, f\"{epoch}_{idx}_fake_no_glasses.png\"))\r\n",
        "        # save_image(img_glasses, os.path.join(folder, f\"{epoch}_glasses.png\"))\r\n",
        "        # save_image(img_noglasses, os.path.join(folder, f\"{epoch}_no_glasses.png\"))\r\n",
        "    gen.train()\r\n",
        "\r\n",
        "\r\n",
        "def save_checkpoint(model, optimizer, epoch, filename):\r\n",
        "    filename = str(epoch) + filename + \"_cpt.pth.tar\"\r\n",
        "    print(\"=> Saving Checkpoint\")\r\n",
        "    checkpoint = {\"state_dict\": model.state_dict(), \"optimizer\": optimizer.state_dict()}\r\n",
        "    torch.save(checkpoint, filename)\r\n",
        "\r\n",
        "\r\n",
        "def load_checkpoint(checkpoint_file, model, optimizer, lr):\r\n",
        "    print(\"=> Loading Checkpoint\")\r\n",
        "    checkpoint = torch.load(checkpoint_file, map_location=DEVICE)\r\n",
        "    model.load_state(checkpoint[\"state_dict\"])\r\n",
        "    optimizer.load_state(checkpoint[\"state_dict\"])\r\n",
        "    for param_group in optimizer.param_groups:\r\n",
        "        param_group[\"lr\"] = lr\r\n"
      ],
      "outputs": [],
      "metadata": {
        "id": "cmYVmvNgfLML"
      }
    },
    {
      "cell_type": "markdown",
      "source": [
        "# Train Function"
      ],
      "metadata": {
        "id": "BVuOobzE2hdL"
      }
    },
    {
      "cell_type": "code",
      "execution_count": null,
      "source": [
        "def getVggFeatures(input, i):\r\n",
        "    # function to get vgg features\r\n",
        "    # phi according to research paper\r\n",
        "    # i means the same as that of the paper\r\n",
        "    layer_dict = {1: 5, 2: 10, 3: 17, 4: 24, 5: 30}\r\n",
        "    vgg16 = models.vgg16(pretrained=True)\r\n",
        "    output = vgg16.features[: layer_dict[i]](input)\r\n",
        "    return output\r\n",
        "\r\n",
        "\r\n",
        "def pcclT1(cycle_specs, img_glasses, l1):\r\n",
        "    # need to convert b/w into 3 channels\r\n",
        "    batch_size, c, w, h = cycle_specs.shape\r\n",
        "    cycle_specs = cycle_specs.repeat(batch_size, 3, w, h)\r\n",
        "    img_glasses = img_glasses.repeat(batch_size, 3, w, h)\r\n",
        "    out = 0\r\n",
        "    for i in range(1, 6):\r\n",
        "        phi_gened = getVggFeatures(cycle_specs, i)\r\n",
        "        phi_og = getVggFeatures(img_glasses, i)\r\n",
        "        out += l1(phi_gened - phi_og)\r\n",
        "    # i dont know if out has to be divided by 5 or not\r\n",
        "    return out\r\n",
        "\r\n",
        "\r\n",
        "def pcclT2(cycle_nospecs, img_noglasses, l1):\r\n",
        "    # need to convert b/w into 3 channels\r\n",
        "    batch_size, c, w, h = cycle_nospecs.shape\r\n",
        "    out = 0\r\n",
        "    cycle_nospecs = cycle_nospecs.repeat(batch_size, 3, w, h)\r\n",
        "    img_noglasses = img_noglasses.repeat(batch_size, 3, w, h)\r\n",
        "    out = 0\r\n",
        "    for i in range(1, 6):\r\n",
        "        phi_gened = getVggFeatures(cycle_nospecs, i)\r\n",
        "        phi_og = getVggFeatures(img_noglasses, i)\r\n",
        "        out += l1(phi_gened - phi_og)\r\n",
        "    # i dont know if out has to be divided by 5 or not\r\n",
        "    return out\r\n",
        "\r\n",
        "\r\n",
        "def trainFn(\r\n",
        "    disc_G, disc_N, gen_G, gen_N, loader, optim_g, optim_d, l1, mse, val_loader, epoch\r\n",
        "):\r\n",
        "    loop = tqdm(loader, leave=True, position=0)\r\n",
        "\r\n",
        "    for idx, (img_glasses, img_noglasses) in enumerate(loop):\r\n",
        "        img_glasses = img_glasses.to(DEVICE)\r\n",
        "        img_noglasses = img_noglasses.to(DEVICE)\r\n",
        "\r\n",
        "        # Train Discriminators\r\n",
        "        start_time = time.time()\r\n",
        "\r\n",
        "        fake_nospecs = gen_N(img_glasses)\r\n",
        "        disc_ns_real = disc_N(img_noglasses)\r\n",
        "        disc_ns_fake = disc_N(fake_nospecs.detach())\r\n",
        "        disc_ns_real_loss = mse(disc_ns_real, torch.ones_like(disc_ns_real))\r\n",
        "        disc_ns_fake_loss = mse(disc_ns_fake, torch.zeros_like(disc_ns_fake))\r\n",
        "        disc_ns_loss = disc_ns_real_loss + disc_ns_fake_loss\r\n",
        "\r\n",
        "        fake_specs = gen_G(img_noglasses)\r\n",
        "        disc_s_real = disc_G(img_glasses)\r\n",
        "        disc_s_fake = disc_G(fake_specs.detach())\r\n",
        "        disc_s_real_loss = mse(disc_s_real, torch.ones_like(disc_s_real))\r\n",
        "        disc_s_fake_loss = mse(disc_s_fake, torch.zeros_like(disc_s_fake))\r\n",
        "        disc_s_loss = disc_s_real_loss + disc_s_fake_loss\r\n",
        "\r\n",
        "        end_time = time.time()\r\n",
        "        print(f\"{end_time - start_time} Discriminators training\")\r\n",
        "\r\n",
        "        # grand total\r\n",
        "        D_loss = (disc_ns_loss + disc_s_loss) / 2\r\n",
        "\r\n",
        "        # backprop and update weights of discriminator\r\n",
        "\r\n",
        "        start_time = time.time()\r\n",
        "\r\n",
        "        optim_d.zero_grad()\r\n",
        "        D_loss.backward()\r\n",
        "        optim_d.step()\r\n",
        "\r\n",
        "        end_time = time.time()\r\n",
        "        print(f\"{end_time - start_time} backprop discriminator\")\r\n",
        "\r\n",
        "        # Train Generators\r\n",
        "        # adversarial loss\r\n",
        "\r\n",
        "        start_time = time.time()\r\n",
        "\r\n",
        "        disc_ns_fake = disc_N(fake_nospecs)\r\n",
        "        disc_s_fake = disc_G(fake_specs)\r\n",
        "        loss_g_s = mse(disc_s_fake, torch.ones_like(disc_s_fake))\r\n",
        "        loss_g_ns = mse(disc_ns_fake, torch.ones_like(disc_ns_fake))\r\n",
        "\r\n",
        "        end_time = time.time()\r\n",
        "        print(f\"{end_time - start_time} adversarial loss\")\r\n",
        "\r\n",
        "        # cycle loss\r\n",
        "\r\n",
        "        start_time = time.time()\r\n",
        "\r\n",
        "        cycle_specs = gen_G(fake_nospecs)\r\n",
        "        cycle_nospecs = gen_N(fake_specs)\r\n",
        "        specs_cycle_loss = l1(img_glasses, cycle_specs)\r\n",
        "        nospecs_cycle_loss = l1(img_noglasses, cycle_nospecs)\r\n",
        "\r\n",
        "        end_time = time.time()\r\n",
        "        print(f\"{end_time - start_time} cycle loss\")\r\n",
        "\r\n",
        "        ## Perceptual Loss\r\n",
        "        start_time = time.time()\r\n",
        "        loss_pccl = pcclT1(cycle_specs, img_glasses, l1) + pcclT2(\r\n",
        "            cycle_nospecs, img_noglasses, l1\r\n",
        "        )\r\n",
        "        end_time = time.time()\r\n",
        "        print(f\"{end_time - start_time} Perceptual loss\")\r\n",
        "\r\n",
        "        # grand total\r\n",
        "        G_loss = (\r\n",
        "            loss_g_s\r\n",
        "            + loss_g_ns\r\n",
        "            + (specs_cycle_loss * LAMBDA_CYCLE)\r\n",
        "            + (nospecs_cycle_loss * LAMBDA_CYCLE)\r\n",
        "            + loss_pccl\r\n",
        "        )\r\n",
        "\r\n",
        "        # backprop and update weights of discriminator\r\n",
        "\r\n",
        "        start_time = time.time()\r\n",
        "\r\n",
        "        optim_g.zero_grad()\r\n",
        "        G_loss.backward()\r\n",
        "        optim_g.step()\r\n",
        "\r\n",
        "        end_time = time.time()\r\n",
        "        print(f\"{end_time - start_time} generator backprop\")\r\n",
        "\r\n",
        "        # if idx == 2000:\r\n",
        "        #   print(f\"Generator Loss: {G_loss} Discriminator Loss: {D_loss}\")\r\n",
        "\r\n",
        "        # if idx % 2 == 0:\r\n",
        "        print(f\"Generator Loss: {G_loss} Discriminator Loss: {D_loss}\")\r\n",
        "\r\n",
        "        save_some_examples_g(gen_G, val_loader, epoch, idx, folder=resultGlasses)\r\n",
        "        save_some_examples_n(gen_N, val_loader, epoch, idx, folder=resultsNoGlasses)\r\n"
      ],
      "outputs": [],
      "metadata": {
        "colab": {
          "background_save": true
        },
        "id": "RToE1PfO2klY"
      }
    },
    {
      "cell_type": "markdown",
      "source": [
        "# Main Function"
      ],
      "metadata": {
        "id": "faIMfVZ72ljk"
      }
    },
    {
      "cell_type": "code",
      "execution_count": null,
      "source": [
        "def main():\r\n",
        "  # Instantiate Generator and Discriminators \r\n",
        "  disc_G = Discriminator(in_channels=1).to(DEVICE)\r\n",
        "  disc_N = Discriminator(in_channels=1).to(DEVICE)\r\n",
        "  gen_G = Generator(img_channels=1, num_residuals=4).to(DEVICE)\r\n",
        "  gen_N = Generator(img_channels=1, num_residuals=4).to(DEVICE)\r\n",
        "\r\n",
        "  # Initialize Optimizers\r\n",
        "  opt_disc = optim.Adam(\r\n",
        "      list(disc_G.parameters()) + list(disc_N.parameters()),\r\n",
        "      lr = LEARNING_RATE,\r\n",
        "      betas = (0.5, 0.999)\r\n",
        "  )\r\n",
        "\r\n",
        "  opt_gen = optim.Adam(\r\n",
        "      list(gen_G.parameters()) + list(gen_N.parameters()),\r\n",
        "      lr = LEARNING_RATE,\r\n",
        "      betas = (0.5, 0.999)\r\n",
        "  )\r\n",
        "\r\n",
        "  # Loss Function\r\n",
        "  L1 = nn.L1Loss()\r\n",
        "  mse = nn.MSELoss()\r\n",
        "\r\n",
        "  # Instantiate Datasets\r\n",
        "  trainData = GlassesDataset(root_dir_glass=trainGlassesDir, root_dir_noglass=trainNoglassesDir, transform=transforms_train)\r\n",
        "  valData = GlassesDataset(root_dir_glass=valGlassesDir, root_dir_noglass=valNoglassesDir, transform=transforms_val)\r\n",
        "\r\n",
        "  # Dataloader\r\n",
        "  train_loader = DataLoader(trainData, BATCH_SIZE, shuffle=True)\r\n",
        "  val_loader = DataLoader(valData, BATCH_SIZE, shuffle=False)\r\n",
        "\r\n",
        "  # TRAINING LOOP\r\n",
        "  for epoch in range(NUM_EPOCHS):\r\n",
        "    print(f\"Epoch {epoch}\")\r\n",
        "    trainFn(disc_G, disc_N, gen_G, gen_N, train_loader, opt_gen, opt_disc, L1, mse, val_loader, epoch)\r\n",
        "\r\n",
        "    # if epoch % 3 == 0:\r\n",
        "    save_checkpoint(disc_G, opt_disc, epoch, \"disc_G\")\r\n",
        "    save_checkpoint(disc_N, opt_disc, epoch, \"disc_N\")\r\n",
        "    save_checkpoint(gen_G, opt_gen, epoch, \"gen_G\")\r\n",
        "    save_checkpoint(gen_N, opt_gen, epoch, \"gen_N\")\r\n",
        "\r\n",
        "    # save_some_examples_g(gen_G, val_loader, epoch, folder = resultGlasses)\r\n",
        "    # save_some_examples_n(gen_N, val_loader, epoch, folder = resultsNoGlasses)"
      ],
      "outputs": [],
      "metadata": {
        "id": "5GO-M2vc2oSV"
      }
    },
    {
      "cell_type": "code",
      "execution_count": null,
      "source": [
        "main()"
      ],
      "outputs": [
        {
          "output_type": "stream",
          "name": "stderr",
          "text": [
            "\r  0%|          | 0/2035 [00:00<?, ?it/s]"
          ]
        },
        {
          "output_type": "stream",
          "name": "stdout",
          "text": [
            "Epoch 0\n",
            "0.19081783294677734 data loading time\n",
            "3.1997427940368652 Discriminators training\n",
            "1.1547625064849854 backprop discriminator\n",
            "0.24422144889831543 adversarial loss\n",
            "2.3628146648406982 cycle loss\n",
            "9.593616962432861 generator backprop\n",
            "Generator Loss: 9.346444129943848 Discriminator Loss: 0.5261926651000977\n",
            "0.11168742179870605 data loading time\n",
            "0.11684632301330566 data loading time\n"
          ]
        },
        {
          "output_type": "stream",
          "name": "stderr",
          "text": [
            "\r  0%|          | 1/2035 [00:19<10:50:50, 19.20s/it]"
          ]
        },
        {
          "output_type": "stream",
          "name": "stdout",
          "text": [
            "0.11888289451599121 data loading time\n",
            "2.5681607723236084 Discriminators training\n",
            "1.098221778869629 backprop discriminator\n",
            "0.2455005645751953 adversarial loss\n",
            "2.1605730056762695 cycle loss\n",
            "9.403878211975098 generator backprop\n",
            "Generator Loss: 10.514144897460938 Discriminator Loss: 0.5621699690818787\n",
            "0.11118292808532715 data loading time\n",
            "0.11231112480163574 data loading time\n"
          ]
        },
        {
          "output_type": "stream",
          "name": "stderr",
          "text": [
            "\r  0%|          | 2/2035 [00:37<10:38:04, 18.83s/it]"
          ]
        },
        {
          "output_type": "stream",
          "name": "stdout",
          "text": [
            "0.11957621574401855 data loading time\n",
            "2.574983835220337 Discriminators training\n",
            "1.1013920307159424 backprop discriminator\n",
            "0.2380380630493164 adversarial loss\n",
            "2.149538278579712 cycle loss\n",
            "9.355863094329834 generator backprop\n",
            "Generator Loss: 9.254664421081543 Discriminator Loss: 0.591654360294342\n",
            "0.11113762855529785 data loading time\n",
            "0.11329293251037598 data loading time\n"
          ]
        },
        {
          "output_type": "stream",
          "name": "stderr",
          "text": [
            "\r  0%|          | 3/2035 [00:55<10:28:40, 18.56s/it]"
          ]
        },
        {
          "output_type": "stream",
          "name": "stdout",
          "text": [
            "0.11903023719787598 data loading time\n",
            "2.569998264312744 Discriminators training\n",
            "1.0963680744171143 backprop discriminator\n",
            "0.23411822319030762 adversarial loss\n",
            "2.1075704097747803 cycle loss\n",
            "9.346097230911255 generator backprop\n",
            "Generator Loss: 7.257009029388428 Discriminator Loss: 0.5804786086082458\n",
            "0.11203408241271973 data loading time\n",
            "0.11315393447875977 data loading time\n"
          ]
        },
        {
          "output_type": "stream",
          "name": "stderr",
          "text": [
            "\r  0%|          | 4/2035 [01:12<10:21:18, 18.35s/it]"
          ]
        },
        {
          "output_type": "stream",
          "name": "stdout",
          "text": [
            "0.12311840057373047 data loading time\n",
            "2.561337471008301 Discriminators training\n",
            "1.1127817630767822 backprop discriminator\n",
            "0.24317717552185059 adversarial loss\n",
            "2.1143510341644287 cycle loss\n",
            "9.30529236793518 generator backprop\n",
            "Generator Loss: 6.145906448364258 Discriminator Loss: 0.5474666357040405\n",
            "0.11180257797241211 data loading time\n",
            "0.11356997489929199 data loading time\n"
          ]
        },
        {
          "output_type": "stream",
          "name": "stderr",
          "text": [
            "\r  0%|          | 5/2035 [01:30<10:15:42, 18.20s/it]"
          ]
        },
        {
          "output_type": "stream",
          "name": "stdout",
          "text": [
            "0.13509058952331543 data loading time\n",
            "2.5580201148986816 Discriminators training\n",
            "1.0749008655548096 backprop discriminator\n",
            "0.24089360237121582 adversarial loss\n",
            "2.0877270698547363 cycle loss\n",
            "9.210145235061646 generator backprop\n",
            "Generator Loss: 5.683241844177246 Discriminator Loss: 0.6042537689208984\n",
            "0.11179685592651367 data loading time\n",
            "0.11158013343811035 data loading time\n"
          ]
        },
        {
          "output_type": "stream",
          "name": "stderr",
          "text": [
            "\r  0%|          | 6/2035 [01:48<10:10:08, 18.04s/it]"
          ]
        },
        {
          "output_type": "stream",
          "name": "stdout",
          "text": [
            "0.1175987720489502 data loading time\n",
            "2.542994260787964 Discriminators training\n",
            "1.077178955078125 backprop discriminator\n",
            "0.24052095413208008 adversarial loss\n",
            "2.081648111343384 cycle loss\n",
            "9.212797164916992 generator backprop\n",
            "Generator Loss: 4.750693321228027 Discriminator Loss: 0.6056523323059082\n",
            "0.11120009422302246 data loading time\n",
            "0.1154944896697998 data loading time\n"
          ]
        },
        {
          "output_type": "stream",
          "name": "stderr",
          "text": [
            "\r  0%|          | 7/2035 [02:06<10:05:56, 17.93s/it]"
          ]
        },
        {
          "output_type": "stream",
          "name": "stdout",
          "text": [
            "0.12322592735290527 data loading time\n",
            "2.533768892288208 Discriminators training\n",
            "1.0812299251556396 backprop discriminator\n",
            "0.2398386001586914 adversarial loss\n",
            "2.07686710357666 cycle loss\n",
            "9.296068906784058 generator backprop\n",
            "Generator Loss: 6.759496688842773 Discriminator Loss: 0.5147786140441895\n",
            "0.11266064643859863 data loading time\n",
            "0.11225056648254395 data loading time\n"
          ]
        },
        {
          "output_type": "stream",
          "name": "stderr",
          "text": [
            "\r  0%|          | 8/2035 [02:23<10:03:38, 17.87s/it]"
          ]
        },
        {
          "output_type": "stream",
          "name": "stdout",
          "text": [
            "0.1249535083770752 data loading time\n",
            "2.5471997261047363 Discriminators training\n",
            "1.0634303092956543 backprop discriminator\n",
            "0.23538899421691895 adversarial loss\n",
            "2.0752482414245605 cycle loss\n",
            "9.168410062789917 generator backprop\n",
            "Generator Loss: 4.966924667358398 Discriminator Loss: 0.5409870147705078\n",
            "0.11170482635498047 data loading time\n",
            "0.11835050582885742 data loading time\n"
          ]
        },
        {
          "output_type": "stream",
          "name": "stderr",
          "text": [
            "\r  0%|          | 9/2035 [02:41<10:00:20, 17.78s/it]"
          ]
        },
        {
          "output_type": "stream",
          "name": "stdout",
          "text": [
            "0.12655973434448242 data loading time\n",
            "2.5343098640441895 Discriminators training\n",
            "1.0661633014678955 backprop discriminator\n",
            "0.24545550346374512 adversarial loss\n",
            "2.071425676345825 cycle loss\n",
            "9.166049242019653 generator backprop\n",
            "Generator Loss: 4.554622650146484 Discriminator Loss: 0.5389804840087891\n",
            "0.11097335815429688 data loading time\n",
            "0.11112761497497559 data loading time\n"
          ]
        },
        {
          "output_type": "stream",
          "name": "stderr",
          "text": [
            "\r  0%|          | 10/2035 [02:59<9:57:50, 17.71s/it]"
          ]
        },
        {
          "output_type": "stream",
          "name": "stdout",
          "text": [
            "0.12111282348632812 data loading time\n",
            "2.5678703784942627 Discriminators training\n",
            "1.065720558166504 backprop discriminator\n",
            "0.23373079299926758 adversarial loss\n",
            "2.0659589767456055 cycle loss\n",
            "9.222495079040527 generator backprop\n",
            "Generator Loss: 4.149910926818848 Discriminator Loss: 0.5325177907943726\n",
            "0.11239218711853027 data loading time\n",
            "0.1133575439453125 data loading time\n"
          ]
        },
        {
          "output_type": "stream",
          "name": "stderr",
          "text": [
            "\r  1%|          | 11/2035 [03:16<9:57:00, 17.70s/it]"
          ]
        },
        {
          "output_type": "stream",
          "name": "stdout",
          "text": [
            "0.12945008277893066 data loading time\n",
            "2.5716776847839355 Discriminators training\n",
            "1.0831151008605957 backprop discriminator\n",
            "0.24401545524597168 adversarial loss\n",
            "2.105356216430664 cycle loss\n",
            "9.295212268829346 generator backprop\n",
            "Generator Loss: 3.842512845993042 Discriminator Loss: 0.5433793067932129\n",
            "0.11477947235107422 data loading time\n",
            "0.11314964294433594 data loading time\n"
          ]
        },
        {
          "output_type": "stream",
          "name": "stderr",
          "text": [
            "\r  1%|          | 12/2035 [03:34<9:57:47, 17.73s/it]"
          ]
        },
        {
          "output_type": "stream",
          "name": "stdout",
          "text": [
            "0.1240546703338623 data loading time\n",
            "2.5423641204833984 Discriminators training\n",
            "1.0713202953338623 backprop discriminator\n",
            "0.24360418319702148 adversarial loss\n",
            "2.0873324871063232 cycle loss\n",
            "9.242644548416138 generator backprop\n",
            "Generator Loss: 4.342484474182129 Discriminator Loss: 0.5255424976348877\n",
            "0.11066102981567383 data loading time\n",
            "0.11181783676147461 data loading time\n"
          ]
        },
        {
          "output_type": "stream",
          "name": "stderr",
          "text": [
            "\r  1%|          | 13/2035 [03:52<9:56:56, 17.71s/it]"
          ]
        },
        {
          "output_type": "stream",
          "name": "stdout",
          "text": [
            "0.11556339263916016 data loading time\n",
            "2.5410304069519043 Discriminators training\n",
            "1.0686168670654297 backprop discriminator\n",
            "0.23528623580932617 adversarial loss\n",
            "2.071575164794922 cycle loss\n",
            "9.124337911605835 generator backprop\n",
            "Generator Loss: 5.754739761352539 Discriminator Loss: 0.5244255065917969\n",
            "0.11228537559509277 data loading time\n",
            "0.1138005256652832 data loading time\n"
          ]
        },
        {
          "output_type": "stream",
          "name": "stderr",
          "text": [
            "\r  1%|          | 14/2035 [04:09<9:54:35, 17.65s/it]"
          ]
        },
        {
          "output_type": "stream",
          "name": "stdout",
          "text": [
            "0.12426137924194336 data loading time\n",
            "2.5338921546936035 Discriminators training\n",
            "1.0826489925384521 backprop discriminator\n",
            "0.23821020126342773 adversarial loss\n",
            "2.0923757553100586 cycle loss\n",
            "9.246407747268677 generator backprop\n",
            "Generator Loss: 4.022965431213379 Discriminator Loss: 0.5207473039627075\n",
            "0.11309194564819336 data loading time\n",
            "0.11199378967285156 data loading time\n"
          ]
        },
        {
          "output_type": "stream",
          "name": "stderr",
          "text": [
            "\r  1%|          | 15/2035 [04:27<9:54:37, 17.66s/it]"
          ]
        },
        {
          "output_type": "stream",
          "name": "stdout",
          "text": [
            "0.12149620056152344 data loading time\n",
            "2.5449717044830322 Discriminators training\n",
            "1.0699927806854248 backprop discriminator\n",
            "0.24151396751403809 adversarial loss\n",
            "2.091815233230591 cycle loss\n",
            "9.205954313278198 generator backprop\n",
            "Generator Loss: 5.735012054443359 Discriminator Loss: 0.5015100240707397\n",
            "0.1112668514251709 data loading time\n",
            "0.11445045471191406 data loading time\n"
          ]
        },
        {
          "output_type": "stream",
          "name": "stderr",
          "text": [
            "\r  1%|          | 16/2035 [04:44<9:54:06, 17.66s/it]"
          ]
        },
        {
          "output_type": "stream",
          "name": "stdout",
          "text": [
            "0.12019896507263184 data loading time\n",
            "2.5482378005981445 Discriminators training\n",
            "1.0822608470916748 backprop discriminator\n",
            "0.23698043823242188 adversarial loss\n",
            "2.0942184925079346 cycle loss\n",
            "9.240012645721436 generator backprop\n",
            "Generator Loss: 5.539907455444336 Discriminator Loss: 0.49674561619758606\n",
            "0.1123497486114502 data loading time\n",
            "0.11655116081237793 data loading time\n"
          ]
        },
        {
          "output_type": "stream",
          "name": "stderr",
          "text": [
            "\r  1%|          | 17/2035 [05:02<9:54:03, 17.66s/it]"
          ]
        },
        {
          "output_type": "stream",
          "name": "stdout",
          "text": [
            "0.1164999008178711 data loading time\n",
            "2.5365376472473145 Discriminators training\n",
            "1.0723919868469238 backprop discriminator\n",
            "0.24586200714111328 adversarial loss\n",
            "2.068774938583374 cycle loss\n",
            "9.13224720954895 generator backprop\n",
            "Generator Loss: 4.51105260848999 Discriminator Loss: 0.5003038644790649\n",
            "0.11552143096923828 data loading time\n",
            "0.11292433738708496 data loading time\n"
          ]
        },
        {
          "output_type": "stream",
          "name": "stderr",
          "text": [
            "\r  1%|          | 18/2035 [05:20<9:52:18, 17.62s/it]"
          ]
        },
        {
          "output_type": "stream",
          "name": "stdout",
          "text": [
            "0.11742663383483887 data loading time\n",
            "2.535255193710327 Discriminators training\n",
            "1.086350440979004 backprop discriminator\n",
            "0.24172282218933105 adversarial loss\n",
            "2.0706419944763184 cycle loss\n",
            "9.143391370773315 generator backprop\n",
            "Generator Loss: 4.076469421386719 Discriminator Loss: 0.5280222296714783\n",
            "0.11130499839782715 data loading time\n",
            "0.11120748519897461 data loading time\n"
          ]
        },
        {
          "output_type": "stream",
          "name": "stderr",
          "text": [
            "\r  1%|          | 19/2035 [05:37<9:51:15, 17.60s/it]"
          ]
        },
        {
          "output_type": "stream",
          "name": "stdout",
          "text": [
            "0.11902761459350586 data loading time\n",
            "2.5242819786071777 Discriminators training\n",
            "1.0721406936645508 backprop discriminator\n",
            "0.23818159103393555 adversarial loss\n",
            "2.0712132453918457 cycle loss\n",
            "9.191876649856567 generator backprop\n",
            "Generator Loss: 3.995790958404541 Discriminator Loss: 0.5242536067962646\n",
            "0.11353468894958496 data loading time\n",
            "0.1137840747833252 data loading time\n"
          ]
        },
        {
          "output_type": "stream",
          "name": "stderr",
          "text": [
            "\r  1%|          | 20/2035 [05:55<9:50:52, 17.59s/it]"
          ]
        },
        {
          "output_type": "stream",
          "name": "stdout",
          "text": [
            "0.1313178539276123 data loading time\n",
            "2.539926528930664 Discriminators training\n",
            "1.081291675567627 backprop discriminator\n",
            "0.23623061180114746 adversarial loss\n",
            "2.078948497772217 cycle loss\n",
            "10.475236415863037 generator backprop\n",
            "Generator Loss: 3.7415285110473633 Discriminator Loss: 0.49317026138305664\n",
            "0.13810324668884277 data loading time\n",
            "0.23212695121765137 data loading time\n"
          ]
        },
        {
          "output_type": "stream",
          "name": "stderr",
          "text": [
            "\r  1%|          | 21/2035 [06:16<10:28:09, 18.71s/it]"
          ]
        },
        {
          "output_type": "stream",
          "name": "stdout",
          "text": [
            "0.24547219276428223 data loading time\n",
            "3.800809383392334 Discriminators training\n",
            "1.1037933826446533 backprop discriminator\n",
            "0.2556602954864502 adversarial loss\n",
            "2.3278920650482178 cycle loss\n",
            "9.208239793777466 generator backprop\n",
            "Generator Loss: 6.138628005981445 Discriminator Loss: 0.47375503182411194\n",
            "0.11086487770080566 data loading time\n",
            "0.11235857009887695 data loading time\n"
          ]
        },
        {
          "output_type": "stream",
          "name": "stderr",
          "text": [
            "\r  1%|          | 22/2035 [06:35<10:33:51, 18.89s/it]"
          ]
        },
        {
          "output_type": "stream",
          "name": "stdout",
          "text": [
            "0.11662411689758301 data loading time\n",
            "2.557095766067505 Discriminators training\n",
            "1.0745127201080322 backprop discriminator\n",
            "0.2350308895111084 adversarial loss\n",
            "2.0861968994140625 cycle loss\n",
            "9.188901901245117 generator backprop\n",
            "Generator Loss: 5.996283531188965 Discriminator Loss: 0.502044677734375\n",
            "0.11273932456970215 data loading time\n",
            "0.11811351776123047 data loading time\n"
          ]
        },
        {
          "output_type": "stream",
          "name": "stderr",
          "text": [
            "\r  1%|          | 23/2035 [06:53<10:20:44, 18.51s/it]"
          ]
        },
        {
          "output_type": "stream",
          "name": "stdout",
          "text": [
            "0.12265563011169434 data loading time\n",
            "2.540032386779785 Discriminators training\n",
            "1.0840046405792236 backprop discriminator\n",
            "0.24605751037597656 adversarial loss\n",
            "2.070178508758545 cycle loss\n",
            "9.17211627960205 generator backprop\n",
            "Generator Loss: 3.760648727416992 Discriminator Loss: 0.5052765607833862\n",
            "0.11330270767211914 data loading time\n",
            "0.11288213729858398 data loading time\n"
          ]
        },
        {
          "output_type": "stream",
          "name": "stderr",
          "text": [
            "\r  1%|          | 24/2035 [07:11<10:11:23, 18.24s/it]"
          ]
        },
        {
          "output_type": "stream",
          "name": "stdout",
          "text": [
            "0.12279486656188965 data loading time\n",
            "2.547527313232422 Discriminators training\n",
            "1.071298599243164 backprop discriminator\n",
            "0.23833489418029785 adversarial loss\n",
            "2.0826218128204346 cycle loss\n",
            "9.176110982894897 generator backprop\n",
            "Generator Loss: 5.196249008178711 Discriminator Loss: 0.49207329750061035\n",
            "0.11093640327453613 data loading time\n",
            "0.11150860786437988 data loading time\n"
          ]
        },
        {
          "output_type": "stream",
          "name": "stderr",
          "text": [
            "\r  1%|          | 25/2035 [07:28<10:04:42, 18.05s/it]"
          ]
        },
        {
          "output_type": "stream",
          "name": "stdout",
          "text": [
            "0.12123394012451172 data loading time\n",
            "2.5346007347106934 Discriminators training\n",
            "1.0635685920715332 backprop discriminator\n",
            "0.23934674263000488 adversarial loss\n",
            "2.1703903675079346 cycle loss\n",
            "13.473306894302368 generator backprop\n",
            "Generator Loss: 5.086859226226807 Discriminator Loss: 0.47964897751808167\n",
            "0.11101365089416504 data loading time\n",
            "0.1113431453704834 data loading time\n"
          ]
        },
        {
          "output_type": "stream",
          "name": "stderr",
          "text": [
            "\r  1%|▏         | 26/2035 [07:50<10:43:54, 19.23s/it]"
          ]
        },
        {
          "output_type": "stream",
          "name": "stdout",
          "text": [
            "0.12681055068969727 data loading time\n",
            "2.5246083736419678 Discriminators training\n",
            "1.0737380981445312 backprop discriminator\n",
            "0.2398700714111328 adversarial loss\n",
            "2.076207160949707 cycle loss\n",
            "9.152406692504883 generator backprop\n",
            "Generator Loss: 4.287161827087402 Discriminator Loss: 0.4923163056373596\n",
            "0.11870336532592773 data loading time\n",
            "0.11293888092041016 data loading time\n"
          ]
        },
        {
          "output_type": "stream",
          "name": "stderr",
          "text": [
            "\r  1%|▏         | 27/2035 [08:08<10:26:50, 18.73s/it]"
          ]
        },
        {
          "output_type": "stream",
          "name": "stdout",
          "text": [
            "0.12143111228942871 data loading time\n",
            "2.5305418968200684 Discriminators training\n",
            "1.0818102359771729 backprop discriminator\n",
            "0.24654579162597656 adversarial loss\n",
            "2.0841023921966553 cycle loss\n",
            "9.164511442184448 generator backprop\n",
            "Generator Loss: 3.7527620792388916 Discriminator Loss: 0.4593614637851715\n",
            "0.1119997501373291 data loading time\n",
            "0.11242008209228516 data loading time\n"
          ]
        },
        {
          "output_type": "stream",
          "name": "stderr",
          "text": [
            "\r  1%|▏         | 28/2035 [08:25<10:15:04, 18.39s/it]"
          ]
        },
        {
          "output_type": "stream",
          "name": "stdout",
          "text": [
            "0.12988996505737305 data loading time\n",
            "2.546060562133789 Discriminators training\n",
            "1.0643997192382812 backprop discriminator\n",
            "0.23533368110656738 adversarial loss\n",
            "2.080003499984741 cycle loss\n",
            "9.154014348983765 generator backprop\n",
            "Generator Loss: 4.2389936447143555 Discriminator Loss: 0.5060725212097168\n",
            "0.11197924613952637 data loading time\n",
            "0.11290764808654785 data loading time\n"
          ]
        },
        {
          "output_type": "stream",
          "name": "stderr",
          "text": [
            "\r  1%|▏         | 29/2035 [08:43<10:06:43, 18.15s/it]"
          ]
        },
        {
          "output_type": "stream",
          "name": "stdout",
          "text": [
            "0.12894225120544434 data loading time\n",
            "2.515317916870117 Discriminators training\n",
            "1.0761504173278809 backprop discriminator\n",
            "0.23740100860595703 adversarial loss\n",
            "2.0731472969055176 cycle loss\n",
            "9.174013376235962 generator backprop\n",
            "Generator Loss: 3.355517864227295 Discriminator Loss: 0.5119643211364746\n",
            "0.11141419410705566 data loading time\n",
            "0.11258125305175781 data loading time\n"
          ]
        },
        {
          "output_type": "stream",
          "name": "stderr",
          "text": [
            "\r  1%|▏         | 30/2035 [09:01<10:00:36, 17.97s/it]"
          ]
        },
        {
          "output_type": "stream",
          "name": "stdout",
          "text": [
            "0.12860965728759766 data loading time\n",
            "2.547398328781128 Discriminators training\n",
            "1.0829849243164062 backprop discriminator\n",
            "0.2419109344482422 adversarial loss\n",
            "2.076383352279663 cycle loss\n",
            "9.281600713729858 generator backprop\n",
            "Generator Loss: 4.144203186035156 Discriminator Loss: 0.4930199980735779\n",
            "0.1132974624633789 data loading time\n",
            "0.11595749855041504 data loading time\n"
          ]
        },
        {
          "output_type": "stream",
          "name": "stderr",
          "text": [
            "\r  2%|▏         | 31/2035 [09:18<9:57:50, 17.90s/it] "
          ]
        },
        {
          "output_type": "stream",
          "name": "stdout",
          "text": [
            "0.1208181381225586 data loading time\n",
            "2.568384885787964 Discriminators training\n",
            "1.0802726745605469 backprop discriminator\n",
            "0.236344575881958 adversarial loss\n",
            "2.0936713218688965 cycle loss\n",
            "9.313755512237549 generator backprop\n",
            "Generator Loss: 3.647204875946045 Discriminator Loss: 0.5161358714103699\n",
            "0.11328625679016113 data loading time\n",
            "0.11632370948791504 data loading time\n"
          ]
        },
        {
          "output_type": "stream",
          "name": "stderr",
          "text": [
            "\r  2%|▏         | 32/2035 [09:36<9:56:21, 17.86s/it]"
          ]
        },
        {
          "output_type": "stream",
          "name": "stdout",
          "text": [
            "0.12754583358764648 data loading time\n",
            "2.5329949855804443 Discriminators training\n",
            "1.0811192989349365 backprop discriminator\n",
            "0.2518911361694336 adversarial loss\n",
            "2.068342685699463 cycle loss\n",
            "9.294384956359863 generator backprop\n",
            "Generator Loss: 6.291073799133301 Discriminator Loss: 0.5360792875289917\n",
            "0.11290812492370605 data loading time\n",
            "0.1139674186706543 data loading time\n"
          ]
        },
        {
          "output_type": "stream",
          "name": "stderr",
          "text": [
            "\r  2%|▏         | 33/2035 [09:54<9:54:44, 17.82s/it]"
          ]
        },
        {
          "output_type": "stream",
          "name": "stdout",
          "text": [
            "0.12694716453552246 data loading time\n",
            "2.5733094215393066 Discriminators training\n",
            "1.085719347000122 backprop discriminator\n",
            "0.23656177520751953 adversarial loss\n",
            "2.1020965576171875 cycle loss\n",
            "9.281814813613892 generator backprop\n",
            "Generator Loss: 4.583438873291016 Discriminator Loss: 0.49805742502212524\n",
            "0.11104965209960938 data loading time\n",
            "0.11516666412353516 data loading time\n"
          ]
        },
        {
          "output_type": "stream",
          "name": "stderr",
          "text": [
            "\r  2%|▏         | 34/2035 [10:12<9:53:46, 17.80s/it]"
          ]
        },
        {
          "output_type": "stream",
          "name": "stdout",
          "text": [
            "0.12363362312316895 data loading time\n",
            "2.537479877471924 Discriminators training\n",
            "1.0678365230560303 backprop discriminator\n",
            "0.23592305183410645 adversarial loss\n",
            "2.08803653717041 cycle loss\n",
            "9.266271829605103 generator backprop\n",
            "Generator Loss: 3.6594948768615723 Discriminator Loss: 0.4837411046028137\n",
            "0.11223506927490234 data loading time\n",
            "0.1125497817993164 data loading time\n"
          ]
        },
        {
          "output_type": "stream",
          "name": "stderr",
          "text": [
            "\r  2%|▏         | 35/2035 [10:29<9:52:12, 17.77s/it]"
          ]
        },
        {
          "output_type": "stream",
          "name": "stdout",
          "text": [
            "0.1209404468536377 data loading time\n",
            "2.56137752532959 Discriminators training\n",
            "1.079542875289917 backprop discriminator\n",
            "0.24652838706970215 adversarial loss\n",
            "2.0783793926239014 cycle loss\n",
            "9.196509838104248 generator backprop\n",
            "Generator Loss: 5.504126071929932 Discriminator Loss: 0.49085521697998047\n",
            "0.11459064483642578 data loading time\n",
            "0.11354947090148926 data loading time\n"
          ]
        },
        {
          "output_type": "stream",
          "name": "stderr",
          "text": [
            "\r  2%|▏         | 36/2035 [10:47<9:50:41, 17.73s/it]"
          ]
        },
        {
          "output_type": "stream",
          "name": "stdout",
          "text": [
            "0.11978888511657715 data loading time\n",
            "2.5510196685791016 Discriminators training\n",
            "1.0746197700500488 backprop discriminator\n",
            "0.23801374435424805 adversarial loss\n",
            "2.093365430831909 cycle loss\n",
            "9.237492322921753 generator backprop\n",
            "Generator Loss: 3.8845698833465576 Discriminator Loss: 0.46925950050354004\n",
            "0.11136078834533691 data loading time\n",
            "0.11267328262329102 data loading time\n"
          ]
        },
        {
          "output_type": "stream",
          "name": "stderr",
          "text": [
            "\r  2%|▏         | 37/2035 [11:05<9:49:46, 17.71s/it]"
          ]
        },
        {
          "output_type": "stream",
          "name": "stdout",
          "text": [
            "0.12144804000854492 data loading time\n",
            "2.545663833618164 Discriminators training\n",
            "1.0745384693145752 backprop discriminator\n",
            "0.24524831771850586 adversarial loss\n",
            "2.0787250995635986 cycle loss\n",
            "9.220499038696289 generator backprop\n",
            "Generator Loss: 5.254129409790039 Discriminator Loss: 0.4884742498397827\n",
            "0.11181950569152832 data loading time\n",
            "0.11461448669433594 data loading time\n"
          ]
        },
        {
          "output_type": "stream",
          "name": "stderr",
          "text": [
            "\r  2%|▏         | 38/2035 [11:22<9:48:51, 17.69s/it]"
          ]
        },
        {
          "output_type": "stream",
          "name": "stdout",
          "text": [
            "0.1221160888671875 data loading time\n",
            "2.560943841934204 Discriminators training\n",
            "1.0713424682617188 backprop discriminator\n",
            "0.24354171752929688 adversarial loss\n",
            "2.1007754802703857 cycle loss\n",
            "9.305106401443481 generator backprop\n",
            "Generator Loss: 4.8600311279296875 Discriminator Loss: 0.49876391887664795\n",
            "0.11474871635437012 data loading time\n",
            "0.11315488815307617 data loading time\n"
          ]
        },
        {
          "output_type": "stream",
          "name": "stderr",
          "text": [
            "\r  2%|▏         | 39/2035 [11:40<9:49:31, 17.72s/it]"
          ]
        },
        {
          "output_type": "stream",
          "name": "stdout",
          "text": [
            "0.12130403518676758 data loading time\n",
            "2.5406737327575684 Discriminators training\n",
            "1.0761966705322266 backprop discriminator\n",
            "0.2504596710205078 adversarial loss\n",
            "2.0923173427581787 cycle loss\n",
            "9.440303087234497 generator backprop\n",
            "Generator Loss: 6.155709266662598 Discriminator Loss: 0.5142427682876587\n",
            "0.11240935325622559 data loading time\n",
            "0.11561179161071777 data loading time\n"
          ]
        },
        {
          "output_type": "stream",
          "name": "stderr",
          "text": [
            "\r  2%|▏         | 40/2035 [11:58<9:51:06, 17.78s/it]"
          ]
        },
        {
          "output_type": "stream",
          "name": "stdout",
          "text": [
            "0.12581801414489746 data loading time\n",
            "2.5906546115875244 Discriminators training\n",
            "1.0973536968231201 backprop discriminator\n",
            "0.23946309089660645 adversarial loss\n",
            "2.104077100753784 cycle loss\n",
            "9.347243785858154 generator backprop\n",
            "Generator Loss: 3.554914712905884 Discriminator Loss: 0.5123521685600281\n",
            "0.11312031745910645 data loading time\n",
            "0.11348891258239746 data loading time\n"
          ]
        },
        {
          "output_type": "stream",
          "name": "stderr",
          "text": [
            "\r  2%|▏         | 41/2035 [12:16<9:51:47, 17.81s/it]"
          ]
        },
        {
          "output_type": "stream",
          "name": "stdout",
          "text": [
            "0.12491798400878906 data loading time\n",
            "2.561890125274658 Discriminators training\n",
            "1.0953614711761475 backprop discriminator\n",
            "0.2530825138092041 adversarial loss\n",
            "2.0917325019836426 cycle loss\n",
            "9.27396821975708 generator backprop\n",
            "Generator Loss: 4.070240020751953 Discriminator Loss: 0.5312181711196899\n",
            "0.11248016357421875 data loading time\n",
            "0.11321616172790527 data loading time\n"
          ]
        },
        {
          "output_type": "stream",
          "name": "stderr",
          "text": [
            "\r  2%|▏         | 42/2035 [12:34<9:51:03, 17.79s/it]"
          ]
        },
        {
          "output_type": "stream",
          "name": "stdout",
          "text": [
            "0.12855076789855957 data loading time\n",
            "2.5651447772979736 Discriminators training\n",
            "1.0728232860565186 backprop discriminator\n",
            "0.23999953269958496 adversarial loss\n",
            "2.082630157470703 cycle loss\n",
            "9.30504584312439 generator backprop\n",
            "Generator Loss: 4.488582134246826 Discriminator Loss: 0.5273032784461975\n",
            "0.11210012435913086 data loading time\n",
            "0.11759471893310547 data loading time\n"
          ]
        },
        {
          "output_type": "stream",
          "name": "stderr",
          "text": [
            "\r  2%|▏         | 43/2035 [12:51<9:50:29, 17.79s/it]"
          ]
        },
        {
          "output_type": "stream",
          "name": "stdout",
          "text": [
            "0.12575221061706543 data loading time\n",
            "2.564519166946411 Discriminators training\n",
            "1.085512399673462 backprop discriminator\n",
            "0.24410367012023926 adversarial loss\n",
            "2.0777766704559326 cycle loss\n",
            "9.334774732589722 generator backprop\n",
            "Generator Loss: 5.613651275634766 Discriminator Loss: 0.5077252984046936\n",
            "0.11344766616821289 data loading time\n",
            "0.1149909496307373 data loading time\n"
          ]
        },
        {
          "output_type": "stream",
          "name": "stderr",
          "text": [
            "\r  2%|▏         | 44/2035 [13:09<9:50:20, 17.79s/it]"
          ]
        },
        {
          "output_type": "stream",
          "name": "stdout",
          "text": [
            "0.12782073020935059 data loading time\n",
            "2.548802137374878 Discriminators training\n",
            "1.08827805519104 backprop discriminator\n",
            "0.2393813133239746 adversarial loss\n",
            "2.090209484100342 cycle loss\n",
            "9.314228296279907 generator backprop\n",
            "Generator Loss: 4.181771755218506 Discriminator Loss: 0.48271122574806213\n",
            "0.11438536643981934 data loading time\n",
            "0.11902928352355957 data loading time\n"
          ]
        },
        {
          "output_type": "stream",
          "name": "stderr",
          "text": [
            "\r  2%|▏         | 45/2035 [13:27<9:49:55, 17.79s/it]"
          ]
        },
        {
          "output_type": "stream",
          "name": "stdout",
          "text": [
            "0.12342977523803711 data loading time\n",
            "2.552921772003174 Discriminators training\n",
            "1.0807240009307861 backprop discriminator\n",
            "0.24608540534973145 adversarial loss\n",
            "2.087775945663452 cycle loss\n",
            "9.323076009750366 generator backprop\n",
            "Generator Loss: 7.092042922973633 Discriminator Loss: 0.483271986246109\n",
            "0.11429667472839355 data loading time\n",
            "0.11846590042114258 data loading time\n"
          ]
        },
        {
          "output_type": "stream",
          "name": "stderr",
          "text": [
            "\r  2%|▏         | 46/2035 [13:45<9:49:51, 17.79s/it]"
          ]
        },
        {
          "output_type": "stream",
          "name": "stdout",
          "text": [
            "0.12653374671936035 data loading time\n",
            "2.560377359390259 Discriminators training\n",
            "1.0779783725738525 backprop discriminator\n",
            "0.238508939743042 adversarial loss\n",
            "2.086940288543701 cycle loss\n",
            "9.322614669799805 generator backprop\n",
            "Generator Loss: 3.747880458831787 Discriminator Loss: 0.46142661571502686\n",
            "0.1112358570098877 data loading time\n",
            "0.11610031127929688 data loading time\n"
          ]
        },
        {
          "output_type": "stream",
          "name": "stderr",
          "text": [
            "\r  2%|▏         | 47/2035 [14:02<9:49:20, 17.79s/it]"
          ]
        },
        {
          "output_type": "stream",
          "name": "stdout",
          "text": [
            "0.1260981559753418 data loading time\n",
            "2.558148145675659 Discriminators training\n",
            "1.0685880184173584 backprop discriminator\n",
            "0.2441575527191162 adversarial loss\n",
            "2.0968644618988037 cycle loss\n",
            "9.329925298690796 generator backprop\n",
            "Generator Loss: 6.8346686363220215 Discriminator Loss: 0.460574746131897\n",
            "0.11270833015441895 data loading time\n",
            "0.1131143569946289 data loading time\n"
          ]
        },
        {
          "output_type": "stream",
          "name": "stderr",
          "text": [
            "\r  2%|▏         | 48/2035 [14:20<9:49:15, 17.79s/it]"
          ]
        },
        {
          "output_type": "stream",
          "name": "stdout",
          "text": [
            "0.1261119842529297 data loading time\n",
            "2.583937168121338 Discriminators training\n",
            "1.1040992736816406 backprop discriminator\n",
            "0.2388150691986084 adversarial loss\n",
            "2.1160874366760254 cycle loss\n",
            "9.35734486579895 generator backprop\n",
            "Generator Loss: 3.24348783493042 Discriminator Loss: 0.4658583998680115\n",
            "0.1152791976928711 data loading time\n",
            "0.11408710479736328 data loading time\n"
          ]
        },
        {
          "output_type": "stream",
          "name": "stderr",
          "text": [
            "\r  2%|▏         | 49/2035 [14:38<9:49:50, 17.82s/it]"
          ]
        },
        {
          "output_type": "stream",
          "name": "stdout",
          "text": [
            "0.1271800994873047 data loading time\n",
            "2.541398525238037 Discriminators training\n",
            "1.0843009948730469 backprop discriminator\n",
            "0.2480454444885254 adversarial loss\n",
            "2.1115448474884033 cycle loss\n",
            "9.378899574279785 generator backprop\n",
            "Generator Loss: 2.9601492881774902 Discriminator Loss: 0.5139662623405457\n",
            "0.11144638061523438 data loading time\n",
            "0.11277365684509277 data loading time\n"
          ]
        },
        {
          "output_type": "stream",
          "name": "stderr",
          "text": [
            "\r  2%|▏         | 50/2035 [14:56<9:49:59, 17.83s/it]"
          ]
        },
        {
          "output_type": "stream",
          "name": "stdout",
          "text": [
            "0.1303236484527588 data loading time\n",
            "2.559542655944824 Discriminators training\n",
            "1.081211805343628 backprop discriminator\n",
            "0.2431633472442627 adversarial loss\n",
            "2.0759267807006836 cycle loss\n",
            "9.278951406478882 generator backprop\n",
            "Generator Loss: 3.062610626220703 Discriminator Loss: 0.48355162143707275\n",
            "0.11607837677001953 data loading time\n",
            "0.11265373229980469 data loading time\n"
          ]
        },
        {
          "output_type": "stream",
          "name": "stderr",
          "text": [
            "\r  3%|▎         | 51/2035 [15:14<9:48:36, 17.80s/it]"
          ]
        },
        {
          "output_type": "stream",
          "name": "stdout",
          "text": [
            "0.12889552116394043 data loading time\n",
            "2.541642189025879 Discriminators training\n",
            "1.09000563621521 backprop discriminator\n",
            "0.24990463256835938 adversarial loss\n",
            "2.0840728282928467 cycle loss\n",
            "9.335242509841919 generator backprop\n",
            "Generator Loss: 5.104489326477051 Discriminator Loss: 0.4886021912097931\n",
            "0.11435842514038086 data loading time\n",
            "0.11306285858154297 data loading time\n"
          ]
        },
        {
          "output_type": "stream",
          "name": "stderr",
          "text": [
            "\r  3%|▎         | 52/2035 [15:32<9:48:16, 17.80s/it]"
          ]
        },
        {
          "output_type": "stream",
          "name": "stdout",
          "text": [
            "0.1308305263519287 data loading time\n",
            "2.5683493614196777 Discriminators training\n",
            "1.0726900100708008 backprop discriminator\n",
            "0.23776507377624512 adversarial loss\n",
            "2.089792251586914 cycle loss\n",
            "9.250145196914673 generator backprop\n",
            "Generator Loss: 5.391717433929443 Discriminator Loss: 0.5424426794052124\n",
            "0.11341261863708496 data loading time\n",
            "0.11227679252624512 data loading time\n"
          ]
        },
        {
          "output_type": "stream",
          "name": "stderr",
          "text": [
            "\r  3%|▎         | 53/2035 [15:49<9:47:07, 17.77s/it]"
          ]
        },
        {
          "output_type": "stream",
          "name": "stdout",
          "text": [
            "0.12443423271179199 data loading time\n",
            "2.553361654281616 Discriminators training\n",
            "1.0801582336425781 backprop discriminator\n",
            "0.2528066635131836 adversarial loss\n",
            "2.09723162651062 cycle loss\n",
            "9.36415433883667 generator backprop\n",
            "Generator Loss: 4.451417922973633 Discriminator Loss: 0.50025874376297\n",
            "0.11542630195617676 data loading time\n",
            "0.11356258392333984 data loading time\n"
          ]
        },
        {
          "output_type": "stream",
          "name": "stderr",
          "text": [
            "\r  3%|▎         | 54/2035 [16:07<9:47:35, 17.80s/it]"
          ]
        },
        {
          "output_type": "stream",
          "name": "stdout",
          "text": [
            "0.1219029426574707 data loading time\n",
            "2.5597622394561768 Discriminators training\n",
            "1.0895905494689941 backprop discriminator\n",
            "0.2394397258758545 adversarial loss\n",
            "2.1003928184509277 cycle loss\n",
            "9.30689001083374 generator backprop\n",
            "Generator Loss: 3.023974895477295 Discriminator Loss: 0.510216474533081\n",
            "0.12231826782226562 data loading time\n",
            "0.11490511894226074 data loading time\n"
          ]
        },
        {
          "output_type": "stream",
          "name": "stderr",
          "text": [
            "\r  3%|▎         | 55/2035 [16:25<9:47:19, 17.80s/it]"
          ]
        },
        {
          "output_type": "stream",
          "name": "stdout",
          "text": [
            "0.12204360961914062 data loading time\n",
            "2.5616226196289062 Discriminators training\n",
            "1.0879056453704834 backprop discriminator\n",
            "0.24489092826843262 adversarial loss\n",
            "2.098356246948242 cycle loss\n",
            "9.353797197341919 generator backprop\n",
            "Generator Loss: 4.869045257568359 Discriminator Loss: 0.512942373752594\n",
            "0.11171221733093262 data loading time\n",
            "0.12554121017456055 data loading time\n"
          ]
        },
        {
          "output_type": "stream",
          "name": "stderr",
          "text": [
            "\r  3%|▎         | 56/2035 [16:43<9:50:10, 17.89s/it]"
          ]
        },
        {
          "output_type": "stream",
          "name": "stdout",
          "text": [
            "0.1573183536529541 data loading time\n",
            "3.2549898624420166 Discriminators training\n",
            "1.3601875305175781 backprop discriminator\n",
            "0.29669713973999023 adversarial loss\n",
            "2.6552064418792725 cycle loss\n",
            "11.989755630493164 generator backprop\n",
            "Generator Loss: 3.8154804706573486 Discriminator Loss: 0.4728640615940094\n",
            "0.14573383331298828 data loading time\n",
            "0.14842009544372559 data loading time\n"
          ]
        },
        {
          "output_type": "stream",
          "name": "stderr",
          "text": [
            "\r  3%|▎         | 57/2035 [17:06<10:38:06, 19.36s/it]"
          ]
        },
        {
          "output_type": "stream",
          "name": "stdout",
          "text": [
            "0.15800189971923828 data loading time\n",
            "2.884204864501953 Discriminators training\n",
            "1.0902447700500488 backprop discriminator\n",
            "0.2492818832397461 adversarial loss\n",
            "2.1852176189422607 cycle loss\n",
            "9.320034503936768 generator backprop\n",
            "Generator Loss: 4.140995025634766 Discriminator Loss: 0.5101892948150635\n",
            "0.11780929565429688 data loading time\n",
            "0.11352348327636719 data loading time\n"
          ]
        },
        {
          "output_type": "stream",
          "name": "stderr",
          "text": [
            "\r  3%|▎         | 58/2035 [17:24<10:26:49, 19.02s/it]"
          ]
        },
        {
          "output_type": "stream",
          "name": "stdout",
          "text": [
            "0.12416505813598633 data loading time\n",
            "2.5397443771362305 Discriminators training\n",
            "1.0984721183776855 backprop discriminator\n",
            "0.2408144474029541 adversarial loss\n",
            "2.1010773181915283 cycle loss\n",
            "9.315944194793701 generator backprop\n",
            "Generator Loss: 3.223499298095703 Discriminator Loss: 0.49906453490257263\n",
            "0.11173772811889648 data loading time\n",
            "0.11277222633361816 data loading time\n"
          ]
        },
        {
          "output_type": "stream",
          "name": "stderr",
          "text": [
            "\r  3%|▎         | 59/2035 [17:42<10:14:14, 18.65s/it]"
          ]
        },
        {
          "output_type": "stream",
          "name": "stdout",
          "text": [
            "0.11787986755371094 data loading time\n",
            "2.5836918354034424 Discriminators training\n",
            "1.2337307929992676 backprop discriminator\n",
            "0.2624211311340332 adversarial loss\n",
            "4.034765005111694 cycle loss\n",
            "9.775238275527954 generator backprop\n",
            "Generator Loss: 4.225237846374512 Discriminator Loss: 0.5159879326820374\n",
            "0.11502385139465332 data loading time\n",
            "0.11464476585388184 data loading time\n"
          ]
        },
        {
          "output_type": "stream",
          "name": "stderr",
          "text": [
            "\r  3%|▎         | 60/2035 [18:02<10:31:01, 19.17s/it]"
          ]
        },
        {
          "output_type": "stream",
          "name": "stdout",
          "text": [
            "0.12300753593444824 data loading time\n",
            "2.5811188220977783 Discriminators training\n",
            "1.0847110748291016 backprop discriminator\n",
            "0.2443530559539795 adversarial loss\n",
            "2.1203019618988037 cycle loss\n",
            "9.361415147781372 generator backprop\n",
            "Generator Loss: 4.7688093185424805 Discriminator Loss: 0.4860520362854004\n",
            "0.11740326881408691 data loading time\n",
            "0.1125040054321289 data loading time\n"
          ]
        },
        {
          "output_type": "stream",
          "name": "stderr",
          "text": [
            "\r  3%|▎         | 61/2035 [18:20<10:18:02, 18.79s/it]"
          ]
        },
        {
          "output_type": "stream",
          "name": "stdout",
          "text": [
            "0.12278223037719727 data loading time\n",
            "2.5718424320220947 Discriminators training\n",
            "1.0907776355743408 backprop discriminator\n",
            "0.25060319900512695 adversarial loss\n",
            "2.0676567554473877 cycle loss\n",
            "9.297291278839111 generator backprop\n",
            "Generator Loss: 6.54263973236084 Discriminator Loss: 0.5195832252502441\n",
            "0.11114120483398438 data loading time\n",
            "0.11257743835449219 data loading time\n"
          ]
        },
        {
          "output_type": "stream",
          "name": "stderr",
          "text": [
            "\r  3%|▎         | 62/2035 [18:38<10:07:36, 18.48s/it]"
          ]
        },
        {
          "output_type": "stream",
          "name": "stdout",
          "text": [
            "0.12406373023986816 data loading time\n",
            "2.545908212661743 Discriminators training\n",
            "1.0876085758209229 backprop discriminator\n",
            "0.24126386642456055 adversarial loss\n",
            "2.094982624053955 cycle loss\n",
            "9.264905452728271 generator backprop\n",
            "Generator Loss: 6.052764892578125 Discriminator Loss: 0.5162392854690552\n",
            "0.11135077476501465 data loading time\n",
            "0.1174767017364502 data loading time\n"
          ]
        },
        {
          "output_type": "stream",
          "name": "stderr",
          "text": [
            "\r  3%|▎         | 63/2035 [18:56<9:59:52, 18.25s/it] "
          ]
        },
        {
          "output_type": "stream",
          "name": "stdout",
          "text": [
            "0.12687230110168457 data loading time\n",
            "2.5531413555145264 Discriminators training\n",
            "1.0794401168823242 backprop discriminator\n",
            "0.2450413703918457 adversarial loss\n",
            "2.0823183059692383 cycle loss\n",
            "9.288956880569458 generator backprop\n",
            "Generator Loss: 4.525014877319336 Discriminator Loss: 0.46088603138923645\n",
            "0.11422562599182129 data loading time\n",
            "0.11278057098388672 data loading time\n"
          ]
        },
        {
          "output_type": "stream",
          "name": "stderr",
          "text": [
            "\r  3%|▎         | 64/2035 [19:13<9:54:48, 18.11s/it]"
          ]
        },
        {
          "output_type": "stream",
          "name": "stdout",
          "text": [
            "0.12727022171020508 data loading time\n",
            "2.5625195503234863 Discriminators training\n",
            "1.0856237411499023 backprop discriminator\n",
            "0.24033689498901367 adversarial loss\n",
            "2.09623646736145 cycle loss\n",
            "9.400051832199097 generator backprop\n",
            "Generator Loss: 3.4716577529907227 Discriminator Loss: 0.5204237699508667\n",
            "0.11556792259216309 data loading time\n",
            "0.11521053314208984 data loading time\n"
          ]
        },
        {
          "output_type": "stream",
          "name": "stderr",
          "text": [
            "\r  3%|▎         | 65/2035 [19:31<9:52:27, 18.04s/it]"
          ]
        },
        {
          "output_type": "stream",
          "name": "stdout",
          "text": [
            "0.11986541748046875 data loading time\n",
            "2.5726325511932373 Discriminators training\n",
            "1.0905861854553223 backprop discriminator\n",
            "0.25325846672058105 adversarial loss\n",
            "2.111382246017456 cycle loss\n",
            "9.370218992233276 generator backprop\n",
            "Generator Loss: 4.717361927032471 Discriminator Loss: 0.494814395904541\n",
            "0.11215710639953613 data loading time\n",
            "0.1128697395324707 data loading time\n"
          ]
        },
        {
          "output_type": "stream",
          "name": "stderr",
          "text": [
            "\r  3%|▎         | 66/2035 [19:49<9:50:37, 18.00s/it]"
          ]
        },
        {
          "output_type": "stream",
          "name": "stdout",
          "text": [
            "0.12367081642150879 data loading time\n",
            "2.576948642730713 Discriminators training\n",
            "1.0920765399932861 backprop discriminator\n",
            "0.2470097541809082 adversarial loss\n",
            "2.111095905303955 cycle loss\n",
            "9.362601518630981 generator backprop\n",
            "Generator Loss: 3.1402101516723633 Discriminator Loss: 0.5327030420303345\n",
            "0.1306312084197998 data loading time\n",
            "0.11598944664001465 data loading time\n"
          ]
        },
        {
          "output_type": "stream",
          "name": "stderr",
          "text": [
            "\r  3%|▎         | 67/2035 [20:07<9:49:31, 17.97s/it]"
          ]
        },
        {
          "output_type": "stream",
          "name": "stdout",
          "text": [
            "0.12872862815856934 data loading time\n",
            "2.562551259994507 Discriminators training\n",
            "1.0918312072753906 backprop discriminator\n",
            "0.23950481414794922 adversarial loss\n",
            "2.0917210578918457 cycle loss\n",
            "9.424188613891602 generator backprop\n",
            "Generator Loss: 3.7023134231567383 Discriminator Loss: 0.47676825523376465\n",
            "0.11249160766601562 data loading time\n",
            "0.1199350357055664 data loading time\n"
          ]
        },
        {
          "output_type": "stream",
          "name": "stderr",
          "text": [
            "\r  3%|▎         | 68/2035 [20:25<9:48:38, 17.96s/it]"
          ]
        },
        {
          "output_type": "stream",
          "name": "stdout",
          "text": [
            "0.13001394271850586 data loading time\n",
            "2.571087598800659 Discriminators training\n",
            "1.0820245742797852 backprop discriminator\n",
            "0.248809814453125 adversarial loss\n",
            "2.089939832687378 cycle loss\n",
            "9.284785032272339 generator backprop\n",
            "Generator Loss: 4.967898368835449 Discriminator Loss: 0.5088748335838318\n",
            "0.11170458793640137 data loading time\n",
            "0.11217236518859863 data loading time\n"
          ]
        },
        {
          "output_type": "stream",
          "name": "stderr",
          "text": [
            "\r  3%|▎         | 69/2035 [20:43<9:46:19, 17.89s/it]"
          ]
        },
        {
          "output_type": "stream",
          "name": "stdout",
          "text": [
            "0.1292126178741455 data loading time\n",
            "2.559833288192749 Discriminators training\n",
            "1.0760962963104248 backprop discriminator\n",
            "0.242964506149292 adversarial loss\n",
            "2.106661319732666 cycle loss\n",
            "9.34079909324646 generator backprop\n",
            "Generator Loss: 3.540503978729248 Discriminator Loss: 0.5125373005867004\n",
            "0.11362648010253906 data loading time\n",
            "0.11771512031555176 data loading time\n"
          ]
        },
        {
          "output_type": "stream",
          "name": "stderr",
          "text": [
            "\r  3%|▎         | 70/2035 [21:01<9:45:29, 17.88s/it]"
          ]
        },
        {
          "output_type": "stream",
          "name": "stdout",
          "text": [
            "0.12609434127807617 data loading time\n",
            "2.560035467147827 Discriminators training\n",
            "1.0748238563537598 backprop discriminator\n",
            "0.24544215202331543 adversarial loss\n",
            "2.0859005451202393 cycle loss\n",
            "9.324878215789795 generator backprop\n",
            "Generator Loss: 4.480262756347656 Discriminator Loss: 0.5180860161781311\n",
            "0.11306905746459961 data loading time\n",
            "0.11472868919372559 data loading time\n"
          ]
        },
        {
          "output_type": "stream",
          "name": "stderr",
          "text": [
            "\r  3%|▎         | 71/2035 [21:18<9:44:29, 17.86s/it]"
          ]
        },
        {
          "output_type": "stream",
          "name": "stdout",
          "text": [
            "0.1275029182434082 data loading time\n",
            "2.5621273517608643 Discriminators training\n",
            "1.07053804397583 backprop discriminator\n",
            "0.2431173324584961 adversarial loss\n",
            "2.0952348709106445 cycle loss\n",
            "9.319422245025635 generator backprop\n",
            "Generator Loss: 4.134975433349609 Discriminator Loss: 0.5017797946929932\n",
            "0.11239480972290039 data loading time\n",
            "0.11853742599487305 data loading time\n"
          ]
        },
        {
          "output_type": "stream",
          "name": "stderr",
          "text": [
            "\r  4%|▎         | 72/2035 [21:36<9:43:28, 17.83s/it]"
          ]
        },
        {
          "output_type": "stream",
          "name": "stdout",
          "text": [
            "0.12253189086914062 data loading time\n",
            "2.5537335872650146 Discriminators training\n",
            "1.1080825328826904 backprop discriminator\n",
            "0.24729323387145996 adversarial loss\n",
            "2.081143856048584 cycle loss\n",
            "9.318263292312622 generator backprop\n",
            "Generator Loss: 3.31370210647583 Discriminator Loss: 0.5134872794151306\n",
            "0.11331486701965332 data loading time\n",
            "0.11357474327087402 data loading time\n"
          ]
        },
        {
          "output_type": "stream",
          "name": "stderr",
          "text": [
            "\r  4%|▎         | 73/2035 [21:54<9:42:50, 17.82s/it]"
          ]
        },
        {
          "output_type": "stream",
          "name": "stdout",
          "text": [
            "0.1303870677947998 data loading time\n",
            "2.565610647201538 Discriminators training\n",
            "1.1027896404266357 backprop discriminator\n",
            "0.23478245735168457 adversarial loss\n",
            "2.1059865951538086 cycle loss\n",
            "9.310245513916016 generator backprop\n",
            "Generator Loss: 4.505595684051514 Discriminator Loss: 0.5029640793800354\n",
            "0.11212992668151855 data loading time\n",
            "0.1119234561920166 data loading time\n"
          ]
        },
        {
          "output_type": "stream",
          "name": "stderr",
          "text": [
            "\r  4%|▎         | 74/2035 [22:12<9:42:32, 17.82s/it]"
          ]
        },
        {
          "output_type": "stream",
          "name": "stdout",
          "text": [
            "0.12360954284667969 data loading time\n",
            "2.541638135910034 Discriminators training\n",
            "1.0791823863983154 backprop discriminator\n",
            "0.24245738983154297 adversarial loss\n",
            "2.076855421066284 cycle loss\n",
            "9.28398585319519 generator backprop\n",
            "Generator Loss: 4.928694725036621 Discriminator Loss: 0.519834578037262\n",
            "0.11146378517150879 data loading time\n",
            "0.11232328414916992 data loading time\n"
          ]
        },
        {
          "output_type": "stream",
          "name": "stderr",
          "text": [
            "\r  4%|▎         | 75/2035 [22:29<9:40:58, 17.78s/it]"
          ]
        },
        {
          "output_type": "stream",
          "name": "stdout",
          "text": [
            "0.11933398246765137 data loading time\n",
            "2.5535130500793457 Discriminators training\n",
            "1.1044857501983643 backprop discriminator\n",
            "0.24387288093566895 adversarial loss\n",
            "2.088812828063965 cycle loss\n",
            "9.228419303894043 generator backprop\n",
            "Generator Loss: 3.5623273849487305 Discriminator Loss: 0.47774219512939453\n",
            "0.11153578758239746 data loading time\n",
            "0.11535239219665527 data loading time\n"
          ]
        },
        {
          "output_type": "stream",
          "name": "stderr",
          "text": [
            "\r  4%|▎         | 76/2035 [22:47<9:39:41, 17.75s/it]"
          ]
        },
        {
          "output_type": "stream",
          "name": "stdout",
          "text": [
            "0.12200665473937988 data loading time\n",
            "2.544097661972046 Discriminators training\n",
            "1.0794603824615479 backprop discriminator\n",
            "0.24437308311462402 adversarial loss\n",
            "2.09592342376709 cycle loss\n",
            "9.29270601272583 generator backprop\n",
            "Generator Loss: 3.9344916343688965 Discriminator Loss: 0.5009730458259583\n",
            "0.11165738105773926 data loading time\n",
            "0.1128849983215332 data loading time\n"
          ]
        },
        {
          "output_type": "stream",
          "name": "stderr",
          "text": [
            "\r  4%|▍         | 77/2035 [23:05<9:39:10, 17.75s/it]"
          ]
        },
        {
          "output_type": "stream",
          "name": "stdout",
          "text": [
            "0.12309575080871582 data loading time\n",
            "2.5738344192504883 Discriminators training\n",
            "1.0760068893432617 backprop discriminator\n",
            "0.24201273918151855 adversarial loss\n",
            "2.0924975872039795 cycle loss\n",
            "9.28809118270874 generator backprop\n",
            "Generator Loss: 6.305371284484863 Discriminator Loss: 0.48895853757858276\n",
            "0.11291360855102539 data loading time\n",
            "0.11307263374328613 data loading time\n"
          ]
        },
        {
          "output_type": "stream",
          "name": "stderr",
          "text": [
            "\r  4%|▍         | 78/2035 [23:23<9:38:56, 17.75s/it]"
          ]
        },
        {
          "output_type": "stream",
          "name": "stdout",
          "text": [
            "0.12194252014160156 data loading time\n",
            "2.5451183319091797 Discriminators training\n",
            "1.0685219764709473 backprop discriminator\n",
            "0.23710179328918457 adversarial loss\n",
            "2.0988824367523193 cycle loss\n",
            "9.350515604019165 generator backprop\n",
            "Generator Loss: 6.300352096557617 Discriminator Loss: 0.48331815004348755\n",
            "0.11226511001586914 data loading time\n",
            "0.11223268508911133 data loading time\n"
          ]
        },
        {
          "output_type": "stream",
          "name": "stderr",
          "text": [
            "\r  4%|▍         | 79/2035 [23:40<9:39:07, 17.76s/it]"
          ]
        },
        {
          "output_type": "stream",
          "name": "stdout",
          "text": [
            "0.12828660011291504 data loading time\n",
            "2.563601493835449 Discriminators training\n",
            "1.0735132694244385 backprop discriminator\n",
            "0.23708653450012207 adversarial loss\n",
            "2.107417583465576 cycle loss\n",
            "9.29844069480896 generator backprop\n",
            "Generator Loss: 5.194014072418213 Discriminator Loss: 0.50071781873703\n",
            "0.11195850372314453 data loading time\n",
            "0.11872220039367676 data loading time\n"
          ]
        },
        {
          "output_type": "stream",
          "name": "stderr",
          "text": [
            "\r  4%|▍         | 80/2035 [23:58<9:38:51, 17.77s/it]"
          ]
        },
        {
          "output_type": "stream",
          "name": "stdout",
          "text": [
            "0.11864829063415527 data loading time\n",
            "2.5798890590667725 Discriminators training\n",
            "1.0698606967926025 backprop discriminator\n",
            "0.25501585006713867 adversarial loss\n",
            "2.0936222076416016 cycle loss\n",
            "9.420282125473022 generator backprop\n",
            "Generator Loss: 3.288515567779541 Discriminator Loss: 0.5279585123062134\n",
            "0.11306190490722656 data loading time\n",
            "0.11299610137939453 data loading time\n"
          ]
        },
        {
          "output_type": "stream",
          "name": "stderr",
          "text": [
            "\r  4%|▍         | 81/2035 [24:16<9:40:04, 17.81s/it]"
          ]
        },
        {
          "output_type": "stream",
          "name": "stdout",
          "text": [
            "0.1974315643310547 data loading time\n",
            "2.6041364669799805 Discriminators training\n",
            "1.101621389389038 backprop discriminator\n",
            "0.23969340324401855 adversarial loss\n",
            "2.116206645965576 cycle loss\n",
            "9.342249393463135 generator backprop\n",
            "Generator Loss: 3.8750834465026855 Discriminator Loss: 0.4774244427680969\n",
            "0.1136162281036377 data loading time\n",
            "0.11316990852355957 data loading time\n"
          ]
        },
        {
          "output_type": "stream",
          "name": "stderr",
          "text": [
            "\r  4%|▍         | 82/2035 [24:34<9:41:18, 17.86s/it]"
          ]
        },
        {
          "output_type": "stream",
          "name": "stdout",
          "text": [
            "0.12335205078125 data loading time\n",
            "2.5444529056549072 Discriminators training\n",
            "1.0819332599639893 backprop discriminator\n",
            "0.24461150169372559 adversarial loss\n",
            "2.0847220420837402 cycle loss\n",
            "9.338109731674194 generator backprop\n",
            "Generator Loss: 3.9709887504577637 Discriminator Loss: 0.522209882736206\n",
            "0.11192846298217773 data loading time\n",
            "0.11460494995117188 data loading time\n"
          ]
        },
        {
          "output_type": "stream",
          "name": "stderr",
          "text": [
            "\r  4%|▍         | 83/2035 [24:52<9:40:38, 17.85s/it]"
          ]
        },
        {
          "output_type": "stream",
          "name": "stdout",
          "text": [
            "0.130157470703125 data loading time\n",
            "2.57132625579834 Discriminators training\n",
            "1.0918796062469482 backprop discriminator\n",
            "0.23899602890014648 adversarial loss\n",
            "2.109203577041626 cycle loss\n",
            "9.424674034118652 generator backprop\n",
            "Generator Loss: 3.3489701747894287 Discriminator Loss: 0.4672907888889313\n",
            "0.11342430114746094 data loading time\n",
            "0.1123208999633789 data loading time\n"
          ]
        },
        {
          "output_type": "stream",
          "name": "stderr",
          "text": [
            "\r  4%|▍         | 84/2035 [25:10<9:41:19, 17.88s/it]"
          ]
        },
        {
          "output_type": "stream",
          "name": "stdout",
          "text": [
            "0.11908698081970215 data loading time\n",
            "2.595264196395874 Discriminators training\n",
            "1.1029083728790283 backprop discriminator\n",
            "0.24306869506835938 adversarial loss\n",
            "2.1082184314727783 cycle loss\n",
            "9.415229082107544 generator backprop\n",
            "Generator Loss: 3.4519386291503906 Discriminator Loss: 0.47674694657325745\n",
            "0.11203932762145996 data loading time\n",
            "0.11367344856262207 data loading time\n"
          ]
        },
        {
          "output_type": "stream",
          "name": "stderr",
          "text": [
            "\r  4%|▍         | 85/2035 [25:28<9:41:48, 17.90s/it]"
          ]
        },
        {
          "output_type": "stream",
          "name": "stdout",
          "text": [
            "0.12795615196228027 data loading time\n",
            "2.5888335704803467 Discriminators training\n",
            "1.1149497032165527 backprop discriminator\n",
            "0.2458324432373047 adversarial loss\n",
            "2.141538143157959 cycle loss\n",
            "9.489961385726929 generator backprop\n",
            "Generator Loss: 3.041954278945923 Discriminator Loss: 0.5030533671379089\n",
            "0.1122732162475586 data loading time\n",
            "0.1148524284362793 data loading time\n"
          ]
        },
        {
          "output_type": "stream",
          "name": "stderr",
          "text": [
            "\r  4%|▍         | 86/2035 [25:46<9:43:39, 17.97s/it]"
          ]
        },
        {
          "output_type": "stream",
          "name": "stdout",
          "text": [
            "0.12781882286071777 data loading time\n",
            "2.584209442138672 Discriminators training\n",
            "1.1010982990264893 backprop discriminator\n",
            "0.2495589256286621 adversarial loss\n",
            "2.1136391162872314 cycle loss\n",
            "9.546209335327148 generator backprop\n",
            "Generator Loss: 2.5939550399780273 Discriminator Loss: 0.5035697221755981\n",
            "0.11256289482116699 data loading time\n",
            "0.1128225326538086 data loading time\n"
          ]
        },
        {
          "output_type": "stream",
          "name": "stderr",
          "text": [
            "\r  4%|▍         | 87/2035 [26:04<9:44:36, 18.01s/it]"
          ]
        },
        {
          "output_type": "stream",
          "name": "stdout",
          "text": [
            "0.1233665943145752 data loading time\n",
            "2.6176624298095703 Discriminators training\n",
            "1.117720603942871 backprop discriminator\n",
            "0.24862241744995117 adversarial loss\n",
            "2.1244606971740723 cycle loss\n",
            "9.500468254089355 generator backprop\n",
            "Generator Loss: 3.5515196323394775 Discriminator Loss: 0.48110491037368774\n",
            "0.11422300338745117 data loading time\n",
            "0.11627054214477539 data loading time\n"
          ]
        },
        {
          "output_type": "stream",
          "name": "stderr",
          "text": [
            "\r  4%|▍         | 88/2035 [26:22<9:45:34, 18.05s/it]"
          ]
        },
        {
          "output_type": "stream",
          "name": "stdout",
          "text": [
            "0.12625551223754883 data loading time\n",
            "2.586503267288208 Discriminators training\n",
            "1.1268348693847656 backprop discriminator\n",
            "0.2469158172607422 adversarial loss\n",
            "2.110642671585083 cycle loss\n",
            "9.498930931091309 generator backprop\n",
            "Generator Loss: 3.5444014072418213 Discriminator Loss: 0.4978972375392914\n",
            "0.11510014533996582 data loading time\n",
            "0.11315798759460449 data loading time\n"
          ]
        },
        {
          "output_type": "stream",
          "name": "stderr",
          "text": [
            "\r  4%|▍         | 89/2035 [26:40<9:45:43, 18.06s/it]"
          ]
        },
        {
          "output_type": "stream",
          "name": "stdout",
          "text": [
            "0.12405586242675781 data loading time\n",
            "2.5799081325531006 Discriminators training\n",
            "1.099640130996704 backprop discriminator\n",
            "0.2351233959197998 adversarial loss\n",
            "2.129690170288086 cycle loss\n",
            "9.55927562713623 generator backprop\n",
            "Generator Loss: 5.82149076461792 Discriminator Loss: 0.4936663508415222\n",
            "0.11391448974609375 data loading time\n",
            "0.11330342292785645 data loading time\n"
          ]
        },
        {
          "output_type": "stream",
          "name": "stderr",
          "text": [
            "\r  4%|▍         | 90/2035 [26:58<9:46:05, 18.08s/it]"
          ]
        },
        {
          "output_type": "stream",
          "name": "stdout",
          "text": [
            "0.12470269203186035 data loading time\n",
            "2.62050461769104 Discriminators training\n",
            "1.0964806079864502 backprop discriminator\n",
            "0.23731732368469238 adversarial loss\n",
            "2.1103410720825195 cycle loss\n",
            "9.755166053771973 generator backprop\n",
            "Generator Loss: 3.1869306564331055 Discriminator Loss: 0.4949987828731537\n",
            "0.11400961875915527 data loading time\n",
            "0.11465907096862793 data loading time\n"
          ]
        },
        {
          "output_type": "stream",
          "name": "stderr",
          "text": [
            "\r  4%|▍         | 91/2035 [27:17<9:48:29, 18.16s/it]"
          ]
        },
        {
          "output_type": "stream",
          "name": "stdout",
          "text": [
            "0.12450194358825684 data loading time\n",
            "2.601316452026367 Discriminators training\n",
            "1.112978458404541 backprop discriminator\n",
            "0.24223875999450684 adversarial loss\n",
            "2.1238200664520264 cycle loss\n",
            "9.611862659454346 generator backprop\n",
            "Generator Loss: 2.4751834869384766 Discriminator Loss: 0.503273606300354\n",
            "0.11443376541137695 data loading time\n",
            "0.11630702018737793 data loading time\n"
          ]
        },
        {
          "output_type": "stream",
          "name": "stderr",
          "text": [
            "\r  5%|▍         | 92/2035 [27:35<9:48:48, 18.18s/it]"
          ]
        },
        {
          "output_type": "stream",
          "name": "stdout",
          "text": [
            "0.12859344482421875 data loading time\n",
            "2.6076619625091553 Discriminators training\n",
            "1.114342451095581 backprop discriminator\n",
            "0.26009535789489746 adversarial loss\n",
            "2.143615245819092 cycle loss\n",
            "9.582042455673218 generator backprop\n",
            "Generator Loss: 4.690495491027832 Discriminator Loss: 0.49167686700820923\n",
            "0.11163067817687988 data loading time\n",
            "0.11416029930114746 data loading time\n"
          ]
        },
        {
          "output_type": "stream",
          "name": "stderr",
          "text": [
            "\r  5%|▍         | 93/2035 [27:53<9:48:59, 18.20s/it]"
          ]
        },
        {
          "output_type": "stream",
          "name": "stdout",
          "text": [
            "0.1230306625366211 data loading time\n",
            "2.7336864471435547 Discriminators training\n",
            "1.2461535930633545 backprop discriminator\n",
            "0.26406192779541016 adversarial loss\n",
            "4.066349029541016 cycle loss\n",
            "9.897873878479004 generator backprop\n",
            "Generator Loss: 3.0463407039642334 Discriminator Loss: 0.4917902648448944\n",
            "0.11253976821899414 data loading time\n",
            "0.11402106285095215 data loading time\n"
          ]
        },
        {
          "output_type": "stream",
          "name": "stderr",
          "text": [
            "\r  5%|▍         | 94/2035 [28:14<10:13:19, 18.96s/it]"
          ]
        },
        {
          "output_type": "stream",
          "name": "stdout",
          "text": [
            "0.12520170211791992 data loading time\n",
            "2.583226203918457 Discriminators training\n",
            "1.0917975902557373 backprop discriminator\n",
            "0.24097323417663574 adversarial loss\n",
            "2.102288007736206 cycle loss\n",
            "9.428146839141846 generator backprop\n",
            "Generator Loss: 2.8385162353515625 Discriminator Loss: 0.5006116032600403\n",
            "0.11243844032287598 data loading time\n",
            "0.11607527732849121 data loading time\n"
          ]
        },
        {
          "output_type": "stream",
          "name": "stderr",
          "text": [
            "\r  5%|▍         | 95/2035 [28:32<10:03:29, 18.66s/it]"
          ]
        },
        {
          "output_type": "stream",
          "name": "stdout",
          "text": [
            "0.12845945358276367 data loading time\n",
            "2.5788397789001465 Discriminators training\n",
            "1.103135585784912 backprop discriminator\n",
            "0.23691439628601074 adversarial loss\n",
            "2.0906434059143066 cycle loss\n",
            "9.417614698410034 generator backprop\n",
            "Generator Loss: 2.8171334266662598 Discriminator Loss: 0.49850621819496155\n",
            "0.11135363578796387 data loading time\n",
            "0.1172792911529541 data loading time\n"
          ]
        },
        {
          "output_type": "stream",
          "name": "stderr",
          "text": [
            "\r  5%|▍         | 96/2035 [28:50<9:56:18, 18.45s/it] "
          ]
        },
        {
          "output_type": "stream",
          "name": "stdout",
          "text": [
            "0.12797164916992188 data loading time\n",
            "2.5893754959106445 Discriminators training\n",
            "1.101464033126831 backprop discriminator\n",
            "0.24089884757995605 adversarial loss\n",
            "2.0884757041931152 cycle loss\n",
            "9.574069738388062 generator backprop\n",
            "Generator Loss: 3.424691677093506 Discriminator Loss: 0.49357402324676514\n",
            "0.11337518692016602 data loading time\n",
            "0.11992025375366211 data loading time\n"
          ]
        },
        {
          "output_type": "stream",
          "name": "stderr",
          "text": [
            "\r  5%|▍         | 97/2035 [29:08<9:53:03, 18.36s/it]"
          ]
        },
        {
          "output_type": "stream",
          "name": "stdout",
          "text": [
            "0.1311931610107422 data loading time\n",
            "2.5854475498199463 Discriminators training\n",
            "1.0996417999267578 backprop discriminator\n",
            "0.24081993103027344 adversarial loss\n",
            "2.1107187271118164 cycle loss\n",
            "9.517616510391235 generator backprop\n",
            "Generator Loss: 3.661165952682495 Discriminator Loss: 0.49071478843688965\n",
            "0.11356854438781738 data loading time\n",
            "0.11349010467529297 data loading time\n"
          ]
        },
        {
          "output_type": "stream",
          "name": "stderr",
          "text": [
            "\r  5%|▍         | 98/2035 [29:26<9:49:59, 18.28s/it]"
          ]
        },
        {
          "output_type": "stream",
          "name": "stdout",
          "text": [
            "0.12492609024047852 data loading time\n",
            "2.568419933319092 Discriminators training\n",
            "1.1108176708221436 backprop discriminator\n",
            "0.2432711124420166 adversarial loss\n",
            "2.1161768436431885 cycle loss\n",
            "9.690243482589722 generator backprop\n",
            "Generator Loss: 3.6134657859802246 Discriminator Loss: 0.48135411739349365\n",
            "0.11384940147399902 data loading time\n",
            "0.11560821533203125 data loading time\n"
          ]
        },
        {
          "output_type": "stream",
          "name": "stderr",
          "text": [
            "\r  5%|▍         | 99/2035 [29:44<9:49:24, 18.27s/it]"
          ]
        },
        {
          "output_type": "stream",
          "name": "stdout",
          "text": [
            "0.1328883171081543 data loading time\n",
            "2.6025421619415283 Discriminators training\n",
            "1.1224961280822754 backprop discriminator\n",
            "0.2413177490234375 adversarial loss\n",
            "2.130845546722412 cycle loss\n",
            "9.434844017028809 generator backprop\n",
            "Generator Loss: 3.4668281078338623 Discriminator Loss: 0.48932304978370667\n",
            "0.11258220672607422 data loading time\n",
            "0.11709356307983398 data loading time\n"
          ]
        },
        {
          "output_type": "stream",
          "name": "stderr",
          "text": [
            "\r  5%|▍         | 100/2035 [30:02<9:46:52, 18.20s/it]"
          ]
        },
        {
          "output_type": "stream",
          "name": "stdout",
          "text": [
            "0.12447857856750488 data loading time\n",
            "2.5945725440979004 Discriminators training\n",
            "1.1359562873840332 backprop discriminator\n",
            "0.23531317710876465 adversarial loss\n",
            "2.1181249618530273 cycle loss\n",
            "9.459803342819214 generator backprop\n",
            "Generator Loss: 2.4076523780822754 Discriminator Loss: 0.48018795251846313\n",
            "0.1153104305267334 data loading time\n",
            "0.11227989196777344 data loading time\n"
          ]
        },
        {
          "output_type": "stream",
          "name": "stderr",
          "text": [
            "\r  5%|▍         | 101/2035 [30:20<9:45:07, 18.15s/it]"
          ]
        },
        {
          "output_type": "stream",
          "name": "stdout",
          "text": [
            "0.12438583374023438 data loading time\n",
            "2.5733249187469482 Discriminators training\n",
            "1.102358102798462 backprop discriminator\n",
            "0.23894882202148438 adversarial loss\n",
            "2.1110663414001465 cycle loss\n",
            "9.387054681777954 generator backprop\n",
            "Generator Loss: 5.016946315765381 Discriminator Loss: 0.47944533824920654\n",
            "0.1145484447479248 data loading time\n",
            "0.11181926727294922 data loading time\n"
          ]
        },
        {
          "output_type": "stream",
          "name": "stderr",
          "text": [
            "\r  5%|▌         | 102/2035 [30:38<9:42:34, 18.08s/it]"
          ]
        },
        {
          "output_type": "stream",
          "name": "stdout",
          "text": [
            "0.12722134590148926 data loading time\n",
            "2.5613465309143066 Discriminators training\n",
            "1.0777580738067627 backprop discriminator\n",
            "0.2374873161315918 adversarial loss\n",
            "2.080638885498047 cycle loss\n",
            "9.365601778030396 generator backprop\n",
            "Generator Loss: 3.8362033367156982 Discriminator Loss: 0.48172932863235474\n",
            "0.11145162582397461 data loading time\n",
            "0.11453032493591309 data loading time\n"
          ]
        },
        {
          "output_type": "stream",
          "name": "stderr",
          "text": [
            "\r  5%|▌         | 103/2035 [30:56<9:39:41, 18.00s/it]"
          ]
        },
        {
          "output_type": "stream",
          "name": "stdout",
          "text": [
            "0.12876176834106445 data loading time\n",
            "2.5629024505615234 Discriminators training\n",
            "1.07794189453125 backprop discriminator\n",
            "0.24316692352294922 adversarial loss\n",
            "2.106091022491455 cycle loss\n",
            "9.312306880950928 generator backprop\n",
            "Generator Loss: 2.8298537731170654 Discriminator Loss: 0.4666403830051422\n",
            "0.11152958869934082 data loading time\n",
            "0.11337661743164062 data loading time\n"
          ]
        },
        {
          "output_type": "stream",
          "name": "stderr",
          "text": [
            "\r  5%|▌         | 104/2035 [31:14<9:37:27, 17.94s/it]"
          ]
        },
        {
          "output_type": "stream",
          "name": "stdout",
          "text": [
            "0.12110757827758789 data loading time\n",
            "2.545387029647827 Discriminators training\n",
            "1.0838634967803955 backprop discriminator\n",
            "0.24958157539367676 adversarial loss\n",
            "2.113820791244507 cycle loss\n",
            "9.322983503341675 generator backprop\n",
            "Generator Loss: 4.561801910400391 Discriminator Loss: 0.49103766679763794\n",
            "0.11170220375061035 data loading time\n",
            "0.11242341995239258 data loading time\n"
          ]
        },
        {
          "output_type": "stream",
          "name": "stderr",
          "text": [
            "\r  5%|▌         | 105/2035 [31:32<9:35:56, 17.91s/it]"
          ]
        },
        {
          "output_type": "stream",
          "name": "stdout",
          "text": [
            "0.12996292114257812 data loading time\n",
            "2.554293155670166 Discriminators training\n",
            "1.0779967308044434 backprop discriminator\n",
            "0.2453780174255371 adversarial loss\n",
            "2.091850996017456 cycle loss\n",
            "9.35438060760498 generator backprop\n",
            "Generator Loss: 3.6808018684387207 Discriminator Loss: 0.48756977915763855\n",
            "0.11160111427307129 data loading time\n",
            "0.11590337753295898 data loading time\n"
          ]
        },
        {
          "output_type": "stream",
          "name": "stderr",
          "text": [
            "\r  5%|▌         | 106/2035 [31:50<9:34:47, 17.88s/it]"
          ]
        },
        {
          "output_type": "stream",
          "name": "stdout",
          "text": [
            "0.12447094917297363 data loading time\n",
            "2.57104229927063 Discriminators training\n",
            "1.0896458625793457 backprop discriminator\n",
            "0.245194673538208 adversarial loss\n",
            "2.088958740234375 cycle loss\n",
            "9.417813062667847 generator backprop\n",
            "Generator Loss: 7.186781406402588 Discriminator Loss: 0.5375856161117554\n",
            "0.11248302459716797 data loading time\n",
            "0.11228251457214355 data loading time\n"
          ]
        },
        {
          "output_type": "stream",
          "name": "stderr",
          "text": [
            "\r  5%|▌         | 107/2035 [32:08<9:34:44, 17.89s/it]"
          ]
        },
        {
          "output_type": "stream",
          "name": "stdout",
          "text": [
            "0.12494349479675293 data loading time\n",
            "2.549546957015991 Discriminators training\n",
            "1.101471185684204 backprop discriminator\n",
            "0.24266719818115234 adversarial loss\n",
            "2.0883705615997314 cycle loss\n",
            "9.35470199584961 generator backprop\n",
            "Generator Loss: 2.8288936614990234 Discriminator Loss: 0.5214565992355347\n",
            "0.11415815353393555 data loading time\n",
            "0.11621546745300293 data loading time\n"
          ]
        },
        {
          "output_type": "stream",
          "name": "stderr",
          "text": [
            "\r  5%|▌         | 108/2035 [32:25<9:34:06, 17.88s/it]"
          ]
        },
        {
          "output_type": "stream",
          "name": "stdout",
          "text": [
            "0.1258547306060791 data loading time\n",
            "2.5811498165130615 Discriminators training\n",
            "1.091242790222168 backprop discriminator\n",
            "0.2353379726409912 adversarial loss\n",
            "2.086643934249878 cycle loss\n",
            "9.283883571624756 generator backprop\n",
            "Generator Loss: 2.8016371726989746 Discriminator Loss: 0.4891640245914459\n",
            "0.1131589412689209 data loading time\n",
            "0.11314034461975098 data loading time\n"
          ]
        },
        {
          "output_type": "stream",
          "name": "stderr",
          "text": [
            "\r  5%|▌         | 109/2035 [32:43<9:32:43, 17.84s/it]"
          ]
        },
        {
          "output_type": "stream",
          "name": "stdout",
          "text": [
            "0.18898463249206543 data loading time\n",
            "2.5349316596984863 Discriminators training\n",
            "1.0818760395050049 backprop discriminator\n",
            "0.23895573616027832 adversarial loss\n",
            "2.0876269340515137 cycle loss\n",
            "9.322719097137451 generator backprop\n",
            "Generator Loss: 4.061652660369873 Discriminator Loss: 0.4823380708694458\n",
            "0.11348128318786621 data loading time\n",
            "0.1138145923614502 data loading time\n"
          ]
        },
        {
          "output_type": "stream",
          "name": "stderr",
          "text": [
            "\r  5%|▌         | 110/2035 [33:01<9:32:20, 17.84s/it]"
          ]
        },
        {
          "output_type": "stream",
          "name": "stdout",
          "text": [
            "0.12563037872314453 data loading time\n",
            "2.580247402191162 Discriminators training\n",
            "1.1008107662200928 backprop discriminator\n",
            "0.23909664154052734 adversarial loss\n",
            "2.092556953430176 cycle loss\n",
            "9.328891277313232 generator backprop\n",
            "Generator Loss: 5.982760429382324 Discriminator Loss: 0.46774280071258545\n",
            "0.11150217056274414 data loading time\n",
            "0.11285400390625 data loading time\n"
          ]
        },
        {
          "output_type": "stream",
          "name": "stderr",
          "text": [
            "\r  5%|▌         | 111/2035 [33:19<9:32:01, 17.84s/it]"
          ]
        },
        {
          "output_type": "stream",
          "name": "stdout",
          "text": [
            "0.1254572868347168 data loading time\n",
            "2.554868459701538 Discriminators training\n",
            "1.0727427005767822 backprop discriminator\n",
            "0.24087166786193848 adversarial loss\n",
            "2.0952305793762207 cycle loss\n",
            "9.340709924697876 generator backprop\n",
            "Generator Loss: 3.5497117042541504 Discriminator Loss: 0.4786235988140106\n",
            "0.11319160461425781 data loading time\n",
            "0.11242341995239258 data loading time\n"
          ]
        },
        {
          "output_type": "stream",
          "name": "stderr",
          "text": [
            "\r  6%|▌         | 112/2035 [33:37<9:31:22, 17.83s/it]"
          ]
        },
        {
          "output_type": "stream",
          "name": "stdout",
          "text": [
            "0.12177634239196777 data loading time\n",
            "2.5725865364074707 Discriminators training\n",
            "1.0820198059082031 backprop discriminator\n",
            "0.23696160316467285 adversarial loss\n",
            "2.0927393436431885 cycle loss\n",
            "9.32533073425293 generator backprop\n",
            "Generator Loss: 3.557581663131714 Discriminator Loss: 0.4646955132484436\n",
            "0.11458945274353027 data loading time\n",
            "0.11723017692565918 data loading time\n"
          ]
        },
        {
          "output_type": "stream",
          "name": "stderr",
          "text": [
            "\r  6%|▌         | 113/2035 [33:54<9:30:56, 17.82s/it]"
          ]
        },
        {
          "output_type": "stream",
          "name": "stdout",
          "text": [
            "0.13053679466247559 data loading time\n",
            "2.5728378295898438 Discriminators training\n",
            "1.081007480621338 backprop discriminator\n",
            "0.24681353569030762 adversarial loss\n",
            "2.0924220085144043 cycle loss\n",
            "9.421077728271484 generator backprop\n",
            "Generator Loss: 4.16911506652832 Discriminator Loss: 0.47689157724380493\n",
            "0.11295938491821289 data loading time\n",
            "0.11202478408813477 data loading time\n"
          ]
        },
        {
          "output_type": "stream",
          "name": "stderr",
          "text": [
            "\r  6%|▌         | 114/2035 [34:12<9:31:27, 17.85s/it]"
          ]
        },
        {
          "output_type": "stream",
          "name": "stdout",
          "text": [
            "0.12243533134460449 data loading time\n",
            "2.5616250038146973 Discriminators training\n",
            "1.1000964641571045 backprop discriminator\n",
            "0.24378204345703125 adversarial loss\n",
            "2.1146581172943115 cycle loss\n",
            "9.36213755607605 generator backprop\n",
            "Generator Loss: 7.170083045959473 Discriminator Loss: 0.45473337173461914\n",
            "0.11562061309814453 data loading time\n",
            "0.1175239086151123 data loading time\n"
          ]
        },
        {
          "output_type": "stream",
          "name": "stderr",
          "text": [
            "\r  6%|▌         | 115/2035 [34:30<9:31:20, 17.85s/it]"
          ]
        },
        {
          "output_type": "stream",
          "name": "stdout",
          "text": [
            "0.12040376663208008 data loading time\n",
            "2.552767753601074 Discriminators training\n",
            "1.0738413333892822 backprop discriminator\n",
            "0.24898386001586914 adversarial loss\n",
            "2.068549633026123 cycle loss\n",
            "9.34676218032837 generator backprop\n",
            "Generator Loss: 3.8106112480163574 Discriminator Loss: 0.5246365666389465\n",
            "0.11555838584899902 data loading time\n",
            "0.12603282928466797 data loading time\n"
          ]
        },
        {
          "output_type": "stream",
          "name": "stderr",
          "text": [
            "\r  6%|▌         | 116/2035 [34:48<9:31:03, 17.85s/it]"
          ]
        },
        {
          "output_type": "stream",
          "name": "stdout",
          "text": [
            "0.13549304008483887 data loading time\n",
            "2.6391849517822266 Discriminators training\n",
            "1.123776912689209 backprop discriminator\n",
            "0.24875593185424805 adversarial loss\n",
            "2.1242637634277344 cycle loss\n",
            "9.68595814704895 generator backprop\n",
            "Generator Loss: 2.8559627532958984 Discriminator Loss: 0.47017765045166016\n",
            "0.11278438568115234 data loading time\n",
            "0.11327719688415527 data loading time\n"
          ]
        },
        {
          "output_type": "stream",
          "name": "stderr",
          "text": [
            "\r  6%|▌         | 117/2035 [35:06<9:35:36, 18.01s/it]"
          ]
        },
        {
          "output_type": "stream",
          "name": "stdout",
          "text": [
            "0.12851285934448242 data loading time\n",
            "2.5836341381073 Discriminators training\n",
            "1.112746000289917 backprop discriminator\n",
            "0.250960111618042 adversarial loss\n",
            "2.1250202655792236 cycle loss\n",
            "9.711769342422485 generator backprop\n",
            "Generator Loss: 3.8619914054870605 Discriminator Loss: 0.45390209555625916\n",
            "0.11399364471435547 data loading time\n",
            "0.12149405479431152 data loading time\n"
          ]
        },
        {
          "output_type": "stream",
          "name": "stderr",
          "text": [
            "\r  6%|▌         | 118/2035 [35:25<9:38:40, 18.11s/it]"
          ]
        },
        {
          "output_type": "stream",
          "name": "stdout",
          "text": [
            "0.1293630599975586 data loading time\n",
            "2.6082065105438232 Discriminators training\n",
            "1.1101751327514648 backprop discriminator\n",
            "0.2557799816131592 adversarial loss\n",
            "2.1577513217926025 cycle loss\n",
            "9.76703143119812 generator backprop\n",
            "Generator Loss: 2.5437402725219727 Discriminator Loss: 0.4808852970600128\n",
            "0.11687254905700684 data loading time\n",
            "0.11656689643859863 data loading time\n"
          ]
        },
        {
          "output_type": "stream",
          "name": "stderr",
          "text": [
            "\r  6%|▌         | 119/2035 [35:43<9:41:31, 18.21s/it]"
          ]
        },
        {
          "output_type": "stream",
          "name": "stdout",
          "text": [
            "0.1263127326965332 data loading time\n",
            "2.611882448196411 Discriminators training\n",
            "1.1436703205108643 backprop discriminator\n",
            "0.251178503036499 adversarial loss\n",
            "2.1748886108398438 cycle loss\n",
            "9.869316816329956 generator backprop\n",
            "Generator Loss: 4.419910907745361 Discriminator Loss: 0.4569835364818573\n",
            "0.11442756652832031 data loading time\n",
            "0.11733603477478027 data loading time\n"
          ]
        },
        {
          "output_type": "stream",
          "name": "stderr",
          "text": [
            "\r  6%|▌         | 120/2035 [36:02<9:45:09, 18.33s/it]"
          ]
        },
        {
          "output_type": "stream",
          "name": "stdout",
          "text": [
            "0.13301920890808105 data loading time\n",
            "2.615941047668457 Discriminators training\n",
            "1.1175036430358887 backprop discriminator\n",
            "0.24428749084472656 adversarial loss\n",
            "2.1263949871063232 cycle loss\n",
            "9.57564926147461 generator backprop\n",
            "Generator Loss: 3.973843574523926 Discriminator Loss: 0.5083197355270386\n",
            "0.11591792106628418 data loading time\n",
            "0.11782193183898926 data loading time\n"
          ]
        },
        {
          "output_type": "stream",
          "name": "stderr",
          "text": [
            "\r  6%|▌         | 121/2035 [36:20<9:43:46, 18.30s/it]"
          ]
        },
        {
          "output_type": "stream",
          "name": "stdout",
          "text": [
            "0.12896084785461426 data loading time\n",
            "2.6072521209716797 Discriminators training\n",
            "1.1143529415130615 backprop discriminator\n",
            "0.24648737907409668 adversarial loss\n",
            "2.1254923343658447 cycle loss\n",
            "9.662610530853271 generator backprop\n",
            "Generator Loss: 3.072077751159668 Discriminator Loss: 0.5145449638366699\n",
            "0.11553239822387695 data loading time\n",
            "0.11354541778564453 data loading time\n"
          ]
        },
        {
          "output_type": "stream",
          "name": "stderr",
          "text": [
            "\r  6%|▌         | 122/2035 [36:38<9:43:17, 18.29s/it]"
          ]
        },
        {
          "output_type": "stream",
          "name": "stdout",
          "text": [
            "0.13117361068725586 data loading time\n",
            "2.6149659156799316 Discriminators training\n",
            "1.1047377586364746 backprop discriminator\n",
            "0.2431631088256836 adversarial loss\n",
            "2.12138032913208 cycle loss\n",
            "9.928084135055542 generator backprop\n",
            "Generator Loss: 4.969228744506836 Discriminator Loss: 0.5477108955383301\n",
            "0.11817002296447754 data loading time\n",
            "0.12576770782470703 data loading time\n"
          ]
        },
        {
          "output_type": "stream",
          "name": "stderr",
          "text": [
            "\r  6%|▌         | 123/2035 [36:57<9:46:16, 18.40s/it]"
          ]
        },
        {
          "output_type": "stream",
          "name": "stdout",
          "text": [
            "0.135850191116333 data loading time\n",
            "2.6549489498138428 Discriminators training\n",
            "1.134781837463379 backprop discriminator\n",
            "0.2570962905883789 adversarial loss\n",
            "2.1802964210510254 cycle loss\n",
            "9.880729913711548 generator backprop\n",
            "Generator Loss: 2.9949305057525635 Discriminator Loss: 0.5277692675590515\n",
            "0.11539530754089355 data loading time\n",
            "0.11487817764282227 data loading time\n"
          ]
        },
        {
          "output_type": "stream",
          "name": "stderr",
          "text": [
            "\r  6%|▌         | 124/2035 [37:16<9:48:48, 18.49s/it]"
          ]
        },
        {
          "output_type": "stream",
          "name": "stdout",
          "text": [
            "0.12768793106079102 data loading time\n",
            "2.6669440269470215 Discriminators training\n",
            "1.121953010559082 backprop discriminator\n",
            "0.2462453842163086 adversarial loss\n",
            "2.1537816524505615 cycle loss\n",
            "9.770239114761353 generator backprop\n",
            "Generator Loss: 3.955470561981201 Discriminator Loss: 0.5188827514648438\n",
            "0.11892056465148926 data loading time\n",
            "0.11786270141601562 data loading time\n"
          ]
        },
        {
          "output_type": "stream",
          "name": "stderr",
          "text": [
            "\r  6%|▌         | 125/2035 [37:34<9:49:06, 18.51s/it]"
          ]
        },
        {
          "output_type": "stream",
          "name": "stdout",
          "text": [
            "0.13174915313720703 data loading time\n",
            "2.643498659133911 Discriminators training\n",
            "1.1248245239257812 backprop discriminator\n",
            "0.2434067726135254 adversarial loss\n",
            "2.1594064235687256 cycle loss\n",
            "9.716093063354492 generator backprop\n",
            "Generator Loss: 3.49019718170166 Discriminator Loss: 0.500886082649231\n",
            "0.11365771293640137 data loading time\n",
            "0.11624670028686523 data loading time\n"
          ]
        },
        {
          "output_type": "stream",
          "name": "stderr",
          "text": [
            "\r  6%|▌         | 126/2035 [37:53<9:48:09, 18.49s/it]"
          ]
        },
        {
          "output_type": "stream",
          "name": "stdout",
          "text": [
            "0.13645410537719727 data loading time\n",
            "2.628925085067749 Discriminators training\n",
            "1.1265747547149658 backprop discriminator\n",
            "0.25501513481140137 adversarial loss\n",
            "2.1500320434570312 cycle loss\n",
            "10.522435665130615 generator backprop\n",
            "Generator Loss: 3.26301646232605 Discriminator Loss: 0.4889757037162781\n",
            "0.14146661758422852 data loading time\n",
            "0.13001060485839844 data loading time\n"
          ]
        },
        {
          "output_type": "stream",
          "name": "stderr",
          "text": [
            "\r  6%|▌         | 127/2035 [38:13<10:03:19, 18.97s/it]"
          ]
        },
        {
          "output_type": "stream",
          "name": "stdout",
          "text": [
            "0.19986605644226074 data loading time\n",
            "4.325139045715332 Discriminators training\n",
            "1.1390724182128906 backprop discriminator\n",
            "0.2647075653076172 adversarial loss\n",
            "2.4084415435791016 cycle loss\n",
            "9.770809888839722 generator backprop\n",
            "Generator Loss: 4.096974849700928 Discriminator Loss: 0.5151898860931396\n",
            "0.11798548698425293 data loading time\n",
            "0.11686992645263672 data loading time\n"
          ]
        },
        {
          "output_type": "stream",
          "name": "stderr",
          "text": [
            "\r  6%|▋         | 128/2035 [38:33<10:18:15, 19.45s/it]"
          ]
        },
        {
          "output_type": "stream",
          "name": "stdout",
          "text": [
            "0.13023042678833008 data loading time\n",
            "2.640526533126831 Discriminators training\n",
            "1.136019229888916 backprop discriminator\n",
            "0.25385403633117676 adversarial loss\n",
            "2.146318197250366 cycle loss\n",
            "9.662229061126709 generator backprop\n",
            "Generator Loss: 5.594266891479492 Discriminator Loss: 0.4746246039867401\n",
            "0.11912274360656738 data loading time\n",
            "0.11686468124389648 data loading time\n"
          ]
        },
        {
          "output_type": "stream",
          "name": "stderr",
          "text": [
            "\r  6%|▋         | 129/2035 [38:52<10:08:14, 19.15s/it]"
          ]
        },
        {
          "output_type": "stream",
          "name": "stdout",
          "text": [
            "0.13309812545776367 data loading time\n",
            "2.6110966205596924 Discriminators training\n",
            "1.1152713298797607 backprop discriminator\n",
            "0.24995851516723633 adversarial loss\n",
            "2.1354589462280273 cycle loss\n",
            "9.761684656143188 generator backprop\n",
            "Generator Loss: 3.566741466522217 Discriminator Loss: 0.4716586470603943\n",
            "0.11501622200012207 data loading time\n",
            "0.1174612045288086 data loading time\n"
          ]
        },
        {
          "output_type": "stream",
          "name": "stderr",
          "text": [
            "\r  6%|▋         | 130/2035 [39:10<10:01:13, 18.94s/it]"
          ]
        },
        {
          "output_type": "stream",
          "name": "stdout",
          "text": [
            "0.12755727767944336 data loading time\n",
            "2.6393983364105225 Discriminators training\n",
            "1.1240952014923096 backprop discriminator\n",
            "0.24931550025939941 adversarial loss\n",
            "2.1557326316833496 cycle loss\n",
            "9.686192512512207 generator backprop\n",
            "Generator Loss: 4.888413429260254 Discriminator Loss: 0.49597716331481934\n",
            "0.11405587196350098 data loading time\n",
            "0.11458659172058105 data loading time\n"
          ]
        },
        {
          "output_type": "stream",
          "name": "stderr",
          "text": [
            "\r  6%|▋         | 131/2035 [39:29<9:55:50, 18.78s/it] "
          ]
        },
        {
          "output_type": "stream",
          "name": "stdout",
          "text": [
            "0.14218354225158691 data loading time\n",
            "2.6107420921325684 Discriminators training\n",
            "1.1150574684143066 backprop discriminator\n",
            "0.25726842880249023 adversarial loss\n",
            "2.114910364151001 cycle loss\n",
            "9.61122751235962 generator backprop\n",
            "Generator Loss: 3.075951099395752 Discriminator Loss: 0.4854770302772522\n",
            "0.11515140533447266 data loading time\n",
            "0.11551594734191895 data loading time\n"
          ]
        },
        {
          "output_type": "stream",
          "name": "stderr",
          "text": [
            "\r  6%|▋         | 132/2035 [39:47<9:50:40, 18.62s/it]"
          ]
        },
        {
          "output_type": "stream",
          "name": "stdout",
          "text": [
            "0.13819003105163574 data loading time\n",
            "2.592336416244507 Discriminators training\n",
            "1.1146008968353271 backprop discriminator\n",
            "0.25241923332214355 adversarial loss\n",
            "2.1048741340637207 cycle loss\n",
            "9.64500379562378 generator backprop\n",
            "Generator Loss: 4.494568824768066 Discriminator Loss: 0.5226825475692749\n",
            "0.1192328929901123 data loading time\n",
            "0.11377835273742676 data loading time\n"
          ]
        },
        {
          "output_type": "stream",
          "name": "stderr",
          "text": [
            "\r  7%|▋         | 133/2035 [40:05<9:46:59, 18.52s/it]"
          ]
        },
        {
          "output_type": "stream",
          "name": "stdout",
          "text": [
            "0.1347966194152832 data loading time\n",
            "2.6002399921417236 Discriminators training\n",
            "1.1051933765411377 backprop discriminator\n",
            "0.2484900951385498 adversarial loss\n",
            "2.1311094760894775 cycle loss\n",
            "9.529235363006592 generator backprop\n",
            "Generator Loss: 3.478363037109375 Discriminator Loss: 0.4932370185852051\n",
            "0.11260652542114258 data loading time\n",
            "0.11223483085632324 data loading time\n"
          ]
        },
        {
          "output_type": "stream",
          "name": "stderr",
          "text": [
            "\r  7%|▋         | 134/2035 [40:23<9:43:01, 18.40s/it]"
          ]
        },
        {
          "output_type": "stream",
          "name": "stdout",
          "text": [
            "0.12582850456237793 data loading time\n",
            "2.596790075302124 Discriminators training\n",
            "1.092456340789795 backprop discriminator\n",
            "0.24403595924377441 adversarial loss\n",
            "2.1023473739624023 cycle loss\n",
            "9.47891354560852 generator backprop\n",
            "Generator Loss: 4.380709648132324 Discriminator Loss: 0.5009048581123352\n",
            "0.11338686943054199 data loading time\n",
            "0.11511039733886719 data loading time\n"
          ]
        },
        {
          "output_type": "stream",
          "name": "stderr",
          "text": [
            "\r  7%|▋         | 135/2035 [40:41<9:39:04, 18.29s/it]"
          ]
        },
        {
          "output_type": "stream",
          "name": "stdout",
          "text": [
            "0.12474322319030762 data loading time\n",
            "2.5735223293304443 Discriminators training\n",
            "1.0869977474212646 backprop discriminator\n",
            "0.24427318572998047 adversarial loss\n",
            "2.1096818447113037 cycle loss\n",
            "9.470646619796753 generator backprop\n",
            "Generator Loss: 5.086142539978027 Discriminator Loss: 0.4653475880622864\n",
            "0.11580014228820801 data loading time\n",
            "0.11175751686096191 data loading time\n"
          ]
        },
        {
          "output_type": "stream",
          "name": "stderr",
          "text": [
            "\r  7%|▋         | 136/2035 [40:59<9:35:40, 18.19s/it]"
          ]
        },
        {
          "output_type": "stream",
          "name": "stdout",
          "text": [
            "0.1251220703125 data loading time\n",
            "2.572902202606201 Discriminators training\n",
            "1.0959036350250244 backprop discriminator\n",
            "0.24991798400878906 adversarial loss\n",
            "2.100651979446411 cycle loss\n",
            "9.452919721603394 generator backprop\n",
            "Generator Loss: 2.64735746383667 Discriminator Loss: 0.48937177658081055\n",
            "0.11461782455444336 data loading time\n",
            "0.11502408981323242 data loading time\n"
          ]
        },
        {
          "output_type": "stream",
          "name": "stderr",
          "text": [
            "\r  7%|▋         | 137/2035 [41:17<9:33:31, 18.13s/it]"
          ]
        },
        {
          "output_type": "stream",
          "name": "stdout",
          "text": [
            "0.12677454948425293 data loading time\n",
            "2.5573465824127197 Discriminators training\n",
            "1.0915544033050537 backprop discriminator\n",
            "0.24323582649230957 adversarial loss\n",
            "2.109468936920166 cycle loss\n",
            "9.480624914169312 generator backprop\n",
            "Generator Loss: 3.201488494873047 Discriminator Loss: 0.4916262924671173\n",
            "0.11217522621154785 data loading time\n",
            "0.11324834823608398 data loading time\n"
          ]
        },
        {
          "output_type": "stream",
          "name": "stderr",
          "text": [
            "\r  7%|▋         | 138/2035 [41:35<9:32:00, 18.09s/it]"
          ]
        },
        {
          "output_type": "stream",
          "name": "stdout",
          "text": [
            "0.12220525741577148 data loading time\n",
            "2.562793493270874 Discriminators training\n",
            "1.0775442123413086 backprop discriminator\n",
            "0.25354719161987305 adversarial loss\n",
            "2.108135461807251 cycle loss\n",
            "9.40435528755188 generator backprop\n",
            "Generator Loss: 3.6533403396606445 Discriminator Loss: 0.44996893405914307\n",
            "0.11594986915588379 data loading time\n",
            "0.11297011375427246 data loading time\n"
          ]
        },
        {
          "output_type": "stream",
          "name": "stderr",
          "text": [
            "\r  7%|▋         | 139/2035 [41:53<9:29:56, 18.04s/it]"
          ]
        },
        {
          "output_type": "stream",
          "name": "stdout",
          "text": [
            "0.13381099700927734 data loading time\n",
            "2.5576605796813965 Discriminators training\n",
            "1.0728890895843506 backprop discriminator\n",
            "0.24820351600646973 adversarial loss\n",
            "2.081066131591797 cycle loss\n",
            "9.410421371459961 generator backprop\n",
            "Generator Loss: 3.788702964782715 Discriminator Loss: 0.46425798535346985\n",
            "0.11336326599121094 data loading time\n",
            "0.11276578903198242 data loading time\n"
          ]
        },
        {
          "output_type": "stream",
          "name": "stderr",
          "text": [
            "\r  7%|▋         | 140/2035 [42:11<9:28:03, 17.99s/it]"
          ]
        },
        {
          "output_type": "stream",
          "name": "stdout",
          "text": [
            "0.12722444534301758 data loading time\n",
            "2.5579118728637695 Discriminators training\n",
            "1.0741875171661377 backprop discriminator\n",
            "0.24569392204284668 adversarial loss\n",
            "2.117368221282959 cycle loss\n",
            "9.421546936035156 generator backprop\n",
            "Generator Loss: 4.048038482666016 Discriminator Loss: 0.4892646074295044\n",
            "0.11221861839294434 data loading time\n",
            "0.11633896827697754 data loading time\n"
          ]
        },
        {
          "output_type": "stream",
          "name": "stderr",
          "text": [
            "\r  7%|▋         | 141/2035 [42:29<9:27:00, 17.96s/it]"
          ]
        },
        {
          "output_type": "stream",
          "name": "stdout",
          "text": [
            "0.13524842262268066 data loading time\n",
            "2.5738961696624756 Discriminators training\n",
            "1.0878007411956787 backprop discriminator\n",
            "0.23766875267028809 adversarial loss\n",
            "2.104100227355957 cycle loss\n",
            "9.356228113174438 generator backprop\n",
            "Generator Loss: 4.090659141540527 Discriminator Loss: 0.4369542598724365\n",
            "0.1114354133605957 data loading time\n",
            "0.11350703239440918 data loading time\n"
          ]
        },
        {
          "output_type": "stream",
          "name": "stderr",
          "text": [
            "\r  7%|▋         | 142/2035 [42:47<9:25:55, 17.94s/it]"
          ]
        },
        {
          "output_type": "stream",
          "name": "stdout",
          "text": [
            "0.1365518569946289 data loading time\n",
            "2.588704824447632 Discriminators training\n",
            "1.0825021266937256 backprop discriminator\n",
            "0.2488398551940918 adversarial loss\n",
            "2.1032187938690186 cycle loss\n",
            "9.307258605957031 generator backprop\n",
            "Generator Loss: 3.5613603591918945 Discriminator Loss: 0.39034730195999146\n",
            "0.11141633987426758 data loading time\n",
            "0.1116337776184082 data loading time\n"
          ]
        },
        {
          "output_type": "stream",
          "name": "stderr",
          "text": [
            "\r  7%|▋         | 143/2035 [43:05<9:24:37, 17.91s/it]"
          ]
        },
        {
          "output_type": "stream",
          "name": "stdout",
          "text": [
            "0.12660741806030273 data loading time\n",
            "2.533644676208496 Discriminators training\n",
            "1.0558066368103027 backprop discriminator\n",
            "0.2382817268371582 adversarial loss\n",
            "2.0970356464385986 cycle loss\n",
            "9.379540920257568 generator backprop\n",
            "Generator Loss: 3.6720199584960938 Discriminator Loss: 0.48628878593444824\n",
            "0.11561346054077148 data loading time\n",
            "0.11242318153381348 data loading time\n"
          ]
        },
        {
          "output_type": "stream",
          "name": "stderr",
          "text": [
            "\r  7%|▋         | 144/2035 [43:22<9:23:25, 17.88s/it]"
          ]
        },
        {
          "output_type": "stream",
          "name": "stdout",
          "text": [
            "0.1275336742401123 data loading time\n",
            "2.5539441108703613 Discriminators training\n",
            "1.079249382019043 backprop discriminator\n",
            "0.24434638023376465 adversarial loss\n",
            "2.097480297088623 cycle loss\n",
            "9.422112703323364 generator backprop\n",
            "Generator Loss: 6.13648796081543 Discriminator Loss: 0.558453381061554\n",
            "0.11319875717163086 data loading time\n",
            "0.11302566528320312 data loading time\n"
          ]
        },
        {
          "output_type": "stream",
          "name": "stderr",
          "text": [
            "\r  7%|▋         | 145/2035 [43:40<9:23:07, 17.88s/it]"
          ]
        },
        {
          "output_type": "stream",
          "name": "stdout",
          "text": [
            "0.13665485382080078 data loading time\n",
            "2.553049325942993 Discriminators training\n",
            "1.0798618793487549 backprop discriminator\n",
            "0.2438364028930664 adversarial loss\n",
            "2.118723154067993 cycle loss\n",
            "9.316656112670898 generator backprop\n",
            "Generator Loss: 3.8285269737243652 Discriminator Loss: 0.5686668157577515\n",
            "0.11162614822387695 data loading time\n",
            "0.11387014389038086 data loading time\n"
          ]
        },
        {
          "output_type": "stream",
          "name": "stderr",
          "text": [
            "\r  7%|▋         | 146/2035 [43:58<9:22:07, 17.85s/it]"
          ]
        },
        {
          "output_type": "stream",
          "name": "stdout",
          "text": [
            "0.1303424835205078 data loading time\n",
            "2.539594888687134 Discriminators training\n",
            "1.0765342712402344 backprop discriminator\n",
            "0.2414102554321289 adversarial loss\n",
            "2.103156566619873 cycle loss\n",
            "9.339523077011108 generator backprop\n",
            "Generator Loss: 4.679210662841797 Discriminator Loss: 0.5168580412864685\n",
            "0.11207103729248047 data loading time\n",
            "0.1147315502166748 data loading time\n"
          ]
        },
        {
          "output_type": "stream",
          "name": "stderr",
          "text": [
            "\r  7%|▋         | 147/2035 [44:16<9:21:25, 17.84s/it]"
          ]
        },
        {
          "output_type": "stream",
          "name": "stdout",
          "text": [
            "0.13016486167907715 data loading time\n",
            "2.540010452270508 Discriminators training\n",
            "1.0606756210327148 backprop discriminator\n",
            "0.24286103248596191 adversarial loss\n",
            "2.0964972972869873 cycle loss\n",
            "9.319519758224487 generator backprop\n",
            "Generator Loss: 6.427783966064453 Discriminator Loss: 0.5830919742584229\n",
            "0.11286497116088867 data loading time\n",
            "0.11337614059448242 data loading time\n"
          ]
        },
        {
          "output_type": "stream",
          "name": "stderr",
          "text": [
            "\r  7%|▋         | 148/2035 [44:34<9:20:30, 17.82s/it]"
          ]
        },
        {
          "output_type": "stream",
          "name": "stdout",
          "text": [
            "0.1270749568939209 data loading time\n",
            "2.5550312995910645 Discriminators training\n",
            "1.065659999847412 backprop discriminator\n",
            "0.24357104301452637 adversarial loss\n",
            "2.0935182571411133 cycle loss\n",
            "9.428042650222778 generator backprop\n",
            "Generator Loss: 4.093137264251709 Discriminator Loss: 0.5136088132858276\n",
            "0.1118171215057373 data loading time\n",
            "0.11674308776855469 data loading time\n"
          ]
        },
        {
          "output_type": "stream",
          "name": "stderr",
          "text": [
            "\r  7%|▋         | 149/2035 [44:52<9:20:50, 17.84s/it]"
          ]
        },
        {
          "output_type": "stream",
          "name": "stdout",
          "text": [
            "0.1263878345489502 data loading time\n",
            "2.5820460319519043 Discriminators training\n",
            "1.0867271423339844 backprop discriminator\n",
            "0.25058603286743164 adversarial loss\n",
            "2.0765786170959473 cycle loss\n",
            "9.489042520523071 generator backprop\n",
            "Generator Loss: 4.07410192489624 Discriminator Loss: 0.4821924865245819\n",
            "0.111724853515625 data loading time\n",
            "0.11267805099487305 data loading time\n"
          ]
        },
        {
          "output_type": "stream",
          "name": "stderr",
          "text": [
            "\r  7%|▋         | 150/2035 [45:10<9:21:51, 17.88s/it]"
          ]
        },
        {
          "output_type": "stream",
          "name": "stdout",
          "text": [
            "0.1245725154876709 data loading time\n",
            "2.5535640716552734 Discriminators training\n",
            "1.07501220703125 backprop discriminator\n",
            "0.23612332344055176 adversarial loss\n",
            "2.1187171936035156 cycle loss\n",
            "9.351510286331177 generator backprop\n",
            "Generator Loss: 3.49847149848938 Discriminator Loss: 0.5334725379943848\n",
            "0.11200904846191406 data loading time\n",
            "0.11189508438110352 data loading time\n"
          ]
        },
        {
          "output_type": "stream",
          "name": "stderr",
          "text": [
            "\r  7%|▋         | 151/2035 [45:27<9:20:54, 17.86s/it]"
          ]
        },
        {
          "output_type": "stream",
          "name": "stdout",
          "text": [
            "0.1243901252746582 data loading time\n",
            "2.5419516563415527 Discriminators training\n",
            "1.0740559101104736 backprop discriminator\n",
            "0.24288725852966309 adversarial loss\n",
            "2.108956813812256 cycle loss\n",
            "9.377469301223755 generator backprop\n",
            "Generator Loss: 3.140315532684326 Discriminator Loss: 0.5196274518966675\n",
            "0.11221575736999512 data loading time\n",
            "0.11443662643432617 data loading time\n"
          ]
        },
        {
          "output_type": "stream",
          "name": "stderr",
          "text": [
            "\r  7%|▋         | 152/2035 [45:45<9:20:20, 17.85s/it]"
          ]
        },
        {
          "output_type": "stream",
          "name": "stdout",
          "text": [
            "0.13834214210510254 data loading time\n",
            "2.572565793991089 Discriminators training\n",
            "1.0804617404937744 backprop discriminator\n",
            "0.24299192428588867 adversarial loss\n",
            "2.101698160171509 cycle loss\n",
            "9.450642108917236 generator backprop\n",
            "Generator Loss: 4.011983871459961 Discriminator Loss: 0.49011051654815674\n",
            "0.11241531372070312 data loading time\n",
            "0.11757898330688477 data loading time\n"
          ]
        },
        {
          "output_type": "stream",
          "name": "stderr",
          "text": [
            "\r  8%|▊         | 153/2035 [46:03<9:21:06, 17.89s/it]"
          ]
        },
        {
          "output_type": "stream",
          "name": "stdout",
          "text": [
            "0.13147449493408203 data loading time\n",
            "2.5411477088928223 Discriminators training\n",
            "1.0724024772644043 backprop discriminator\n",
            "0.24181818962097168 adversarial loss\n",
            "2.105034589767456 cycle loss\n",
            "9.537940740585327 generator backprop\n",
            "Generator Loss: 2.594902515411377 Discriminator Loss: 0.5214873552322388\n",
            "0.16930580139160156 data loading time\n",
            "0.11224198341369629 data loading time\n"
          ]
        },
        {
          "output_type": "stream",
          "name": "stderr",
          "text": [
            "\r  8%|▊         | 154/2035 [46:21<9:22:28, 17.94s/it]"
          ]
        },
        {
          "output_type": "stream",
          "name": "stdout",
          "text": [
            "0.12429356575012207 data loading time\n",
            "2.5521838665008545 Discriminators training\n",
            "1.0786006450653076 backprop discriminator\n",
            "0.24481844902038574 adversarial loss\n",
            "2.0887510776519775 cycle loss\n",
            "9.239740133285522 generator backprop\n",
            "Generator Loss: 4.32322883605957 Discriminator Loss: 0.45776811242103577\n",
            "0.11236977577209473 data loading time\n",
            "0.11180353164672852 data loading time\n"
          ]
        },
        {
          "output_type": "stream",
          "name": "stderr",
          "text": [
            "\r  8%|▊         | 155/2035 [46:39<9:19:59, 17.87s/it]"
          ]
        },
        {
          "output_type": "stream",
          "name": "stdout",
          "text": [
            "0.12236166000366211 data loading time\n",
            "2.5463249683380127 Discriminators training\n",
            "1.0610942840576172 backprop discriminator\n",
            "0.2413482666015625 adversarial loss\n",
            "2.085017681121826 cycle loss\n",
            "9.373468399047852 generator backprop\n",
            "Generator Loss: 3.834684371948242 Discriminator Loss: 0.48468899726867676\n",
            "0.11125063896179199 data loading time\n",
            "0.11222147941589355 data loading time\n"
          ]
        },
        {
          "output_type": "stream",
          "name": "stderr",
          "text": [
            "\r  8%|▊         | 156/2035 [46:57<9:18:56, 17.85s/it]"
          ]
        },
        {
          "output_type": "stream",
          "name": "stdout",
          "text": [
            "0.12352490425109863 data loading time\n",
            "2.553896188735962 Discriminators training\n",
            "1.0790460109710693 backprop discriminator\n",
            "0.2417774200439453 adversarial loss\n",
            "2.0775327682495117 cycle loss\n",
            "9.330848932266235 generator backprop\n",
            "Generator Loss: 3.2472872734069824 Discriminator Loss: 0.5210206508636475\n",
            "0.11139869689941406 data loading time\n",
            "0.11180400848388672 data loading time\n"
          ]
        },
        {
          "output_type": "stream",
          "name": "stderr",
          "text": [
            "\r  8%|▊         | 157/2035 [47:15<9:18:01, 17.83s/it]"
          ]
        },
        {
          "output_type": "stream",
          "name": "stdout",
          "text": [
            "0.1261272430419922 data loading time\n",
            "2.555671215057373 Discriminators training\n",
            "1.0797550678253174 backprop discriminator\n",
            "0.2424168586730957 adversarial loss\n",
            "2.100126266479492 cycle loss\n",
            "9.328065872192383 generator backprop\n",
            "Generator Loss: 3.8088066577911377 Discriminator Loss: 0.5076566338539124\n",
            "0.11274147033691406 data loading time\n",
            "0.11243104934692383 data loading time\n"
          ]
        },
        {
          "output_type": "stream",
          "name": "stderr",
          "text": [
            "\r  8%|▊         | 158/2035 [47:32<9:17:22, 17.82s/it]"
          ]
        },
        {
          "output_type": "stream",
          "name": "stdout",
          "text": [
            "0.12254834175109863 data loading time\n",
            "2.5666451454162598 Discriminators training\n",
            "1.083113431930542 backprop discriminator\n",
            "0.23845529556274414 adversarial loss\n",
            "2.0868959426879883 cycle loss\n",
            "10.019460916519165 generator backprop\n",
            "Generator Loss: 2.7659244537353516 Discriminator Loss: 0.48467156291007996\n",
            "0.12906599044799805 data loading time\n",
            "0.11355280876159668 data loading time\n"
          ]
        },
        {
          "output_type": "stream",
          "name": "stderr",
          "text": [
            "\r  8%|▊         | 159/2035 [47:51<9:24:31, 18.06s/it]"
          ]
        },
        {
          "output_type": "stream",
          "name": "stdout",
          "text": [
            "0.12491178512573242 data loading time\n",
            "2.6154932975769043 Discriminators training\n",
            "1.0824451446533203 backprop discriminator\n",
            "0.23660755157470703 adversarial loss\n",
            "2.152769088745117 cycle loss\n",
            "9.305557489395142 generator backprop\n",
            "Generator Loss: 3.691309690475464 Discriminator Loss: 0.48193609714508057\n",
            "0.11450409889221191 data loading time\n",
            "0.11169648170471191 data loading time\n"
          ]
        },
        {
          "output_type": "stream",
          "name": "stderr",
          "text": [
            "\r  8%|▊         | 160/2035 [48:09<9:22:34, 18.00s/it]"
          ]
        },
        {
          "output_type": "stream",
          "name": "stdout",
          "text": [
            "0.1244046688079834 data loading time\n",
            "2.5422775745391846 Discriminators training\n",
            "1.065516710281372 backprop discriminator\n",
            "0.25054430961608887 adversarial loss\n",
            "2.0794243812561035 cycle loss\n",
            "9.242171287536621 generator backprop\n",
            "Generator Loss: 3.5772712230682373 Discriminator Loss: 0.44473928213119507\n",
            "0.11084628105163574 data loading time\n",
            "0.11145710945129395 data loading time\n"
          ]
        },
        {
          "output_type": "stream",
          "name": "stderr",
          "text": [
            "\r  8%|▊         | 161/2035 [48:27<9:19:02, 17.90s/it]"
          ]
        },
        {
          "output_type": "stream",
          "name": "stdout",
          "text": [
            "0.11977458000183105 data loading time\n",
            "2.520162343978882 Discriminators training\n",
            "1.058607578277588 backprop discriminator\n",
            "0.24297070503234863 adversarial loss\n",
            "2.0711917877197266 cycle loss\n",
            "9.244139432907104 generator backprop\n",
            "Generator Loss: 4.408896446228027 Discriminator Loss: 0.4689033031463623\n",
            "0.1113739013671875 data loading time\n",
            "0.11340212821960449 data loading time\n"
          ]
        },
        {
          "output_type": "stream",
          "name": "stderr",
          "text": [
            "\r  8%|▊         | 162/2035 [48:44<9:15:55, 17.81s/it]"
          ]
        },
        {
          "output_type": "stream",
          "name": "stdout",
          "text": [
            "0.12470364570617676 data loading time\n",
            "2.521055221557617 Discriminators training\n",
            "1.059011697769165 backprop discriminator\n",
            "0.23772263526916504 adversarial loss\n",
            "2.0581369400024414 cycle loss\n",
            "9.249958515167236 generator backprop\n",
            "Generator Loss: 4.557507514953613 Discriminator Loss: 0.48865199089050293\n",
            "0.1113741397857666 data loading time\n",
            "0.1118319034576416 data loading time\n"
          ]
        },
        {
          "output_type": "stream",
          "name": "stderr",
          "text": [
            "\r  8%|▊         | 163/2035 [49:02<9:13:39, 17.75s/it]"
          ]
        },
        {
          "output_type": "stream",
          "name": "stdout",
          "text": [
            "0.1248631477355957 data loading time\n",
            "2.545767068862915 Discriminators training\n",
            "1.0566742420196533 backprop discriminator\n",
            "0.24258208274841309 adversarial loss\n",
            "2.0698282718658447 cycle loss\n",
            "9.248201608657837 generator backprop\n",
            "Generator Loss: 3.364870071411133 Discriminator Loss: 0.458610475063324\n",
            "0.11185431480407715 data loading time\n",
            "0.11171221733093262 data loading time\n"
          ]
        },
        {
          "output_type": "stream",
          "name": "stderr",
          "text": [
            "\r  8%|▊         | 164/2035 [49:19<9:12:14, 17.71s/it]"
          ]
        },
        {
          "output_type": "stream",
          "name": "stdout",
          "text": [
            "0.12524175643920898 data loading time\n",
            "2.5282795429229736 Discriminators training\n",
            "1.060274600982666 backprop discriminator\n",
            "0.23828387260437012 adversarial loss\n",
            "2.074174642562866 cycle loss\n",
            "9.314594745635986 generator backprop\n",
            "Generator Loss: 3.061260223388672 Discriminator Loss: 0.469696581363678\n",
            "0.11144375801086426 data loading time\n",
            "0.11769342422485352 data loading time\n"
          ]
        },
        {
          "output_type": "stream",
          "name": "stderr",
          "text": [
            "\r  8%|▊         | 165/2035 [49:37<9:11:47, 17.70s/it]"
          ]
        },
        {
          "output_type": "stream",
          "name": "stdout",
          "text": [
            "0.1214909553527832 data loading time\n",
            "2.53898549079895 Discriminators training\n",
            "1.0762615203857422 backprop discriminator\n",
            "0.24729323387145996 adversarial loss\n",
            "2.0994338989257812 cycle loss\n",
            "9.435077428817749 generator backprop\n",
            "Generator Loss: 4.09660530090332 Discriminator Loss: 0.49217963218688965\n",
            "0.11165428161621094 data loading time\n",
            "0.11261367797851562 data loading time\n"
          ]
        },
        {
          "output_type": "stream",
          "name": "stderr",
          "text": [
            "\r  8%|▊         | 166/2035 [49:55<9:12:59, 17.75s/it]"
          ]
        },
        {
          "output_type": "stream",
          "name": "stdout",
          "text": [
            "0.13559246063232422 data loading time\n",
            "2.545121192932129 Discriminators training\n",
            "1.0753452777862549 backprop discriminator\n",
            "0.24029231071472168 adversarial loss\n",
            "2.089247226715088 cycle loss\n",
            "9.421273469924927 generator backprop\n",
            "Generator Loss: 3.3480305671691895 Discriminator Loss: 0.506747305393219\n",
            "0.1118464469909668 data loading time\n",
            "0.11301493644714355 data loading time\n"
          ]
        },
        {
          "output_type": "stream",
          "name": "stderr",
          "text": [
            "\r  8%|▊         | 167/2035 [50:13<9:13:45, 17.79s/it]"
          ]
        },
        {
          "output_type": "stream",
          "name": "stdout",
          "text": [
            "0.12568283081054688 data loading time\n",
            "2.543884754180908 Discriminators training\n",
            "1.0661625862121582 backprop discriminator\n",
            "0.24434924125671387 adversarial loss\n",
            "2.070146083831787 cycle loss\n",
            "9.229671001434326 generator backprop\n",
            "Generator Loss: 4.901882648468018 Discriminator Loss: 0.4877319931983948\n",
            "0.11251497268676758 data loading time\n",
            "0.11166977882385254 data loading time\n"
          ]
        },
        {
          "output_type": "stream",
          "name": "stderr",
          "text": [
            "\r  8%|▊         | 168/2035 [50:30<9:12:03, 17.74s/it]"
          ]
        },
        {
          "output_type": "stream",
          "name": "stdout",
          "text": [
            "0.12686800956726074 data loading time\n",
            "2.5229263305664062 Discriminators training\n",
            "1.0644750595092773 backprop discriminator\n",
            "0.2389063835144043 adversarial loss\n",
            "2.0853934288024902 cycle loss\n",
            "9.252578735351562 generator backprop\n",
            "Generator Loss: 2.9809153079986572 Discriminator Loss: 0.49652138352394104\n",
            "0.11230206489562988 data loading time\n",
            "0.11720085144042969 data loading time\n"
          ]
        },
        {
          "output_type": "stream",
          "name": "stderr",
          "text": [
            "\r  8%|▊         | 169/2035 [50:48<9:10:39, 17.71s/it]"
          ]
        },
        {
          "output_type": "stream",
          "name": "stdout",
          "text": [
            "0.12338566780090332 data loading time\n",
            "2.5241005420684814 Discriminators training\n",
            "1.0583033561706543 backprop discriminator\n",
            "0.2378063201904297 adversarial loss\n",
            "2.0598292350769043 cycle loss\n",
            "9.190877914428711 generator backprop\n",
            "Generator Loss: 3.1929917335510254 Discriminator Loss: 0.4829728603363037\n",
            "0.11380124092102051 data loading time\n",
            "0.12226247787475586 data loading time\n"
          ]
        },
        {
          "output_type": "stream",
          "name": "stderr",
          "text": [
            "\r  8%|▊         | 170/2035 [51:06<9:08:55, 17.66s/it]"
          ]
        },
        {
          "output_type": "stream",
          "name": "stdout",
          "text": [
            "0.12887907028198242 data loading time\n",
            "2.537365198135376 Discriminators training\n",
            "1.056213617324829 backprop discriminator\n",
            "0.23883342742919922 adversarial loss\n",
            "2.071394681930542 cycle loss\n",
            "9.26525092124939 generator backprop\n",
            "Generator Loss: 2.8833000659942627 Discriminator Loss: 0.5026894211769104\n",
            "0.11162757873535156 data loading time\n",
            "0.1119844913482666 data loading time\n"
          ]
        },
        {
          "output_type": "stream",
          "name": "stderr",
          "text": [
            "\r  8%|▊         | 171/2035 [51:23<9:08:23, 17.65s/it]"
          ]
        },
        {
          "output_type": "stream",
          "name": "stdout",
          "text": [
            "0.12615489959716797 data loading time\n",
            "2.5237796306610107 Discriminators training\n",
            "1.0436820983886719 backprop discriminator\n",
            "0.23790621757507324 adversarial loss\n",
            "2.052396059036255 cycle loss\n",
            "9.26554012298584 generator backprop\n",
            "Generator Loss: 3.602074146270752 Discriminator Loss: 0.4667300581932068\n",
            "0.11205720901489258 data loading time\n",
            "0.11598587036132812 data loading time\n"
          ]
        },
        {
          "output_type": "stream",
          "name": "stderr",
          "text": [
            "\r  8%|▊         | 172/2035 [51:41<9:07:30, 17.63s/it]"
          ]
        },
        {
          "output_type": "stream",
          "name": "stdout",
          "text": [
            "0.12778258323669434 data loading time\n",
            "2.5277764797210693 Discriminators training\n",
            "1.0603892803192139 backprop discriminator\n",
            "0.23505043983459473 adversarial loss\n",
            "2.063779354095459 cycle loss\n",
            "9.242790937423706 generator backprop\n",
            "Generator Loss: 3.0079345703125 Discriminator Loss: 0.5059971809387207\n",
            "0.11104965209960938 data loading time\n",
            "0.11210131645202637 data loading time\n"
          ]
        },
        {
          "output_type": "stream",
          "name": "stderr",
          "text": [
            "\r  9%|▊         | 173/2035 [51:58<9:06:49, 17.62s/it]"
          ]
        },
        {
          "output_type": "stream",
          "name": "stdout",
          "text": [
            "0.12159109115600586 data loading time\n",
            "2.51503849029541 Discriminators training\n",
            "1.049926996231079 backprop discriminator\n",
            "0.23586392402648926 adversarial loss\n",
            "2.0624642372131348 cycle loss\n",
            "9.209642887115479 generator backprop\n",
            "Generator Loss: 3.055926561355591 Discriminator Loss: 0.5181897878646851\n",
            "0.11142206192016602 data loading time\n",
            "0.11195564270019531 data loading time\n"
          ]
        },
        {
          "output_type": "stream",
          "name": "stderr",
          "text": [
            "\r  9%|▊         | 174/2035 [52:16<9:05:41, 17.59s/it]"
          ]
        },
        {
          "output_type": "stream",
          "name": "stdout",
          "text": [
            "0.12345314025878906 data loading time\n",
            "2.5142898559570312 Discriminators training\n",
            "1.053666114807129 backprop discriminator\n",
            "0.2405073642730713 adversarial loss\n",
            "2.063366174697876 cycle loss\n",
            "9.170439720153809 generator backprop\n",
            "Generator Loss: 3.020603656768799 Discriminator Loss: 0.46632975339889526\n",
            "0.11139297485351562 data loading time\n",
            "0.11192154884338379 data loading time\n"
          ]
        },
        {
          "output_type": "stream",
          "name": "stderr",
          "text": [
            "\r  9%|▊         | 175/2035 [52:33<9:04:35, 17.57s/it]"
          ]
        },
        {
          "output_type": "stream",
          "name": "stdout",
          "text": [
            "0.12996625900268555 data loading time\n",
            "2.5172924995422363 Discriminators training\n",
            "1.0443987846374512 backprop discriminator\n",
            "0.2368309497833252 adversarial loss\n",
            "2.0626699924468994 cycle loss\n",
            "9.138519525527954 generator backprop\n",
            "Generator Loss: 5.101785659790039 Discriminator Loss: 0.4438193440437317\n",
            "0.11108565330505371 data loading time\n",
            "0.11440563201904297 data loading time\n"
          ]
        },
        {
          "output_type": "stream",
          "name": "stderr",
          "text": [
            "\r  9%|▊         | 176/2035 [52:51<9:03:08, 17.53s/it]"
          ]
        },
        {
          "output_type": "stream",
          "name": "stdout",
          "text": [
            "0.13194632530212402 data loading time\n",
            "2.5151748657226562 Discriminators training\n",
            "1.0566415786743164 backprop discriminator\n",
            "0.2365705966949463 adversarial loss\n",
            "2.05389666557312 cycle loss\n",
            "9.18944787979126 generator backprop\n",
            "Generator Loss: 2.9282617568969727 Discriminator Loss: 0.48020419478416443\n",
            "0.11228322982788086 data loading time\n",
            "0.11244463920593262 data loading time\n"
          ]
        },
        {
          "output_type": "stream",
          "name": "stderr",
          "text": [
            "\r  9%|▊         | 177/2035 [53:08<9:03:04, 17.54s/it]"
          ]
        },
        {
          "output_type": "stream",
          "name": "stdout",
          "text": [
            "0.12394452095031738 data loading time\n",
            "2.5125973224639893 Discriminators training\n",
            "1.0920634269714355 backprop discriminator\n",
            "0.24495983123779297 adversarial loss\n",
            "2.0699234008789062 cycle loss\n",
            "9.264387369155884 generator backprop\n",
            "Generator Loss: 3.411996364593506 Discriminator Loss: 0.443350613117218\n",
            "0.1115274429321289 data loading time\n",
            "0.11155343055725098 data loading time\n"
          ]
        },
        {
          "output_type": "stream",
          "name": "stderr",
          "text": [
            "\r  9%|▊         | 178/2035 [53:26<9:03:50, 17.57s/it]"
          ]
        },
        {
          "output_type": "stream",
          "name": "stdout",
          "text": [
            "0.1301279067993164 data loading time\n",
            "2.5524075031280518 Discriminators training\n",
            "1.100984811782837 backprop discriminator\n",
            "0.2559816837310791 adversarial loss\n",
            "2.1171534061431885 cycle loss\n",
            "9.56212306022644 generator backprop\n",
            "Generator Loss: 3.5577361583709717 Discriminator Loss: 0.5381108522415161\n",
            "0.11218023300170898 data loading time\n",
            "0.11164617538452148 data loading time\n"
          ]
        },
        {
          "output_type": "stream",
          "name": "stderr",
          "text": [
            "\r  9%|▉         | 179/2035 [53:44<9:08:24, 17.73s/it]"
          ]
        },
        {
          "output_type": "stream",
          "name": "stdout",
          "text": [
            "0.12362432479858398 data loading time\n",
            "2.5505523681640625 Discriminators training\n",
            "1.0917000770568848 backprop discriminator\n",
            "0.24745774269104004 adversarial loss\n",
            "2.0975706577301025 cycle loss\n",
            "9.386169672012329 generator backprop\n",
            "Generator Loss: 2.7135581970214844 Discriminator Loss: 0.4812929034233093\n",
            "0.11327505111694336 data loading time\n",
            "0.11377763748168945 data loading time\n"
          ]
        },
        {
          "output_type": "stream",
          "name": "stderr",
          "text": [
            "\r  9%|▉         | 180/2035 [54:02<9:09:30, 17.77s/it]"
          ]
        },
        {
          "output_type": "stream",
          "name": "stdout",
          "text": [
            "0.1252138614654541 data loading time\n",
            "2.5702853202819824 Discriminators training\n",
            "1.1062812805175781 backprop discriminator\n",
            "0.2452986240386963 adversarial loss\n",
            "2.0988152027130127 cycle loss\n",
            "9.39966607093811 generator backprop\n",
            "Generator Loss: 3.2845048904418945 Discriminator Loss: 0.4754866361618042\n",
            "0.11235833168029785 data loading time\n",
            "0.11422443389892578 data loading time\n"
          ]
        },
        {
          "output_type": "stream",
          "name": "stderr",
          "text": [
            "\r  9%|▉         | 181/2035 [54:20<9:10:47, 17.83s/it]"
          ]
        },
        {
          "output_type": "stream",
          "name": "stdout",
          "text": [
            "0.13289666175842285 data loading time\n",
            "2.571727752685547 Discriminators training\n",
            "1.0938441753387451 backprop discriminator\n",
            "0.24395251274108887 adversarial loss\n",
            "2.093701124191284 cycle loss\n",
            "9.475341796875 generator backprop\n",
            "Generator Loss: 3.918191909790039 Discriminator Loss: 0.45690032839775085\n",
            "0.11288189888000488 data loading time\n",
            "0.11200428009033203 data loading time\n"
          ]
        },
        {
          "output_type": "stream",
          "name": "stderr",
          "text": [
            "\r  9%|▉         | 182/2035 [54:38<9:11:54, 17.87s/it]"
          ]
        },
        {
          "output_type": "stream",
          "name": "stdout",
          "text": [
            "0.1317462921142578 data loading time\n",
            "2.5621755123138428 Discriminators training\n",
            "1.0769803524017334 backprop discriminator\n",
            "0.2430405616760254 adversarial loss\n",
            "2.076794147491455 cycle loss\n",
            "9.315747499465942 generator backprop\n",
            "Generator Loss: 4.311135292053223 Discriminator Loss: 0.5035287141799927\n",
            "0.12157821655273438 data loading time\n",
            "0.11533880233764648 data loading time\n"
          ]
        },
        {
          "output_type": "stream",
          "name": "stderr",
          "text": [
            "\r  9%|▉         | 183/2035 [54:56<9:10:37, 17.84s/it]"
          ]
        },
        {
          "output_type": "stream",
          "name": "stdout",
          "text": [
            "0.12440037727355957 data loading time\n",
            "2.5432229042053223 Discriminators training\n",
            "1.0715856552124023 backprop discriminator\n",
            "0.2501680850982666 adversarial loss\n",
            "2.0678887367248535 cycle loss\n",
            "9.297338962554932 generator backprop\n",
            "Generator Loss: 2.7612714767456055 Discriminator Loss: 0.49793747067451477\n",
            "0.1112511157989502 data loading time\n",
            "0.11252450942993164 data loading time\n"
          ]
        },
        {
          "output_type": "stream",
          "name": "stderr",
          "text": [
            "\r  9%|▉         | 184/2035 [55:13<9:09:07, 17.80s/it]"
          ]
        },
        {
          "output_type": "stream",
          "name": "stdout",
          "text": [
            "0.1304609775543213 data loading time\n",
            "2.5370590686798096 Discriminators training\n",
            "1.079585075378418 backprop discriminator\n",
            "0.24441099166870117 adversarial loss\n",
            "2.070777416229248 cycle loss\n",
            "9.273158311843872 generator backprop\n",
            "Generator Loss: 3.84824275970459 Discriminator Loss: 0.5133813619613647\n",
            "0.11089515686035156 data loading time\n",
            "0.11134791374206543 data loading time\n"
          ]
        },
        {
          "output_type": "stream",
          "name": "stderr",
          "text": [
            "\r  9%|▉         | 185/2035 [55:31<9:07:53, 17.77s/it]"
          ]
        },
        {
          "output_type": "stream",
          "name": "stdout",
          "text": [
            "0.12935662269592285 data loading time\n",
            "2.5382797718048096 Discriminators training\n",
            "1.0719614028930664 backprop discriminator\n",
            "0.24344372749328613 adversarial loss\n",
            "2.0964395999908447 cycle loss\n",
            "9.282231092453003 generator backprop\n",
            "Generator Loss: 3.38771915435791 Discriminator Loss: 0.4377044439315796\n",
            "0.11053466796875 data loading time\n",
            "0.11330103874206543 data loading time\n"
          ]
        },
        {
          "output_type": "stream",
          "name": "stderr",
          "text": [
            "\r  9%|▉         | 186/2035 [55:49<9:07:12, 17.76s/it]"
          ]
        },
        {
          "output_type": "stream",
          "name": "stdout",
          "text": [
            "0.12786149978637695 data loading time\n",
            "2.5477302074432373 Discriminators training\n",
            "1.0713698863983154 backprop discriminator\n",
            "0.24413728713989258 adversarial loss\n",
            "2.0809013843536377 cycle loss\n",
            "9.316856145858765 generator backprop\n",
            "Generator Loss: 2.691096305847168 Discriminator Loss: 0.5003438591957092\n",
            "0.11066389083862305 data loading time\n",
            "0.1115109920501709 data loading time\n"
          ]
        },
        {
          "output_type": "stream",
          "name": "stderr",
          "text": [
            "\r  9%|▉         | 187/2035 [56:07<9:06:57, 17.76s/it]"
          ]
        },
        {
          "output_type": "stream",
          "name": "stdout",
          "text": [
            "0.12497854232788086 data loading time\n",
            "2.5404820442199707 Discriminators training\n",
            "1.0862882137298584 backprop discriminator\n",
            "0.24661922454833984 adversarial loss\n",
            "2.0940170288085938 cycle loss\n",
            "9.372088193893433 generator backprop\n",
            "Generator Loss: 2.679597854614258 Discriminator Loss: 0.48655402660369873\n",
            "0.11148262023925781 data loading time\n",
            "0.11232805252075195 data loading time\n"
          ]
        },
        {
          "output_type": "stream",
          "name": "stderr",
          "text": [
            "\r  9%|▉         | 188/2035 [56:24<9:07:31, 17.79s/it]"
          ]
        },
        {
          "output_type": "stream",
          "name": "stdout",
          "text": [
            "0.12308788299560547 data loading time\n",
            "2.5301175117492676 Discriminators training\n",
            "1.0593922138214111 backprop discriminator\n",
            "0.23677515983581543 adversarial loss\n",
            "2.0686235427856445 cycle loss\n",
            "9.333016157150269 generator backprop\n",
            "Generator Loss: 2.6757607460021973 Discriminator Loss: 0.5244369506835938\n",
            "0.11172819137573242 data loading time\n",
            "0.11080408096313477 data loading time\n"
          ]
        },
        {
          "output_type": "stream",
          "name": "stderr",
          "text": [
            "\r  9%|▉         | 189/2035 [56:42<9:06:22, 17.76s/it]"
          ]
        },
        {
          "output_type": "stream",
          "name": "stdout",
          "text": [
            "0.1318979263305664 data loading time\n",
            "2.5200493335723877 Discriminators training\n",
            "1.0682411193847656 backprop discriminator\n",
            "0.2405414581298828 adversarial loss\n",
            "2.08618426322937 cycle loss\n",
            "9.29158067703247 generator backprop\n",
            "Generator Loss: 3.289696216583252 Discriminator Loss: 0.5484126210212708\n",
            "0.11074280738830566 data loading time\n",
            "0.11107015609741211 data loading time\n"
          ]
        },
        {
          "output_type": "stream",
          "name": "stderr",
          "text": [
            "\r  9%|▉         | 190/2035 [57:00<9:05:21, 17.74s/it]"
          ]
        },
        {
          "output_type": "stream",
          "name": "stdout",
          "text": [
            "0.1184380054473877 data loading time\n",
            "2.521500587463379 Discriminators training\n",
            "1.0732512474060059 backprop discriminator\n",
            "0.2514533996582031 adversarial loss\n",
            "2.081462860107422 cycle loss\n",
            "9.329562664031982 generator backprop\n",
            "Generator Loss: 5.032118797302246 Discriminator Loss: 0.5664475560188293\n",
            "0.11061978340148926 data loading time\n",
            "0.11131525039672852 data loading time\n"
          ]
        },
        {
          "output_type": "stream",
          "name": "stderr",
          "text": [
            "\r  9%|▉         | 191/2035 [57:18<9:05:02, 17.73s/it]"
          ]
        },
        {
          "output_type": "stream",
          "name": "stdout",
          "text": [
            "0.11288738250732422 data loading time\n",
            "2.536346673965454 Discriminators training\n",
            "1.0719928741455078 backprop discriminator\n",
            "0.24484682083129883 adversarial loss\n",
            "2.1028289794921875 cycle loss\n",
            "9.320436239242554 generator backprop\n",
            "Generator Loss: 3.267165422439575 Discriminator Loss: 0.5187106132507324\n",
            "0.1149451732635498 data loading time\n",
            "0.11183357238769531 data loading time\n"
          ]
        },
        {
          "output_type": "stream",
          "name": "stderr",
          "text": [
            "\r  9%|▉         | 192/2035 [57:35<9:05:15, 17.75s/it]"
          ]
        },
        {
          "output_type": "stream",
          "name": "stdout",
          "text": [
            "0.13320040702819824 data loading time\n",
            "2.5262627601623535 Discriminators training\n",
            "1.0647187232971191 backprop discriminator\n",
            "0.24695444107055664 adversarial loss\n",
            "2.0823004245758057 cycle loss\n",
            "9.258088827133179 generator backprop\n",
            "Generator Loss: 3.5387790203094482 Discriminator Loss: 0.4801352620124817\n",
            "0.11120939254760742 data loading time\n",
            "0.11222434043884277 data loading time\n"
          ]
        },
        {
          "output_type": "stream",
          "name": "stderr",
          "text": [
            "\r  9%|▉         | 193/2035 [57:53<9:04:08, 17.72s/it]"
          ]
        },
        {
          "output_type": "stream",
          "name": "stdout",
          "text": [
            "0.1319284439086914 data loading time\n",
            "2.5451765060424805 Discriminators training\n",
            "1.0729191303253174 backprop discriminator\n",
            "0.24097204208374023 adversarial loss\n",
            "2.0726125240325928 cycle loss\n",
            "9.206921100616455 generator backprop\n",
            "Generator Loss: 4.598496437072754 Discriminator Loss: 0.47450342774391174\n",
            "0.11027073860168457 data loading time\n",
            "0.115570068359375 data loading time\n"
          ]
        },
        {
          "output_type": "stream",
          "name": "stderr",
          "text": [
            "\r 10%|▉         | 194/2035 [58:11<9:02:56, 17.69s/it]"
          ]
        },
        {
          "output_type": "stream",
          "name": "stdout",
          "text": [
            "0.12934184074401855 data loading time\n",
            "2.5290491580963135 Discriminators training\n",
            "1.0656476020812988 backprop discriminator\n",
            "0.2481670379638672 adversarial loss\n",
            "2.0671474933624268 cycle loss\n",
            "9.22731614112854 generator backprop\n",
            "Generator Loss: 3.0931236743927 Discriminator Loss: 0.4690372049808502\n",
            "0.11034488677978516 data loading time\n",
            "0.1115102767944336 data loading time\n"
          ]
        },
        {
          "output_type": "stream",
          "name": "stderr",
          "text": [
            "\r 10%|▉         | 195/2035 [58:28<9:01:52, 17.67s/it]"
          ]
        },
        {
          "output_type": "stream",
          "name": "stdout",
          "text": [
            "0.12720751762390137 data loading time\n",
            "2.5355031490325928 Discriminators training\n",
            "1.0618102550506592 backprop discriminator\n",
            "0.2423543930053711 adversarial loss\n",
            "2.072051763534546 cycle loss\n",
            "9.182069301605225 generator backprop\n",
            "Generator Loss: 3.6517038345336914 Discriminator Loss: 0.5061383247375488\n",
            "0.11055588722229004 data loading time\n",
            "0.11231422424316406 data loading time\n"
          ]
        },
        {
          "output_type": "stream",
          "name": "stderr",
          "text": [
            "\r 10%|▉         | 196/2035 [58:46<9:00:41, 17.64s/it]"
          ]
        },
        {
          "output_type": "stream",
          "name": "stdout",
          "text": [
            "0.1261889934539795 data loading time\n",
            "2.5338714122772217 Discriminators training\n",
            "1.0673794746398926 backprop discriminator\n",
            "0.2467641830444336 adversarial loss\n",
            "2.0848426818847656 cycle loss\n",
            "9.22881269454956 generator backprop\n",
            "Generator Loss: 4.154201984405518 Discriminator Loss: 0.4738730788230896\n",
            "0.11091184616088867 data loading time\n",
            "0.1153252124786377 data loading time\n"
          ]
        },
        {
          "output_type": "stream",
          "name": "stderr",
          "text": [
            "\r 10%|▉         | 197/2035 [59:03<9:00:17, 17.64s/it]"
          ]
        },
        {
          "output_type": "stream",
          "name": "stdout",
          "text": [
            "0.11599922180175781 data loading time\n",
            "2.5386242866516113 Discriminators training\n",
            "1.053978443145752 backprop discriminator\n",
            "0.24817466735839844 adversarial loss\n",
            "2.064669132232666 cycle loss\n",
            "9.314083814620972 generator backprop\n",
            "Generator Loss: 3.6874868869781494 Discriminator Loss: 0.47327935695648193\n",
            "0.11396288871765137 data loading time\n",
            "0.11164212226867676 data loading time\n"
          ]
        },
        {
          "output_type": "stream",
          "name": "stderr",
          "text": [
            "\r 10%|▉         | 198/2035 [59:21<9:00:39, 17.66s/it]"
          ]
        },
        {
          "output_type": "stream",
          "name": "stdout",
          "text": [
            "0.12408566474914551 data loading time\n",
            "2.545069694519043 Discriminators training\n",
            "1.0703825950622559 backprop discriminator\n",
            "0.24734210968017578 adversarial loss\n",
            "2.078413486480713 cycle loss\n",
            "9.359515190124512 generator backprop\n",
            "Generator Loss: 4.799063682556152 Discriminator Loss: 0.44621795415878296\n",
            "0.11252284049987793 data loading time\n",
            "0.11564135551452637 data loading time\n"
          ]
        },
        {
          "output_type": "stream",
          "name": "stderr",
          "text": [
            "\r 10%|▉         | 199/2035 [59:39<9:01:34, 17.70s/it]"
          ]
        },
        {
          "output_type": "stream",
          "name": "stdout",
          "text": [
            "0.1235814094543457 data loading time\n",
            "2.541881561279297 Discriminators training\n",
            "1.0749995708465576 backprop discriminator\n",
            "0.2473142147064209 adversarial loss\n",
            "2.088148355484009 cycle loss\n",
            "9.332792282104492 generator backprop\n",
            "Generator Loss: 4.4314680099487305 Discriminator Loss: 0.4576936960220337\n",
            "0.11139702796936035 data loading time\n",
            "0.1143040657043457 data loading time\n"
          ]
        },
        {
          "output_type": "stream",
          "name": "stderr",
          "text": [
            "\r 10%|▉         | 200/2035 [59:57<9:01:56, 17.72s/it]"
          ]
        },
        {
          "output_type": "stream",
          "name": "stdout",
          "text": [
            "0.11911606788635254 data loading time\n",
            "2.5417699813842773 Discriminators training\n",
            "1.074922800064087 backprop discriminator\n",
            "0.24529242515563965 adversarial loss\n",
            "2.0748069286346436 cycle loss\n",
            "9.349169492721558 generator backprop\n",
            "Generator Loss: 3.4432835578918457 Discriminator Loss: 0.5065842270851135\n",
            "0.1112220287322998 data loading time\n",
            "0.11527466773986816 data loading time\n"
          ]
        },
        {
          "output_type": "stream",
          "name": "stderr",
          "text": [
            "\r 10%|▉         | 201/2035 [1:00:14<9:01:53, 17.73s/it]"
          ]
        },
        {
          "output_type": "stream",
          "name": "stdout",
          "text": [
            "0.12317752838134766 data loading time\n",
            "2.517875909805298 Discriminators training\n",
            "1.0625996589660645 backprop discriminator\n",
            "0.2359619140625 adversarial loss\n",
            "2.0736823081970215 cycle loss\n",
            "9.226020812988281 generator backprop\n",
            "Generator Loss: 2.8405799865722656 Discriminator Loss: 0.467451274394989\n",
            "0.11105513572692871 data loading time\n",
            "0.11227583885192871 data loading time\n"
          ]
        },
        {
          "output_type": "stream",
          "name": "stderr",
          "text": [
            "\r 10%|▉         | 202/2035 [1:00:32<9:00:16, 17.68s/it]"
          ]
        },
        {
          "output_type": "stream",
          "name": "stdout",
          "text": [
            "0.12220096588134766 data loading time\n",
            "2.535802125930786 Discriminators training\n",
            "1.0651333332061768 backprop discriminator\n",
            "0.24645781517028809 adversarial loss\n",
            "2.0652081966400146 cycle loss\n",
            "9.222888708114624 generator backprop\n",
            "Generator Loss: 3.208590269088745 Discriminator Loss: 0.49611154198646545\n",
            "0.11077284812927246 data loading time\n",
            "0.1119987964630127 data loading time\n"
          ]
        },
        {
          "output_type": "stream",
          "name": "stderr",
          "text": [
            "\r 10%|▉         | 203/2035 [1:00:50<8:59:20, 17.66s/it]"
          ]
        },
        {
          "output_type": "stream",
          "name": "stdout",
          "text": [
            "0.1299421787261963 data loading time\n",
            "2.542318344116211 Discriminators training\n",
            "1.0730600357055664 backprop discriminator\n",
            "0.23880815505981445 adversarial loss\n",
            "2.0695579051971436 cycle loss\n",
            "9.260380744934082 generator backprop\n",
            "Generator Loss: 4.085119247436523 Discriminator Loss: 0.4583752155303955\n",
            "0.11125302314758301 data loading time\n",
            "0.11184954643249512 data loading time\n"
          ]
        },
        {
          "output_type": "stream",
          "name": "stderr",
          "text": [
            "\r 10%|█         | 204/2035 [1:01:07<8:59:18, 17.67s/it]"
          ]
        },
        {
          "output_type": "stream",
          "name": "stdout",
          "text": [
            "0.12372922897338867 data loading time\n",
            "2.5411300659179688 Discriminators training\n",
            "1.0726187229156494 backprop discriminator\n",
            "0.24766159057617188 adversarial loss\n",
            "2.082967519760132 cycle loss\n",
            "9.242527961730957 generator backprop\n",
            "Generator Loss: 3.627225637435913 Discriminator Loss: 0.4754820764064789\n",
            "0.11252856254577637 data loading time\n",
            "0.11221480369567871 data loading time\n"
          ]
        },
        {
          "output_type": "stream",
          "name": "stderr",
          "text": [
            "\r 10%|█         | 205/2035 [1:01:25<8:59:01, 17.67s/it]"
          ]
        },
        {
          "output_type": "stream",
          "name": "stdout",
          "text": [
            "0.12761235237121582 data loading time\n",
            "2.545308828353882 Discriminators training\n",
            "1.0593090057373047 backprop discriminator\n",
            "0.23876523971557617 adversarial loss\n",
            "2.0603551864624023 cycle loss\n",
            "9.342015743255615 generator backprop\n",
            "Generator Loss: 4.233752250671387 Discriminator Loss: 0.44399523735046387\n",
            "0.11063289642333984 data loading time\n",
            "0.11762022972106934 data loading time\n"
          ]
        },
        {
          "output_type": "stream",
          "name": "stderr",
          "text": [
            "\r 10%|█         | 206/2035 [1:01:43<8:59:16, 17.69s/it]"
          ]
        },
        {
          "output_type": "stream",
          "name": "stdout",
          "text": [
            "0.12148594856262207 data loading time\n",
            "2.5307369232177734 Discriminators training\n",
            "1.0801794528961182 backprop discriminator\n",
            "0.24218344688415527 adversarial loss\n",
            "2.098231315612793 cycle loss\n",
            "9.648407459259033 generator backprop\n",
            "Generator Loss: 4.454892158508301 Discriminator Loss: 0.4843374788761139\n",
            "0.11428689956665039 data loading time\n",
            "0.11890745162963867 data loading time\n"
          ]
        },
        {
          "output_type": "stream",
          "name": "stderr",
          "text": [
            "\r 10%|█         | 207/2035 [1:02:01<9:03:21, 17.83s/it]"
          ]
        },
        {
          "output_type": "stream",
          "name": "stdout",
          "text": [
            "0.13819670677185059 data loading time\n",
            "2.6009371280670166 Discriminators training\n",
            "1.0891621112823486 backprop discriminator\n",
            "0.2490389347076416 adversarial loss\n",
            "2.131340265274048 cycle loss\n",
            "9.554163455963135 generator backprop\n",
            "Generator Loss: 3.699430465698242 Discriminator Loss: 0.44096362590789795\n",
            "0.1143345832824707 data loading time\n",
            "0.1126713752746582 data loading time\n"
          ]
        },
        {
          "output_type": "stream",
          "name": "stderr",
          "text": [
            "\r 10%|█         | 208/2035 [1:02:19<9:06:18, 17.94s/it]"
          ]
        },
        {
          "output_type": "stream",
          "name": "stdout",
          "text": [
            "0.12514042854309082 data loading time\n",
            "2.6169395446777344 Discriminators training\n",
            "1.1220836639404297 backprop discriminator\n",
            "0.2462756633758545 adversarial loss\n",
            "2.1915273666381836 cycle loss\n",
            "9.620314836502075 generator backprop\n",
            "Generator Loss: 3.5526328086853027 Discriminator Loss: 0.4530247449874878\n",
            "0.1118171215057373 data loading time\n",
            "0.11196208000183105 data loading time\n"
          ]
        },
        {
          "output_type": "stream",
          "name": "stderr",
          "text": [
            "\r 10%|█         | 209/2035 [1:02:37<9:09:22, 18.05s/it]"
          ]
        },
        {
          "output_type": "stream",
          "name": "stdout",
          "text": [
            "0.13368654251098633 data loading time\n",
            "2.5337202548980713 Discriminators training\n",
            "1.073538064956665 backprop discriminator\n",
            "0.24382758140563965 adversarial loss\n",
            "2.091468572616577 cycle loss\n",
            "9.313739538192749 generator backprop\n",
            "Generator Loss: 3.3240270614624023 Discriminator Loss: 0.5234827399253845\n",
            "0.11104822158813477 data loading time\n",
            "0.11130857467651367 data loading time\n"
          ]
        },
        {
          "output_type": "stream",
          "name": "stderr",
          "text": [
            "\r 10%|█         | 210/2035 [1:02:55<9:06:29, 17.97s/it]"
          ]
        },
        {
          "output_type": "stream",
          "name": "stdout",
          "text": [
            "0.12595391273498535 data loading time\n",
            "2.5324759483337402 Discriminators training\n",
            "1.0659196376800537 backprop discriminator\n",
            "0.2398526668548584 adversarial loss\n",
            "2.0819973945617676 cycle loss\n",
            "9.579759359359741 generator backprop\n",
            "Generator Loss: 4.57803201675415 Discriminator Loss: 0.44894707202911377\n",
            "0.11154603958129883 data loading time\n",
            "0.11463284492492676 data loading time\n"
          ]
        },
        {
          "output_type": "stream",
          "name": "stderr",
          "text": [
            "\r 10%|█         | 211/2035 [1:03:13<9:06:28, 17.98s/it]"
          ]
        },
        {
          "output_type": "stream",
          "name": "stdout",
          "text": [
            "0.1278066635131836 data loading time\n",
            "2.5511722564697266 Discriminators training\n",
            "1.0821008682250977 backprop discriminator\n",
            "0.2536039352416992 adversarial loss\n",
            "2.083381414413452 cycle loss\n",
            "9.389379739761353 generator backprop\n",
            "Generator Loss: 3.4118006229400635 Discriminator Loss: 0.47219979763031006\n",
            "0.1139838695526123 data loading time\n",
            "0.11470651626586914 data loading time\n"
          ]
        },
        {
          "output_type": "stream",
          "name": "stderr",
          "text": [
            "\r 10%|█         | 212/2035 [1:03:31<9:05:09, 17.94s/it]"
          ]
        },
        {
          "output_type": "stream",
          "name": "stdout",
          "text": [
            "0.12511634826660156 data loading time\n",
            "2.5625083446502686 Discriminators training\n",
            "1.0818216800689697 backprop discriminator\n",
            "0.2466294765472412 adversarial loss\n",
            "2.1059255599975586 cycle loss\n",
            "9.30574631690979 generator backprop\n",
            "Generator Loss: 3.6643524169921875 Discriminator Loss: 0.4877749979496002\n",
            "0.11544609069824219 data loading time\n",
            "0.11366629600524902 data loading time\n"
          ]
        },
        {
          "output_type": "stream",
          "name": "stderr",
          "text": [
            "\r 10%|█         | 213/2035 [1:03:49<9:03:27, 17.90s/it]"
          ]
        },
        {
          "output_type": "stream",
          "name": "stdout",
          "text": [
            "0.1281604766845703 data loading time\n",
            "2.5568652153015137 Discriminators training\n",
            "1.079904317855835 backprop discriminator\n",
            "0.2520012855529785 adversarial loss\n",
            "2.0859928131103516 cycle loss\n",
            "9.289725303649902 generator backprop\n",
            "Generator Loss: 2.9172377586364746 Discriminator Loss: 0.4476820230484009\n",
            "0.11263775825500488 data loading time\n",
            "0.11274456977844238 data loading time\n"
          ]
        },
        {
          "output_type": "stream",
          "name": "stderr",
          "text": [
            "\r 11%|█         | 214/2035 [1:04:07<9:01:57, 17.86s/it]"
          ]
        },
        {
          "output_type": "stream",
          "name": "stdout",
          "text": [
            "0.12937545776367188 data loading time\n",
            "2.547145128250122 Discriminators training\n",
            "1.0714709758758545 backprop discriminator\n",
            "0.24529480934143066 adversarial loss\n",
            "2.090540885925293 cycle loss\n",
            "9.33849549293518 generator backprop\n",
            "Generator Loss: 2.699955463409424 Discriminator Loss: 0.46097034215927124\n",
            "0.11531567573547363 data loading time\n",
            "0.11193227767944336 data loading time\n"
          ]
        },
        {
          "output_type": "stream",
          "name": "stderr",
          "text": [
            "\r 11%|█         | 215/2035 [1:04:24<9:01:12, 17.84s/it]"
          ]
        },
        {
          "output_type": "stream",
          "name": "stdout",
          "text": [
            "0.13450121879577637 data loading time\n",
            "2.5515966415405273 Discriminators training\n",
            "1.0761396884918213 backprop discriminator\n",
            "0.25734639167785645 adversarial loss\n",
            "2.103882074356079 cycle loss\n",
            "9.36900806427002 generator backprop\n",
            "Generator Loss: 3.744203567504883 Discriminator Loss: 0.49321338534355164\n",
            "0.11143279075622559 data loading time\n",
            "0.11158490180969238 data loading time\n"
          ]
        },
        {
          "output_type": "stream",
          "name": "stderr",
          "text": [
            "\r 11%|█         | 216/2035 [1:04:42<9:01:03, 17.85s/it]"
          ]
        },
        {
          "output_type": "stream",
          "name": "stdout",
          "text": [
            "0.12578749656677246 data loading time\n",
            "2.542612075805664 Discriminators training\n",
            "1.0695762634277344 backprop discriminator\n",
            "0.24188733100891113 adversarial loss\n",
            "2.0852367877960205 cycle loss\n",
            "9.342859983444214 generator backprop\n",
            "Generator Loss: 4.625831127166748 Discriminator Loss: 0.40424609184265137\n",
            "0.11226463317871094 data loading time\n",
            "0.11145210266113281 data loading time\n"
          ]
        },
        {
          "output_type": "stream",
          "name": "stderr",
          "text": [
            "\r 11%|█         | 217/2035 [1:05:00<9:00:04, 17.82s/it]"
          ]
        },
        {
          "output_type": "stream",
          "name": "stdout",
          "text": [
            "0.12848114967346191 data loading time\n",
            "2.5400397777557373 Discriminators training\n",
            "1.0723319053649902 backprop discriminator\n",
            "0.2441728115081787 adversarial loss\n",
            "2.0902488231658936 cycle loss\n",
            "9.329814434051514 generator backprop\n",
            "Generator Loss: 2.753798484802246 Discriminator Loss: 0.47294527292251587\n",
            "0.11172962188720703 data loading time\n",
            "0.11230278015136719 data loading time\n"
          ]
        },
        {
          "output_type": "stream",
          "name": "stderr",
          "text": [
            "\r 11%|█         | 218/2035 [1:05:18<8:59:12, 17.81s/it]"
          ]
        },
        {
          "output_type": "stream",
          "name": "stdout",
          "text": [
            "0.12613129615783691 data loading time\n",
            "2.5411314964294434 Discriminators training\n",
            "1.069251298904419 backprop discriminator\n",
            "0.24341177940368652 adversarial loss\n",
            "2.0876522064208984 cycle loss\n",
            "9.281325578689575 generator backprop\n",
            "Generator Loss: 3.890072822570801 Discriminator Loss: 0.42563706636428833\n",
            "0.11550211906433105 data loading time\n",
            "0.11229586601257324 data loading time\n"
          ]
        },
        {
          "output_type": "stream",
          "name": "stderr",
          "text": [
            "\r 11%|█         | 219/2035 [1:05:36<8:58:17, 17.79s/it]"
          ]
        },
        {
          "output_type": "stream",
          "name": "stdout",
          "text": [
            "0.12808799743652344 data loading time\n",
            "2.5511012077331543 Discriminators training\n",
            "1.0822718143463135 backprop discriminator\n",
            "0.24875354766845703 adversarial loss\n",
            "2.1061136722564697 cycle loss\n",
            "9.518763780593872 generator backprop\n",
            "Generator Loss: 4.203742980957031 Discriminator Loss: 0.5037796497344971\n",
            "0.1147315502166748 data loading time\n",
            "0.1139671802520752 data loading time\n"
          ]
        },
        {
          "output_type": "stream",
          "name": "stderr",
          "text": [
            "\r 11%|█         | 220/2035 [1:05:54<9:00:21, 17.86s/it]"
          ]
        },
        {
          "output_type": "stream",
          "name": "stdout",
          "text": [
            "0.12806916236877441 data loading time\n",
            "2.574899435043335 Discriminators training\n",
            "1.0885908603668213 backprop discriminator\n",
            "0.24874663352966309 adversarial loss\n",
            "2.089653491973877 cycle loss\n",
            "9.474927186965942 generator backprop\n",
            "Generator Loss: 7.170350074768066 Discriminator Loss: 0.4093244671821594\n",
            "0.11196565628051758 data loading time\n",
            "0.1140139102935791 data loading time\n"
          ]
        },
        {
          "output_type": "stream",
          "name": "stderr",
          "text": [
            "\r 11%|█         | 221/2035 [1:06:12<9:01:28, 17.91s/it]"
          ]
        },
        {
          "output_type": "stream",
          "name": "stdout",
          "text": [
            "0.13398981094360352 data loading time\n",
            "2.562572956085205 Discriminators training\n",
            "1.0939152240753174 backprop discriminator\n",
            "0.24190068244934082 adversarial loss\n",
            "2.090803861618042 cycle loss\n",
            "10.060889482498169 generator backprop\n",
            "Generator Loss: 2.831324815750122 Discriminator Loss: 0.5384676456451416\n",
            "0.11228632926940918 data loading time\n",
            "0.11119222640991211 data loading time\n"
          ]
        },
        {
          "output_type": "stream",
          "name": "stderr",
          "text": [
            "\r 11%|█         | 222/2035 [1:06:30<9:07:10, 18.11s/it]"
          ]
        },
        {
          "output_type": "stream",
          "name": "stdout",
          "text": [
            "0.12299060821533203 data loading time\n",
            "2.5715301036834717 Discriminators training\n",
            "1.0883135795593262 backprop discriminator\n",
            "0.24719738960266113 adversarial loss\n",
            "2.10151743888855 cycle loss\n",
            "9.574895858764648 generator backprop\n",
            "Generator Loss: 6.165217399597168 Discriminator Loss: 0.465262770652771\n",
            "0.11110877990722656 data loading time\n",
            "0.11265110969543457 data loading time\n"
          ]
        },
        {
          "output_type": "stream",
          "name": "stderr",
          "text": [
            "\r 11%|█         | 223/2035 [1:06:48<9:07:11, 18.12s/it]"
          ]
        },
        {
          "output_type": "stream",
          "name": "stdout",
          "text": [
            "0.13162803649902344 data loading time\n",
            "2.630023241043091 Discriminators training\n",
            "1.114966630935669 backprop discriminator\n",
            "0.24460911750793457 adversarial loss\n",
            "2.141634225845337 cycle loss\n",
            "9.466801404953003 generator backprop\n",
            "Generator Loss: 4.87163782119751 Discriminator Loss: 0.4422268569469452\n",
            "0.11119842529296875 data loading time\n",
            "0.11194372177124023 data loading time\n"
          ]
        },
        {
          "output_type": "stream",
          "name": "stderr",
          "text": [
            "\r 11%|█         | 224/2035 [1:07:06<9:06:40, 18.11s/it]"
          ]
        },
        {
          "output_type": "stream",
          "name": "stdout",
          "text": [
            "0.1326303482055664 data loading time\n",
            "2.5689613819122314 Discriminators training\n",
            "1.0708189010620117 backprop discriminator\n",
            "0.2380366325378418 adversarial loss\n",
            "2.080353021621704 cycle loss\n",
            "9.341643333435059 generator backprop\n",
            "Generator Loss: 4.312406539916992 Discriminator Loss: 0.4907013475894928\n",
            "0.1152200698852539 data loading time\n",
            "0.11212325096130371 data loading time\n"
          ]
        },
        {
          "output_type": "stream",
          "name": "stderr",
          "text": [
            "\r 11%|█         | 225/2035 [1:07:24<9:03:29, 18.02s/it]"
          ]
        },
        {
          "output_type": "stream",
          "name": "stdout",
          "text": [
            "0.12436771392822266 data loading time\n",
            "2.5527782440185547 Discriminators training\n",
            "1.065171241760254 backprop discriminator\n",
            "0.24776244163513184 adversarial loss\n",
            "2.0741891860961914 cycle loss\n",
            "9.43515944480896 generator backprop\n",
            "Generator Loss: 3.125469207763672 Discriminator Loss: 0.5029346942901611\n",
            "0.11357617378234863 data loading time\n",
            "0.11085796356201172 data loading time\n"
          ]
        },
        {
          "output_type": "stream",
          "name": "stderr",
          "text": [
            "\r 11%|█         | 226/2035 [1:07:42<9:01:50, 17.97s/it]"
          ]
        },
        {
          "output_type": "stream",
          "name": "stdout",
          "text": [
            "0.1261582374572754 data loading time\n",
            "2.5496487617492676 Discriminators training\n",
            "1.0729942321777344 backprop discriminator\n",
            "0.24756741523742676 adversarial loss\n",
            "2.0993571281433105 cycle loss\n",
            "9.413106679916382 generator backprop\n",
            "Generator Loss: 3.3580384254455566 Discriminator Loss: 0.40129178762435913\n",
            "0.11295843124389648 data loading time\n",
            "0.11282467842102051 data loading time\n"
          ]
        },
        {
          "output_type": "stream",
          "name": "stderr",
          "text": [
            "\r 11%|█         | 227/2035 [1:08:00<9:00:43, 17.94s/it]"
          ]
        },
        {
          "output_type": "stream",
          "name": "stdout",
          "text": [
            "0.12713241577148438 data loading time\n",
            "2.5471701622009277 Discriminators training\n",
            "1.0732643604278564 backprop discriminator\n",
            "0.24224162101745605 adversarial loss\n",
            "2.083221435546875 cycle loss\n",
            "9.317888498306274 generator backprop\n",
            "Generator Loss: 3.3889622688293457 Discriminator Loss: 0.4211001396179199\n",
            "0.11092162132263184 data loading time\n",
            "0.11172103881835938 data loading time\n"
          ]
        },
        {
          "output_type": "stream",
          "name": "stderr",
          "text": [
            "\r 11%|█         | 228/2035 [1:08:18<8:58:48, 17.89s/it]"
          ]
        },
        {
          "output_type": "stream",
          "name": "stdout",
          "text": [
            "0.12975192070007324 data loading time\n",
            "2.5329771041870117 Discriminators training\n",
            "1.071390151977539 backprop discriminator\n",
            "0.24358534812927246 adversarial loss\n",
            "2.0831947326660156 cycle loss\n",
            "9.276635646820068 generator backprop\n",
            "Generator Loss: 2.9032163619995117 Discriminator Loss: 0.4417421221733093\n",
            "0.11150860786437988 data loading time\n",
            "0.11216521263122559 data loading time\n"
          ]
        },
        {
          "output_type": "stream",
          "name": "stderr",
          "text": [
            "\r 11%|█▏        | 229/2035 [1:08:35<8:56:53, 17.84s/it]"
          ]
        },
        {
          "output_type": "stream",
          "name": "stdout",
          "text": [
            "0.1230015754699707 data loading time\n",
            "2.5371360778808594 Discriminators training\n",
            "1.0730185508728027 backprop discriminator\n",
            "0.24014997482299805 adversarial loss\n",
            "2.0657613277435303 cycle loss\n",
            "9.192355155944824 generator backprop\n",
            "Generator Loss: 3.2705278396606445 Discriminator Loss: 0.49275529384613037\n",
            "0.11245131492614746 data loading time\n",
            "0.11364483833312988 data loading time\n"
          ]
        },
        {
          "output_type": "stream",
          "name": "stderr",
          "text": [
            "\r 11%|█▏        | 230/2035 [1:08:53<8:54:25, 17.76s/it]"
          ]
        },
        {
          "output_type": "stream",
          "name": "stdout",
          "text": [
            "0.12301945686340332 data loading time\n",
            "2.5313146114349365 Discriminators training\n",
            "1.067011833190918 backprop discriminator\n",
            "0.2425072193145752 adversarial loss\n",
            "2.063081741333008 cycle loss\n",
            "9.262156963348389 generator backprop\n",
            "Generator Loss: 3.380349636077881 Discriminator Loss: 0.5499400496482849\n",
            "0.11217951774597168 data loading time\n",
            "0.11523318290710449 data loading time\n"
          ]
        },
        {
          "output_type": "stream",
          "name": "stderr",
          "text": [
            "\r 11%|█▏        | 231/2035 [1:09:11<8:53:07, 17.73s/it]"
          ]
        },
        {
          "output_type": "stream",
          "name": "stdout",
          "text": [
            "0.12406802177429199 data loading time\n",
            "2.5302417278289795 Discriminators training\n",
            "1.0743718147277832 backprop discriminator\n",
            "0.25457262992858887 adversarial loss\n",
            "2.0726354122161865 cycle loss\n",
            "9.302394151687622 generator backprop\n",
            "Generator Loss: 2.779411792755127 Discriminator Loss: 0.5209180116653442\n",
            "0.11165714263916016 data loading time\n",
            "0.11199021339416504 data loading time\n"
          ]
        },
        {
          "output_type": "stream",
          "name": "stderr",
          "text": [
            "\r 11%|█▏        | 232/2035 [1:09:28<8:52:47, 17.73s/it]"
          ]
        },
        {
          "output_type": "stream",
          "name": "stdout",
          "text": [
            "0.1266005039215088 data loading time\n",
            "2.5568490028381348 Discriminators training\n",
            "1.079819917678833 backprop discriminator\n",
            "0.24465560913085938 adversarial loss\n",
            "2.0884997844696045 cycle loss\n",
            "9.3999502658844 generator backprop\n",
            "Generator Loss: 2.8479511737823486 Discriminator Loss: 0.4831346869468689\n",
            "0.11227655410766602 data loading time\n",
            "0.11615633964538574 data loading time\n"
          ]
        },
        {
          "output_type": "stream",
          "name": "stderr",
          "text": [
            "\r 11%|█▏        | 233/2035 [1:09:46<8:53:37, 17.77s/it]"
          ]
        },
        {
          "output_type": "stream",
          "name": "stdout",
          "text": [
            "0.12328338623046875 data loading time\n",
            "2.548532485961914 Discriminators training\n",
            "1.0826880931854248 backprop discriminator\n",
            "0.254288911819458 adversarial loss\n",
            "2.0859835147857666 cycle loss\n",
            "9.374610185623169 generator backprop\n",
            "Generator Loss: 3.102795124053955 Discriminator Loss: 0.5037407875061035\n",
            "0.11228489875793457 data loading time\n",
            "0.11232972145080566 data loading time\n"
          ]
        },
        {
          "output_type": "stream",
          "name": "stderr",
          "text": [
            "\r 11%|█▏        | 234/2035 [1:10:04<8:54:02, 17.79s/it]"
          ]
        },
        {
          "output_type": "stream",
          "name": "stdout",
          "text": [
            "0.12529301643371582 data loading time\n",
            "2.56046724319458 Discriminators training\n",
            "1.0839407444000244 backprop discriminator\n",
            "0.24177074432373047 adversarial loss\n",
            "2.085247278213501 cycle loss\n",
            "9.27952527999878 generator backprop\n",
            "Generator Loss: 4.537342548370361 Discriminator Loss: 0.4373761713504791\n",
            "0.11109232902526855 data loading time\n",
            "0.1126563549041748 data loading time\n"
          ]
        },
        {
          "output_type": "stream",
          "name": "stderr",
          "text": [
            "\r 12%|█▏        | 235/2035 [1:10:22<8:53:16, 17.78s/it]"
          ]
        },
        {
          "output_type": "stream",
          "name": "stdout",
          "text": [
            "0.12728071212768555 data loading time\n",
            "2.529068946838379 Discriminators training\n",
            "1.0791213512420654 backprop discriminator\n",
            "0.2521967887878418 adversarial loss\n",
            "2.071373701095581 cycle loss\n",
            "9.276999473571777 generator backprop\n",
            "Generator Loss: 3.5702643394470215 Discriminator Loss: 0.577528715133667\n",
            "0.1138770580291748 data loading time\n",
            "0.11258292198181152 data loading time\n"
          ]
        },
        {
          "output_type": "stream",
          "name": "stderr",
          "text": [
            "\r 12%|█▏        | 236/2035 [1:10:40<8:52:12, 17.75s/it]"
          ]
        },
        {
          "output_type": "stream",
          "name": "stdout",
          "text": [
            "0.12522315979003906 data loading time\n",
            "2.5372908115386963 Discriminators training\n",
            "1.0657107830047607 backprop discriminator\n",
            "0.2398362159729004 adversarial loss\n",
            "2.065439224243164 cycle loss\n",
            "9.22113847732544 generator backprop\n",
            "Generator Loss: 2.354611396789551 Discriminator Loss: 0.4884937107563019\n",
            "0.11188888549804688 data loading time\n",
            "0.11127209663391113 data loading time\n"
          ]
        },
        {
          "output_type": "stream",
          "name": "stderr",
          "text": [
            "\r 12%|█▏        | 237/2035 [1:10:57<8:50:44, 17.71s/it]"
          ]
        },
        {
          "output_type": "stream",
          "name": "stdout",
          "text": [
            "0.12596607208251953 data loading time\n",
            "2.529651641845703 Discriminators training\n",
            "1.0751452445983887 backprop discriminator\n",
            "0.24045062065124512 adversarial loss\n",
            "2.0815811157226562 cycle loss\n",
            "9.3077392578125 generator backprop\n",
            "Generator Loss: 3.2923026084899902 Discriminator Loss: 0.48791807889938354\n",
            "0.1123199462890625 data loading time\n",
            "0.11258268356323242 data loading time\n"
          ]
        },
        {
          "output_type": "stream",
          "name": "stderr",
          "text": [
            "\r 12%|█▏        | 238/2035 [1:11:15<8:50:27, 17.71s/it]"
          ]
        },
        {
          "output_type": "stream",
          "name": "stdout",
          "text": [
            "0.13437151908874512 data loading time\n",
            "2.5937461853027344 Discriminators training\n",
            "1.101391315460205 backprop discriminator\n",
            "0.24258995056152344 adversarial loss\n",
            "2.116938829421997 cycle loss\n",
            "9.531557321548462 generator backprop\n",
            "Generator Loss: 2.4207608699798584 Discriminator Loss: 0.44866687059402466\n",
            "0.11870503425598145 data loading time\n",
            "0.11395525932312012 data loading time\n"
          ]
        },
        {
          "output_type": "stream",
          "name": "stderr",
          "text": [
            "\r 12%|█▏        | 239/2035 [1:11:33<8:53:51, 17.84s/it]"
          ]
        },
        {
          "output_type": "stream",
          "name": "stdout",
          "text": [
            "0.13088655471801758 data loading time\n",
            "2.5965018272399902 Discriminators training\n",
            "1.1021525859832764 backprop discriminator\n",
            "0.2446291446685791 adversarial loss\n",
            "2.122490644454956 cycle loss\n",
            "9.554575204849243 generator backprop\n",
            "Generator Loss: 3.2393229007720947 Discriminator Loss: 0.4947465658187866\n",
            "0.11365532875061035 data loading time\n",
            "0.11860299110412598 data loading time\n"
          ]
        },
        {
          "output_type": "stream",
          "name": "stderr",
          "text": [
            "\r 12%|█▏        | 240/2035 [1:11:51<8:56:49, 17.94s/it]"
          ]
        },
        {
          "output_type": "stream",
          "name": "stdout",
          "text": [
            "0.12578701972961426 data loading time\n",
            "2.5973269939422607 Discriminators training\n",
            "1.1031677722930908 backprop discriminator\n",
            "0.24814915657043457 adversarial loss\n",
            "2.1396780014038086 cycle loss\n",
            "9.57070541381836 generator backprop\n",
            "Generator Loss: 4.470314979553223 Discriminator Loss: 0.4591831564903259\n",
            "0.11968636512756348 data loading time\n",
            "0.11749815940856934 data loading time\n"
          ]
        },
        {
          "output_type": "stream",
          "name": "stderr",
          "text": [
            "\r 12%|█▏        | 241/2035 [1:12:09<8:59:02, 18.03s/it]"
          ]
        },
        {
          "output_type": "stream",
          "name": "stdout",
          "text": [
            "0.12424159049987793 data loading time\n",
            "2.5619187355041504 Discriminators training\n",
            "1.106227159500122 backprop discriminator\n",
            "0.24833393096923828 adversarial loss\n",
            "2.092302083969116 cycle loss\n",
            "9.535632610321045 generator backprop\n",
            "Generator Loss: 3.7889108657836914 Discriminator Loss: 0.509025514125824\n",
            "0.11717486381530762 data loading time\n",
            "0.11521029472351074 data loading time\n"
          ]
        },
        {
          "output_type": "stream",
          "name": "stderr",
          "text": [
            "\r 12%|█▏        | 242/2035 [1:12:28<8:59:26, 18.05s/it]"
          ]
        },
        {
          "output_type": "stream",
          "name": "stdout",
          "text": [
            "0.13154268264770508 data loading time\n",
            "2.5720889568328857 Discriminators training\n",
            "1.1284408569335938 backprop discriminator\n",
            "0.24468183517456055 adversarial loss\n",
            "2.1160595417022705 cycle loss\n",
            "9.49902868270874 generator backprop\n",
            "Generator Loss: 2.9955976009368896 Discriminator Loss: 0.5254306793212891\n",
            "0.11099672317504883 data loading time\n",
            "0.11142277717590332 data loading time\n"
          ]
        },
        {
          "output_type": "stream",
          "name": "stderr",
          "text": [
            "\r 12%|█▏        | 243/2035 [1:12:46<8:59:14, 18.06s/it]"
          ]
        },
        {
          "output_type": "stream",
          "name": "stdout",
          "text": [
            "0.1270296573638916 data loading time\n",
            "2.5678493976593018 Discriminators training\n",
            "1.0805561542510986 backprop discriminator\n",
            "0.2472686767578125 adversarial loss\n",
            "2.108027696609497 cycle loss\n",
            "9.482816219329834 generator backprop\n",
            "Generator Loss: 3.166436195373535 Discriminator Loss: 0.4518739581108093\n",
            "0.11194968223571777 data loading time\n",
            "0.11657309532165527 data loading time\n"
          ]
        },
        {
          "output_type": "stream",
          "name": "stderr",
          "text": [
            "\r 12%|█▏        | 244/2035 [1:13:04<8:58:28, 18.04s/it]"
          ]
        },
        {
          "output_type": "stream",
          "name": "stdout",
          "text": [
            "0.12388229370117188 data loading time\n",
            "2.609863042831421 Discriminators training\n",
            "1.086803674697876 backprop discriminator\n",
            "0.24664092063903809 adversarial loss\n",
            "2.114614725112915 cycle loss\n",
            "9.584559202194214 generator backprop\n",
            "Generator Loss: 5.482468128204346 Discriminator Loss: 0.3955956697463989\n",
            "0.11536765098571777 data loading time\n",
            "0.11189532279968262 data loading time\n"
          ]
        },
        {
          "output_type": "stream",
          "name": "stderr",
          "text": [
            "\r 12%|█▏        | 245/2035 [1:13:22<8:59:04, 18.07s/it]"
          ]
        },
        {
          "output_type": "stream",
          "name": "stdout",
          "text": [
            "0.12620902061462402 data loading time\n",
            "2.5633716583251953 Discriminators training\n",
            "1.100156307220459 backprop discriminator\n",
            "0.2482612133026123 adversarial loss\n",
            "2.1477673053741455 cycle loss\n",
            "9.672905206680298 generator backprop\n",
            "Generator Loss: 2.607819080352783 Discriminator Loss: 0.4733319878578186\n",
            "0.11931896209716797 data loading time\n",
            "0.11774086952209473 data loading time\n"
          ]
        },
        {
          "output_type": "stream",
          "name": "stderr",
          "text": [
            "\r 12%|█▏        | 246/2035 [1:13:40<9:00:34, 18.13s/it]"
          ]
        },
        {
          "output_type": "stream",
          "name": "stdout",
          "text": [
            "0.12719416618347168 data loading time\n",
            "2.5749428272247314 Discriminators training\n",
            "1.1023924350738525 backprop discriminator\n",
            "0.2595953941345215 adversarial loss\n",
            "2.131535530090332 cycle loss\n",
            "9.525253534317017 generator backprop\n",
            "Generator Loss: 4.195117950439453 Discriminator Loss: 0.5307375192642212\n",
            "0.11406803131103516 data loading time\n",
            "0.11709427833557129 data loading time\n"
          ]
        },
        {
          "output_type": "stream",
          "name": "stderr",
          "text": [
            "\r 12%|█▏        | 247/2035 [1:13:58<9:00:01, 18.12s/it]"
          ]
        },
        {
          "output_type": "stream",
          "name": "stdout",
          "text": [
            "0.12634754180908203 data loading time\n",
            "2.603017807006836 Discriminators training\n",
            "1.0875380039215088 backprop discriminator\n",
            "0.24723529815673828 adversarial loss\n",
            "2.0946810245513916 cycle loss\n",
            "9.50919222831726 generator backprop\n",
            "Generator Loss: 3.2685770988464355 Discriminator Loss: 0.47778066992759705\n",
            "0.11222720146179199 data loading time\n",
            "0.11241769790649414 data loading time\n"
          ]
        },
        {
          "output_type": "stream",
          "name": "stderr",
          "text": [
            "\r 12%|█▏        | 248/2035 [1:14:16<8:59:03, 18.10s/it]"
          ]
        },
        {
          "output_type": "stream",
          "name": "stdout",
          "text": [
            "0.1268751621246338 data loading time\n",
            "2.587111711502075 Discriminators training\n",
            "1.0892055034637451 backprop discriminator\n",
            "0.2456190586090088 adversarial loss\n",
            "2.109855890274048 cycle loss\n",
            "9.544267654418945 generator backprop\n",
            "Generator Loss: 4.180894374847412 Discriminator Loss: 0.5340621471405029\n",
            "0.1116478443145752 data loading time\n",
            "0.11220908164978027 data loading time\n"
          ]
        },
        {
          "output_type": "stream",
          "name": "stderr",
          "text": [
            "\r 12%|█▏        | 249/2035 [1:14:34<8:58:47, 18.10s/it]"
          ]
        },
        {
          "output_type": "stream",
          "name": "stdout",
          "text": [
            "0.12188005447387695 data loading time\n",
            "2.5757436752319336 Discriminators training\n",
            "1.1051504611968994 backprop discriminator\n",
            "0.2379615306854248 adversarial loss\n",
            "2.1274945735931396 cycle loss\n",
            "9.521669149398804 generator backprop\n",
            "Generator Loss: 3.3521132469177246 Discriminator Loss: 0.5443555116653442\n",
            "0.11399674415588379 data loading time\n",
            "0.11221933364868164 data loading time\n"
          ]
        },
        {
          "output_type": "stream",
          "name": "stderr",
          "text": [
            "\r 12%|█▏        | 250/2035 [1:14:52<8:58:29, 18.10s/it]"
          ]
        },
        {
          "output_type": "stream",
          "name": "stdout",
          "text": [
            "0.13267040252685547 data loading time\n",
            "2.5903878211975098 Discriminators training\n",
            "1.1054491996765137 backprop discriminator\n",
            "0.24009275436401367 adversarial loss\n",
            "2.0963096618652344 cycle loss\n",
            "9.480148553848267 generator backprop\n",
            "Generator Loss: 3.96157169342041 Discriminator Loss: 0.4868844449520111\n",
            "0.11429166793823242 data loading time\n",
            "0.11181831359863281 data loading time\n"
          ]
        },
        {
          "output_type": "stream",
          "name": "stderr",
          "text": [
            "\r 12%|█▏        | 251/2035 [1:15:10<8:57:25, 18.07s/it]"
          ]
        },
        {
          "output_type": "stream",
          "name": "stdout",
          "text": [
            "0.12306714057922363 data loading time\n",
            "2.628385543823242 Discriminators training\n",
            "1.094360113143921 backprop discriminator\n",
            "0.23902368545532227 adversarial loss\n",
            "2.083237409591675 cycle loss\n",
            "9.395755529403687 generator backprop\n",
            "Generator Loss: 2.8300929069519043 Discriminator Loss: 0.4668148458003998\n",
            "0.11078667640686035 data loading time\n",
            "0.11094236373901367 data loading time\n"
          ]
        },
        {
          "output_type": "stream",
          "name": "stderr",
          "text": [
            "\r 12%|█▏        | 252/2035 [1:15:28<8:55:49, 18.03s/it]"
          ]
        },
        {
          "output_type": "stream",
          "name": "stdout",
          "text": [
            "0.11881136894226074 data loading time\n",
            "2.54164981842041 Discriminators training\n",
            "1.084690809249878 backprop discriminator\n",
            "0.24056601524353027 adversarial loss\n",
            "2.095036268234253 cycle loss\n",
            "9.466349124908447 generator backprop\n",
            "Generator Loss: 5.356492042541504 Discriminator Loss: 0.4823122024536133\n",
            "0.11238551139831543 data loading time\n",
            "0.11365246772766113 data loading time\n"
          ]
        },
        {
          "output_type": "stream",
          "name": "stderr",
          "text": [
            "\r 12%|█▏        | 253/2035 [1:15:46<8:54:31, 18.00s/it]"
          ]
        },
        {
          "output_type": "stream",
          "name": "stdout",
          "text": [
            "0.13493084907531738 data loading time\n",
            "2.565598249435425 Discriminators training\n",
            "1.0883705615997314 backprop discriminator\n",
            "0.24188017845153809 adversarial loss\n",
            "2.1136655807495117 cycle loss\n",
            "9.445546865463257 generator backprop\n",
            "Generator Loss: 3.241734027862549 Discriminator Loss: 0.48978209495544434\n",
            "0.11322712898254395 data loading time\n",
            "0.1115565299987793 data loading time\n"
          ]
        },
        {
          "output_type": "stream",
          "name": "stderr",
          "text": [
            "\r 12%|█▏        | 254/2035 [1:16:04<8:53:55, 17.99s/it]"
          ]
        },
        {
          "output_type": "stream",
          "name": "stdout",
          "text": [
            "0.12711763381958008 data loading time\n",
            "2.565699577331543 Discriminators training\n",
            "1.0869877338409424 backprop discriminator\n",
            "0.2542135715484619 adversarial loss\n",
            "2.0895891189575195 cycle loss\n",
            "9.358523607254028 generator backprop\n",
            "Generator Loss: 3.420428991317749 Discriminator Loss: 0.5380667448043823\n",
            "0.1113731861114502 data loading time\n",
            "0.1120760440826416 data loading time\n"
          ]
        },
        {
          "output_type": "stream",
          "name": "stderr",
          "text": [
            "\r 13%|█▎        | 255/2035 [1:16:22<8:52:25, 17.95s/it]"
          ]
        },
        {
          "output_type": "stream",
          "name": "stdout",
          "text": [
            "0.12249016761779785 data loading time\n",
            "2.5585269927978516 Discriminators training\n",
            "1.073857307434082 backprop discriminator\n",
            "0.23853588104248047 adversarial loss\n",
            "2.0896830558776855 cycle loss\n",
            "9.357608795166016 generator backprop\n",
            "Generator Loss: 2.918454170227051 Discriminator Loss: 0.48983561992645264\n",
            "0.11430931091308594 data loading time\n",
            "0.1125948429107666 data loading time\n"
          ]
        },
        {
          "output_type": "stream",
          "name": "stderr",
          "text": [
            "\r 13%|█▎        | 256/2035 [1:16:40<8:51:08, 17.91s/it]"
          ]
        },
        {
          "output_type": "stream",
          "name": "stdout",
          "text": [
            "0.12494850158691406 data loading time\n",
            "2.5424792766571045 Discriminators training\n",
            "1.0901548862457275 backprop discriminator\n",
            "0.24938321113586426 adversarial loss\n",
            "2.08358097076416 cycle loss\n",
            "9.37846326828003 generator backprop\n",
            "Generator Loss: 4.510610580444336 Discriminator Loss: 0.5240808725357056\n",
            "0.1114494800567627 data loading time\n",
            "0.11210250854492188 data loading time\n"
          ]
        },
        {
          "output_type": "stream",
          "name": "stderr",
          "text": [
            "\r 13%|█▎        | 257/2035 [1:16:58<8:50:25, 17.90s/it]"
          ]
        },
        {
          "output_type": "stream",
          "name": "stdout",
          "text": [
            "0.13613128662109375 data loading time\n",
            "2.540712833404541 Discriminators training\n",
            "1.076272964477539 backprop discriminator\n",
            "0.24166083335876465 adversarial loss\n",
            "2.0877108573913574 cycle loss\n",
            "9.353401184082031 generator backprop\n",
            "Generator Loss: 4.0093817710876465 Discriminator Loss: 0.4863530397415161\n",
            "0.11120748519897461 data loading time\n",
            "0.11191368103027344 data loading time\n"
          ]
        },
        {
          "output_type": "stream",
          "name": "stderr",
          "text": [
            "\r 13%|█▎        | 258/2035 [1:17:16<8:49:10, 17.87s/it]"
          ]
        },
        {
          "output_type": "stream",
          "name": "stdout",
          "text": [
            "0.1278841495513916 data loading time\n",
            "2.546128749847412 Discriminators training\n",
            "1.082423448562622 backprop discriminator\n",
            "0.24549627304077148 adversarial loss\n",
            "2.0875232219696045 cycle loss\n",
            "9.209631204605103 generator backprop\n",
            "Generator Loss: 3.034437656402588 Discriminator Loss: 0.4665006399154663\n",
            "0.11233997344970703 data loading time\n",
            "0.11229944229125977 data loading time\n"
          ]
        },
        {
          "output_type": "stream",
          "name": "stderr",
          "text": [
            "\r 13%|█▎        | 259/2035 [1:17:33<8:47:01, 17.81s/it]"
          ]
        },
        {
          "output_type": "stream",
          "name": "stdout",
          "text": [
            "0.12673687934875488 data loading time\n",
            "2.5363333225250244 Discriminators training\n",
            "1.0619127750396729 backprop discriminator\n",
            "0.23852157592773438 adversarial loss\n",
            "2.0832033157348633 cycle loss\n",
            "9.263071537017822 generator backprop\n",
            "Generator Loss: 3.54687237739563 Discriminator Loss: 0.5003972053527832\n",
            "0.11531662940979004 data loading time\n",
            "0.11191511154174805 data loading time\n"
          ]
        },
        {
          "output_type": "stream",
          "name": "stderr",
          "text": [
            "\r 13%|█▎        | 260/2035 [1:17:51<8:45:30, 17.76s/it]"
          ]
        },
        {
          "output_type": "stream",
          "name": "stdout",
          "text": [
            "0.12836360931396484 data loading time\n",
            "2.535861015319824 Discriminators training\n",
            "1.067091941833496 backprop discriminator\n",
            "0.25345635414123535 adversarial loss\n",
            "2.0808310508728027 cycle loss\n",
            "9.236952543258667 generator backprop\n",
            "Generator Loss: 3.0512776374816895 Discriminator Loss: 0.6054140329360962\n",
            "0.1105203628540039 data loading time\n",
            "0.1126258373260498 data loading time\n"
          ]
        },
        {
          "output_type": "stream",
          "name": "stderr",
          "text": [
            "\r 13%|█▎        | 261/2035 [1:18:09<8:44:26, 17.74s/it]"
          ]
        },
        {
          "output_type": "stream",
          "name": "stdout",
          "text": [
            "0.13139081001281738 data loading time\n",
            "2.5379621982574463 Discriminators training\n",
            "1.076246738433838 backprop discriminator\n",
            "0.24068880081176758 adversarial loss\n",
            "2.09502911567688 cycle loss\n",
            "9.767183780670166 generator backprop\n",
            "Generator Loss: 3.247304916381836 Discriminator Loss: 0.5674067139625549\n",
            "0.11273336410522461 data loading time\n",
            "0.11273479461669922 data loading time\n"
          ]
        },
        {
          "output_type": "stream",
          "name": "stderr",
          "text": [
            "\r 13%|█▎        | 262/2035 [1:18:27<8:48:16, 17.88s/it]"
          ]
        },
        {
          "output_type": "stream",
          "name": "stdout",
          "text": [
            "0.13052868843078613 data loading time\n",
            "2.5323264598846436 Discriminators training\n",
            "1.0636036396026611 backprop discriminator\n",
            "0.24457406997680664 adversarial loss\n",
            "2.101029396057129 cycle loss\n",
            "9.197855949401855 generator backprop\n",
            "Generator Loss: 3.0648789405822754 Discriminator Loss: 0.4315344989299774\n",
            "0.11131167411804199 data loading time\n",
            "0.11129379272460938 data loading time\n"
          ]
        },
        {
          "output_type": "stream",
          "name": "stderr",
          "text": [
            "\r 13%|█▎        | 263/2035 [1:18:44<8:45:38, 17.80s/it]"
          ]
        },
        {
          "output_type": "stream",
          "name": "stdout",
          "text": [
            "0.13418245315551758 data loading time\n",
            "2.520190715789795 Discriminators training\n",
            "1.06895112991333 backprop discriminator\n",
            "0.240922212600708 adversarial loss\n",
            "2.070763349533081 cycle loss\n",
            "9.203013181686401 generator backprop\n",
            "Generator Loss: 2.9449996948242188 Discriminator Loss: 0.4941384494304657\n",
            "0.11404752731323242 data loading time\n",
            "0.11213517189025879 data loading time\n"
          ]
        },
        {
          "output_type": "stream",
          "name": "stderr",
          "text": [
            "\r 13%|█▎        | 264/2035 [1:19:02<8:43:24, 17.73s/it]"
          ]
        },
        {
          "output_type": "stream",
          "name": "stdout",
          "text": [
            "0.12458920478820801 data loading time\n",
            "2.516206741333008 Discriminators training\n",
            "1.0499205589294434 backprop discriminator\n",
            "0.2552926540374756 adversarial loss\n",
            "2.0727059841156006 cycle loss\n",
            "9.298799276351929 generator backprop\n",
            "Generator Loss: 3.9413604736328125 Discriminator Loss: 0.4520445466041565\n",
            "0.11114692687988281 data loading time\n",
            "0.11118745803833008 data loading time\n"
          ]
        },
        {
          "output_type": "stream",
          "name": "stderr",
          "text": [
            "\r 13%|█▎        | 265/2035 [1:19:20<8:42:34, 17.71s/it]"
          ]
        },
        {
          "output_type": "stream",
          "name": "stdout",
          "text": [
            "0.12397980690002441 data loading time\n",
            "2.5466983318328857 Discriminators training\n",
            "1.0778846740722656 backprop discriminator\n",
            "0.2421247959136963 adversarial loss\n",
            "2.093499183654785 cycle loss\n",
            "9.348134517669678 generator backprop\n",
            "Generator Loss: 3.3616256713867188 Discriminator Loss: 0.49090880155563354\n",
            "0.11203956604003906 data loading time\n",
            "0.11150860786437988 data loading time\n"
          ]
        },
        {
          "output_type": "stream",
          "name": "stderr",
          "text": [
            "\r 13%|█▎        | 266/2035 [1:19:37<8:43:02, 17.74s/it]"
          ]
        },
        {
          "output_type": "stream",
          "name": "stdout",
          "text": [
            "0.12414073944091797 data loading time\n",
            "2.5683956146240234 Discriminators training\n",
            "1.086195468902588 backprop discriminator\n",
            "0.25165510177612305 adversarial loss\n",
            "2.097036361694336 cycle loss\n",
            "9.41731572151184 generator backprop\n",
            "Generator Loss: 2.8334150314331055 Discriminator Loss: 0.5118590593338013\n",
            "0.11269545555114746 data loading time\n",
            "0.11357474327087402 data loading time\n"
          ]
        },
        {
          "output_type": "stream",
          "name": "stderr",
          "text": [
            "\r 13%|█▎        | 267/2035 [1:19:55<8:44:32, 17.80s/it]"
          ]
        },
        {
          "output_type": "stream",
          "name": "stdout",
          "text": [
            "0.12902212142944336 data loading time\n",
            "2.5748865604400635 Discriminators training\n",
            "1.0665559768676758 backprop discriminator\n",
            "0.24429917335510254 adversarial loss\n",
            "2.0946273803710938 cycle loss\n",
            "9.409806251525879 generator backprop\n",
            "Generator Loss: 2.9136343002319336 Discriminator Loss: 0.5413283109664917\n",
            "0.11089920997619629 data loading time\n",
            "0.11162304878234863 data loading time\n"
          ]
        },
        {
          "output_type": "stream",
          "name": "stderr",
          "text": [
            "\r 13%|█▎        | 268/2035 [1:20:13<8:45:04, 17.83s/it]"
          ]
        },
        {
          "output_type": "stream",
          "name": "stdout",
          "text": [
            "0.12167811393737793 data loading time\n",
            "2.5507867336273193 Discriminators training\n",
            "1.071793556213379 backprop discriminator\n",
            "0.24834394454956055 adversarial loss\n",
            "2.083327054977417 cycle loss\n",
            "9.261449098587036 generator backprop\n",
            "Generator Loss: 4.20526123046875 Discriminator Loss: 0.446725070476532\n",
            "0.11185169219970703 data loading time\n",
            "0.11102890968322754 data loading time\n"
          ]
        },
        {
          "output_type": "stream",
          "name": "stderr",
          "text": [
            "\r 13%|█▎        | 269/2035 [1:20:31<8:43:43, 17.79s/it]"
          ]
        },
        {
          "output_type": "stream",
          "name": "stdout",
          "text": [
            "0.1365499496459961 data loading time\n",
            "2.538378953933716 Discriminators training\n",
            "1.0677642822265625 backprop discriminator\n",
            "0.24421000480651855 adversarial loss\n",
            "2.0815072059631348 cycle loss\n",
            "9.234437465667725 generator backprop\n",
            "Generator Loss: 3.1882402896881104 Discriminator Loss: 0.4107203483581543\n",
            "0.1110987663269043 data loading time\n",
            "0.11161375045776367 data loading time\n"
          ]
        },
        {
          "output_type": "stream",
          "name": "stderr",
          "text": [
            "\r 13%|█▎        | 270/2035 [1:20:49<8:42:07, 17.75s/it]"
          ]
        },
        {
          "output_type": "stream",
          "name": "stdout",
          "text": [
            "0.12834978103637695 data loading time\n",
            "2.5323429107666016 Discriminators training\n",
            "1.0606884956359863 backprop discriminator\n",
            "0.24867653846740723 adversarial loss\n",
            "2.094264268875122 cycle loss\n",
            "9.312079906463623 generator backprop\n",
            "Generator Loss: 2.576616048812866 Discriminator Loss: 0.4961935579776764\n",
            "0.11140894889831543 data loading time\n",
            "0.11124873161315918 data loading time\n"
          ]
        },
        {
          "output_type": "stream",
          "name": "stderr",
          "text": [
            "\r 13%|█▎        | 271/2035 [1:21:06<8:41:44, 17.75s/it]"
          ]
        },
        {
          "output_type": "stream",
          "name": "stdout",
          "text": [
            "0.12368202209472656 data loading time\n",
            "2.551950693130493 Discriminators training\n",
            "1.0727005004882812 backprop discriminator\n",
            "0.2400357723236084 adversarial loss\n",
            "2.077072858810425 cycle loss\n",
            "9.254108190536499 generator backprop\n",
            "Generator Loss: 2.4322423934936523 Discriminator Loss: 0.4447956085205078\n",
            "0.11122560501098633 data loading time\n",
            "0.11308121681213379 data loading time\n"
          ]
        },
        {
          "output_type": "stream",
          "name": "stderr",
          "text": [
            "\r 13%|█▎        | 272/2035 [1:21:24<8:41:00, 17.73s/it]"
          ]
        },
        {
          "output_type": "stream",
          "name": "stdout",
          "text": [
            "0.12423348426818848 data loading time\n",
            "2.5309624671936035 Discriminators training\n",
            "1.0606598854064941 backprop discriminator\n",
            "0.24450039863586426 adversarial loss\n",
            "2.06404185295105 cycle loss\n",
            "9.304362535476685 generator backprop\n",
            "Generator Loss: 3.5698368549346924 Discriminator Loss: 0.4337730407714844\n",
            "0.11189723014831543 data loading time\n",
            "0.11169886589050293 data loading time\n"
          ]
        },
        {
          "output_type": "stream",
          "name": "stderr",
          "text": [
            "\r 13%|█▎        | 273/2035 [1:21:42<8:40:12, 17.71s/it]"
          ]
        },
        {
          "output_type": "stream",
          "name": "stdout",
          "text": [
            "0.1298847198486328 data loading time\n",
            "2.524442672729492 Discriminators training\n",
            "1.0712788105010986 backprop discriminator\n",
            "0.2410595417022705 adversarial loss\n",
            "2.081657648086548 cycle loss\n",
            "9.279396295547485 generator backprop\n",
            "Generator Loss: 2.6122279167175293 Discriminator Loss: 0.5212788581848145\n",
            "0.11234879493713379 data loading time\n",
            "0.11540007591247559 data loading time\n"
          ]
        },
        {
          "output_type": "stream",
          "name": "stderr",
          "text": [
            "\r 13%|█▎        | 274/2035 [1:21:59<8:39:45, 17.71s/it]"
          ]
        },
        {
          "output_type": "stream",
          "name": "stdout",
          "text": [
            "0.13164734840393066 data loading time\n",
            "2.5245206356048584 Discriminators training\n",
            "1.0625343322753906 backprop discriminator\n",
            "0.2411644458770752 adversarial loss\n",
            "2.0722455978393555 cycle loss\n",
            "9.243591785430908 generator backprop\n",
            "Generator Loss: 4.5644426345825195 Discriminator Loss: 0.4520626664161682\n",
            "0.1122748851776123 data loading time\n",
            "0.1111440658569336 data loading time\n"
          ]
        },
        {
          "output_type": "stream",
          "name": "stderr",
          "text": [
            "\r 14%|█▎        | 275/2035 [1:22:17<8:38:55, 17.69s/it]"
          ]
        },
        {
          "output_type": "stream",
          "name": "stdout",
          "text": [
            "0.12926006317138672 data loading time\n",
            "2.549680471420288 Discriminators training\n",
            "1.066741943359375 backprop discriminator\n",
            "0.2384171485900879 adversarial loss\n",
            "2.0849497318267822 cycle loss\n",
            "9.199565649032593 generator backprop\n",
            "Generator Loss: 2.868138551712036 Discriminator Loss: 0.48321533203125\n",
            "0.11146092414855957 data loading time\n",
            "0.11288309097290039 data loading time\n"
          ]
        },
        {
          "output_type": "stream",
          "name": "stderr",
          "text": [
            "\r 14%|█▎        | 276/2035 [1:22:35<8:38:12, 17.68s/it]"
          ]
        },
        {
          "output_type": "stream",
          "name": "stdout",
          "text": [
            "0.13369989395141602 data loading time\n",
            "2.5334110260009766 Discriminators training\n",
            "1.0700783729553223 backprop discriminator\n",
            "0.24436712265014648 adversarial loss\n",
            "2.08131742477417 cycle loss\n",
            "9.16482925415039 generator backprop\n",
            "Generator Loss: 2.1510415077209473 Discriminator Loss: 0.51311194896698\n",
            "0.11104702949523926 data loading time\n",
            "0.1151270866394043 data loading time\n"
          ]
        },
        {
          "output_type": "stream",
          "name": "stderr",
          "text": [
            "\r 14%|█▎        | 277/2035 [1:22:52<8:37:05, 17.65s/it]"
          ]
        },
        {
          "output_type": "stream",
          "name": "stdout",
          "text": [
            "0.12919116020202637 data loading time\n",
            "2.5384061336517334 Discriminators training\n",
            "1.077202320098877 backprop discriminator\n",
            "0.2543215751647949 adversarial loss\n",
            "2.069143533706665 cycle loss\n",
            "9.31312608718872 generator backprop\n",
            "Generator Loss: 2.288177728652954 Discriminator Loss: 0.4907260835170746\n",
            "0.11112666130065918 data loading time\n",
            "0.11281514167785645 data loading time\n"
          ]
        },
        {
          "output_type": "stream",
          "name": "stderr",
          "text": [
            "\r 14%|█▎        | 278/2035 [1:23:10<8:37:43, 17.68s/it]"
          ]
        },
        {
          "output_type": "stream",
          "name": "stdout",
          "text": [
            "0.1281449794769287 data loading time\n",
            "2.543102741241455 Discriminators training\n",
            "1.0709354877471924 backprop discriminator\n",
            "0.2403700351715088 adversarial loss\n",
            "2.070941209793091 cycle loss\n",
            "9.267378807067871 generator backprop\n",
            "Generator Loss: 2.736429214477539 Discriminator Loss: 0.5648074150085449\n",
            "0.11047959327697754 data loading time\n",
            "0.11264371871948242 data loading time\n"
          ]
        },
        {
          "output_type": "stream",
          "name": "stderr",
          "text": [
            "\r 14%|█▎        | 279/2035 [1:23:28<8:37:21, 17.68s/it]"
          ]
        },
        {
          "output_type": "stream",
          "name": "stdout",
          "text": [
            "0.12354636192321777 data loading time\n",
            "2.519744634628296 Discriminators training\n",
            "1.0788159370422363 backprop discriminator\n",
            "0.24277257919311523 adversarial loss\n",
            "2.0803191661834717 cycle loss\n",
            "9.348178148269653 generator backprop\n",
            "Generator Loss: 3.954390525817871 Discriminator Loss: 0.4261023700237274\n",
            "0.11081600189208984 data loading time\n",
            "0.11132502555847168 data loading time\n"
          ]
        },
        {
          "output_type": "stream",
          "name": "stderr",
          "text": [
            "\r 14%|█▍        | 280/2035 [1:23:45<8:37:33, 17.69s/it]"
          ]
        },
        {
          "output_type": "stream",
          "name": "stdout",
          "text": [
            "0.12722110748291016 data loading time\n",
            "2.5506227016448975 Discriminators training\n",
            "1.0615739822387695 backprop discriminator\n",
            "0.24102044105529785 adversarial loss\n",
            "2.0756614208221436 cycle loss\n",
            "9.229381322860718 generator backprop\n",
            "Generator Loss: 3.2345521450042725 Discriminator Loss: 0.4234251379966736\n",
            "0.11124682426452637 data loading time\n",
            "0.11112809181213379 data loading time\n"
          ]
        },
        {
          "output_type": "stream",
          "name": "stderr",
          "text": [
            "\r 14%|█▍        | 281/2035 [1:24:03<8:36:41, 17.67s/it]"
          ]
        },
        {
          "output_type": "stream",
          "name": "stdout",
          "text": [
            "0.12325310707092285 data loading time\n",
            "2.5346150398254395 Discriminators training\n",
            "1.0663516521453857 backprop discriminator\n",
            "0.24625587463378906 adversarial loss\n",
            "2.1148757934570312 cycle loss\n",
            "9.260268926620483 generator backprop\n",
            "Generator Loss: 2.9267945289611816 Discriminator Loss: 0.4512466788291931\n",
            "0.11532068252563477 data loading time\n",
            "0.11159563064575195 data loading time\n"
          ]
        },
        {
          "output_type": "stream",
          "name": "stderr",
          "text": [
            "\r 14%|█▍        | 282/2035 [1:24:21<8:36:49, 17.69s/it]"
          ]
        },
        {
          "output_type": "stream",
          "name": "stdout",
          "text": [
            "0.12316298484802246 data loading time\n",
            "2.54168701171875 Discriminators training\n",
            "1.0717265605926514 backprop discriminator\n",
            "0.24886870384216309 adversarial loss\n",
            "2.083860158920288 cycle loss\n",
            "9.254045248031616 generator backprop\n",
            "Generator Loss: 6.819751739501953 Discriminator Loss: 0.459189772605896\n",
            "0.11012148857116699 data loading time\n",
            "0.11134862899780273 data loading time\n"
          ]
        },
        {
          "output_type": "stream",
          "name": "stderr",
          "text": [
            "\r 14%|█▍        | 283/2035 [1:24:39<8:36:22, 17.68s/it]"
          ]
        },
        {
          "output_type": "stream",
          "name": "stdout",
          "text": [
            "0.1243445873260498 data loading time\n",
            "2.5265052318573 Discriminators training\n",
            "1.0711884498596191 backprop discriminator\n",
            "0.24242448806762695 adversarial loss\n",
            "2.0783495903015137 cycle loss\n",
            "9.261313199996948 generator backprop\n",
            "Generator Loss: 3.9312527179718018 Discriminator Loss: 0.5186777710914612\n",
            "0.11222577095031738 data loading time\n",
            "0.11662673950195312 data loading time\n"
          ]
        },
        {
          "output_type": "stream",
          "name": "stderr",
          "text": [
            "\r 14%|█▍        | 284/2035 [1:24:56<8:35:51, 17.68s/it]"
          ]
        },
        {
          "output_type": "stream",
          "name": "stdout",
          "text": [
            "0.1300067901611328 data loading time\n",
            "2.520641803741455 Discriminators training\n",
            "1.0923664569854736 backprop discriminator\n",
            "0.24318528175354004 adversarial loss\n",
            "2.0663721561431885 cycle loss\n",
            "9.197787523269653 generator backprop\n",
            "Generator Loss: 3.8135805130004883 Discriminator Loss: 0.4047146439552307\n",
            "0.11121845245361328 data loading time\n",
            "0.11273765563964844 data loading time\n"
          ]
        },
        {
          "output_type": "stream",
          "name": "stderr",
          "text": [
            "\r 14%|█▍        | 285/2035 [1:25:14<8:34:52, 17.65s/it]"
          ]
        },
        {
          "output_type": "stream",
          "name": "stdout",
          "text": [
            "0.12600350379943848 data loading time\n",
            "2.554598808288574 Discriminators training\n",
            "1.0715985298156738 backprop discriminator\n",
            "0.24254322052001953 adversarial loss\n",
            "2.077741861343384 cycle loss\n",
            "9.236916303634644 generator backprop\n",
            "Generator Loss: 2.92311429977417 Discriminator Loss: 0.4773655831813812\n",
            "0.11085200309753418 data loading time\n",
            "0.11342811584472656 data loading time\n"
          ]
        },
        {
          "output_type": "stream",
          "name": "stderr",
          "text": [
            "\r 14%|█▍        | 286/2035 [1:25:31<8:34:44, 17.66s/it]"
          ]
        },
        {
          "output_type": "stream",
          "name": "stdout",
          "text": [
            "0.11967778205871582 data loading time\n",
            "2.5441172122955322 Discriminators training\n",
            "1.0767126083374023 backprop discriminator\n",
            "0.24348735809326172 adversarial loss\n",
            "2.0770723819732666 cycle loss\n",
            "9.255474328994751 generator backprop\n",
            "Generator Loss: 4.058002471923828 Discriminator Loss: 0.4282141923904419\n",
            "0.11558127403259277 data loading time\n",
            "0.11287927627563477 data loading time\n"
          ]
        },
        {
          "output_type": "stream",
          "name": "stderr",
          "text": [
            "\r 14%|█▍        | 287/2035 [1:25:49<8:34:40, 17.67s/it]"
          ]
        },
        {
          "output_type": "stream",
          "name": "stdout",
          "text": [
            "0.12444663047790527 data loading time\n",
            "2.545027017593384 Discriminators training\n",
            "1.0677096843719482 backprop discriminator\n",
            "0.2497568130493164 adversarial loss\n",
            "2.0849521160125732 cycle loss\n",
            "9.272251844406128 generator backprop\n",
            "Generator Loss: 3.705841541290283 Discriminator Loss: 0.4992189407348633\n",
            "0.11130857467651367 data loading time\n",
            "0.11207079887390137 data loading time\n"
          ]
        },
        {
          "output_type": "stream",
          "name": "stderr",
          "text": [
            "\r 14%|█▍        | 288/2035 [1:26:07<8:34:48, 17.68s/it]"
          ]
        },
        {
          "output_type": "stream",
          "name": "stdout",
          "text": [
            "0.12507343292236328 data loading time\n",
            "2.5412142276763916 Discriminators training\n",
            "1.0680224895477295 backprop discriminator\n",
            "0.24085116386413574 adversarial loss\n",
            "2.089782476425171 cycle loss\n",
            "9.626821756362915 generator backprop\n",
            "Generator Loss: 4.0037689208984375 Discriminator Loss: 0.523892343044281\n",
            "0.11213064193725586 data loading time\n",
            "0.11200523376464844 data loading time\n"
          ]
        },
        {
          "output_type": "stream",
          "name": "stderr",
          "text": [
            "\r 14%|█▍        | 289/2035 [1:26:25<8:37:54, 17.80s/it]"
          ]
        },
        {
          "output_type": "stream",
          "name": "stdout",
          "text": [
            "0.1324002742767334 data loading time\n",
            "2.53359317779541 Discriminators training\n",
            "1.0659222602844238 backprop discriminator\n",
            "0.24236178398132324 adversarial loss\n",
            "2.079589366912842 cycle loss\n",
            "9.357967615127563 generator backprop\n",
            "Generator Loss: 4.376076698303223 Discriminator Loss: 0.437354177236557\n",
            "0.11144185066223145 data loading time\n",
            "0.11174535751342773 data loading time\n"
          ]
        },
        {
          "output_type": "stream",
          "name": "stderr",
          "text": [
            "\r 14%|█▍        | 290/2035 [1:26:43<8:37:21, 17.79s/it]"
          ]
        },
        {
          "output_type": "stream",
          "name": "stdout",
          "text": [
            "0.1309194564819336 data loading time\n",
            "2.5210115909576416 Discriminators training\n",
            "1.0735509395599365 backprop discriminator\n",
            "0.24626421928405762 adversarial loss\n",
            "2.0761680603027344 cycle loss\n",
            "9.323669195175171 generator backprop\n",
            "Generator Loss: 4.279394149780273 Discriminator Loss: 0.4389994740486145\n",
            "0.1118764877319336 data loading time\n",
            "0.1131143569946289 data loading time\n"
          ]
        },
        {
          "output_type": "stream",
          "name": "stderr",
          "text": [
            "\r 14%|█▍        | 291/2035 [1:27:00<8:36:37, 17.77s/it]"
          ]
        },
        {
          "output_type": "stream",
          "name": "stdout",
          "text": [
            "0.12809252738952637 data loading time\n",
            "2.5428755283355713 Discriminators training\n",
            "1.0686049461364746 backprop discriminator\n",
            "0.24890923500061035 adversarial loss\n",
            "2.0793254375457764 cycle loss\n",
            "9.34390377998352 generator backprop\n",
            "Generator Loss: 3.4000213146209717 Discriminator Loss: 0.48728692531585693\n",
            "0.1105954647064209 data loading time\n",
            "0.11197876930236816 data loading time\n"
          ]
        },
        {
          "output_type": "stream",
          "name": "stderr",
          "text": [
            "\r 14%|█▍        | 292/2035 [1:27:18<8:36:21, 17.77s/it]"
          ]
        },
        {
          "output_type": "stream",
          "name": "stdout",
          "text": [
            "0.12077689170837402 data loading time\n",
            "2.5333147048950195 Discriminators training\n",
            "1.0656602382659912 backprop discriminator\n",
            "0.24293804168701172 adversarial loss\n",
            "2.076690435409546 cycle loss\n",
            "9.276342153549194 generator backprop\n",
            "Generator Loss: 3.0997531414031982 Discriminator Loss: 0.4428638815879822\n",
            "0.11112785339355469 data loading time\n",
            "0.11219477653503418 data loading time\n"
          ]
        },
        {
          "output_type": "stream",
          "name": "stderr",
          "text": [
            "\r 14%|█▍        | 293/2035 [1:27:36<8:35:24, 17.75s/it]"
          ]
        },
        {
          "output_type": "stream",
          "name": "stdout",
          "text": [
            "0.12866568565368652 data loading time\n",
            "2.546708583831787 Discriminators training\n",
            "1.0894982814788818 backprop discriminator\n",
            "0.2474353313446045 adversarial loss\n",
            "2.0815558433532715 cycle loss\n",
            "9.265893936157227 generator backprop\n",
            "Generator Loss: 3.002018451690674 Discriminator Loss: 0.39070963859558105\n",
            "0.11044645309448242 data loading time\n",
            "0.11794495582580566 data loading time\n"
          ]
        },
        {
          "output_type": "stream",
          "name": "stderr",
          "text": [
            "\r 14%|█▍        | 294/2035 [1:27:54<8:34:48, 17.74s/it]"
          ]
        },
        {
          "output_type": "stream",
          "name": "stdout",
          "text": [
            "0.12820696830749512 data loading time\n",
            "2.5312135219573975 Discriminators training\n",
            "1.0675163269042969 backprop discriminator\n",
            "0.24814105033874512 adversarial loss\n",
            "2.084402561187744 cycle loss\n",
            "9.2366943359375 generator backprop\n",
            "Generator Loss: 2.725951671600342 Discriminator Loss: 0.526943564414978\n",
            "0.11134910583496094 data loading time\n",
            "0.11150908470153809 data loading time\n"
          ]
        },
        {
          "output_type": "stream",
          "name": "stderr",
          "text": [
            "\r 14%|█▍        | 295/2035 [1:28:11<8:33:48, 17.72s/it]"
          ]
        },
        {
          "output_type": "stream",
          "name": "stdout",
          "text": [
            "0.1250314712524414 data loading time\n",
            "2.5383498668670654 Discriminators training\n",
            "1.0782997608184814 backprop discriminator\n",
            "0.24715638160705566 adversarial loss\n",
            "2.075925350189209 cycle loss\n",
            "9.271882772445679 generator backprop\n",
            "Generator Loss: 2.859557628631592 Discriminator Loss: 0.4516248106956482\n",
            "0.11096858978271484 data loading time\n",
            "0.11199760437011719 data loading time\n"
          ]
        },
        {
          "output_type": "stream",
          "name": "stderr",
          "text": [
            "\r 15%|█▍        | 296/2035 [1:28:29<8:33:15, 17.71s/it]"
          ]
        },
        {
          "output_type": "stream",
          "name": "stdout",
          "text": [
            "0.12467360496520996 data loading time\n",
            "2.5247507095336914 Discriminators training\n",
            "1.066075325012207 backprop discriminator\n",
            "0.241469144821167 adversarial loss\n",
            "2.064399480819702 cycle loss\n",
            "9.19330883026123 generator backprop\n",
            "Generator Loss: 2.803365707397461 Discriminator Loss: 0.4353928864002228\n",
            "0.11061811447143555 data loading time\n",
            "0.11128497123718262 data loading time\n"
          ]
        },
        {
          "output_type": "stream",
          "name": "stderr",
          "text": [
            "\r 15%|█▍        | 297/2035 [1:28:47<8:31:44, 17.67s/it]"
          ]
        },
        {
          "output_type": "stream",
          "name": "stdout",
          "text": [
            "0.12731504440307617 data loading time\n",
            "2.5119516849517822 Discriminators training\n",
            "1.0695598125457764 backprop discriminator\n",
            "0.2442014217376709 adversarial loss\n",
            "2.0663578510284424 cycle loss\n",
            "9.201164484024048 generator backprop\n",
            "Generator Loss: 2.8516783714294434 Discriminator Loss: 0.5265109539031982\n",
            "0.11481237411499023 data loading time\n",
            "0.1121981143951416 data loading time\n"
          ]
        },
        {
          "output_type": "stream",
          "name": "stderr",
          "text": [
            "\r 15%|█▍        | 298/2035 [1:29:04<8:30:37, 17.64s/it]"
          ]
        },
        {
          "output_type": "stream",
          "name": "stdout",
          "text": [
            "0.1220407485961914 data loading time\n",
            "2.538686513900757 Discriminators training\n",
            "1.0750360488891602 backprop discriminator\n",
            "0.2488713264465332 adversarial loss\n",
            "2.088829278945923 cycle loss\n",
            "9.290076971054077 generator backprop\n",
            "Generator Loss: 3.626415491104126 Discriminator Loss: 0.5662241578102112\n",
            "0.11050534248352051 data loading time\n",
            "0.11243796348571777 data loading time\n"
          ]
        },
        {
          "output_type": "stream",
          "name": "stderr",
          "text": [
            "\r 15%|█▍        | 299/2035 [1:29:22<8:31:14, 17.67s/it]"
          ]
        },
        {
          "output_type": "stream",
          "name": "stdout",
          "text": [
            "0.12900352478027344 data loading time\n",
            "2.5344762802124023 Discriminators training\n",
            "1.0699362754821777 backprop discriminator\n",
            "0.23908281326293945 adversarial loss\n",
            "2.06652569770813 cycle loss\n",
            "9.299551963806152 generator backprop\n",
            "Generator Loss: 2.673705816268921 Discriminator Loss: 0.44828683137893677\n",
            "0.11127209663391113 data loading time\n",
            "0.1161644458770752 data loading time\n"
          ]
        },
        {
          "output_type": "stream",
          "name": "stderr",
          "text": [
            "\r 15%|█▍        | 300/2035 [1:29:40<8:31:09, 17.68s/it]"
          ]
        },
        {
          "output_type": "stream",
          "name": "stdout",
          "text": [
            "0.12685227394104004 data loading time\n",
            "2.5516343116760254 Discriminators training\n",
            "1.0671441555023193 backprop discriminator\n",
            "0.24741244316101074 adversarial loss\n",
            "2.0774800777435303 cycle loss\n",
            "9.259179830551147 generator backprop\n",
            "Generator Loss: 2.9116129875183105 Discriminator Loss: 0.4102545976638794\n",
            "0.11111068725585938 data loading time\n",
            "0.1121518611907959 data loading time\n"
          ]
        },
        {
          "output_type": "stream",
          "name": "stderr",
          "text": [
            "\r 15%|█▍        | 301/2035 [1:29:57<8:30:51, 17.68s/it]"
          ]
        },
        {
          "output_type": "stream",
          "name": "stdout",
          "text": [
            "0.12199997901916504 data loading time\n",
            "2.5491034984588623 Discriminators training\n",
            "1.061391830444336 backprop discriminator\n",
            "0.23952507972717285 adversarial loss\n",
            "2.0860848426818848 cycle loss\n",
            "9.226322174072266 generator backprop\n",
            "Generator Loss: 2.6790084838867188 Discriminator Loss: 0.5282875299453735\n",
            "0.11088895797729492 data loading time\n",
            "0.11267685890197754 data loading time\n"
          ]
        },
        {
          "output_type": "stream",
          "name": "stderr",
          "text": [
            "\r 15%|█▍        | 302/2035 [1:30:15<8:30:14, 17.67s/it]"
          ]
        },
        {
          "output_type": "stream",
          "name": "stdout",
          "text": [
            "0.1286313533782959 data loading time\n",
            "2.5295865535736084 Discriminators training\n",
            "1.0607068538665771 backprop discriminator\n",
            "0.24304819107055664 adversarial loss\n",
            "2.084254741668701 cycle loss\n",
            "9.22353219985962 generator backprop\n",
            "Generator Loss: 3.2135629653930664 Discriminator Loss: 0.4779850244522095\n",
            "0.11385560035705566 data loading time\n",
            "0.11132097244262695 data loading time\n"
          ]
        },
        {
          "output_type": "stream",
          "name": "stderr",
          "text": [
            "\r 15%|█▍        | 303/2035 [1:30:32<8:29:30, 17.65s/it]"
          ]
        },
        {
          "output_type": "stream",
          "name": "stdout",
          "text": [
            "0.12922263145446777 data loading time\n",
            "2.5341782569885254 Discriminators training\n",
            "1.0695078372955322 backprop discriminator\n",
            "0.24870800971984863 adversarial loss\n",
            "2.0613298416137695 cycle loss\n",
            "9.18211317062378 generator backprop\n",
            "Generator Loss: 2.6048316955566406 Discriminator Loss: 0.561130166053772\n",
            "0.11072683334350586 data loading time\n",
            "0.11193513870239258 data loading time\n"
          ]
        },
        {
          "output_type": "stream",
          "name": "stderr",
          "text": [
            "\r 15%|█▍        | 304/2035 [1:30:50<8:28:41, 17.63s/it]"
          ]
        },
        {
          "output_type": "stream",
          "name": "stdout",
          "text": [
            "0.12904071807861328 data loading time\n",
            "2.531121015548706 Discriminators training\n",
            "1.0709619522094727 backprop discriminator\n",
            "0.242598295211792 adversarial loss\n",
            "2.0722551345825195 cycle loss\n",
            "9.198861122131348 generator backprop\n",
            "Generator Loss: 2.8484222888946533 Discriminator Loss: 0.4600580930709839\n",
            "0.11054491996765137 data loading time\n",
            "0.1115579605102539 data loading time\n"
          ]
        },
        {
          "output_type": "stream",
          "name": "stderr",
          "text": [
            "\r 15%|█▍        | 305/2035 [1:31:08<8:28:06, 17.62s/it]"
          ]
        },
        {
          "output_type": "stream",
          "name": "stdout",
          "text": [
            "0.1253812313079834 data loading time\n",
            "2.5363094806671143 Discriminators training\n",
            "1.0641422271728516 backprop discriminator\n",
            "0.24208354949951172 adversarial loss\n",
            "2.0806081295013428 cycle loss\n",
            "9.214529752731323 generator backprop\n",
            "Generator Loss: 2.8990635871887207 Discriminator Loss: 0.40036994218826294\n",
            "0.11404037475585938 data loading time\n",
            "0.1110997200012207 data loading time\n"
          ]
        },
        {
          "output_type": "stream",
          "name": "stderr",
          "text": [
            "\r 15%|█▌        | 306/2035 [1:31:25<8:27:57, 17.63s/it]"
          ]
        },
        {
          "output_type": "stream",
          "name": "stdout",
          "text": [
            "0.12557339668273926 data loading time\n",
            "2.534935235977173 Discriminators training\n",
            "1.067516803741455 backprop discriminator\n",
            "0.250316858291626 adversarial loss\n",
            "2.079192638397217 cycle loss\n",
            "9.286982297897339 generator backprop\n",
            "Generator Loss: 2.7682013511657715 Discriminator Loss: 0.45610859990119934\n",
            "0.11162185668945312 data loading time\n",
            "0.11179184913635254 data loading time\n"
          ]
        },
        {
          "output_type": "stream",
          "name": "stderr",
          "text": [
            "\r 15%|█▌        | 307/2035 [1:31:43<8:28:12, 17.65s/it]"
          ]
        },
        {
          "output_type": "stream",
          "name": "stdout",
          "text": [
            "0.12636280059814453 data loading time\n",
            "2.5313847064971924 Discriminators training\n",
            "1.0663156509399414 backprop discriminator\n",
            "0.24214744567871094 adversarial loss\n",
            "2.0931735038757324 cycle loss\n",
            "9.280902624130249 generator backprop\n",
            "Generator Loss: 2.5766773223876953 Discriminator Loss: 0.5200793743133545\n",
            "0.11115074157714844 data loading time\n",
            "0.1173858642578125 data loading time\n"
          ]
        },
        {
          "output_type": "stream",
          "name": "stderr",
          "text": [
            "\r 15%|█▌        | 308/2035 [1:32:01<8:28:34, 17.67s/it]"
          ]
        },
        {
          "output_type": "stream",
          "name": "stdout",
          "text": [
            "0.12427043914794922 data loading time\n",
            "2.5382304191589355 Discriminators training\n",
            "1.0709304809570312 backprop discriminator\n",
            "0.2499229907989502 adversarial loss\n",
            "2.0849649906158447 cycle loss\n",
            "9.198063850402832 generator backprop\n",
            "Generator Loss: 2.882704973220825 Discriminator Loss: 0.5459144711494446\n",
            "0.11073780059814453 data loading time\n",
            "0.11117196083068848 data loading time\n"
          ]
        },
        {
          "output_type": "stream",
          "name": "stderr",
          "text": [
            "\r 15%|█▌        | 309/2035 [1:32:18<8:27:50, 17.65s/it]"
          ]
        },
        {
          "output_type": "stream",
          "name": "stdout",
          "text": [
            "0.12183761596679688 data loading time\n",
            "2.537074565887451 Discriminators training\n",
            "1.066718339920044 backprop discriminator\n",
            "0.24145030975341797 adversarial loss\n",
            "2.0670924186706543 cycle loss\n",
            "9.170828580856323 generator backprop\n",
            "Generator Loss: 3.2121646404266357 Discriminator Loss: 0.5021686553955078\n",
            "0.11153292655944824 data loading time\n",
            "0.11309552192687988 data loading time\n"
          ]
        },
        {
          "output_type": "stream",
          "name": "stderr",
          "text": [
            "\r 15%|█▌        | 310/2035 [1:32:36<8:26:50, 17.63s/it]"
          ]
        },
        {
          "output_type": "stream",
          "name": "stdout",
          "text": [
            "0.12746286392211914 data loading time\n",
            "2.5413613319396973 Discriminators training\n",
            "1.0582671165466309 backprop discriminator\n",
            "0.24204063415527344 adversarial loss\n",
            "2.0648162364959717 cycle loss\n",
            "9.18204951286316 generator backprop\n",
            "Generator Loss: 3.519649028778076 Discriminator Loss: 0.5360393524169922\n",
            "0.10988020896911621 data loading time\n",
            "0.11484670639038086 data loading time\n"
          ]
        },
        {
          "output_type": "stream",
          "name": "stderr",
          "text": [
            "\r 15%|█▌        | 311/2035 [1:32:53<8:26:00, 17.61s/it]"
          ]
        },
        {
          "output_type": "stream",
          "name": "stdout",
          "text": [
            "0.126112699508667 data loading time\n",
            "2.5237491130828857 Discriminators training\n",
            "1.0639901161193848 backprop discriminator\n",
            "0.2458934783935547 adversarial loss\n",
            "2.0673835277557373 cycle loss\n",
            "9.216662406921387 generator backprop\n",
            "Generator Loss: 2.6432149410247803 Discriminator Loss: 0.4922235608100891\n",
            "0.11162424087524414 data loading time\n",
            "0.11233735084533691 data loading time\n"
          ]
        },
        {
          "output_type": "stream",
          "name": "stderr",
          "text": [
            "\r 15%|█▌        | 312/2035 [1:33:11<8:25:46, 17.61s/it]"
          ]
        },
        {
          "output_type": "stream",
          "name": "stdout",
          "text": [
            "0.13033461570739746 data loading time\n",
            "2.545912742614746 Discriminators training\n",
            "1.0751500129699707 backprop discriminator\n",
            "0.24481558799743652 adversarial loss\n",
            "2.071901559829712 cycle loss\n",
            "9.196515798568726 generator backprop\n",
            "Generator Loss: 3.8991708755493164 Discriminator Loss: 0.544887363910675\n",
            "0.11051273345947266 data loading time\n",
            "0.11165618896484375 data loading time\n"
          ]
        },
        {
          "output_type": "stream",
          "name": "stderr",
          "text": [
            "\r 15%|█▌        | 313/2035 [1:33:29<8:25:27, 17.61s/it]"
          ]
        },
        {
          "output_type": "stream",
          "name": "stdout",
          "text": [
            "0.12857580184936523 data loading time\n",
            "2.5511298179626465 Discriminators training\n",
            "1.058544397354126 backprop discriminator\n",
            "0.27350449562072754 adversarial loss\n",
            "2.167743682861328 cycle loss\n",
            "9.258991479873657 generator backprop\n",
            "Generator Loss: 3.6921138763427734 Discriminator Loss: 0.4095032215118408\n",
            "0.11577200889587402 data loading time\n",
            "0.1110234260559082 data loading time\n"
          ]
        },
        {
          "output_type": "stream",
          "name": "stderr",
          "text": [
            "\r 15%|█▌        | 314/2035 [1:33:47<8:26:53, 17.67s/it]"
          ]
        },
        {
          "output_type": "stream",
          "name": "stdout",
          "text": [
            "0.13028597831726074 data loading time\n",
            "2.5285561084747314 Discriminators training\n",
            "1.0679309368133545 backprop discriminator\n",
            "0.24681901931762695 adversarial loss\n",
            "2.0840137004852295 cycle loss\n",
            "9.245408773422241 generator backprop\n",
            "Generator Loss: 3.910228729248047 Discriminator Loss: 0.5224661827087402\n",
            "0.11114335060119629 data loading time\n",
            "0.11226177215576172 data loading time\n"
          ]
        },
        {
          "output_type": "stream",
          "name": "stderr",
          "text": [
            "\r 15%|█▌        | 315/2035 [1:34:04<8:26:29, 17.67s/it]"
          ]
        },
        {
          "output_type": "stream",
          "name": "stdout",
          "text": [
            "0.11899495124816895 data loading time\n",
            "2.555488109588623 Discriminators training\n",
            "1.0766282081604004 backprop discriminator\n",
            "0.24724841117858887 adversarial loss\n",
            "2.085782766342163 cycle loss\n",
            "9.685650110244751 generator backprop\n",
            "Generator Loss: 2.801915168762207 Discriminator Loss: 0.43902409076690674\n",
            "0.1238255500793457 data loading time\n",
            "0.21729803085327148 data loading time\n"
          ]
        },
        {
          "output_type": "stream",
          "name": "stderr",
          "text": [
            "\r 16%|█▌        | 316/2035 [1:34:24<8:42:34, 18.24s/it]"
          ]
        },
        {
          "output_type": "stream",
          "name": "stdout",
          "text": [
            "0.16585516929626465 data loading time\n",
            "3.3847672939300537 Discriminators training\n",
            "1.0927248001098633 backprop discriminator\n",
            "0.2389991283416748 adversarial loss\n",
            "2.3402819633483887 cycle loss\n",
            "9.307396173477173 generator backprop\n",
            "Generator Loss: 2.8385486602783203 Discriminator Loss: 0.44714248180389404\n",
            "0.11037349700927734 data loading time\n",
            "0.1112511157989502 data loading time\n"
          ]
        },
        {
          "output_type": "stream",
          "name": "stderr",
          "text": [
            "\r 16%|█▌        | 317/2035 [1:34:43<8:47:48, 18.43s/it]"
          ]
        },
        {
          "output_type": "stream",
          "name": "stdout",
          "text": [
            "0.12354254722595215 data loading time\n",
            "2.5352566242218018 Discriminators training\n",
            "1.0634784698486328 backprop discriminator\n",
            "0.24115729331970215 adversarial loss\n",
            "2.0798466205596924 cycle loss\n",
            "9.253907203674316 generator backprop\n",
            "Generator Loss: 3.219216823577881 Discriminator Loss: 0.42298415303230286\n",
            "0.11113834381103516 data loading time\n",
            "0.11136317253112793 data loading time\n"
          ]
        },
        {
          "output_type": "stream",
          "name": "stderr",
          "text": [
            "\r 16%|█▌        | 318/2035 [1:35:00<8:40:45, 18.20s/it]"
          ]
        },
        {
          "output_type": "stream",
          "name": "stdout",
          "text": [
            "0.12184977531433105 data loading time\n",
            "2.5564050674438477 Discriminators training\n",
            "1.0625054836273193 backprop discriminator\n",
            "0.241102933883667 adversarial loss\n",
            "2.0662243366241455 cycle loss\n",
            "9.223880767822266 generator backprop\n",
            "Generator Loss: 2.5986852645874023 Discriminator Loss: 0.5009220242500305\n",
            "0.11025166511535645 data loading time\n",
            "0.11291742324829102 data loading time\n"
          ]
        },
        {
          "output_type": "stream",
          "name": "stderr",
          "text": [
            "\r 16%|█▌        | 319/2035 [1:35:18<8:35:34, 18.03s/it]"
          ]
        },
        {
          "output_type": "stream",
          "name": "stdout",
          "text": [
            "0.12520337104797363 data loading time\n",
            "2.5285139083862305 Discriminators training\n",
            "1.0584020614624023 backprop discriminator\n",
            "0.24808597564697266 adversarial loss\n",
            "2.0650527477264404 cycle loss\n",
            "9.197271585464478 generator backprop\n",
            "Generator Loss: 3.220747470855713 Discriminator Loss: 0.4354289770126343\n",
            "0.11016845703125 data loading time\n",
            "0.11265039443969727 data loading time\n"
          ]
        },
        {
          "output_type": "stream",
          "name": "stderr",
          "text": [
            "\r 16%|█▌        | 320/2035 [1:35:35<8:31:22, 17.89s/it]"
          ]
        },
        {
          "output_type": "stream",
          "name": "stdout",
          "text": [
            "0.1242973804473877 data loading time\n",
            "2.5479114055633545 Discriminators training\n",
            "1.0658049583435059 backprop discriminator\n",
            "0.24399209022521973 adversarial loss\n",
            "2.0943479537963867 cycle loss\n",
            "9.30042815208435 generator backprop\n",
            "Generator Loss: 3.5235843658447266 Discriminator Loss: 0.4993667006492615\n",
            "0.1110074520111084 data loading time\n",
            "0.11110401153564453 data loading time\n"
          ]
        },
        {
          "output_type": "stream",
          "name": "stderr",
          "text": [
            "\r 16%|█▌        | 321/2035 [1:35:53<8:29:46, 17.85s/it]"
          ]
        },
        {
          "output_type": "stream",
          "name": "stdout",
          "text": [
            "0.12878108024597168 data loading time\n",
            "2.537532091140747 Discriminators training\n",
            "1.0718750953674316 backprop discriminator\n",
            "0.24121999740600586 adversarial loss\n",
            "2.067786455154419 cycle loss\n",
            "9.191829442977905 generator backprop\n",
            "Generator Loss: 3.2522692680358887 Discriminator Loss: 0.4378940463066101\n",
            "0.11526942253112793 data loading time\n",
            "0.11126923561096191 data loading time\n"
          ]
        },
        {
          "output_type": "stream",
          "name": "stderr",
          "text": [
            "\r 16%|█▌        | 322/2035 [1:36:11<8:27:28, 17.77s/it]"
          ]
        },
        {
          "output_type": "stream",
          "name": "stdout",
          "text": [
            "0.12442803382873535 data loading time\n",
            "2.526214599609375 Discriminators training\n",
            "1.0628721714019775 backprop discriminator\n",
            "0.252025842666626 adversarial loss\n",
            "2.0630202293395996 cycle loss\n",
            "9.21467113494873 generator backprop\n",
            "Generator Loss: 2.474569320678711 Discriminator Loss: 0.5378586053848267\n",
            "0.11088418960571289 data loading time\n",
            "0.11147904396057129 data loading time\n"
          ]
        },
        {
          "output_type": "stream",
          "name": "stderr",
          "text": [
            "\r 16%|█▌        | 323/2035 [1:36:28<8:25:51, 17.73s/it]"
          ]
        },
        {
          "output_type": "stream",
          "name": "stdout",
          "text": [
            "0.12292289733886719 data loading time\n",
            "2.5348548889160156 Discriminators training\n",
            "1.0691282749176025 backprop discriminator\n",
            "0.24772930145263672 adversarial loss\n",
            "2.0750725269317627 cycle loss\n",
            "9.270446538925171 generator backprop\n",
            "Generator Loss: 2.475189447402954 Discriminator Loss: 0.4597173035144806\n",
            "0.11041688919067383 data loading time\n",
            "0.11185622215270996 data loading time\n"
          ]
        },
        {
          "output_type": "stream",
          "name": "stderr",
          "text": [
            "\r 16%|█▌        | 324/2035 [1:36:46<8:25:17, 17.72s/it]"
          ]
        },
        {
          "output_type": "stream",
          "name": "stdout",
          "text": [
            "0.12981748580932617 data loading time\n",
            "2.5589206218719482 Discriminators training\n",
            "1.0690841674804688 backprop discriminator\n",
            "0.2446303367614746 adversarial loss\n",
            "2.0752201080322266 cycle loss\n",
            "9.332474708557129 generator backprop\n",
            "Generator Loss: 2.6500048637390137 Discriminator Loss: 0.4522566795349121\n",
            "0.11204957962036133 data loading time\n",
            "0.11214613914489746 data loading time\n"
          ]
        },
        {
          "output_type": "stream",
          "name": "stderr",
          "text": [
            "\r 16%|█▌        | 325/2035 [1:37:04<8:25:36, 17.74s/it]"
          ]
        },
        {
          "output_type": "stream",
          "name": "stdout",
          "text": [
            "0.12472701072692871 data loading time\n",
            "2.5563268661499023 Discriminators training\n",
            "1.066765308380127 backprop discriminator\n",
            "0.24308180809020996 adversarial loss\n",
            "2.075544595718384 cycle loss\n",
            "9.382630586624146 generator backprop\n",
            "Generator Loss: 2.6368532180786133 Discriminator Loss: 0.5545761585235596\n",
            "0.11181044578552246 data loading time\n",
            "0.11978960037231445 data loading time\n"
          ]
        },
        {
          "output_type": "stream",
          "name": "stderr",
          "text": [
            "\r 16%|█▌        | 326/2035 [1:37:22<8:26:06, 17.77s/it]"
          ]
        },
        {
          "output_type": "stream",
          "name": "stdout",
          "text": [
            "0.12852096557617188 data loading time\n",
            "2.5393526554107666 Discriminators training\n",
            "1.0733585357666016 backprop discriminator\n",
            "0.24880743026733398 adversarial loss\n",
            "2.0674092769622803 cycle loss\n",
            "9.376761198043823 generator backprop\n",
            "Generator Loss: 2.5057554244995117 Discriminator Loss: 0.4422534108161926\n",
            "0.11157703399658203 data loading time\n",
            "0.11156439781188965 data loading time\n"
          ]
        },
        {
          "output_type": "stream",
          "name": "stderr",
          "text": [
            "\r 16%|█▌        | 327/2035 [1:37:40<8:26:16, 17.78s/it]"
          ]
        },
        {
          "output_type": "stream",
          "name": "stdout",
          "text": [
            "0.13338708877563477 data loading time\n",
            "2.5671448707580566 Discriminators training\n",
            "1.0772030353546143 backprop discriminator\n",
            "0.2412858009338379 adversarial loss\n",
            "2.088223934173584 cycle loss\n",
            "9.368204116821289 generator backprop\n",
            "Generator Loss: 3.550117015838623 Discriminator Loss: 0.4791598320007324\n",
            "0.1123814582824707 data loading time\n",
            "0.11175990104675293 data loading time\n"
          ]
        },
        {
          "output_type": "stream",
          "name": "stderr",
          "text": [
            "\r 16%|█▌        | 328/2035 [1:37:57<8:26:34, 17.81s/it]"
          ]
        },
        {
          "output_type": "stream",
          "name": "stdout",
          "text": [
            "0.1289350986480713 data loading time\n",
            "2.570622682571411 Discriminators training\n",
            "1.0843605995178223 backprop discriminator\n",
            "0.2485032081604004 adversarial loss\n",
            "2.0910298824310303 cycle loss\n",
            "9.320860385894775 generator backprop\n",
            "Generator Loss: 4.159241199493408 Discriminator Loss: 0.47535181045532227\n",
            "0.11149764060974121 data loading time\n",
            "0.11064934730529785 data loading time\n"
          ]
        },
        {
          "output_type": "stream",
          "name": "stderr",
          "text": [
            "\r 16%|█▌        | 329/2035 [1:38:15<8:26:26, 17.81s/it]"
          ]
        },
        {
          "output_type": "stream",
          "name": "stdout",
          "text": [
            "0.12436294555664062 data loading time\n",
            "2.559091567993164 Discriminators training\n",
            "1.0723752975463867 backprop discriminator\n",
            "0.24453353881835938 adversarial loss\n",
            "2.0747323036193848 cycle loss\n",
            "9.249109506607056 generator backprop\n",
            "Generator Loss: 2.4246644973754883 Discriminator Loss: 0.4536548852920532\n",
            "0.1121070384979248 data loading time\n",
            "0.11200070381164551 data loading time\n"
          ]
        },
        {
          "output_type": "stream",
          "name": "stderr",
          "text": [
            "\r 16%|█▌        | 330/2035 [1:38:33<8:25:14, 17.78s/it]"
          ]
        },
        {
          "output_type": "stream",
          "name": "stdout",
          "text": [
            "0.12844562530517578 data loading time\n",
            "2.5406899452209473 Discriminators training\n",
            "1.0728683471679688 backprop discriminator\n",
            "0.2527639865875244 adversarial loss\n",
            "2.071223258972168 cycle loss\n",
            "9.300819396972656 generator backprop\n",
            "Generator Loss: 2.698699951171875 Discriminator Loss: 0.48227980732917786\n",
            "0.11197948455810547 data loading time\n",
            "0.11139678955078125 data loading time\n"
          ]
        },
        {
          "output_type": "stream",
          "name": "stderr",
          "text": [
            "\r 16%|█▋        | 331/2035 [1:38:51<8:24:39, 17.77s/it]"
          ]
        },
        {
          "output_type": "stream",
          "name": "stdout",
          "text": [
            "0.12169694900512695 data loading time\n",
            "2.5537405014038086 Discriminators training\n",
            "1.0842809677124023 backprop discriminator\n",
            "0.2469935417175293 adversarial loss\n",
            "2.0742924213409424 cycle loss\n",
            "9.413866519927979 generator backprop\n",
            "Generator Loss: 2.392181396484375 Discriminator Loss: 0.4466772675514221\n",
            "0.11555075645446777 data loading time\n",
            "0.11206412315368652 data loading time\n"
          ]
        },
        {
          "output_type": "stream",
          "name": "stderr",
          "text": [
            "\r 16%|█▋        | 332/2035 [1:39:09<8:25:19, 17.80s/it]"
          ]
        },
        {
          "output_type": "stream",
          "name": "stdout",
          "text": [
            "0.12654495239257812 data loading time\n",
            "2.564896583557129 Discriminators training\n",
            "1.084019660949707 backprop discriminator\n",
            "0.25247931480407715 adversarial loss\n",
            "2.0987484455108643 cycle loss\n",
            "9.447410821914673 generator backprop\n",
            "Generator Loss: 2.65689754486084 Discriminator Loss: 0.6002610921859741\n",
            "0.11162757873535156 data loading time\n",
            "0.11268138885498047 data loading time\n"
          ]
        },
        {
          "output_type": "stream",
          "name": "stderr",
          "text": [
            "\r 16%|█▋        | 333/2035 [1:39:27<8:26:24, 17.85s/it]"
          ]
        },
        {
          "output_type": "stream",
          "name": "stdout",
          "text": [
            "0.13251233100891113 data loading time\n",
            "2.5595107078552246 Discriminators training\n",
            "1.0727794170379639 backprop discriminator\n",
            "0.245194673538208 adversarial loss\n",
            "2.092245101928711 cycle loss\n",
            "9.53568959236145 generator backprop\n",
            "Generator Loss: 2.753420114517212 Discriminator Loss: 0.4708262085914612\n",
            "0.11158394813537598 data loading time\n",
            "0.11148881912231445 data loading time\n"
          ]
        },
        {
          "output_type": "stream",
          "name": "stderr",
          "text": [
            "\r 16%|█▋        | 334/2035 [1:39:45<8:27:31, 17.90s/it]"
          ]
        },
        {
          "output_type": "stream",
          "name": "stdout",
          "text": [
            "0.11856746673583984 data loading time\n",
            "2.5638914108276367 Discriminators training\n",
            "1.0822768211364746 backprop discriminator\n",
            "0.24383115768432617 adversarial loss\n",
            "2.093352794647217 cycle loss\n",
            "9.374526500701904 generator backprop\n",
            "Generator Loss: 2.328127384185791 Discriminator Loss: 0.47750890254974365\n",
            "0.11531758308410645 data loading time\n",
            "0.11141681671142578 data loading time\n"
          ]
        },
        {
          "output_type": "stream",
          "name": "stderr",
          "text": [
            "\r 16%|█▋        | 335/2035 [1:40:02<8:26:52, 17.89s/it]"
          ]
        },
        {
          "output_type": "stream",
          "name": "stdout",
          "text": [
            "0.12782692909240723 data loading time\n",
            "2.5835673809051514 Discriminators training\n",
            "1.082481861114502 backprop discriminator\n",
            "0.24505066871643066 adversarial loss\n",
            "2.1027302742004395 cycle loss\n",
            "9.568998098373413 generator backprop\n",
            "Generator Loss: 3.9580161571502686 Discriminator Loss: 0.3888237476348877\n",
            "0.11269879341125488 data loading time\n",
            "0.11719417572021484 data loading time\n"
          ]
        },
        {
          "output_type": "stream",
          "name": "stderr",
          "text": [
            "\r 17%|█▋        | 336/2035 [1:40:21<8:28:36, 17.96s/it]"
          ]
        },
        {
          "output_type": "stream",
          "name": "stdout",
          "text": [
            "0.1283426284790039 data loading time\n",
            "2.6182198524475098 Discriminators training\n",
            "1.0910916328430176 backprop discriminator\n",
            "0.2537386417388916 adversarial loss\n",
            "2.1402432918548584 cycle loss\n",
            "9.378773927688599 generator backprop\n",
            "Generator Loss: 3.8443193435668945 Discriminator Loss: 0.48871591687202454\n",
            "0.11062073707580566 data loading time\n",
            "0.11166191101074219 data loading time\n"
          ]
        },
        {
          "output_type": "stream",
          "name": "stderr",
          "text": [
            "\r 17%|█▋        | 337/2035 [1:40:39<8:28:38, 17.97s/it]"
          ]
        },
        {
          "output_type": "stream",
          "name": "stdout",
          "text": [
            "0.12957048416137695 data loading time\n",
            "2.555419683456421 Discriminators training\n",
            "1.0723028182983398 backprop discriminator\n",
            "0.2470686435699463 adversarial loss\n",
            "2.0814924240112305 cycle loss\n",
            "9.298438787460327 generator backprop\n",
            "Generator Loss: 2.9708006381988525 Discriminator Loss: 0.4393262267112732\n",
            "0.11508440971374512 data loading time\n",
            "0.11132049560546875 data loading time\n"
          ]
        },
        {
          "output_type": "stream",
          "name": "stderr",
          "text": [
            "\r 17%|█▋        | 338/2035 [1:40:56<8:26:33, 17.91s/it]"
          ]
        },
        {
          "output_type": "stream",
          "name": "stdout",
          "text": [
            "0.131988525390625 data loading time\n",
            "2.54730486869812 Discriminators training\n",
            "1.068303108215332 backprop discriminator\n",
            "0.24645543098449707 adversarial loss\n",
            "2.0855493545532227 cycle loss\n",
            "9.440658569335938 generator backprop\n",
            "Generator Loss: 2.4190497398376465 Discriminator Loss: 0.48745715618133545\n",
            "0.11208105087280273 data loading time\n",
            "0.11276912689208984 data loading time\n"
          ]
        },
        {
          "output_type": "stream",
          "name": "stderr",
          "text": [
            "\r 17%|█▋        | 339/2035 [1:41:14<8:26:23, 17.91s/it]"
          ]
        },
        {
          "output_type": "stream",
          "name": "stdout",
          "text": [
            "0.14409661293029785 data loading time\n",
            "2.586066484451294 Discriminators training\n",
            "1.094449758529663 backprop discriminator\n",
            "0.23962116241455078 adversarial loss\n",
            "2.0982768535614014 cycle loss\n",
            "9.351425409317017 generator backprop\n",
            "Generator Loss: 2.795011043548584 Discriminator Loss: 0.45537930727005005\n",
            "0.11272501945495605 data loading time\n",
            "0.11268281936645508 data loading time\n"
          ]
        },
        {
          "output_type": "stream",
          "name": "stderr",
          "text": [
            "\r 17%|█▋        | 340/2035 [1:41:32<8:26:07, 17.92s/it]"
          ]
        },
        {
          "output_type": "stream",
          "name": "stdout",
          "text": [
            "0.12598037719726562 data loading time\n",
            "2.55769944190979 Discriminators training\n",
            "1.0868780612945557 backprop discriminator\n",
            "0.2412872314453125 adversarial loss\n",
            "2.0833961963653564 cycle loss\n",
            "9.345986366271973 generator backprop\n",
            "Generator Loss: 3.122591495513916 Discriminator Loss: 0.45962080359458923\n",
            "0.11140751838684082 data loading time\n",
            "0.11754727363586426 data loading time\n"
          ]
        },
        {
          "output_type": "stream",
          "name": "stderr",
          "text": [
            "\r 17%|█▋        | 341/2035 [1:41:50<8:25:04, 17.89s/it]"
          ]
        },
        {
          "output_type": "stream",
          "name": "stdout",
          "text": [
            "0.13289213180541992 data loading time\n",
            "2.564849376678467 Discriminators training\n",
            "1.0828883647918701 backprop discriminator\n",
            "0.24786877632141113 adversarial loss\n",
            "2.089904546737671 cycle loss\n",
            "9.32946252822876 generator backprop\n",
            "Generator Loss: 2.81076717376709 Discriminator Loss: 0.4618168771266937\n",
            "0.11119842529296875 data loading time\n",
            "0.11239242553710938 data loading time\n"
          ]
        },
        {
          "output_type": "stream",
          "name": "stderr",
          "text": [
            "\r 17%|█▋        | 342/2035 [1:42:08<8:24:18, 17.87s/it]"
          ]
        },
        {
          "output_type": "stream",
          "name": "stdout",
          "text": [
            "0.12998390197753906 data loading time\n",
            "2.564727544784546 Discriminators training\n",
            "1.0681052207946777 backprop discriminator\n",
            "0.2564725875854492 adversarial loss\n",
            "2.0871880054473877 cycle loss\n",
            "9.32056212425232 generator backprop\n",
            "Generator Loss: 2.8874564170837402 Discriminator Loss: 0.43259090185165405\n",
            "0.11434078216552734 data loading time\n",
            "0.11172699928283691 data loading time\n"
          ]
        },
        {
          "output_type": "stream",
          "name": "stderr",
          "text": [
            "\r 17%|█▋        | 343/2035 [1:42:26<8:23:31, 17.86s/it]"
          ]
        },
        {
          "output_type": "stream",
          "name": "stdout",
          "text": [
            "0.12063860893249512 data loading time\n",
            "2.544421672821045 Discriminators training\n",
            "1.0727221965789795 backprop discriminator\n",
            "0.24720382690429688 adversarial loss\n",
            "2.071528911590576 cycle loss\n",
            "9.28171443939209 generator backprop\n",
            "Generator Loss: 6.524028778076172 Discriminator Loss: 0.4372444152832031\n",
            "0.11070537567138672 data loading time\n",
            "0.11124372482299805 data loading time\n"
          ]
        },
        {
          "output_type": "stream",
          "name": "stderr",
          "text": [
            "\r 17%|█▋        | 344/2035 [1:42:43<8:22:07, 17.82s/it]"
          ]
        },
        {
          "output_type": "stream",
          "name": "stdout",
          "text": [
            "0.12558865547180176 data loading time\n",
            "2.532097816467285 Discriminators training\n",
            "1.066939115524292 backprop discriminator\n",
            "0.24084901809692383 adversarial loss\n",
            "2.065906286239624 cycle loss\n",
            "9.268592119216919 generator backprop\n",
            "Generator Loss: 2.7912490367889404 Discriminator Loss: 0.48442476987838745\n",
            "0.11107420921325684 data loading time\n",
            "0.1168522834777832 data loading time\n"
          ]
        },
        {
          "output_type": "stream",
          "name": "stderr",
          "text": [
            "\r 17%|█▋        | 345/2035 [1:43:01<8:20:36, 17.77s/it]"
          ]
        },
        {
          "output_type": "stream",
          "name": "stdout",
          "text": [
            "0.12370967864990234 data loading time\n",
            "2.534557342529297 Discriminators training\n",
            "1.0758583545684814 backprop discriminator\n",
            "0.26247668266296387 adversarial loss\n",
            "2.0591630935668945 cycle loss\n",
            "9.200767040252686 generator backprop\n",
            "Generator Loss: 3.021690845489502 Discriminator Loss: 0.5226333141326904\n",
            "0.1107947826385498 data loading time\n",
            "0.11213088035583496 data loading time\n"
          ]
        },
        {
          "output_type": "stream",
          "name": "stderr",
          "text": [
            "\r 17%|█▋        | 346/2035 [1:43:19<8:19:10, 17.73s/it]"
          ]
        },
        {
          "output_type": "stream",
          "name": "stdout",
          "text": [
            "0.12511205673217773 data loading time\n",
            "2.5483508110046387 Discriminators training\n",
            "1.0757513046264648 backprop discriminator\n",
            "0.2500486373901367 adversarial loss\n",
            "2.0805301666259766 cycle loss\n",
            "9.225090980529785 generator backprop\n",
            "Generator Loss: 2.3323864936828613 Discriminator Loss: 0.4722388982772827\n",
            "0.11132526397705078 data loading time\n",
            "0.11210942268371582 data loading time\n"
          ]
        },
        {
          "output_type": "stream",
          "name": "stderr",
          "text": [
            "\r 17%|█▋        | 347/2035 [1:43:36<8:18:23, 17.72s/it]"
          ]
        },
        {
          "output_type": "stream",
          "name": "stdout",
          "text": [
            "0.12655329704284668 data loading time\n",
            "2.5475289821624756 Discriminators training\n",
            "1.0724895000457764 backprop discriminator\n",
            "0.23868274688720703 adversarial loss\n",
            "2.094853162765503 cycle loss\n",
            "9.299689292907715 generator backprop\n",
            "Generator Loss: 2.284646511077881 Discriminator Loss: 0.4818267226219177\n",
            "0.11348295211791992 data loading time\n",
            "0.11364340782165527 data loading time\n"
          ]
        },
        {
          "output_type": "stream",
          "name": "stderr",
          "text": [
            "\r 17%|█▋        | 348/2035 [1:43:54<8:18:34, 17.73s/it]"
          ]
        },
        {
          "output_type": "stream",
          "name": "stdout",
          "text": [
            "0.1264042854309082 data loading time\n",
            "2.5500245094299316 Discriminators training\n",
            "1.0936331748962402 backprop discriminator\n",
            "0.24411725997924805 adversarial loss\n",
            "2.086034059524536 cycle loss\n",
            "9.307386636734009 generator backprop\n",
            "Generator Loss: 2.6625616550445557 Discriminator Loss: 0.4274955987930298\n",
            "0.1116480827331543 data loading time\n",
            "0.1118619441986084 data loading time\n"
          ]
        },
        {
          "output_type": "stream",
          "name": "stderr",
          "text": [
            "\r 17%|█▋        | 349/2035 [1:44:12<8:18:52, 17.75s/it]"
          ]
        },
        {
          "output_type": "stream",
          "name": "stdout",
          "text": [
            "0.12715506553649902 data loading time\n",
            "2.542041301727295 Discriminators training\n",
            "1.080925464630127 backprop discriminator\n",
            "0.24677610397338867 adversarial loss\n",
            "2.0779974460601807 cycle loss\n",
            "9.377447843551636 generator backprop\n",
            "Generator Loss: 2.548995018005371 Discriminator Loss: 0.35530349612236023\n",
            "0.11099004745483398 data loading time\n",
            "0.11164188385009766 data loading time\n"
          ]
        },
        {
          "output_type": "stream",
          "name": "stderr",
          "text": [
            "\r 17%|█▋        | 350/2035 [1:44:30<8:19:14, 17.78s/it]"
          ]
        },
        {
          "output_type": "stream",
          "name": "stdout",
          "text": [
            "0.1265559196472168 data loading time\n",
            "2.564939498901367 Discriminators training\n",
            "1.0841975212097168 backprop discriminator\n",
            "0.24343323707580566 adversarial loss\n",
            "2.090261220932007 cycle loss\n",
            "9.383241653442383 generator backprop\n",
            "Generator Loss: 3.5635933876037598 Discriminator Loss: 0.48338013887405396\n",
            "0.1111760139465332 data loading time\n",
            "0.11460518836975098 data loading time\n"
          ]
        },
        {
          "output_type": "stream",
          "name": "stderr",
          "text": [
            "\r 17%|█▋        | 351/2035 [1:44:48<8:19:45, 17.81s/it]"
          ]
        },
        {
          "output_type": "stream",
          "name": "stdout",
          "text": [
            "0.13428330421447754 data loading time\n",
            "2.567288637161255 Discriminators training\n",
            "1.0728495121002197 backprop discriminator\n",
            "0.24470949172973633 adversarial loss\n",
            "2.0900890827178955 cycle loss\n",
            "9.374619960784912 generator backprop\n",
            "Generator Loss: 2.859389066696167 Discriminator Loss: 0.4905455410480499\n",
            "0.11104464530944824 data loading time\n",
            "0.11475110054016113 data loading time\n"
          ]
        },
        {
          "output_type": "stream",
          "name": "stderr",
          "text": [
            "\r 17%|█▋        | 352/2035 [1:45:06<8:20:08, 17.83s/it]"
          ]
        },
        {
          "output_type": "stream",
          "name": "stdout",
          "text": [
            "0.12010860443115234 data loading time\n",
            "2.558001756668091 Discriminators training\n",
            "1.0641517639160156 backprop discriminator\n",
            "0.24461650848388672 adversarial loss\n",
            "2.092343807220459 cycle loss\n",
            "9.376989364624023 generator backprop\n",
            "Generator Loss: 2.7515501976013184 Discriminator Loss: 0.5373070240020752\n",
            "0.11081194877624512 data loading time\n",
            "0.11585879325866699 data loading time\n"
          ]
        },
        {
          "output_type": "stream",
          "name": "stderr",
          "text": [
            "\r 17%|█▋        | 353/2035 [1:45:23<8:19:54, 17.83s/it]"
          ]
        },
        {
          "output_type": "stream",
          "name": "stdout",
          "text": [
            "0.12850666046142578 data loading time\n",
            "2.551656723022461 Discriminators training\n",
            "1.069373607635498 backprop discriminator\n",
            "0.24991965293884277 adversarial loss\n",
            "2.072812795639038 cycle loss\n",
            "9.363824367523193 generator backprop\n",
            "Generator Loss: 2.493344783782959 Discriminator Loss: 0.4729814827442169\n",
            "0.11176037788391113 data loading time\n",
            "0.11144328117370605 data loading time\n"
          ]
        },
        {
          "output_type": "stream",
          "name": "stderr",
          "text": [
            "\r 17%|█▋        | 354/2035 [1:45:41<8:19:31, 17.83s/it]"
          ]
        },
        {
          "output_type": "stream",
          "name": "stdout",
          "text": [
            "0.1290581226348877 data loading time\n",
            "2.563509941101074 Discriminators training\n",
            "1.0649476051330566 backprop discriminator\n",
            "0.24091053009033203 adversarial loss\n",
            "2.095965623855591 cycle loss\n",
            "9.304142475128174 generator backprop\n",
            "Generator Loss: 2.6646640300750732 Discriminator Loss: 0.47069454193115234\n",
            "0.11165094375610352 data loading time\n",
            "0.11480116844177246 data loading time\n"
          ]
        },
        {
          "output_type": "stream",
          "name": "stderr",
          "text": [
            "\r 17%|█▋        | 355/2035 [1:45:59<8:18:58, 17.82s/it]"
          ]
        },
        {
          "output_type": "stream",
          "name": "stdout",
          "text": [
            "0.12835192680358887 data loading time\n",
            "2.557203769683838 Discriminators training\n",
            "1.0730493068695068 backprop discriminator\n",
            "0.24880743026733398 adversarial loss\n",
            "2.0900473594665527 cycle loss\n",
            "9.451275110244751 generator backprop\n",
            "Generator Loss: 2.9860215187072754 Discriminator Loss: 0.47521722316741943\n",
            "0.11207795143127441 data loading time\n",
            "0.11396074295043945 data loading time\n"
          ]
        },
        {
          "output_type": "stream",
          "name": "stderr",
          "text": [
            "\r 17%|█▋        | 356/2035 [1:46:17<8:19:52, 17.86s/it]"
          ]
        },
        {
          "output_type": "stream",
          "name": "stdout",
          "text": [
            "0.12991642951965332 data loading time\n",
            "2.5880677700042725 Discriminators training\n",
            "1.1001791954040527 backprop discriminator\n",
            "0.25044822692871094 adversarial loss\n",
            "2.2500882148742676 cycle loss\n",
            "9.7028329372406 generator backprop\n",
            "Generator Loss: 2.1473569869995117 Discriminator Loss: 0.45715510845184326\n",
            "0.11371970176696777 data loading time\n",
            "0.11170601844787598 data loading time\n"
          ]
        },
        {
          "output_type": "stream",
          "name": "stderr",
          "text": [
            "\r 18%|█▊        | 357/2035 [1:46:35<8:24:20, 18.03s/it]"
          ]
        },
        {
          "output_type": "stream",
          "name": "stdout",
          "text": [
            "0.12367987632751465 data loading time\n",
            "2.557020902633667 Discriminators training\n",
            "1.0839643478393555 backprop discriminator\n",
            "0.2499711513519287 adversarial loss\n",
            "2.076395273208618 cycle loss\n",
            "9.528980255126953 generator backprop\n",
            "Generator Loss: 3.2975451946258545 Discriminator Loss: 0.43187057971954346\n",
            "0.11129474639892578 data loading time\n",
            "0.11672425270080566 data loading time\n"
          ]
        },
        {
          "output_type": "stream",
          "name": "stderr",
          "text": [
            "\r 18%|█▊        | 358/2035 [1:46:53<8:24:14, 18.04s/it]"
          ]
        },
        {
          "output_type": "stream",
          "name": "stdout",
          "text": [
            "0.14000225067138672 data loading time\n",
            "2.580564022064209 Discriminators training\n",
            "1.1007568836212158 backprop discriminator\n",
            "0.24640130996704102 adversarial loss\n",
            "2.1178526878356934 cycle loss\n",
            "9.529166460037231 generator backprop\n",
            "Generator Loss: 3.0932297706604004 Discriminator Loss: 0.4683504104614258\n",
            "0.11409449577331543 data loading time\n",
            "0.11202096939086914 data loading time\n"
          ]
        },
        {
          "output_type": "stream",
          "name": "stderr",
          "text": [
            "\r 18%|█▊        | 359/2035 [1:47:12<8:24:33, 18.06s/it]"
          ]
        },
        {
          "output_type": "stream",
          "name": "stdout",
          "text": [
            "0.12768244743347168 data loading time\n",
            "2.6188771724700928 Discriminators training\n",
            "1.0863580703735352 backprop discriminator\n",
            "0.24863553047180176 adversarial loss\n",
            "2.1044373512268066 cycle loss\n",
            "9.614344596862793 generator backprop\n",
            "Generator Loss: 4.330686569213867 Discriminator Loss: 0.5574776530265808\n",
            "0.11284661293029785 data loading time\n",
            "0.11424493789672852 data loading time\n"
          ]
        },
        {
          "output_type": "stream",
          "name": "stderr",
          "text": [
            "\r 18%|█▊        | 360/2035 [1:47:30<8:25:39, 18.11s/it]"
          ]
        },
        {
          "output_type": "stream",
          "name": "stdout",
          "text": [
            "0.12660503387451172 data loading time\n",
            "2.600938081741333 Discriminators training\n",
            "1.1029391288757324 backprop discriminator\n",
            "0.24427509307861328 adversarial loss\n",
            "2.122018337249756 cycle loss\n",
            "9.509294509887695 generator backprop\n",
            "Generator Loss: 3.225494146347046 Discriminator Loss: 0.469230592250824\n",
            "0.11207127571105957 data loading time\n",
            "0.11540102958679199 data loading time\n"
          ]
        },
        {
          "output_type": "stream",
          "name": "stderr",
          "text": [
            "\r 18%|█▊        | 361/2035 [1:47:48<8:25:19, 18.11s/it]"
          ]
        },
        {
          "output_type": "stream",
          "name": "stdout",
          "text": [
            "0.12829303741455078 data loading time\n",
            "2.6013505458831787 Discriminators training\n",
            "1.1090891361236572 backprop discriminator\n",
            "0.24692702293395996 adversarial loss\n",
            "2.1148416996002197 cycle loss\n",
            "9.521561861038208 generator backprop\n",
            "Generator Loss: 2.7686374187469482 Discriminator Loss: 0.4564208686351776\n",
            "0.11128616333007812 data loading time\n",
            "0.11577463150024414 data loading time\n"
          ]
        },
        {
          "output_type": "stream",
          "name": "stderr",
          "text": [
            "\r 18%|█▊        | 362/2035 [1:48:06<8:25:19, 18.12s/it]"
          ]
        },
        {
          "output_type": "stream",
          "name": "stdout",
          "text": [
            "0.13505196571350098 data loading time\n",
            "2.5921943187713623 Discriminators training\n",
            "1.114048719406128 backprop discriminator\n",
            "0.24678754806518555 adversarial loss\n",
            "2.1387603282928467 cycle loss\n",
            "9.542730569839478 generator backprop\n",
            "Generator Loss: 4.015875816345215 Discriminator Loss: 0.5435510873794556\n",
            "0.11506152153015137 data loading time\n",
            "0.11914920806884766 data loading time\n"
          ]
        },
        {
          "output_type": "stream",
          "name": "stderr",
          "text": [
            "\r 18%|█▊        | 363/2035 [1:48:24<8:25:44, 18.15s/it]"
          ]
        },
        {
          "output_type": "stream",
          "name": "stdout",
          "text": [
            "0.1269092559814453 data loading time\n",
            "2.602987051010132 Discriminators training\n",
            "1.1057920455932617 backprop discriminator\n",
            "0.24877524375915527 adversarial loss\n",
            "2.0905981063842773 cycle loss\n",
            "9.53506350517273 generator backprop\n",
            "Generator Loss: 3.261814594268799 Discriminator Loss: 0.4691057503223419\n",
            "0.11237692832946777 data loading time\n",
            "0.11155104637145996 data loading time\n"
          ]
        },
        {
          "output_type": "stream",
          "name": "stderr",
          "text": [
            "\r 18%|█▊        | 364/2035 [1:48:42<8:25:11, 18.14s/it]"
          ]
        },
        {
          "output_type": "stream",
          "name": "stdout",
          "text": [
            "0.13469314575195312 data loading time\n",
            "2.598966360092163 Discriminators training\n",
            "1.1936817169189453 backprop discriminator\n",
            "0.2485506534576416 adversarial loss\n",
            "2.1173150539398193 cycle loss\n",
            "9.53854751586914 generator backprop\n",
            "Generator Loss: 2.713301420211792 Discriminator Loss: 0.612329363822937\n",
            "0.11375689506530762 data loading time\n",
            "0.11292648315429688 data loading time\n"
          ]
        },
        {
          "output_type": "stream",
          "name": "stderr",
          "text": [
            "\r 18%|█▊        | 365/2035 [1:49:01<8:25:43, 18.17s/it]"
          ]
        },
        {
          "output_type": "stream",
          "name": "stdout",
          "text": [
            "0.14083051681518555 data loading time\n",
            "2.5846235752105713 Discriminators training\n",
            "1.09660005569458 backprop discriminator\n",
            "0.24558472633361816 adversarial loss\n",
            "2.110821485519409 cycle loss\n",
            "9.662879467010498 generator backprop\n",
            "Generator Loss: 2.2661876678466797 Discriminator Loss: 0.4950887858867645\n",
            "0.11198282241821289 data loading time\n",
            "0.11340713500976562 data loading time\n"
          ]
        },
        {
          "output_type": "stream",
          "name": "stderr",
          "text": [
            "\r 18%|█▊        | 366/2035 [1:49:19<8:26:04, 18.19s/it]"
          ]
        },
        {
          "output_type": "stream",
          "name": "stdout",
          "text": [
            "0.13253450393676758 data loading time\n",
            "2.5756399631500244 Discriminators training\n",
            "1.0940001010894775 backprop discriminator\n",
            "0.2519824504852295 adversarial loss\n",
            "2.1310179233551025 cycle loss\n",
            "9.53521203994751 generator backprop\n",
            "Generator Loss: 2.36946439743042 Discriminator Loss: 0.4774637818336487\n",
            "0.11195755004882812 data loading time\n",
            "0.11426782608032227 data loading time\n"
          ]
        },
        {
          "output_type": "stream",
          "name": "stderr",
          "text": [
            "\r 18%|█▊        | 367/2035 [1:49:37<8:25:24, 18.18s/it]"
          ]
        },
        {
          "output_type": "stream",
          "name": "stdout",
          "text": [
            "0.13170433044433594 data loading time\n",
            "2.563265085220337 Discriminators training\n",
            "1.0779614448547363 backprop discriminator\n",
            "0.24395203590393066 adversarial loss\n",
            "2.114393711090088 cycle loss\n",
            "9.499581813812256 generator backprop\n",
            "Generator Loss: 3.9811363220214844 Discriminator Loss: 0.43936383724212646\n",
            "0.11375093460083008 data loading time\n",
            "0.11378073692321777 data loading time\n"
          ]
        },
        {
          "output_type": "stream",
          "name": "stderr",
          "text": [
            "\r 18%|█▊        | 368/2035 [1:49:55<8:24:03, 18.14s/it]"
          ]
        },
        {
          "output_type": "stream",
          "name": "stdout",
          "text": [
            "0.13781189918518066 data loading time\n",
            "2.568070888519287 Discriminators training\n",
            "1.0867438316345215 backprop discriminator\n",
            "0.24105381965637207 adversarial loss\n",
            "2.136723279953003 cycle loss\n",
            "9.450163125991821 generator backprop\n",
            "Generator Loss: 3.09782075881958 Discriminator Loss: 0.5380801558494568\n",
            "0.11530613899230957 data loading time\n",
            "0.11297178268432617 data loading time\n"
          ]
        },
        {
          "output_type": "stream",
          "name": "stderr",
          "text": [
            "\r 18%|█▊        | 369/2035 [1:50:13<8:22:52, 18.11s/it]"
          ]
        },
        {
          "output_type": "stream",
          "name": "stdout",
          "text": [
            "0.12302112579345703 data loading time\n",
            "2.579362392425537 Discriminators training\n",
            "1.103276014328003 backprop discriminator\n",
            "0.24051284790039062 adversarial loss\n",
            "2.0916738510131836 cycle loss\n",
            "9.368122339248657 generator backprop\n",
            "Generator Loss: 2.741590976715088 Discriminator Loss: 0.5122029185295105\n",
            "0.11126399040222168 data loading time\n",
            "0.11244654655456543 data loading time\n"
          ]
        },
        {
          "output_type": "stream",
          "name": "stderr",
          "text": [
            "\r 18%|█▊        | 370/2035 [1:50:31<8:21:01, 18.06s/it]"
          ]
        },
        {
          "output_type": "stream",
          "name": "stdout",
          "text": [
            "0.12391376495361328 data loading time\n",
            "2.5540201663970947 Discriminators training\n",
            "1.0812642574310303 backprop discriminator\n",
            "0.24283957481384277 adversarial loss\n",
            "2.0967931747436523 cycle loss\n",
            "9.349484205245972 generator backprop\n",
            "Generator Loss: 2.8519539833068848 Discriminator Loss: 0.4531431496143341\n",
            "0.11071968078613281 data loading time\n",
            "0.11304044723510742 data loading time\n"
          ]
        },
        {
          "output_type": "stream",
          "name": "stderr",
          "text": [
            "\r 18%|█▊        | 371/2035 [1:50:49<8:18:56, 17.99s/it]"
          ]
        },
        {
          "output_type": "stream",
          "name": "stdout",
          "text": [
            "0.1308290958404541 data loading time\n",
            "2.605783224105835 Discriminators training\n",
            "1.093660593032837 backprop discriminator\n",
            "0.2437739372253418 adversarial loss\n",
            "2.090230941772461 cycle loss\n",
            "9.400876760482788 generator backprop\n",
            "Generator Loss: 3.2300519943237305 Discriminator Loss: 0.476592481136322\n",
            "0.11133337020874023 data loading time\n",
            "0.11654019355773926 data loading time\n"
          ]
        },
        {
          "output_type": "stream",
          "name": "stderr",
          "text": [
            "\r 18%|█▊        | 372/2035 [1:51:07<8:18:28, 17.98s/it]"
          ]
        },
        {
          "output_type": "stream",
          "name": "stdout",
          "text": [
            "0.14409708976745605 data loading time\n",
            "2.605973958969116 Discriminators training\n",
            "1.095228910446167 backprop discriminator\n",
            "0.2536942958831787 adversarial loss\n",
            "2.0949313640594482 cycle loss\n",
            "9.671744108200073 generator backprop\n",
            "Generator Loss: 3.2715795040130615 Discriminator Loss: 0.4014979600906372\n",
            "0.11161279678344727 data loading time\n",
            "0.11858296394348145 data loading time\n"
          ]
        },
        {
          "output_type": "stream",
          "name": "stderr",
          "text": [
            "\r 18%|█▊        | 373/2035 [1:51:25<8:20:33, 18.07s/it]"
          ]
        },
        {
          "output_type": "stream",
          "name": "stdout",
          "text": [
            "0.12749004364013672 data loading time\n",
            "2.561746835708618 Discriminators training\n",
            "1.0947680473327637 backprop discriminator\n",
            "0.25256872177124023 adversarial loss\n",
            "2.1049718856811523 cycle loss\n",
            "9.464890718460083 generator backprop\n",
            "Generator Loss: 3.149775743484497 Discriminator Loss: 0.4653031826019287\n",
            "0.11299848556518555 data loading time\n",
            "0.1172323226928711 data loading time\n"
          ]
        },
        {
          "output_type": "stream",
          "name": "stderr",
          "text": [
            "\r 18%|█▊        | 374/2035 [1:51:43<8:19:58, 18.06s/it]"
          ]
        },
        {
          "output_type": "stream",
          "name": "stdout",
          "text": [
            "0.13651490211486816 data loading time\n",
            "2.536517858505249 Discriminators training\n",
            "1.099914789199829 backprop discriminator\n",
            "0.24831867218017578 adversarial loss\n",
            "2.127492904663086 cycle loss\n",
            "9.509353637695312 generator backprop\n",
            "Generator Loss: 3.0221638679504395 Discriminator Loss: 0.5387814044952393\n",
            "0.1143956184387207 data loading time\n",
            "0.11434316635131836 data loading time\n"
          ]
        },
        {
          "output_type": "stream",
          "name": "stderr",
          "text": [
            "\r 18%|█▊        | 375/2035 [1:52:01<8:20:08, 18.08s/it]"
          ]
        },
        {
          "output_type": "stream",
          "name": "stdout",
          "text": [
            "0.12906718254089355 data loading time\n",
            "2.5727174282073975 Discriminators training\n",
            "1.110722541809082 backprop discriminator\n",
            "0.25002431869506836 adversarial loss\n",
            "2.116868019104004 cycle loss\n",
            "9.584393978118896 generator backprop\n",
            "Generator Loss: 2.652106761932373 Discriminator Loss: 0.5271300077438354\n",
            "0.11251211166381836 data loading time\n",
            "0.11605644226074219 data loading time\n"
          ]
        },
        {
          "output_type": "stream",
          "name": "stderr",
          "text": [
            "\r 18%|█▊        | 376/2035 [1:52:19<8:20:37, 18.11s/it]"
          ]
        },
        {
          "output_type": "stream",
          "name": "stdout",
          "text": [
            "0.12975502014160156 data loading time\n",
            "2.618018865585327 Discriminators training\n",
            "1.1168885231018066 backprop discriminator\n",
            "0.24507451057434082 adversarial loss\n",
            "2.1067302227020264 cycle loss\n",
            "9.611501693725586 generator backprop\n",
            "Generator Loss: 2.781876564025879 Discriminator Loss: 0.5039411187171936\n",
            "0.11236262321472168 data loading time\n",
            "0.11391520500183105 data loading time\n"
          ]
        },
        {
          "output_type": "stream",
          "name": "stderr",
          "text": [
            "\r 19%|█▊        | 377/2035 [1:52:38<8:21:33, 18.15s/it]"
          ]
        },
        {
          "output_type": "stream",
          "name": "stdout",
          "text": [
            "0.13045310974121094 data loading time\n",
            "2.6127841472625732 Discriminators training\n",
            "1.0940322875976562 backprop discriminator\n",
            "0.24019551277160645 adversarial loss\n",
            "2.1035962104797363 cycle loss\n",
            "9.549698114395142 generator backprop\n",
            "Generator Loss: 3.107203960418701 Discriminator Loss: 0.4476044178009033\n",
            "0.11174154281616211 data loading time\n",
            "0.11297011375427246 data loading time\n"
          ]
        },
        {
          "output_type": "stream",
          "name": "stderr",
          "text": [
            "\r 19%|█▊        | 378/2035 [1:52:56<8:21:30, 18.16s/it]"
          ]
        },
        {
          "output_type": "stream",
          "name": "stdout",
          "text": [
            "0.13909506797790527 data loading time\n",
            "2.5993809700012207 Discriminators training\n",
            "1.0731921195983887 backprop discriminator\n",
            "0.24604225158691406 adversarial loss\n",
            "2.133070230484009 cycle loss\n",
            "9.462630987167358 generator backprop\n",
            "Generator Loss: 2.6270480155944824 Discriminator Loss: 0.4974716603755951\n",
            "0.11190676689147949 data loading time\n",
            "0.11364006996154785 data loading time\n"
          ]
        },
        {
          "output_type": "stream",
          "name": "stderr",
          "text": [
            "\r 19%|█▊        | 379/2035 [1:53:14<8:20:24, 18.13s/it]"
          ]
        },
        {
          "output_type": "stream",
          "name": "stdout",
          "text": [
            "0.1350867748260498 data loading time\n",
            "2.5586345195770264 Discriminators training\n",
            "1.0838453769683838 backprop discriminator\n",
            "0.2520160675048828 adversarial loss\n",
            "2.1073405742645264 cycle loss\n",
            "9.435879230499268 generator backprop\n",
            "Generator Loss: 2.7331292629241943 Discriminator Loss: 0.44261112809181213\n",
            "0.11066222190856934 data loading time\n",
            "0.11734271049499512 data loading time\n"
          ]
        },
        {
          "output_type": "stream",
          "name": "stderr",
          "text": [
            "\r 19%|█▊        | 380/2035 [1:53:32<8:19:00, 18.09s/it]"
          ]
        },
        {
          "output_type": "stream",
          "name": "stdout",
          "text": [
            "0.1341850757598877 data loading time\n",
            "2.5599732398986816 Discriminators training\n",
            "1.0793404579162598 backprop discriminator\n",
            "0.24603629112243652 adversarial loss\n",
            "2.1157262325286865 cycle loss\n",
            "9.417144775390625 generator backprop\n",
            "Generator Loss: 2.5381314754486084 Discriminator Loss: 0.45065420866012573\n",
            "0.1106572151184082 data loading time\n",
            "0.11219286918640137 data loading time\n"
          ]
        },
        {
          "output_type": "stream",
          "name": "stderr",
          "text": [
            "\r 19%|█▊        | 381/2035 [1:53:50<8:17:42, 18.05s/it]"
          ]
        },
        {
          "output_type": "stream",
          "name": "stdout",
          "text": [
            "0.13253450393676758 data loading time\n",
            "2.5721635818481445 Discriminators training\n",
            "1.0963537693023682 backprop discriminator\n",
            "0.2429344654083252 adversarial loss\n",
            "2.106755018234253 cycle loss\n",
            "9.3946692943573 generator backprop\n",
            "Generator Loss: 3.8761239051818848 Discriminator Loss: 0.5464641451835632\n",
            "0.11527800559997559 data loading time\n",
            "0.11762118339538574 data loading time\n"
          ]
        },
        {
          "output_type": "stream",
          "name": "stderr",
          "text": [
            "\r 19%|█▉        | 382/2035 [1:54:08<8:16:57, 18.04s/it]"
          ]
        },
        {
          "output_type": "stream",
          "name": "stdout",
          "text": [
            "0.13233065605163574 data loading time\n",
            "2.5567212104797363 Discriminators training\n",
            "1.1131579875946045 backprop discriminator\n",
            "0.24706363677978516 adversarial loss\n",
            "2.151614189147949 cycle loss\n",
            "9.49677062034607 generator backprop\n",
            "Generator Loss: 2.9055676460266113 Discriminator Loss: 0.44117915630340576\n",
            "0.11351490020751953 data loading time\n",
            "0.11676144599914551 data loading time\n"
          ]
        },
        {
          "output_type": "stream",
          "name": "stderr",
          "text": [
            "\r 19%|█▉        | 383/2035 [1:54:26<8:17:06, 18.05s/it]"
          ]
        },
        {
          "output_type": "stream",
          "name": "stdout",
          "text": [
            "0.12802839279174805 data loading time\n",
            "2.5762994289398193 Discriminators training\n",
            "1.0733015537261963 backprop discriminator\n",
            "0.256561279296875 adversarial loss\n",
            "2.0877394676208496 cycle loss\n",
            "9.439836740493774 generator backprop\n",
            "Generator Loss: 4.316999435424805 Discriminator Loss: 0.4899355471134186\n",
            "0.11198139190673828 data loading time\n",
            "0.11194062232971191 data loading time\n"
          ]
        },
        {
          "output_type": "stream",
          "name": "stderr",
          "text": [
            "\r 19%|█▉        | 384/2035 [1:54:44<8:16:12, 18.03s/it]"
          ]
        },
        {
          "output_type": "stream",
          "name": "stdout",
          "text": [
            "0.12926244735717773 data loading time\n",
            "2.5722315311431885 Discriminators training\n",
            "1.0862681865692139 backprop discriminator\n",
            "0.2430422306060791 adversarial loss\n",
            "2.1165568828582764 cycle loss\n",
            "9.480408191680908 generator backprop\n",
            "Generator Loss: 3.6227829456329346 Discriminator Loss: 0.49449825286865234\n",
            "0.11243629455566406 data loading time\n",
            "0.11385607719421387 data loading time\n"
          ]
        },
        {
          "output_type": "stream",
          "name": "stderr",
          "text": [
            "\r 19%|█▉        | 385/2035 [1:55:02<8:15:52, 18.03s/it]"
          ]
        },
        {
          "output_type": "stream",
          "name": "stdout",
          "text": [
            "0.13176369667053223 data loading time\n",
            "2.571053981781006 Discriminators training\n",
            "1.0885703563690186 backprop discriminator\n",
            "0.24286794662475586 adversarial loss\n",
            "2.111830949783325 cycle loss\n",
            "9.380796909332275 generator backprop\n",
            "Generator Loss: 2.677868604660034 Discriminator Loss: 0.4865573048591614\n",
            "0.11075425148010254 data loading time\n",
            "0.11383438110351562 data loading time\n"
          ]
        },
        {
          "output_type": "stream",
          "name": "stderr",
          "text": [
            "\r 19%|█▉        | 386/2035 [1:55:20<8:14:34, 18.00s/it]"
          ]
        },
        {
          "output_type": "stream",
          "name": "stdout",
          "text": [
            "0.1303553581237793 data loading time\n",
            "2.5472066402435303 Discriminators training\n",
            "1.0744051933288574 backprop discriminator\n",
            "0.25641536712646484 adversarial loss\n",
            "2.082101583480835 cycle loss\n",
            "9.28903341293335 generator backprop\n",
            "Generator Loss: 2.7812256813049316 Discriminator Loss: 0.4201611876487732\n",
            "0.11138558387756348 data loading time\n",
            "0.11840200424194336 data loading time\n"
          ]
        },
        {
          "output_type": "stream",
          "name": "stderr",
          "text": [
            "\r 19%|█▉        | 387/2035 [1:55:38<8:12:23, 17.93s/it]"
          ]
        },
        {
          "output_type": "stream",
          "name": "stdout",
          "text": [
            "0.13095784187316895 data loading time\n",
            "2.543116569519043 Discriminators training\n",
            "1.07120943069458 backprop discriminator\n",
            "0.2463536262512207 adversarial loss\n",
            "2.1028013229370117 cycle loss\n",
            "9.415343046188354 generator backprop\n",
            "Generator Loss: 2.889913320541382 Discriminator Loss: 0.4141407012939453\n",
            "0.11589503288269043 data loading time\n",
            "0.1129763126373291 data loading time\n"
          ]
        },
        {
          "output_type": "stream",
          "name": "stderr",
          "text": [
            "\r 19%|█▉        | 388/2035 [1:55:56<8:11:53, 17.92s/it]"
          ]
        },
        {
          "output_type": "stream",
          "name": "stdout",
          "text": [
            "0.13541507720947266 data loading time\n",
            "2.573812246322632 Discriminators training\n",
            "1.0865778923034668 backprop discriminator\n",
            "0.246138334274292 adversarial loss\n",
            "2.090336799621582 cycle loss\n",
            "9.34385347366333 generator backprop\n",
            "Generator Loss: 4.305419445037842 Discriminator Loss: 0.3860572576522827\n",
            "0.11126995086669922 data loading time\n",
            "0.11378240585327148 data loading time\n"
          ]
        },
        {
          "output_type": "stream",
          "name": "stderr",
          "text": [
            "\r 19%|█▉        | 389/2035 [1:56:13<8:11:10, 17.90s/it]"
          ]
        },
        {
          "output_type": "stream",
          "name": "stdout",
          "text": [
            "0.12812018394470215 data loading time\n",
            "2.575669050216675 Discriminators training\n",
            "1.0831444263458252 backprop discriminator\n",
            "0.2458341121673584 adversarial loss\n",
            "2.0931849479675293 cycle loss\n",
            "9.351799488067627 generator backprop\n",
            "Generator Loss: 2.4200282096862793 Discriminator Loss: 0.45993196964263916\n",
            "0.11137127876281738 data loading time\n",
            "0.11232233047485352 data loading time\n"
          ]
        },
        {
          "output_type": "stream",
          "name": "stderr",
          "text": [
            "\r 19%|█▉        | 390/2035 [1:56:31<8:10:39, 17.90s/it]"
          ]
        },
        {
          "output_type": "stream",
          "name": "stdout",
          "text": [
            "0.13428425788879395 data loading time\n",
            "2.560462713241577 Discriminators training\n",
            "1.0962018966674805 backprop discriminator\n",
            "0.24027037620544434 adversarial loss\n",
            "2.0960285663604736 cycle loss\n",
            "9.381793022155762 generator backprop\n",
            "Generator Loss: 2.5721435546875 Discriminator Loss: 0.4730839729309082\n",
            "0.1151278018951416 data loading time\n",
            "0.11643147468566895 data loading time\n"
          ]
        },
        {
          "output_type": "stream",
          "name": "stderr",
          "text": [
            "\r 19%|█▉        | 391/2035 [1:56:49<8:10:41, 17.91s/it]"
          ]
        },
        {
          "output_type": "stream",
          "name": "stdout",
          "text": [
            "0.13220429420471191 data loading time\n",
            "2.5616204738616943 Discriminators training\n",
            "1.0854864120483398 backprop discriminator\n",
            "0.2488994598388672 adversarial loss\n",
            "2.082644462585449 cycle loss\n",
            "9.3085036277771 generator backprop\n",
            "Generator Loss: 2.9185633659362793 Discriminator Loss: 0.43165123462677\n",
            "0.11254072189331055 data loading time\n",
            "0.11297321319580078 data loading time\n"
          ]
        },
        {
          "output_type": "stream",
          "name": "stderr",
          "text": [
            "\r 19%|█▉        | 392/2035 [1:57:07<8:09:43, 17.88s/it]"
          ]
        },
        {
          "output_type": "stream",
          "name": "stdout",
          "text": [
            "0.12796521186828613 data loading time\n",
            "2.56990385055542 Discriminators training\n",
            "1.0866200923919678 backprop discriminator\n",
            "0.2417585849761963 adversarial loss\n",
            "2.105262041091919 cycle loss\n",
            "9.447328329086304 generator backprop\n",
            "Generator Loss: 2.817535877227783 Discriminator Loss: 0.4511507749557495\n",
            "0.11810564994812012 data loading time\n",
            "0.11281681060791016 data loading time\n"
          ]
        },
        {
          "output_type": "stream",
          "name": "stderr",
          "text": [
            "\r 19%|█▉        | 393/2035 [1:57:25<8:10:15, 17.91s/it]"
          ]
        },
        {
          "output_type": "stream",
          "name": "stdout",
          "text": [
            "0.12685537338256836 data loading time\n",
            "2.5897955894470215 Discriminators training\n",
            "1.091925859451294 backprop discriminator\n",
            "0.24046015739440918 adversarial loss\n",
            "2.107884168624878 cycle loss\n",
            "9.446568727493286 generator backprop\n",
            "Generator Loss: 2.725497007369995 Discriminator Loss: 0.40198346972465515\n",
            "0.11310982704162598 data loading time\n",
            "0.11219191551208496 data loading time\n"
          ]
        },
        {
          "output_type": "stream",
          "name": "stderr",
          "text": [
            "\r 19%|█▉        | 394/2035 [1:57:43<8:10:35, 17.94s/it]"
          ]
        },
        {
          "output_type": "stream",
          "name": "stdout",
          "text": [
            "0.12522673606872559 data loading time\n",
            "2.5456228256225586 Discriminators training\n",
            "1.0879507064819336 backprop discriminator\n",
            "0.24876737594604492 adversarial loss\n",
            "2.069640874862671 cycle loss\n",
            "9.290014505386353 generator backprop\n",
            "Generator Loss: 2.160297393798828 Discriminator Loss: 0.45829057693481445\n",
            "0.11211538314819336 data loading time\n",
            "0.11246442794799805 data loading time\n"
          ]
        },
        {
          "output_type": "stream",
          "name": "stderr",
          "text": [
            "\r 19%|█▉        | 395/2035 [1:58:01<8:08:42, 17.88s/it]"
          ]
        },
        {
          "output_type": "stream",
          "name": "stdout",
          "text": [
            "0.13057804107666016 data loading time\n",
            "2.54651141166687 Discriminators training\n",
            "1.0754082202911377 backprop discriminator\n",
            "0.24648451805114746 adversarial loss\n",
            "2.0800058841705322 cycle loss\n",
            "9.313995599746704 generator backprop\n",
            "Generator Loss: 2.914961814880371 Discriminator Loss: 0.3899448812007904\n",
            "0.11147212982177734 data loading time\n",
            "0.11182379722595215 data loading time\n"
          ]
        },
        {
          "output_type": "stream",
          "name": "stderr",
          "text": [
            "\r 19%|█▉        | 396/2035 [1:58:19<8:07:38, 17.85s/it]"
          ]
        },
        {
          "output_type": "stream",
          "name": "stdout",
          "text": [
            "0.12700414657592773 data loading time\n",
            "2.5629377365112305 Discriminators training\n",
            "1.5850367546081543 backprop discriminator\n",
            "0.44565558433532715 adversarial loss\n",
            "2.7360141277313232 cycle loss\n",
            "9.312557935714722 generator backprop\n",
            "Generator Loss: 2.813239097595215 Discriminator Loss: 0.5082076787948608\n",
            "0.11099767684936523 data loading time\n",
            "0.11203813552856445 data loading time\n"
          ]
        },
        {
          "output_type": "stream",
          "name": "stderr",
          "text": [
            "\r 20%|█▉        | 397/2035 [1:58:38<8:17:59, 18.24s/it]"
          ]
        },
        {
          "output_type": "stream",
          "name": "stdout",
          "text": [
            "0.12431597709655762 data loading time\n",
            "2.5690200328826904 Discriminators training\n",
            "1.082625150680542 backprop discriminator\n",
            "0.2419877052307129 adversarial loss\n",
            "2.0707108974456787 cycle loss\n",
            "9.306245803833008 generator backprop\n",
            "Generator Loss: 2.3855791091918945 Discriminator Loss: 0.440692663192749\n",
            "0.11391615867614746 data loading time\n",
            "0.11132502555847168 data loading time\n"
          ]
        },
        {
          "output_type": "stream",
          "name": "stderr",
          "text": [
            "\r 20%|█▉        | 398/2035 [1:58:56<8:13:47, 18.10s/it]"
          ]
        },
        {
          "output_type": "stream",
          "name": "stdout",
          "text": [
            "0.12879467010498047 data loading time\n",
            "2.5584006309509277 Discriminators training\n",
            "1.0757262706756592 backprop discriminator\n",
            "0.25507283210754395 adversarial loss\n",
            "2.0819342136383057 cycle loss\n",
            "9.319724798202515 generator backprop\n",
            "Generator Loss: 3.2015161514282227 Discriminator Loss: 0.41899293661117554\n",
            "0.11295914649963379 data loading time\n",
            "0.11156368255615234 data loading time\n"
          ]
        },
        {
          "output_type": "stream",
          "name": "stderr",
          "text": [
            "\r 20%|█▉        | 399/2035 [1:59:13<8:11:06, 18.01s/it]"
          ]
        },
        {
          "output_type": "stream",
          "name": "stdout",
          "text": [
            "0.12275838851928711 data loading time\n",
            "2.564047336578369 Discriminators training\n",
            "1.0698308944702148 backprop discriminator\n",
            "0.24831223487854004 adversarial loss\n",
            "2.0785951614379883 cycle loss\n",
            "9.325557470321655 generator backprop\n",
            "Generator Loss: 3.8332631587982178 Discriminator Loss: 0.44397446513175964\n",
            "0.11815237998962402 data loading time\n",
            "0.11369132995605469 data loading time\n"
          ]
        },
        {
          "output_type": "stream",
          "name": "stderr",
          "text": [
            "\r 20%|█▉        | 400/2035 [1:59:31<8:09:08, 17.95s/it]"
          ]
        },
        {
          "output_type": "stream",
          "name": "stdout",
          "text": [
            "0.12659168243408203 data loading time\n",
            "2.5594310760498047 Discriminators training\n",
            "1.0832915306091309 backprop discriminator\n",
            "0.24651741981506348 adversarial loss\n",
            "2.085782051086426 cycle loss\n",
            "9.334244012832642 generator backprop\n",
            "Generator Loss: 2.113553047180176 Discriminator Loss: 0.5470941066741943\n",
            "0.11065506935119629 data loading time\n",
            "0.11460566520690918 data loading time\n"
          ]
        },
        {
          "output_type": "stream",
          "name": "stderr",
          "text": [
            "\r 20%|█▉        | 401/2035 [1:59:49<8:07:48, 17.91s/it]"
          ]
        },
        {
          "output_type": "stream",
          "name": "stdout",
          "text": [
            "0.13406920433044434 data loading time\n",
            "2.529942274093628 Discriminators training\n",
            "1.0858705043792725 backprop discriminator\n",
            "0.2446737289428711 adversarial loss\n",
            "2.083991765975952 cycle loss\n",
            "9.348854303359985 generator backprop\n",
            "Generator Loss: 3.115015745162964 Discriminator Loss: 0.5017168521881104\n",
            "0.11070966720581055 data loading time\n",
            "0.1117391586303711 data loading time\n"
          ]
        },
        {
          "output_type": "stream",
          "name": "stderr",
          "text": [
            "\r 20%|█▉        | 402/2035 [2:00:07<8:06:38, 17.88s/it]"
          ]
        },
        {
          "output_type": "stream",
          "name": "stdout",
          "text": [
            "0.1297011375427246 data loading time\n",
            "2.543996572494507 Discriminators training\n",
            "1.07000732421875 backprop discriminator\n",
            "0.2398371696472168 adversarial loss\n",
            "2.074547052383423 cycle loss\n",
            "9.235395193099976 generator backprop\n",
            "Generator Loss: 3.9172966480255127 Discriminator Loss: 0.47907960414886475\n",
            "0.11273622512817383 data loading time\n",
            "0.11139273643493652 data loading time\n"
          ]
        },
        {
          "output_type": "stream",
          "name": "stderr",
          "text": [
            "\r 20%|█▉        | 403/2035 [2:00:24<8:04:33, 17.81s/it]"
          ]
        },
        {
          "output_type": "stream",
          "name": "stdout",
          "text": [
            "0.12675738334655762 data loading time\n",
            "2.5431389808654785 Discriminators training\n",
            "1.0629565715789795 backprop discriminator\n",
            "0.24312376976013184 adversarial loss\n",
            "2.069669008255005 cycle loss\n",
            "9.20708680152893 generator backprop\n",
            "Generator Loss: 2.4949214458465576 Discriminator Loss: 0.5446089506149292\n",
            "0.11223602294921875 data loading time\n",
            "0.11211347579956055 data loading time\n"
          ]
        },
        {
          "output_type": "stream",
          "name": "stderr",
          "text": [
            "\r 20%|█▉        | 404/2035 [2:00:42<8:02:42, 17.76s/it]"
          ]
        },
        {
          "output_type": "stream",
          "name": "stdout",
          "text": [
            "0.12640810012817383 data loading time\n",
            "2.5321507453918457 Discriminators training\n",
            "1.0593352317810059 backprop discriminator\n",
            "0.24966955184936523 adversarial loss\n",
            "2.0661919116973877 cycle loss\n",
            "9.253210544586182 generator backprop\n",
            "Generator Loss: 3.681774139404297 Discriminator Loss: 0.4224853515625\n",
            "0.11103057861328125 data loading time\n",
            "0.11243367195129395 data loading time\n"
          ]
        },
        {
          "output_type": "stream",
          "name": "stderr",
          "text": [
            "\r 20%|█▉        | 405/2035 [2:01:00<8:01:45, 17.73s/it]"
          ]
        },
        {
          "output_type": "stream",
          "name": "stdout",
          "text": [
            "0.1277933120727539 data loading time\n",
            "2.5439956188201904 Discriminators training\n",
            "1.0746476650238037 backprop discriminator\n",
            "0.24340009689331055 adversarial loss\n",
            "2.0786120891571045 cycle loss\n",
            "9.278146743774414 generator backprop\n",
            "Generator Loss: 3.005551815032959 Discriminator Loss: 0.5041797161102295\n",
            "0.11100316047668457 data loading time\n",
            "0.11257481575012207 data loading time\n"
          ]
        },
        {
          "output_type": "stream",
          "name": "stderr",
          "text": [
            "\r 20%|█▉        | 406/2035 [2:01:17<8:01:21, 17.73s/it]"
          ]
        },
        {
          "output_type": "stream",
          "name": "stdout",
          "text": [
            "0.1257774829864502 data loading time\n",
            "2.5583527088165283 Discriminators training\n",
            "1.0744740962982178 backprop discriminator\n",
            "0.24378037452697754 adversarial loss\n",
            "2.084355592727661 cycle loss\n",
            "9.2730712890625 generator backprop\n",
            "Generator Loss: 2.577329158782959 Discriminator Loss: 0.3887864351272583\n",
            "0.11263561248779297 data loading time\n",
            "0.11155319213867188 data loading time\n"
          ]
        },
        {
          "output_type": "stream",
          "name": "stderr",
          "text": [
            "\r 20%|██        | 407/2035 [2:01:35<8:01:13, 17.74s/it]"
          ]
        },
        {
          "output_type": "stream",
          "name": "stdout",
          "text": [
            "0.1291184425354004 data loading time\n",
            "2.552316665649414 Discriminators training\n",
            "1.0870351791381836 backprop discriminator\n",
            "0.24242091178894043 adversarial loss\n",
            "2.077200412750244 cycle loss\n",
            "9.291092157363892 generator backprop\n",
            "Generator Loss: 3.181889057159424 Discriminator Loss: 0.4920903444290161\n",
            "0.11222600936889648 data loading time\n",
            "0.11279845237731934 data loading time\n"
          ]
        },
        {
          "output_type": "stream",
          "name": "stderr",
          "text": [
            "\r 20%|██        | 408/2035 [2:01:53<8:01:16, 17.75s/it]"
          ]
        },
        {
          "output_type": "stream",
          "name": "stdout",
          "text": [
            "0.1270604133605957 data loading time\n",
            "2.552402973175049 Discriminators training\n",
            "1.0708897113800049 backprop discriminator\n",
            "0.2485952377319336 adversarial loss\n",
            "2.0816290378570557 cycle loss\n",
            "9.290284395217896 generator backprop\n",
            "Generator Loss: 2.8635635375976562 Discriminator Loss: 0.4602696895599365\n",
            "0.11128568649291992 data loading time\n",
            "0.11361885070800781 data loading time\n"
          ]
        },
        {
          "output_type": "stream",
          "name": "stderr",
          "text": [
            "\r 20%|██        | 409/2035 [2:02:11<8:01:19, 17.76s/it]"
          ]
        },
        {
          "output_type": "stream",
          "name": "stdout",
          "text": [
            "0.12890172004699707 data loading time\n",
            "2.5558688640594482 Discriminators training\n",
            "1.0602364540100098 backprop discriminator\n",
            "0.2504703998565674 adversarial loss\n",
            "2.083519697189331 cycle loss\n",
            "9.33174443244934 generator backprop\n",
            "Generator Loss: 2.6221566200256348 Discriminator Loss: 0.4162237346172333\n",
            "0.11077547073364258 data loading time\n",
            "0.11101174354553223 data loading time\n"
          ]
        },
        {
          "output_type": "stream",
          "name": "stderr",
          "text": [
            "\r 20%|██        | 410/2035 [2:02:29<8:01:13, 17.77s/it]"
          ]
        },
        {
          "output_type": "stream",
          "name": "stdout",
          "text": [
            "0.13115358352661133 data loading time\n",
            "2.5438220500946045 Discriminators training\n",
            "1.0746958255767822 backprop discriminator\n",
            "0.24839520454406738 adversarial loss\n",
            "2.088914394378662 cycle loss\n",
            "9.265241622924805 generator backprop\n",
            "Generator Loss: 3.0502915382385254 Discriminator Loss: 0.4395892918109894\n",
            "0.11076211929321289 data loading time\n",
            "0.11235761642456055 data loading time\n"
          ]
        },
        {
          "output_type": "stream",
          "name": "stderr",
          "text": [
            "\r 20%|██        | 411/2035 [2:02:46<8:00:31, 17.75s/it]"
          ]
        },
        {
          "output_type": "stream",
          "name": "stdout",
          "text": [
            "0.12892866134643555 data loading time\n",
            "2.541846513748169 Discriminators training\n",
            "1.0664923191070557 backprop discriminator\n",
            "0.24579191207885742 adversarial loss\n",
            "2.083338975906372 cycle loss\n",
            "9.267015933990479 generator backprop\n",
            "Generator Loss: 2.2840464115142822 Discriminator Loss: 0.47181636095046997\n",
            "0.11270952224731445 data loading time\n",
            "0.11210131645202637 data loading time\n"
          ]
        },
        {
          "output_type": "stream",
          "name": "stderr",
          "text": [
            "\r 20%|██        | 412/2035 [2:03:04<7:59:53, 17.74s/it]"
          ]
        },
        {
          "output_type": "stream",
          "name": "stdout",
          "text": [
            "0.13255643844604492 data loading time\n",
            "2.5338094234466553 Discriminators training\n",
            "1.0611279010772705 backprop discriminator\n",
            "0.24713945388793945 adversarial loss\n",
            "2.0758275985717773 cycle loss\n",
            "9.364026069641113 generator backprop\n",
            "Generator Loss: 2.3315577507019043 Discriminator Loss: 0.421126127243042\n",
            "0.1112661361694336 data loading time\n",
            "0.11236953735351562 data loading time\n"
          ]
        },
        {
          "output_type": "stream",
          "name": "stderr",
          "text": [
            "\r 20%|██        | 413/2035 [2:03:22<8:00:04, 17.76s/it]"
          ]
        },
        {
          "output_type": "stream",
          "name": "stdout",
          "text": [
            "0.12663912773132324 data loading time\n",
            "2.5630569458007812 Discriminators training\n",
            "1.0767450332641602 backprop discriminator\n",
            "0.24652361869812012 adversarial loss\n",
            "2.092963457107544 cycle loss\n",
            "9.419437408447266 generator backprop\n",
            "Generator Loss: 3.0703301429748535 Discriminator Loss: 0.43835338950157166\n",
            "0.11130905151367188 data loading time\n",
            "0.11481118202209473 data loading time\n"
          ]
        },
        {
          "output_type": "stream",
          "name": "stderr",
          "text": [
            "\r 20%|██        | 414/2035 [2:03:40<8:00:55, 17.80s/it]"
          ]
        },
        {
          "output_type": "stream",
          "name": "stdout",
          "text": [
            "0.13146448135375977 data loading time\n",
            "2.546356678009033 Discriminators training\n",
            "1.1624679565429688 backprop discriminator\n",
            "0.24851775169372559 adversarial loss\n",
            "2.1037251949310303 cycle loss\n",
            "9.408188104629517 generator backprop\n",
            "Generator Loss: 3.4232397079467773 Discriminator Loss: 0.5201388001441956\n",
            "0.11093640327453613 data loading time\n",
            "0.11223411560058594 data loading time\n"
          ]
        },
        {
          "output_type": "stream",
          "name": "stderr",
          "text": [
            "\r 20%|██        | 415/2035 [2:03:58<8:02:28, 17.87s/it]"
          ]
        },
        {
          "output_type": "stream",
          "name": "stdout",
          "text": [
            "0.13948607444763184 data loading time\n",
            "2.579235315322876 Discriminators training\n",
            "1.0847480297088623 backprop discriminator\n",
            "0.2426762580871582 adversarial loss\n",
            "2.1130378246307373 cycle loss\n",
            "9.369397640228271 generator backprop\n",
            "Generator Loss: 2.615489959716797 Discriminator Loss: 0.5164327025413513\n",
            "0.11156272888183594 data loading time\n",
            "0.11126852035522461 data loading time\n"
          ]
        },
        {
          "output_type": "stream",
          "name": "stderr",
          "text": [
            "\r 20%|██        | 416/2035 [2:04:16<8:02:22, 17.88s/it]"
          ]
        },
        {
          "output_type": "stream",
          "name": "stdout",
          "text": [
            "0.12319660186767578 data loading time\n",
            "2.5602455139160156 Discriminators training\n",
            "1.0789687633514404 backprop discriminator\n",
            "0.25026702880859375 adversarial loss\n",
            "2.094926118850708 cycle loss\n",
            "9.38493299484253 generator backprop\n",
            "Generator Loss: 5.044078826904297 Discriminator Loss: 0.3290022909641266\n",
            "0.11115026473999023 data loading time\n",
            "0.11227655410766602 data loading time\n"
          ]
        },
        {
          "output_type": "stream",
          "name": "stderr",
          "text": [
            "\r 20%|██        | 417/2035 [2:04:33<8:02:01, 17.87s/it]"
          ]
        },
        {
          "output_type": "stream",
          "name": "stdout",
          "text": [
            "0.1358041763305664 data loading time\n",
            "2.5520455837249756 Discriminators training\n",
            "1.0799438953399658 backprop discriminator\n",
            "0.2505373954772949 adversarial loss\n",
            "2.08200740814209 cycle loss\n",
            "9.41765809059143 generator backprop\n",
            "Generator Loss: 4.668885707855225 Discriminator Loss: 0.46273571252822876\n",
            "0.11113953590393066 data loading time\n",
            "0.11185026168823242 data loading time\n"
          ]
        },
        {
          "output_type": "stream",
          "name": "stderr",
          "text": [
            "\r 21%|██        | 418/2035 [2:04:51<8:01:53, 17.88s/it]"
          ]
        },
        {
          "output_type": "stream",
          "name": "stdout",
          "text": [
            "0.12110567092895508 data loading time\n",
            "2.5780272483825684 Discriminators training\n",
            "1.0860049724578857 backprop discriminator\n",
            "0.244459867477417 adversarial loss\n",
            "2.1112828254699707 cycle loss\n",
            "9.445507526397705 generator backprop\n",
            "Generator Loss: 2.7566981315612793 Discriminator Loss: 0.4698171615600586\n",
            "0.11565446853637695 data loading time\n",
            "0.11177229881286621 data loading time\n"
          ]
        },
        {
          "output_type": "stream",
          "name": "stderr",
          "text": [
            "\r 21%|██        | 419/2035 [2:05:09<8:02:09, 17.90s/it]"
          ]
        },
        {
          "output_type": "stream",
          "name": "stdout",
          "text": [
            "0.12880825996398926 data loading time\n",
            "2.5769331455230713 Discriminators training\n",
            "1.0803499221801758 backprop discriminator\n",
            "0.2524116039276123 adversarial loss\n",
            "2.1051125526428223 cycle loss\n",
            "9.351950645446777 generator backprop\n",
            "Generator Loss: 2.7043545246124268 Discriminator Loss: 0.4802101254463196\n",
            "0.112945556640625 data loading time\n",
            "0.11115336418151855 data loading time\n"
          ]
        },
        {
          "output_type": "stream",
          "name": "stderr",
          "text": [
            "\r 21%|██        | 420/2035 [2:05:27<8:02:01, 17.91s/it]"
          ]
        },
        {
          "output_type": "stream",
          "name": "stdout",
          "text": [
            "0.12205195426940918 data loading time\n",
            "2.5429749488830566 Discriminators training\n",
            "1.0811052322387695 backprop discriminator\n",
            "0.24875116348266602 adversarial loss\n",
            "2.095733165740967 cycle loss\n",
            "9.403372526168823 generator backprop\n",
            "Generator Loss: 3.375149965286255 Discriminator Loss: 0.5527443885803223\n",
            "0.11203360557556152 data loading time\n",
            "0.11151885986328125 data loading time\n"
          ]
        },
        {
          "output_type": "stream",
          "name": "stderr",
          "text": [
            "\r 21%|██        | 421/2035 [2:05:45<8:01:36, 17.90s/it]"
          ]
        },
        {
          "output_type": "stream",
          "name": "stdout",
          "text": [
            "0.13892173767089844 data loading time\n",
            "2.564033269882202 Discriminators training\n",
            "1.0946948528289795 backprop discriminator\n",
            "0.24379754066467285 adversarial loss\n",
            "2.0999276638031006 cycle loss\n",
            "9.36281704902649 generator backprop\n",
            "Generator Loss: 3.268332004547119 Discriminator Loss: 0.48807135224342346\n",
            "0.11318016052246094 data loading time\n",
            "0.11606669425964355 data loading time\n"
          ]
        },
        {
          "output_type": "stream",
          "name": "stderr",
          "text": [
            "\r 21%|██        | 422/2035 [2:06:03<8:01:29, 17.91s/it]"
          ]
        },
        {
          "output_type": "stream",
          "name": "stdout",
          "text": [
            "0.12873625755310059 data loading time\n",
            "2.5684938430786133 Discriminators training\n",
            "1.0915257930755615 backprop discriminator\n",
            "0.2513141632080078 adversarial loss\n",
            "2.0893714427948 cycle loss\n",
            "9.371541261672974 generator backprop\n",
            "Generator Loss: 3.0160272121429443 Discriminator Loss: 0.47275394201278687\n",
            "0.11126160621643066 data loading time\n",
            "0.11345481872558594 data loading time\n"
          ]
        },
        {
          "output_type": "stream",
          "name": "stderr",
          "text": [
            "\r 21%|██        | 423/2035 [2:06:21<8:00:59, 17.90s/it]"
          ]
        },
        {
          "output_type": "stream",
          "name": "stdout",
          "text": [
            "0.13001370429992676 data loading time\n",
            "2.572138786315918 Discriminators training\n",
            "1.0906004905700684 backprop discriminator\n",
            "0.24255752563476562 adversarial loss\n",
            "2.0920403003692627 cycle loss\n",
            "9.305408477783203 generator backprop\n",
            "Generator Loss: 3.0498008728027344 Discriminator Loss: 0.4627935588359833\n",
            "0.1151723861694336 data loading time\n",
            "0.11255884170532227 data loading time\n"
          ]
        },
        {
          "output_type": "stream",
          "name": "stderr",
          "text": [
            "\r 21%|██        | 424/2035 [2:06:39<8:00:01, 17.88s/it]"
          ]
        },
        {
          "output_type": "stream",
          "name": "stdout",
          "text": [
            "0.12869811058044434 data loading time\n",
            "2.5636510848999023 Discriminators training\n",
            "1.0613200664520264 backprop discriminator\n",
            "0.24695348739624023 adversarial loss\n",
            "2.0670528411865234 cycle loss\n",
            "9.37344741821289 generator backprop\n",
            "Generator Loss: 2.757723331451416 Discriminator Loss: 0.3836384415626526\n",
            "0.11215353012084961 data loading time\n",
            "0.11166739463806152 data loading time\n"
          ]
        },
        {
          "output_type": "stream",
          "name": "stderr",
          "text": [
            "\r 21%|██        | 425/2035 [2:06:57<7:59:25, 17.87s/it]"
          ]
        },
        {
          "output_type": "stream",
          "name": "stdout",
          "text": [
            "0.12971878051757812 data loading time\n",
            "2.552020311355591 Discriminators training\n",
            "1.0779078006744385 backprop discriminator\n",
            "0.2444148063659668 adversarial loss\n",
            "2.1010923385620117 cycle loss\n",
            "9.342713594436646 generator backprop\n",
            "Generator Loss: 2.694507598876953 Discriminator Loss: 0.5193612575531006\n",
            "0.1118168830871582 data loading time\n",
            "0.11307525634765625 data loading time\n"
          ]
        },
        {
          "output_type": "stream",
          "name": "stderr",
          "text": [
            "\r 21%|██        | 426/2035 [2:07:14<7:58:54, 17.86s/it]"
          ]
        },
        {
          "output_type": "stream",
          "name": "stdout",
          "text": [
            "0.12278604507446289 data loading time\n",
            "2.570138931274414 Discriminators training\n",
            "1.0688586235046387 backprop discriminator\n",
            "0.24501490592956543 adversarial loss\n",
            "2.0681607723236084 cycle loss\n",
            "9.245091438293457 generator backprop\n",
            "Generator Loss: 2.6844866275787354 Discriminator Loss: 0.40303581953048706\n",
            "0.1111288070678711 data loading time\n",
            "0.11194586753845215 data loading time\n"
          ]
        },
        {
          "output_type": "stream",
          "name": "stderr",
          "text": [
            "\r 21%|██        | 427/2035 [2:07:32<7:57:15, 17.81s/it]"
          ]
        },
        {
          "output_type": "stream",
          "name": "stdout",
          "text": [
            "0.13118577003479004 data loading time\n",
            "2.5387911796569824 Discriminators training\n",
            "1.0754029750823975 backprop discriminator\n",
            "0.2497096061706543 adversarial loss\n",
            "2.096757411956787 cycle loss\n",
            "9.190943002700806 generator backprop\n",
            "Generator Loss: 3.306018829345703 Discriminator Loss: 0.5153002738952637\n",
            "0.11300349235534668 data loading time\n",
            "0.11207413673400879 data loading time\n"
          ]
        },
        {
          "output_type": "stream",
          "name": "stderr",
          "text": [
            "\r 21%|██        | 428/2035 [2:07:50<7:55:49, 17.77s/it]"
          ]
        },
        {
          "output_type": "stream",
          "name": "stdout",
          "text": [
            "0.12503552436828613 data loading time\n",
            "2.5292561054229736 Discriminators training\n",
            "1.0661869049072266 backprop discriminator\n",
            "0.2561821937561035 adversarial loss\n",
            "2.0814006328582764 cycle loss\n",
            "9.120402574539185 generator backprop\n",
            "Generator Loss: 4.209218978881836 Discriminator Loss: 0.5740677118301392\n",
            "0.11168980598449707 data loading time\n",
            "0.11204195022583008 data loading time\n"
          ]
        },
        {
          "output_type": "stream",
          "name": "stderr",
          "text": [
            "\r 21%|██        | 429/2035 [2:08:07<7:53:46, 17.70s/it]"
          ]
        },
        {
          "output_type": "stream",
          "name": "stdout",
          "text": [
            "0.13026022911071777 data loading time\n",
            "2.556979179382324 Discriminators training\n",
            "1.0653622150421143 backprop discriminator\n",
            "0.24900579452514648 adversarial loss\n",
            "2.0854551792144775 cycle loss\n",
            "9.239256858825684 generator backprop\n",
            "Generator Loss: 3.058253288269043 Discriminator Loss: 0.37265560030937195\n",
            "0.11145210266113281 data loading time\n",
            "0.11221575736999512 data loading time\n"
          ]
        },
        {
          "output_type": "stream",
          "name": "stderr",
          "text": [
            "\r 21%|██        | 430/2035 [2:08:25<7:53:36, 17.71s/it]"
          ]
        },
        {
          "output_type": "stream",
          "name": "stdout",
          "text": [
            "0.12459063529968262 data loading time\n",
            "2.5288875102996826 Discriminators training\n",
            "1.066293478012085 backprop discriminator\n",
            "0.2454516887664795 adversarial loss\n",
            "2.091918468475342 cycle loss\n",
            "9.309410333633423 generator backprop\n",
            "Generator Loss: 3.08693790435791 Discriminator Loss: 0.35668596625328064\n",
            "0.11226534843444824 data loading time\n",
            "0.11259698867797852 data loading time\n"
          ]
        },
        {
          "output_type": "stream",
          "name": "stderr",
          "text": [
            "\r 21%|██        | 431/2035 [2:08:43<7:53:41, 17.72s/it]"
          ]
        },
        {
          "output_type": "stream",
          "name": "stdout",
          "text": [
            "0.1348252296447754 data loading time\n",
            "2.5378916263580322 Discriminators training\n",
            "1.0984268188476562 backprop discriminator\n",
            "0.24767327308654785 adversarial loss\n",
            "2.0662710666656494 cycle loss\n",
            "9.243726968765259 generator backprop\n",
            "Generator Loss: 3.2112679481506348 Discriminator Loss: 0.4517548680305481\n",
            "0.1108851432800293 data loading time\n",
            "0.11104631423950195 data loading time\n"
          ]
        },
        {
          "output_type": "stream",
          "name": "stderr",
          "text": [
            "\r 21%|██        | 432/2035 [2:09:01<7:53:14, 17.71s/it]"
          ]
        },
        {
          "output_type": "stream",
          "name": "stdout",
          "text": [
            "0.1262362003326416 data loading time\n",
            "2.5271120071411133 Discriminators training\n",
            "1.090343952178955 backprop discriminator\n",
            "0.24639225006103516 adversarial loss\n",
            "2.0698599815368652 cycle loss\n",
            "9.502894401550293 generator backprop\n",
            "Generator Loss: 3.541609764099121 Discriminator Loss: 0.4783935546875\n",
            "0.11281633377075195 data loading time\n",
            "0.11223435401916504 data loading time\n"
          ]
        },
        {
          "output_type": "stream",
          "name": "stderr",
          "text": [
            "\r 21%|██▏       | 433/2035 [2:09:18<7:54:51, 17.79s/it]"
          ]
        },
        {
          "output_type": "stream",
          "name": "stdout",
          "text": [
            "0.1291799545288086 data loading time\n",
            "2.585097312927246 Discriminators training\n",
            "1.0814180374145508 backprop discriminator\n",
            "0.2456531524658203 adversarial loss\n",
            "2.094148874282837 cycle loss\n",
            "9.387036323547363 generator backprop\n",
            "Generator Loss: 3.8780786991119385 Discriminator Loss: 0.34055662155151367\n",
            "0.1114358901977539 data loading time\n",
            "0.11648797988891602 data loading time\n"
          ]
        },
        {
          "output_type": "stream",
          "name": "stderr",
          "text": [
            "\r 21%|██▏       | 434/2035 [2:09:36<7:55:42, 17.83s/it]"
          ]
        },
        {
          "output_type": "stream",
          "name": "stdout",
          "text": [
            "0.13352656364440918 data loading time\n",
            "2.572467565536499 Discriminators training\n",
            "1.0782887935638428 backprop discriminator\n",
            "0.2490677833557129 adversarial loss\n",
            "2.0918455123901367 cycle loss\n",
            "9.391940593719482 generator backprop\n",
            "Generator Loss: 3.5448567867279053 Discriminator Loss: 0.3975958824157715\n",
            "0.11249613761901855 data loading time\n",
            "0.11151003837585449 data loading time\n"
          ]
        },
        {
          "output_type": "stream",
          "name": "stderr",
          "text": [
            "\r 21%|██▏       | 435/2035 [2:09:54<7:56:06, 17.85s/it]"
          ]
        },
        {
          "output_type": "stream",
          "name": "stdout",
          "text": [
            "0.14073991775512695 data loading time\n",
            "2.573326587677002 Discriminators training\n",
            "1.0976884365081787 backprop discriminator\n",
            "0.24198246002197266 adversarial loss\n",
            "2.1096930503845215 cycle loss\n",
            "9.343055963516235 generator backprop\n",
            "Generator Loss: 2.765249013900757 Discriminator Loss: 0.41305214166641235\n",
            "0.11725282669067383 data loading time\n",
            "0.11112523078918457 data loading time\n"
          ]
        },
        {
          "output_type": "stream",
          "name": "stderr",
          "text": [
            "\r 21%|██▏       | 436/2035 [2:10:12<7:56:08, 17.87s/it]"
          ]
        },
        {
          "output_type": "stream",
          "name": "stdout",
          "text": [
            "0.12981963157653809 data loading time\n",
            "2.5389416217803955 Discriminators training\n",
            "1.0901947021484375 backprop discriminator\n",
            "0.24276494979858398 adversarial loss\n",
            "2.08886456489563 cycle loss\n",
            "9.259302854537964 generator backprop\n",
            "Generator Loss: 3.382995367050171 Discriminator Loss: 0.4274379014968872\n",
            "0.11129355430603027 data loading time\n",
            "0.11161279678344727 data loading time\n"
          ]
        },
        {
          "output_type": "stream",
          "name": "stderr",
          "text": [
            "\r 21%|██▏       | 437/2035 [2:10:30<7:54:43, 17.82s/it]"
          ]
        },
        {
          "output_type": "stream",
          "name": "stdout",
          "text": [
            "0.12978529930114746 data loading time\n",
            "2.558340311050415 Discriminators training\n",
            "1.0739829540252686 backprop discriminator\n",
            "0.25002455711364746 adversarial loss\n",
            "2.0719664096832275 cycle loss\n",
            "9.229594945907593 generator backprop\n",
            "Generator Loss: 2.7723937034606934 Discriminator Loss: 0.4401843845844269\n",
            "0.11226916313171387 data loading time\n",
            "0.1114816665649414 data loading time\n"
          ]
        },
        {
          "output_type": "stream",
          "name": "stderr",
          "text": [
            "\r 22%|██▏       | 438/2035 [2:10:48<7:53:24, 17.79s/it]"
          ]
        },
        {
          "output_type": "stream",
          "name": "stdout",
          "text": [
            "0.12768006324768066 data loading time\n",
            "2.539398193359375 Discriminators training\n",
            "1.078608751296997 backprop discriminator\n",
            "0.2465522289276123 adversarial loss\n",
            "2.0862109661102295 cycle loss\n",
            "9.289634227752686 generator backprop\n",
            "Generator Loss: 3.1705565452575684 Discriminator Loss: 0.4768982231616974\n",
            "0.1114201545715332 data loading time\n",
            "0.11224842071533203 data loading time\n"
          ]
        },
        {
          "output_type": "stream",
          "name": "stderr",
          "text": [
            "\r 22%|██▏       | 439/2035 [2:11:05<7:52:45, 17.77s/it]"
          ]
        },
        {
          "output_type": "stream",
          "name": "stdout",
          "text": [
            "0.12632203102111816 data loading time\n",
            "2.559666156768799 Discriminators training\n",
            "1.0688481330871582 backprop discriminator\n",
            "0.2433481216430664 adversarial loss\n",
            "2.092986583709717 cycle loss\n",
            "9.321434259414673 generator backprop\n",
            "Generator Loss: 2.630793571472168 Discriminator Loss: 0.5149107575416565\n",
            "0.11168861389160156 data loading time\n",
            "0.1136472225189209 data loading time\n"
          ]
        },
        {
          "output_type": "stream",
          "name": "stderr",
          "text": [
            "\r 22%|██▏       | 440/2035 [2:11:23<7:52:38, 17.78s/it]"
          ]
        },
        {
          "output_type": "stream",
          "name": "stdout",
          "text": [
            "0.13040709495544434 data loading time\n",
            "2.5427420139312744 Discriminators training\n",
            "1.0679268836975098 backprop discriminator\n",
            "0.25038957595825195 adversarial loss\n",
            "2.0783050060272217 cycle loss\n",
            "9.289918422698975 generator backprop\n",
            "Generator Loss: 2.540618896484375 Discriminator Loss: 0.521790623664856\n",
            "0.11073756217956543 data loading time\n",
            "0.11290287971496582 data loading time\n"
          ]
        },
        {
          "output_type": "stream",
          "name": "stderr",
          "text": [
            "\r 22%|██▏       | 441/2035 [2:11:41<7:51:59, 17.77s/it]"
          ]
        },
        {
          "output_type": "stream",
          "name": "stdout",
          "text": [
            "0.12398290634155273 data loading time\n",
            "2.5388059616088867 Discriminators training\n",
            "1.0816607475280762 backprop discriminator\n",
            "0.23996829986572266 adversarial loss\n",
            "2.087981700897217 cycle loss\n",
            "9.312449216842651 generator backprop\n",
            "Generator Loss: 3.273784637451172 Discriminator Loss: 0.4721221625804901\n",
            "0.11148977279663086 data loading time\n",
            "0.11633539199829102 data loading time\n"
          ]
        },
        {
          "output_type": "stream",
          "name": "stderr",
          "text": [
            "\r 22%|██▏       | 442/2035 [2:11:59<7:51:41, 17.77s/it]"
          ]
        },
        {
          "output_type": "stream",
          "name": "stdout",
          "text": [
            "0.1295018196105957 data loading time\n",
            "2.5469467639923096 Discriminators training\n",
            "1.0724825859069824 backprop discriminator\n",
            "0.252216100692749 adversarial loss\n",
            "2.090019702911377 cycle loss\n",
            "9.353909730911255 generator backprop\n",
            "Generator Loss: 2.966963529586792 Discriminator Loss: 0.4675552248954773\n",
            "0.110748291015625 data loading time\n",
            "0.11297392845153809 data loading time\n"
          ]
        },
        {
          "output_type": "stream",
          "name": "stderr",
          "text": [
            "\r 22%|██▏       | 443/2035 [2:12:17<7:52:08, 17.79s/it]"
          ]
        },
        {
          "output_type": "stream",
          "name": "stdout",
          "text": [
            "0.1233365535736084 data loading time\n",
            "2.56815505027771 Discriminators training\n",
            "1.0897479057312012 backprop discriminator\n",
            "0.24335885047912598 adversarial loss\n",
            "2.1217095851898193 cycle loss\n",
            "9.356169700622559 generator backprop\n",
            "Generator Loss: 3.0140442848205566 Discriminator Loss: 0.46197861433029175\n",
            "0.11584210395812988 data loading time\n",
            "0.11294341087341309 data loading time\n"
          ]
        },
        {
          "output_type": "stream",
          "name": "stderr",
          "text": [
            "\r 22%|██▏       | 444/2035 [2:12:34<7:52:44, 17.83s/it]"
          ]
        },
        {
          "output_type": "stream",
          "name": "stdout",
          "text": [
            "0.13214445114135742 data loading time\n",
            "2.5616097450256348 Discriminators training\n",
            "1.077775239944458 backprop discriminator\n",
            "0.2467195987701416 adversarial loss\n",
            "2.068242311477661 cycle loss\n",
            "9.287027359008789 generator backprop\n",
            "Generator Loss: 2.85610294342041 Discriminator Loss: 0.511400580406189\n",
            "0.11249113082885742 data loading time\n",
            "0.1125497817993164 data loading time\n"
          ]
        },
        {
          "output_type": "stream",
          "name": "stderr",
          "text": [
            "\r 22%|██▏       | 445/2035 [2:12:52<7:51:54, 17.81s/it]"
          ]
        },
        {
          "output_type": "stream",
          "name": "stdout",
          "text": [
            "0.1273953914642334 data loading time\n",
            "2.572082042694092 Discriminators training\n",
            "1.0857257843017578 backprop discriminator\n",
            "0.2431948184967041 adversarial loss\n",
            "2.0793635845184326 cycle loss\n",
            "9.306439876556396 generator backprop\n",
            "Generator Loss: 2.5596256256103516 Discriminator Loss: 0.6536580324172974\n",
            "0.11640787124633789 data loading time\n",
            "0.11325931549072266 data loading time\n"
          ]
        },
        {
          "output_type": "stream",
          "name": "stderr",
          "text": [
            "\r 22%|██▏       | 446/2035 [2:13:10<7:51:41, 17.81s/it]"
          ]
        },
        {
          "output_type": "stream",
          "name": "stdout",
          "text": [
            "0.12365436553955078 data loading time\n",
            "2.580075740814209 Discriminators training\n",
            "1.0907502174377441 backprop discriminator\n",
            "0.24252891540527344 adversarial loss\n",
            "2.0868020057678223 cycle loss\n",
            "9.364484786987305 generator backprop\n",
            "Generator Loss: 2.8812050819396973 Discriminator Loss: 0.46819940209388733\n",
            "0.11190152168273926 data loading time\n",
            "0.11224865913391113 data loading time\n"
          ]
        },
        {
          "output_type": "stream",
          "name": "stderr",
          "text": [
            "\r 22%|██▏       | 447/2035 [2:13:28<7:51:51, 17.83s/it]"
          ]
        },
        {
          "output_type": "stream",
          "name": "stdout",
          "text": [
            "0.13587331771850586 data loading time\n",
            "2.5519511699676514 Discriminators training\n",
            "1.0783874988555908 backprop discriminator\n",
            "0.24707245826721191 adversarial loss\n",
            "2.090918779373169 cycle loss\n",
            "9.258265018463135 generator backprop\n",
            "Generator Loss: 2.2814178466796875 Discriminator Loss: 0.4972551465034485\n",
            "0.11630964279174805 data loading time\n",
            "0.11142826080322266 data loading time\n"
          ]
        },
        {
          "output_type": "stream",
          "name": "stderr",
          "text": [
            "\r 22%|██▏       | 448/2035 [2:13:46<7:50:51, 17.80s/it]"
          ]
        },
        {
          "output_type": "stream",
          "name": "stdout",
          "text": [
            "0.12652945518493652 data loading time\n",
            "2.55377197265625 Discriminators training\n",
            "1.0825903415679932 backprop discriminator\n",
            "0.24364089965820312 adversarial loss\n",
            "2.088146209716797 cycle loss\n",
            "9.294940948486328 generator backprop\n",
            "Generator Loss: 3.445718288421631 Discriminator Loss: 0.5389924049377441\n",
            "0.11222028732299805 data loading time\n",
            "0.11110496520996094 data loading time\n"
          ]
        },
        {
          "output_type": "stream",
          "name": "stderr",
          "text": [
            "\r 22%|██▏       | 449/2035 [2:14:03<7:50:18, 17.79s/it]"
          ]
        },
        {
          "output_type": "stream",
          "name": "stdout",
          "text": [
            "0.12542462348937988 data loading time\n",
            "2.5452919006347656 Discriminators training\n",
            "1.0719256401062012 backprop discriminator\n",
            "0.24297285079956055 adversarial loss\n",
            "2.080946922302246 cycle loss\n",
            "9.538541793823242 generator backprop\n",
            "Generator Loss: 2.4028401374816895 Discriminator Loss: 0.44440680742263794\n",
            "0.11938643455505371 data loading time\n",
            "0.12035632133483887 data loading time\n"
          ]
        },
        {
          "output_type": "stream",
          "name": "stderr",
          "text": [
            "\r 22%|██▏       | 450/2035 [2:14:22<7:54:58, 17.98s/it]"
          ]
        },
        {
          "output_type": "stream",
          "name": "stdout",
          "text": [
            "0.22359323501586914 data loading time\n",
            "4.2970240116119385 Discriminators training\n",
            "1.1049137115478516 backprop discriminator\n",
            "0.2427656650543213 adversarial loss\n",
            "2.5321743488311768 cycle loss\n",
            "9.317204713821411 generator backprop\n",
            "Generator Loss: 2.9978466033935547 Discriminator Loss: 0.5204064249992371\n",
            "0.11182522773742676 data loading time\n",
            "0.11396980285644531 data loading time\n"
          ]
        },
        {
          "output_type": "stream",
          "name": "stderr",
          "text": [
            "\r 22%|██▏       | 451/2035 [2:14:42<8:11:34, 18.62s/it]"
          ]
        },
        {
          "output_type": "stream",
          "name": "stdout",
          "text": [
            "0.12223696708679199 data loading time\n",
            "2.5618677139282227 Discriminators training\n",
            "1.0961830615997314 backprop discriminator\n",
            "0.24681401252746582 adversarial loss\n",
            "2.102107286453247 cycle loss\n",
            "9.34272289276123 generator backprop\n",
            "Generator Loss: 3.740358352661133 Discriminator Loss: 0.36199378967285156\n",
            "0.11137127876281738 data loading time\n",
            "0.11729645729064941 data loading time\n"
          ]
        },
        {
          "output_type": "stream",
          "name": "stderr",
          "text": [
            "\r 22%|██▏       | 452/2035 [2:15:00<8:05:20, 18.40s/it]"
          ]
        },
        {
          "output_type": "stream",
          "name": "stdout",
          "text": [
            "0.12865018844604492 data loading time\n",
            "2.5603389739990234 Discriminators training\n",
            "1.086761474609375 backprop discriminator\n",
            "0.24893784523010254 adversarial loss\n",
            "2.087036609649658 cycle loss\n",
            "9.226105451583862 generator backprop\n",
            "Generator Loss: 4.260924339294434 Discriminator Loss: 0.44192564487457275\n",
            "0.11195945739746094 data loading time\n",
            "0.11117720603942871 data loading time\n"
          ]
        },
        {
          "output_type": "stream",
          "name": "stderr",
          "text": [
            "\r 22%|██▏       | 453/2035 [2:15:18<7:59:38, 18.19s/it]"
          ]
        },
        {
          "output_type": "stream",
          "name": "stdout",
          "text": [
            "0.12953853607177734 data loading time\n",
            "2.5556752681732178 Discriminators training\n",
            "1.070328712463379 backprop discriminator\n",
            "0.24657106399536133 adversarial loss\n",
            "2.0883853435516357 cycle loss\n",
            "9.191465377807617 generator backprop\n",
            "Generator Loss: 2.5305724143981934 Discriminator Loss: 0.4398656189441681\n",
            "0.11156082153320312 data loading time\n",
            "0.11164069175720215 data loading time\n"
          ]
        },
        {
          "output_type": "stream",
          "name": "stderr",
          "text": [
            "\r 22%|██▏       | 454/2035 [2:15:35<7:55:01, 18.03s/it]"
          ]
        },
        {
          "output_type": "stream",
          "name": "stdout",
          "text": [
            "0.12955689430236816 data loading time\n",
            "2.5492281913757324 Discriminators training\n",
            "1.0794541835784912 backprop discriminator\n",
            "0.24170231819152832 adversarial loss\n",
            "2.0878772735595703 cycle loss\n",
            "9.220808267593384 generator backprop\n",
            "Generator Loss: 3.315645456314087 Discriminator Loss: 0.5561222434043884\n",
            "0.11092543601989746 data loading time\n",
            "0.11157870292663574 data loading time\n"
          ]
        },
        {
          "output_type": "stream",
          "name": "stderr",
          "text": [
            "\r 22%|██▏       | 455/2035 [2:15:53<7:52:01, 17.92s/it]"
          ]
        },
        {
          "output_type": "stream",
          "name": "stdout",
          "text": [
            "0.1238408088684082 data loading time\n",
            "2.5675573348999023 Discriminators training\n",
            "1.0780322551727295 backprop discriminator\n",
            "0.24242258071899414 adversarial loss\n",
            "2.0939667224884033 cycle loss\n",
            "9.221513986587524 generator backprop\n",
            "Generator Loss: 3.8969712257385254 Discriminator Loss: 0.452156662940979\n",
            "0.11167049407958984 data loading time\n",
            "0.1115872859954834 data loading time\n"
          ]
        },
        {
          "output_type": "stream",
          "name": "stderr",
          "text": [
            "\r 22%|██▏       | 456/2035 [2:16:11<7:49:56, 17.86s/it]"
          ]
        },
        {
          "output_type": "stream",
          "name": "stdout",
          "text": [
            "0.1276092529296875 data loading time\n",
            "2.550698757171631 Discriminators training\n",
            "1.0671696662902832 backprop discriminator\n",
            "0.24137234687805176 adversarial loss\n",
            "2.08640456199646 cycle loss\n",
            "9.171837568283081 generator backprop\n",
            "Generator Loss: 3.485880136489868 Discriminator Loss: 0.42329126596450806\n",
            "0.11137914657592773 data loading time\n",
            "0.11500263214111328 data loading time\n"
          ]
        },
        {
          "output_type": "stream",
          "name": "stderr",
          "text": [
            "\r 22%|██▏       | 457/2035 [2:16:28<7:47:45, 17.79s/it]"
          ]
        },
        {
          "output_type": "stream",
          "name": "stdout",
          "text": [
            "0.12569546699523926 data loading time\n",
            "2.527021646499634 Discriminators training\n",
            "1.0717206001281738 backprop discriminator\n",
            "0.25194859504699707 adversarial loss\n",
            "2.072126865386963 cycle loss\n",
            "9.18149447441101 generator backprop\n",
            "Generator Loss: 2.7112951278686523 Discriminator Loss: 0.49119696021080017\n",
            "0.11069560050964355 data loading time\n",
            "0.1123342514038086 data loading time\n"
          ]
        },
        {
          "output_type": "stream",
          "name": "stderr",
          "text": [
            "\r 23%|██▎       | 458/2035 [2:16:46<7:46:03, 17.73s/it]"
          ]
        },
        {
          "output_type": "stream",
          "name": "stdout",
          "text": [
            "0.13355112075805664 data loading time\n",
            "2.5448012351989746 Discriminators training\n",
            "1.0739939212799072 backprop discriminator\n",
            "0.24551057815551758 adversarial loss\n",
            "2.090510845184326 cycle loss\n",
            "9.218997955322266 generator backprop\n",
            "Generator Loss: 2.925865411758423 Discriminator Loss: 0.36639708280563354\n",
            "0.11173415184020996 data loading time\n",
            "0.11117386817932129 data loading time\n"
          ]
        },
        {
          "output_type": "stream",
          "name": "stderr",
          "text": [
            "\r 23%|██▎       | 459/2035 [2:17:03<7:45:24, 17.72s/it]"
          ]
        },
        {
          "output_type": "stream",
          "name": "stdout",
          "text": [
            "0.12730789184570312 data loading time\n",
            "2.5713131427764893 Discriminators training\n",
            "1.0844581127166748 backprop discriminator\n",
            "0.246002197265625 adversarial loss\n",
            "2.1102452278137207 cycle loss\n",
            "9.30383825302124 generator backprop\n",
            "Generator Loss: 2.9867444038391113 Discriminator Loss: 0.42844337224960327\n",
            "0.11118531227111816 data loading time\n",
            "0.11210131645202637 data loading time\n"
          ]
        },
        {
          "output_type": "stream",
          "name": "stderr",
          "text": [
            "\r 23%|██▎       | 460/2035 [2:17:21<7:46:03, 17.75s/it]"
          ]
        },
        {
          "output_type": "stream",
          "name": "stdout",
          "text": [
            "0.12596797943115234 data loading time\n",
            "2.561718702316284 Discriminators training\n",
            "1.0826935768127441 backprop discriminator\n",
            "0.24549365043640137 adversarial loss\n",
            "2.0782370567321777 cycle loss\n",
            "9.338405847549438 generator backprop\n",
            "Generator Loss: 2.9410526752471924 Discriminator Loss: 0.4655228853225708\n",
            "0.11211228370666504 data loading time\n",
            "0.11253929138183594 data loading time\n"
          ]
        },
        {
          "output_type": "stream",
          "name": "stderr",
          "text": [
            "\r 23%|██▎       | 461/2035 [2:17:39<7:46:22, 17.78s/it]"
          ]
        },
        {
          "output_type": "stream",
          "name": "stdout",
          "text": [
            "0.12965083122253418 data loading time\n",
            "2.555155038833618 Discriminators training\n",
            "1.0857000350952148 backprop discriminator\n",
            "0.24657130241394043 adversarial loss\n",
            "2.093111276626587 cycle loss\n",
            "9.290908575057983 generator backprop\n",
            "Generator Loss: 4.897420883178711 Discriminator Loss: 0.38437145948410034\n",
            "0.11248159408569336 data loading time\n",
            "0.11133384704589844 data loading time\n"
          ]
        },
        {
          "output_type": "stream",
          "name": "stderr",
          "text": [
            "\r 23%|██▎       | 462/2035 [2:17:57<7:46:11, 17.78s/it]"
          ]
        },
        {
          "output_type": "stream",
          "name": "stdout",
          "text": [
            "0.12589645385742188 data loading time\n",
            "2.5642411708831787 Discriminators training\n",
            "1.0818047523498535 backprop discriminator\n",
            "0.2424464225769043 adversarial loss\n",
            "2.0816843509674072 cycle loss\n",
            "9.26294732093811 generator backprop\n",
            "Generator Loss: 3.6206727027893066 Discriminator Loss: 0.4465114176273346\n",
            "0.11108112335205078 data loading time\n",
            "0.11186718940734863 data loading time\n"
          ]
        },
        {
          "output_type": "stream",
          "name": "stderr",
          "text": [
            "\r 23%|██▎       | 463/2035 [2:18:15<7:45:30, 17.77s/it]"
          ]
        },
        {
          "output_type": "stream",
          "name": "stdout",
          "text": [
            "0.13438081741333008 data loading time\n",
            "2.5726523399353027 Discriminators training\n",
            "1.0786457061767578 backprop discriminator\n",
            "0.2465050220489502 adversarial loss\n",
            "2.091087579727173 cycle loss\n",
            "9.214417934417725 generator backprop\n",
            "Generator Loss: 2.7439167499542236 Discriminator Loss: 0.4843575358390808\n",
            "0.11161541938781738 data loading time\n",
            "0.11201667785644531 data loading time\n"
          ]
        },
        {
          "output_type": "stream",
          "name": "stderr",
          "text": [
            "\r 23%|██▎       | 464/2035 [2:18:32<7:44:45, 17.75s/it]"
          ]
        },
        {
          "output_type": "stream",
          "name": "stdout",
          "text": [
            "0.12649035453796387 data loading time\n",
            "2.5353732109069824 Discriminators training\n",
            "1.0817067623138428 backprop discriminator\n",
            "0.2441091537475586 adversarial loss\n",
            "2.0885729789733887 cycle loss\n",
            "9.180862665176392 generator backprop\n",
            "Generator Loss: 2.6986629962921143 Discriminator Loss: 0.4675251841545105\n",
            "0.11074280738830566 data loading time\n",
            "0.11277103424072266 data loading time\n"
          ]
        },
        {
          "output_type": "stream",
          "name": "stderr",
          "text": [
            "\r 23%|██▎       | 465/2035 [2:18:50<7:43:37, 17.72s/it]"
          ]
        },
        {
          "output_type": "stream",
          "name": "stdout",
          "text": [
            "0.12433767318725586 data loading time\n",
            "2.550706386566162 Discriminators training\n",
            "1.0743966102600098 backprop discriminator\n",
            "0.24237322807312012 adversarial loss\n",
            "2.087161064147949 cycle loss\n",
            "9.256998062133789 generator backprop\n",
            "Generator Loss: 3.240901470184326 Discriminator Loss: 0.37182122468948364\n",
            "0.11052703857421875 data loading time\n",
            "0.11523151397705078 data loading time\n"
          ]
        },
        {
          "output_type": "stream",
          "name": "stderr",
          "text": [
            "\r 23%|██▎       | 466/2035 [2:19:08<7:43:21, 17.72s/it]"
          ]
        },
        {
          "output_type": "stream",
          "name": "stdout",
          "text": [
            "0.12646937370300293 data loading time\n",
            "2.5561673641204834 Discriminators training\n",
            "1.0848140716552734 backprop discriminator\n",
            "0.2559070587158203 adversarial loss\n",
            "2.113618850708008 cycle loss\n",
            "9.321161270141602 generator backprop\n",
            "Generator Loss: 4.314180374145508 Discriminator Loss: 0.373043954372406\n",
            "0.11129546165466309 data loading time\n",
            "0.11240649223327637 data loading time\n"
          ]
        },
        {
          "output_type": "stream",
          "name": "stderr",
          "text": [
            "\r 23%|██▎       | 467/2035 [2:19:26<7:44:02, 17.76s/it]"
          ]
        },
        {
          "output_type": "stream",
          "name": "stdout",
          "text": [
            "0.12653803825378418 data loading time\n",
            "2.566869020462036 Discriminators training\n",
            "1.0908873081207275 backprop discriminator\n",
            "0.24736237525939941 adversarial loss\n",
            "2.083026647567749 cycle loss\n",
            "9.332174301147461 generator backprop\n",
            "Generator Loss: 3.371734619140625 Discriminator Loss: 0.42412590980529785\n",
            "0.11518073081970215 data loading time\n",
            "0.11189126968383789 data loading time\n"
          ]
        },
        {
          "output_type": "stream",
          "name": "stderr",
          "text": [
            "\r 23%|██▎       | 468/2035 [2:19:43<7:44:18, 17.78s/it]"
          ]
        },
        {
          "output_type": "stream",
          "name": "stdout",
          "text": [
            "0.12899017333984375 data loading time\n",
            "2.5665934085845947 Discriminators training\n",
            "1.0940709114074707 backprop discriminator\n",
            "0.25313806533813477 adversarial loss\n",
            "2.090771436691284 cycle loss\n",
            "9.30233359336853 generator backprop\n",
            "Generator Loss: 3.396632671356201 Discriminator Loss: 0.4182661175727844\n",
            "0.11162257194519043 data loading time\n",
            "0.11175990104675293 data loading time\n"
          ]
        },
        {
          "output_type": "stream",
          "name": "stderr",
          "text": [
            "\r 23%|██▎       | 469/2035 [2:20:01<7:44:20, 17.79s/it]"
          ]
        },
        {
          "output_type": "stream",
          "name": "stdout",
          "text": [
            "0.1265249252319336 data loading time\n",
            "2.5557050704956055 Discriminators training\n",
            "1.0825562477111816 backprop discriminator\n",
            "0.2450253963470459 adversarial loss\n",
            "2.083385944366455 cycle loss\n",
            "9.225107431411743 generator backprop\n",
            "Generator Loss: 3.5393967628479004 Discriminator Loss: 0.4766654074192047\n",
            "0.11190056800842285 data loading time\n",
            "0.11188864707946777 data loading time\n"
          ]
        },
        {
          "output_type": "stream",
          "name": "stderr",
          "text": [
            "\r 23%|██▎       | 470/2035 [2:20:19<7:43:25, 17.77s/it]"
          ]
        },
        {
          "output_type": "stream",
          "name": "stdout",
          "text": [
            "0.1279435157775879 data loading time\n",
            "2.5658020973205566 Discriminators training\n",
            "1.0850203037261963 backprop discriminator\n",
            "0.2553529739379883 adversarial loss\n",
            "2.096501111984253 cycle loss\n",
            "9.203513383865356 generator backprop\n",
            "Generator Loss: 3.279630184173584 Discriminator Loss: 0.38545283675193787\n",
            "0.11067414283752441 data loading time\n",
            "0.1121819019317627 data loading time\n"
          ]
        },
        {
          "output_type": "stream",
          "name": "stderr",
          "text": [
            "\r 23%|██▎       | 471/2035 [2:20:37<7:42:46, 17.75s/it]"
          ]
        },
        {
          "output_type": "stream",
          "name": "stdout",
          "text": [
            "0.13109350204467773 data loading time\n",
            "2.570239543914795 Discriminators training\n",
            "1.0816619396209717 backprop discriminator\n",
            "0.24630212783813477 adversarial loss\n",
            "2.1114213466644287 cycle loss\n",
            "9.32733154296875 generator backprop\n",
            "Generator Loss: 3.261408805847168 Discriminator Loss: 0.44657620787620544\n",
            "0.11213302612304688 data loading time\n",
            "0.11154842376708984 data loading time\n"
          ]
        },
        {
          "output_type": "stream",
          "name": "stderr",
          "text": [
            "\r 23%|██▎       | 472/2035 [2:20:55<7:43:29, 17.79s/it]"
          ]
        },
        {
          "output_type": "stream",
          "name": "stdout",
          "text": [
            "0.13468194007873535 data loading time\n",
            "2.5647261142730713 Discriminators training\n",
            "1.0838639736175537 backprop discriminator\n",
            "0.24826860427856445 adversarial loss\n",
            "2.102679491043091 cycle loss\n",
            "9.378538608551025 generator backprop\n",
            "Generator Loss: 2.6079747676849365 Discriminator Loss: 0.4957832396030426\n",
            "0.11133575439453125 data loading time\n",
            "0.1119999885559082 data loading time\n"
          ]
        },
        {
          "output_type": "stream",
          "name": "stderr",
          "text": [
            "\r 23%|██▎       | 473/2035 [2:21:12<7:43:59, 17.82s/it]"
          ]
        },
        {
          "output_type": "stream",
          "name": "stdout",
          "text": [
            "0.13134384155273438 data loading time\n",
            "2.5709829330444336 Discriminators training\n",
            "1.0861878395080566 backprop discriminator\n",
            "0.2396101951599121 adversarial loss\n",
            "2.105120897293091 cycle loss\n",
            "9.295433044433594 generator backprop\n",
            "Generator Loss: 2.837405204772949 Discriminator Loss: 0.42748016119003296\n",
            "0.11192584037780762 data loading time\n",
            "0.11116600036621094 data loading time\n"
          ]
        },
        {
          "output_type": "stream",
          "name": "stderr",
          "text": [
            "\r 23%|██▎       | 474/2035 [2:21:30<7:43:36, 17.82s/it]"
          ]
        },
        {
          "output_type": "stream",
          "name": "stdout",
          "text": [
            "0.1204838752746582 data loading time\n",
            "2.564098834991455 Discriminators training\n",
            "1.0891547203063965 backprop discriminator\n",
            "0.2438037395477295 adversarial loss\n",
            "2.087228536605835 cycle loss\n",
            "9.342828273773193 generator backprop\n",
            "Generator Loss: 3.108247995376587 Discriminator Loss: 0.45968887209892273\n",
            "0.1117544174194336 data loading time\n",
            "0.11228537559509277 data loading time\n"
          ]
        },
        {
          "output_type": "stream",
          "name": "stderr",
          "text": [
            "\r 23%|██▎       | 475/2035 [2:21:48<7:43:26, 17.82s/it]"
          ]
        },
        {
          "output_type": "stream",
          "name": "stdout",
          "text": [
            "0.133833646774292 data loading time\n",
            "2.554654121398926 Discriminators training\n",
            "1.0819027423858643 backprop discriminator\n",
            "0.24874114990234375 adversarial loss\n",
            "2.1103365421295166 cycle loss\n",
            "9.352635860443115 generator backprop\n",
            "Generator Loss: 3.6511852741241455 Discriminator Loss: 0.43362125754356384\n",
            "0.11144137382507324 data loading time\n",
            "0.11301898956298828 data loading time\n"
          ]
        },
        {
          "output_type": "stream",
          "name": "stderr",
          "text": [
            "\r 23%|██▎       | 476/2035 [2:22:06<7:43:29, 17.84s/it]"
          ]
        },
        {
          "output_type": "stream",
          "name": "stdout",
          "text": [
            "0.12720537185668945 data loading time\n",
            "2.5615134239196777 Discriminators training\n",
            "1.082808494567871 backprop discriminator\n",
            "0.245133638381958 adversarial loss\n",
            "2.099165678024292 cycle loss\n",
            "9.268028259277344 generator backprop\n",
            "Generator Loss: 3.2949628829956055 Discriminator Loss: 0.574935793876648\n",
            "0.11032772064208984 data loading time\n",
            "0.11380982398986816 data loading time\n"
          ]
        },
        {
          "output_type": "stream",
          "name": "stderr",
          "text": [
            "\r 23%|██▎       | 477/2035 [2:22:24<7:42:41, 17.82s/it]"
          ]
        },
        {
          "output_type": "stream",
          "name": "stdout",
          "text": [
            "0.12556815147399902 data loading time\n",
            "2.5495316982269287 Discriminators training\n",
            "1.0768132209777832 backprop discriminator\n",
            "0.24044489860534668 adversarial loss\n",
            "2.0849769115448 cycle loss\n",
            "9.239105224609375 generator backprop\n",
            "Generator Loss: 3.6141128540039062 Discriminator Loss: 0.47097939252853394\n",
            "0.11105132102966309 data loading time\n",
            "0.11204242706298828 data loading time\n"
          ]
        },
        {
          "output_type": "stream",
          "name": "stderr",
          "text": [
            "\r 23%|██▎       | 478/2035 [2:22:41<7:41:27, 17.78s/it]"
          ]
        },
        {
          "output_type": "stream",
          "name": "stdout",
          "text": [
            "0.13070106506347656 data loading time\n",
            "2.5602846145629883 Discriminators training\n",
            "1.0815482139587402 backprop discriminator\n",
            "0.24193620681762695 adversarial loss\n",
            "2.0919864177703857 cycle loss\n",
            "9.28507661819458 generator backprop\n",
            "Generator Loss: 3.223907470703125 Discriminator Loss: 0.4060037136077881\n",
            "0.11193990707397461 data loading time\n",
            "0.11144900321960449 data loading time\n"
          ]
        },
        {
          "output_type": "stream",
          "name": "stderr",
          "text": [
            "\r 24%|██▎       | 479/2035 [2:22:59<7:41:05, 17.78s/it]"
          ]
        },
        {
          "output_type": "stream",
          "name": "stdout",
          "text": [
            "0.13820767402648926 data loading time\n",
            "2.5470213890075684 Discriminators training\n",
            "1.0913383960723877 backprop discriminator\n",
            "0.24550771713256836 adversarial loss\n",
            "2.1012208461761475 cycle loss\n",
            "9.237148761749268 generator backprop\n",
            "Generator Loss: 5.316908359527588 Discriminator Loss: 0.44233238697052\n",
            "0.11114096641540527 data loading time\n",
            "0.11275744438171387 data loading time\n"
          ]
        },
        {
          "output_type": "stream",
          "name": "stderr",
          "text": [
            "\r 24%|██▎       | 480/2035 [2:23:17<7:40:30, 17.77s/it]"
          ]
        },
        {
          "output_type": "stream",
          "name": "stdout",
          "text": [
            "0.1276097297668457 data loading time\n",
            "2.5692405700683594 Discriminators training\n",
            "1.0778682231903076 backprop discriminator\n",
            "0.24850058555603027 adversarial loss\n",
            "2.1004297733306885 cycle loss\n",
            "9.234492301940918 generator backprop\n",
            "Generator Loss: 2.592803955078125 Discriminator Loss: 0.4599362015724182\n",
            "0.11024355888366699 data loading time\n",
            "0.1110086441040039 data loading time\n"
          ]
        },
        {
          "output_type": "stream",
          "name": "stderr",
          "text": [
            "\r 24%|██▎       | 481/2035 [2:23:35<7:39:57, 17.76s/it]"
          ]
        },
        {
          "output_type": "stream",
          "name": "stdout",
          "text": [
            "0.12778663635253906 data loading time\n",
            "2.5599124431610107 Discriminators training\n",
            "1.0734739303588867 backprop discriminator\n",
            "0.24325203895568848 adversarial loss\n",
            "2.092794179916382 cycle loss\n",
            "9.34365963935852 generator backprop\n",
            "Generator Loss: 2.7439041137695312 Discriminator Loss: 0.452182799577713\n",
            "0.1121981143951416 data loading time\n",
            "0.11111140251159668 data loading time\n"
          ]
        },
        {
          "output_type": "stream",
          "name": "stderr",
          "text": [
            "\r 24%|██▎       | 482/2035 [2:23:52<7:40:06, 17.78s/it]"
          ]
        },
        {
          "output_type": "stream",
          "name": "stdout",
          "text": [
            "0.12700366973876953 data loading time\n",
            "2.575141429901123 Discriminators training\n",
            "1.0824031829833984 backprop discriminator\n",
            "0.2440958023071289 adversarial loss\n",
            "2.087541103363037 cycle loss\n",
            "9.297627449035645 generator backprop\n",
            "Generator Loss: 3.0426759719848633 Discriminator Loss: 0.4837428331375122\n",
            "0.1124715805053711 data loading time\n",
            "0.11359357833862305 data loading time\n"
          ]
        },
        {
          "output_type": "stream",
          "name": "stderr",
          "text": [
            "\r 24%|██▎       | 483/2035 [2:24:10<7:40:05, 17.79s/it]"
          ]
        },
        {
          "output_type": "stream",
          "name": "stdout",
          "text": [
            "0.13064026832580566 data loading time\n",
            "2.564446449279785 Discriminators training\n",
            "1.0825250148773193 backprop discriminator\n",
            "0.2421131134033203 adversarial loss\n",
            "2.1008048057556152 cycle loss\n",
            "9.333896160125732 generator backprop\n",
            "Generator Loss: 2.78167724609375 Discriminator Loss: 0.47046658396720886\n",
            "0.1115880012512207 data loading time\n",
            "0.11213850975036621 data loading time\n"
          ]
        },
        {
          "output_type": "stream",
          "name": "stderr",
          "text": [
            "\r 24%|██▍       | 484/2035 [2:24:28<7:40:06, 17.80s/it]"
          ]
        },
        {
          "output_type": "stream",
          "name": "stdout",
          "text": [
            "0.19002342224121094 data loading time\n",
            "2.550710678100586 Discriminators training\n",
            "1.0743262767791748 backprop discriminator\n",
            "0.24138927459716797 adversarial loss\n",
            "2.0900778770446777 cycle loss\n",
            "9.239731788635254 generator backprop\n",
            "Generator Loss: 2.8276352882385254 Discriminator Loss: 0.49287697672843933\n",
            "0.11089348793029785 data loading time\n",
            "0.1125340461730957 data loading time\n"
          ]
        },
        {
          "output_type": "stream",
          "name": "stderr",
          "text": [
            "\r 24%|██▍       | 485/2035 [2:24:46<7:39:25, 17.78s/it]"
          ]
        },
        {
          "output_type": "stream",
          "name": "stdout",
          "text": [
            "0.12909173965454102 data loading time\n",
            "2.5319910049438477 Discriminators training\n",
            "1.0720140933990479 backprop discriminator\n",
            "0.24414491653442383 adversarial loss\n",
            "2.0714685916900635 cycle loss\n",
            "9.238533020019531 generator backprop\n",
            "Generator Loss: 2.4954581260681152 Discriminator Loss: 0.44804614782333374\n",
            "0.11587262153625488 data loading time\n",
            "0.11100339889526367 data loading time\n"
          ]
        },
        {
          "output_type": "stream",
          "name": "stderr",
          "text": [
            "\r 24%|██▍       | 486/2035 [2:25:04<7:38:05, 17.74s/it]"
          ]
        },
        {
          "output_type": "stream",
          "name": "stdout",
          "text": [
            "0.18513822555541992 data loading time\n",
            "2.557229518890381 Discriminators training\n",
            "1.0771887302398682 backprop discriminator\n",
            "0.24402499198913574 adversarial loss\n",
            "2.074613094329834 cycle loss\n",
            "9.23289680480957 generator backprop\n",
            "Generator Loss: 2.5679845809936523 Discriminator Loss: 0.4001246690750122\n",
            "0.11114883422851562 data loading time\n",
            "0.11213397979736328 data loading time\n"
          ]
        },
        {
          "output_type": "stream",
          "name": "stderr",
          "text": [
            "\r 24%|██▍       | 487/2035 [2:25:21<7:37:43, 17.74s/it]"
          ]
        },
        {
          "output_type": "stream",
          "name": "stdout",
          "text": [
            "0.1213233470916748 data loading time\n",
            "2.5440948009490967 Discriminators training\n",
            "1.077756643295288 backprop discriminator\n",
            "0.2472550868988037 adversarial loss\n",
            "2.0732686519622803 cycle loss\n",
            "9.26388692855835 generator backprop\n",
            "Generator Loss: 2.7269744873046875 Discriminator Loss: 0.5041745901107788\n",
            "0.11128735542297363 data loading time\n",
            "0.11838483810424805 data loading time\n"
          ]
        },
        {
          "output_type": "stream",
          "name": "stderr",
          "text": [
            "\r 24%|██▍       | 488/2035 [2:25:39<7:37:07, 17.73s/it]"
          ]
        },
        {
          "output_type": "stream",
          "name": "stdout",
          "text": [
            "0.1241152286529541 data loading time\n",
            "2.525862455368042 Discriminators training\n",
            "1.0759539604187012 backprop discriminator\n",
            "0.2507624626159668 adversarial loss\n",
            "2.0660858154296875 cycle loss\n",
            "9.295095205307007 generator backprop\n",
            "Generator Loss: 2.8404037952423096 Discriminator Loss: 0.3916558623313904\n",
            "0.11111593246459961 data loading time\n",
            "0.11128759384155273 data loading time\n"
          ]
        },
        {
          "output_type": "stream",
          "name": "stderr",
          "text": [
            "\r 24%|██▍       | 489/2035 [2:25:57<7:36:42, 17.72s/it]"
          ]
        },
        {
          "output_type": "stream",
          "name": "stdout",
          "text": [
            "0.12579560279846191 data loading time\n",
            "2.552682876586914 Discriminators training\n",
            "1.0836997032165527 backprop discriminator\n",
            "0.24275445938110352 adversarial loss\n",
            "2.0837042331695557 cycle loss\n",
            "9.271937608718872 generator backprop\n",
            "Generator Loss: 2.66178035736084 Discriminator Loss: 0.5539398193359375\n",
            "0.11068296432495117 data loading time\n",
            "0.11121249198913574 data loading time\n"
          ]
        },
        {
          "output_type": "stream",
          "name": "stderr",
          "text": [
            "\r 24%|██▍       | 490/2035 [2:26:14<7:36:18, 17.72s/it]"
          ]
        },
        {
          "output_type": "stream",
          "name": "stdout",
          "text": [
            "0.12617158889770508 data loading time\n",
            "2.5423073768615723 Discriminators training\n",
            "1.0811502933502197 backprop discriminator\n",
            "0.24706816673278809 adversarial loss\n",
            "2.0846309661865234 cycle loss\n",
            "10.380036354064941 generator backprop\n",
            "Generator Loss: 2.6770167350769043 Discriminator Loss: 0.38473978638648987\n",
            "0.11160397529602051 data loading time\n",
            "0.11080789566040039 data loading time\n"
          ]
        },
        {
          "output_type": "stream",
          "name": "stderr",
          "text": [
            "\r 24%|██▍       | 491/2035 [2:26:33<7:44:29, 18.05s/it]"
          ]
        },
        {
          "output_type": "stream",
          "name": "stdout",
          "text": [
            "0.11908912658691406 data loading time\n",
            "2.5606865882873535 Discriminators training\n",
            "1.0692534446716309 backprop discriminator\n",
            "0.24449491500854492 adversarial loss\n",
            "2.095949411392212 cycle loss\n",
            "9.244398593902588 generator backprop\n",
            "Generator Loss: 3.12801456451416 Discriminator Loss: 0.3901664912700653\n",
            "0.1116034984588623 data loading time\n",
            "0.11141109466552734 data loading time\n"
          ]
        },
        {
          "output_type": "stream",
          "name": "stderr",
          "text": [
            "\r 24%|██▍       | 492/2035 [2:26:51<7:41:31, 17.95s/it]"
          ]
        },
        {
          "output_type": "stream",
          "name": "stdout",
          "text": [
            "0.2041788101196289 data loading time\n",
            "2.5596120357513428 Discriminators training\n",
            "1.0708744525909424 backprop discriminator\n",
            "0.24408602714538574 adversarial loss\n",
            "2.088222026824951 cycle loss\n",
            "9.26893663406372 generator backprop\n",
            "Generator Loss: 2.9464991092681885 Discriminator Loss: 0.4112660884857178\n",
            "0.11120986938476562 data loading time\n",
            "0.11210322380065918 data loading time\n"
          ]
        },
        {
          "output_type": "stream",
          "name": "stderr",
          "text": [
            "\r 24%|██▍       | 493/2035 [2:27:09<7:40:03, 17.90s/it]"
          ]
        },
        {
          "output_type": "stream",
          "name": "stdout",
          "text": [
            "0.12711000442504883 data loading time\n",
            "2.5464911460876465 Discriminators training\n",
            "1.0798239707946777 backprop discriminator\n",
            "0.24526000022888184 adversarial loss\n",
            "2.085202693939209 cycle loss\n",
            "9.296932935714722 generator backprop\n",
            "Generator Loss: 2.9028971195220947 Discriminator Loss: 0.4442802667617798\n",
            "0.11059737205505371 data loading time\n",
            "0.11263108253479004 data loading time\n"
          ]
        },
        {
          "output_type": "stream",
          "name": "stderr",
          "text": [
            "\r 24%|██▍       | 494/2035 [2:27:26<7:38:35, 17.86s/it]"
          ]
        },
        {
          "output_type": "stream",
          "name": "stdout",
          "text": [
            "0.1258394718170166 data loading time\n",
            "2.5389046669006348 Discriminators training\n",
            "1.0673284530639648 backprop discriminator\n",
            "0.24462532997131348 adversarial loss\n",
            "2.082263708114624 cycle loss\n",
            "9.34268593788147 generator backprop\n",
            "Generator Loss: 2.680746555328369 Discriminator Loss: 0.46712327003479004\n",
            "0.11093902587890625 data loading time\n",
            "0.11168813705444336 data loading time\n"
          ]
        },
        {
          "output_type": "stream",
          "name": "stderr",
          "text": [
            "\r 24%|██▍       | 495/2035 [2:27:44<7:37:38, 17.83s/it]"
          ]
        },
        {
          "output_type": "stream",
          "name": "stdout",
          "text": [
            "0.12553191184997559 data loading time\n",
            "2.5428311824798584 Discriminators training\n",
            "1.0919671058654785 backprop discriminator\n",
            "0.24253034591674805 adversarial loss\n",
            "2.110273599624634 cycle loss\n",
            "9.285586833953857 generator backprop\n",
            "Generator Loss: 2.746162176132202 Discriminator Loss: 0.6019437313079834\n",
            "0.11156368255615234 data loading time\n",
            "0.11184358596801758 data loading time\n"
          ]
        },
        {
          "output_type": "stream",
          "name": "stderr",
          "text": [
            "\r 24%|██▍       | 496/2035 [2:28:02<7:36:59, 17.82s/it]"
          ]
        },
        {
          "output_type": "stream",
          "name": "stdout",
          "text": [
            "0.12193870544433594 data loading time\n",
            "2.5680088996887207 Discriminators training\n",
            "1.090789556503296 backprop discriminator\n",
            "0.243666410446167 adversarial loss\n",
            "2.1093039512634277 cycle loss\n",
            "9.339272737503052 generator backprop\n",
            "Generator Loss: 2.1930646896362305 Discriminator Loss: 0.4774269163608551\n",
            "0.11119627952575684 data loading time\n",
            "0.11251282691955566 data loading time\n"
          ]
        },
        {
          "output_type": "stream",
          "name": "stderr",
          "text": [
            "\r 24%|██▍       | 497/2035 [2:28:20<7:37:06, 17.83s/it]"
          ]
        },
        {
          "output_type": "stream",
          "name": "stdout",
          "text": [
            "0.1267869472503662 data loading time\n",
            "2.5545272827148438 Discriminators training\n",
            "1.1057207584381104 backprop discriminator\n",
            "0.2407686710357666 adversarial loss\n",
            "2.079002857208252 cycle loss\n",
            "9.308425426483154 generator backprop\n",
            "Generator Loss: 2.8961257934570312 Discriminator Loss: 0.39021024107933044\n",
            "0.1118462085723877 data loading time\n",
            "0.1113898754119873 data loading time\n"
          ]
        },
        {
          "output_type": "stream",
          "name": "stderr",
          "text": [
            "\r 24%|██▍       | 498/2035 [2:28:38<7:36:35, 17.82s/it]"
          ]
        },
        {
          "output_type": "stream",
          "name": "stdout",
          "text": [
            "0.13672327995300293 data loading time\n",
            "2.551335573196411 Discriminators training\n",
            "1.075160264968872 backprop discriminator\n",
            "0.24519062042236328 adversarial loss\n",
            "2.081573009490967 cycle loss\n",
            "9.31250810623169 generator backprop\n",
            "Generator Loss: 2.7954037189483643 Discriminator Loss: 0.44275331497192383\n",
            "0.11058950424194336 data loading time\n",
            "0.11147499084472656 data loading time\n"
          ]
        },
        {
          "output_type": "stream",
          "name": "stderr",
          "text": [
            "\r 25%|██▍       | 499/2035 [2:28:55<7:35:54, 17.81s/it]"
          ]
        },
        {
          "output_type": "stream",
          "name": "stdout",
          "text": [
            "0.12155532836914062 data loading time\n",
            "2.560656785964966 Discriminators training\n",
            "1.0776729583740234 backprop discriminator\n",
            "0.2451484203338623 adversarial loss\n",
            "2.082993984222412 cycle loss\n",
            "9.387810468673706 generator backprop\n",
            "Generator Loss: 3.602421760559082 Discriminator Loss: 0.44853776693344116\n",
            "0.11168742179870605 data loading time\n",
            "0.11252617835998535 data loading time\n"
          ]
        },
        {
          "output_type": "stream",
          "name": "stderr",
          "text": [
            "\r 25%|██▍       | 500/2035 [2:29:13<7:36:09, 17.83s/it]"
          ]
        },
        {
          "output_type": "stream",
          "name": "stdout",
          "text": [
            "0.12162280082702637 data loading time\n",
            "2.562765598297119 Discriminators training\n",
            "1.0859692096710205 backprop discriminator\n",
            "0.2564873695373535 adversarial loss\n",
            "2.0922775268554688 cycle loss\n",
            "9.373146772384644 generator backprop\n",
            "Generator Loss: 3.3392739295959473 Discriminator Loss: 0.3315948247909546\n",
            "0.11279869079589844 data loading time\n",
            "0.11720418930053711 data loading time\n"
          ]
        },
        {
          "output_type": "stream",
          "name": "stderr",
          "text": [
            "\r 25%|██▍       | 501/2035 [2:29:31<7:36:32, 17.86s/it]"
          ]
        },
        {
          "output_type": "stream",
          "name": "stdout",
          "text": [
            "0.12579846382141113 data loading time\n",
            "2.5647289752960205 Discriminators training\n",
            "1.095778226852417 backprop discriminator\n",
            "0.24515962600708008 adversarial loss\n",
            "2.100818157196045 cycle loss\n",
            "9.345470905303955 generator backprop\n",
            "Generator Loss: 2.982149600982666 Discriminator Loss: 0.5377147793769836\n",
            "0.11829257011413574 data loading time\n",
            "0.1119687557220459 data loading time\n"
          ]
        },
        {
          "output_type": "stream",
          "name": "stderr",
          "text": [
            "\r 25%|██▍       | 502/2035 [2:29:49<7:36:25, 17.86s/it]"
          ]
        },
        {
          "output_type": "stream",
          "name": "stdout",
          "text": [
            "0.12783503532409668 data loading time\n",
            "2.5712475776672363 Discriminators training\n",
            "1.0914232730865479 backprop discriminator\n",
            "0.2450268268585205 adversarial loss\n",
            "2.0997543334960938 cycle loss\n",
            "9.349756002426147 generator backprop\n",
            "Generator Loss: 3.4971976280212402 Discriminator Loss: 0.4719850420951843\n",
            "0.11527204513549805 data loading time\n",
            "0.11185956001281738 data loading time\n"
          ]
        },
        {
          "output_type": "stream",
          "name": "stderr",
          "text": [
            "\r 25%|██▍       | 503/2035 [2:30:07<7:36:18, 17.87s/it]"
          ]
        },
        {
          "output_type": "stream",
          "name": "stdout",
          "text": [
            "0.13239550590515137 data loading time\n",
            "2.5683999061584473 Discriminators training\n",
            "1.0808393955230713 backprop discriminator\n",
            "0.24763798713684082 adversarial loss\n",
            "2.105304718017578 cycle loss\n",
            "9.286428928375244 generator backprop\n",
            "Generator Loss: 3.5136003494262695 Discriminator Loss: 0.36835578083992004\n",
            "0.11105632781982422 data loading time\n",
            "0.11415791511535645 data loading time\n"
          ]
        },
        {
          "output_type": "stream",
          "name": "stderr",
          "text": [
            "\r 25%|██▍       | 504/2035 [2:30:25<7:35:34, 17.85s/it]"
          ]
        },
        {
          "output_type": "stream",
          "name": "stdout",
          "text": [
            "0.1286301612854004 data loading time\n",
            "2.5616934299468994 Discriminators training\n",
            "1.0756769180297852 backprop discriminator\n",
            "0.2484598159790039 adversarial loss\n",
            "2.088146924972534 cycle loss\n",
            "9.273772716522217 generator backprop\n",
            "Generator Loss: 2.752357006072998 Discriminator Loss: 0.4943847358226776\n",
            "0.1104578971862793 data loading time\n",
            "0.11208605766296387 data loading time\n"
          ]
        },
        {
          "output_type": "stream",
          "name": "stderr",
          "text": [
            "\r 25%|██▍       | 505/2035 [2:30:43<7:34:29, 17.82s/it]"
          ]
        },
        {
          "output_type": "stream",
          "name": "stdout",
          "text": [
            "0.12299799919128418 data loading time\n",
            "2.567683219909668 Discriminators training\n",
            "1.0787510871887207 backprop discriminator\n",
            "0.2543931007385254 adversarial loss\n",
            "2.0981597900390625 cycle loss\n",
            "9.28376054763794 generator backprop\n",
            "Generator Loss: 2.6716256141662598 Discriminator Loss: 0.405392587184906\n",
            "0.11439704895019531 data loading time\n",
            "0.11143851280212402 data loading time\n"
          ]
        },
        {
          "output_type": "stream",
          "name": "stderr",
          "text": [
            "\r 25%|██▍       | 506/2035 [2:31:00<7:33:58, 17.81s/it]"
          ]
        },
        {
          "output_type": "stream",
          "name": "stdout",
          "text": [
            "0.1278398036956787 data loading time\n",
            "2.554062604904175 Discriminators training\n",
            "1.0854172706604004 backprop discriminator\n",
            "0.2458479404449463 adversarial loss\n",
            "2.084623336791992 cycle loss\n",
            "9.286237001419067 generator backprop\n",
            "Generator Loss: 2.755629062652588 Discriminator Loss: 0.4361976683139801\n",
            "0.11218476295471191 data loading time\n",
            "0.11175036430358887 data loading time\n"
          ]
        },
        {
          "output_type": "stream",
          "name": "stderr",
          "text": [
            "\r 25%|██▍       | 507/2035 [2:31:18<7:33:16, 17.80s/it]"
          ]
        },
        {
          "output_type": "stream",
          "name": "stdout",
          "text": [
            "0.12499713897705078 data loading time\n",
            "2.5855464935302734 Discriminators training\n",
            "1.0657145977020264 backprop discriminator\n",
            "0.24451279640197754 adversarial loss\n",
            "2.0892527103424072 cycle loss\n",
            "9.251476764678955 generator backprop\n",
            "Generator Loss: 2.5969321727752686 Discriminator Loss: 0.49823084473609924\n",
            "0.1147150993347168 data loading time\n",
            "0.11168599128723145 data loading time\n"
          ]
        },
        {
          "output_type": "stream",
          "name": "stderr",
          "text": [
            "\r 25%|██▍       | 508/2035 [2:31:36<7:32:30, 17.78s/it]"
          ]
        },
        {
          "output_type": "stream",
          "name": "stdout",
          "text": [
            "0.12284278869628906 data loading time\n",
            "2.554989814758301 Discriminators training\n",
            "1.0800950527191162 backprop discriminator\n",
            "0.26034092903137207 adversarial loss\n",
            "2.0973241329193115 cycle loss\n",
            "9.389758825302124 generator backprop\n",
            "Generator Loss: 4.756137371063232 Discriminator Loss: 0.3917989134788513\n",
            "0.11125969886779785 data loading time\n",
            "0.11286759376525879 data loading time\n"
          ]
        },
        {
          "output_type": "stream",
          "name": "stderr",
          "text": [
            "\r 25%|██▌       | 509/2035 [2:31:54<7:33:05, 17.81s/it]"
          ]
        },
        {
          "output_type": "stream",
          "name": "stdout",
          "text": [
            "0.13141512870788574 data loading time\n",
            "2.574673652648926 Discriminators training\n",
            "1.1047108173370361 backprop discriminator\n",
            "0.24199652671813965 adversarial loss\n",
            "2.118018865585327 cycle loss\n",
            "9.432350873947144 generator backprop\n",
            "Generator Loss: 4.001721382141113 Discriminator Loss: 0.4534032344818115\n",
            "0.11143708229064941 data loading time\n",
            "0.11128473281860352 data loading time\n"
          ]
        },
        {
          "output_type": "stream",
          "name": "stderr",
          "text": [
            "\r 25%|██▌       | 510/2035 [2:32:12<7:34:04, 17.87s/it]"
          ]
        },
        {
          "output_type": "stream",
          "name": "stdout",
          "text": [
            "0.12969493865966797 data loading time\n",
            "2.5714168548583984 Discriminators training\n",
            "1.0843772888183594 backprop discriminator\n",
            "0.24681973457336426 adversarial loss\n",
            "2.0810744762420654 cycle loss\n",
            "9.28174901008606 generator backprop\n",
            "Generator Loss: 3.4118781089782715 Discriminator Loss: 0.5022903680801392\n",
            "0.11100101470947266 data loading time\n",
            "0.11112761497497559 data loading time\n"
          ]
        },
        {
          "output_type": "stream",
          "name": "stderr",
          "text": [
            "\r 25%|██▌       | 511/2035 [2:32:30<7:33:05, 17.84s/it]"
          ]
        },
        {
          "output_type": "stream",
          "name": "stdout",
          "text": [
            "0.12554574012756348 data loading time\n",
            "2.5496411323547363 Discriminators training\n",
            "1.0780513286590576 backprop discriminator\n",
            "0.24358725547790527 adversarial loss\n",
            "2.0765981674194336 cycle loss\n",
            "9.235856056213379 generator backprop\n",
            "Generator Loss: 3.4170103073120117 Discriminator Loss: 0.5566354393959045\n",
            "0.11103940010070801 data loading time\n",
            "0.11196446418762207 data loading time\n"
          ]
        },
        {
          "output_type": "stream",
          "name": "stderr",
          "text": [
            "\r 25%|██▌       | 512/2035 [2:32:47<7:31:36, 17.79s/it]"
          ]
        },
        {
          "output_type": "stream",
          "name": "stdout",
          "text": [
            "0.12435436248779297 data loading time\n",
            "2.5536694526672363 Discriminators training\n",
            "1.080622673034668 backprop discriminator\n",
            "0.24410080909729004 adversarial loss\n",
            "2.092726945877075 cycle loss\n",
            "9.250180006027222 generator backprop\n",
            "Generator Loss: 2.736754894256592 Discriminator Loss: 0.48481816053390503\n",
            "0.11193490028381348 data loading time\n",
            "0.11286020278930664 data loading time\n"
          ]
        },
        {
          "output_type": "stream",
          "name": "stderr",
          "text": [
            "\r 25%|██▌       | 513/2035 [2:33:05<7:30:51, 17.77s/it]"
          ]
        },
        {
          "output_type": "stream",
          "name": "stdout",
          "text": [
            "0.13458895683288574 data loading time\n",
            "2.5459446907043457 Discriminators training\n",
            "1.0875763893127441 backprop discriminator\n",
            "0.24619507789611816 adversarial loss\n",
            "2.0864713191986084 cycle loss\n",
            "9.308779954910278 generator backprop\n",
            "Generator Loss: 2.1195051670074463 Discriminator Loss: 0.6021191477775574\n",
            "0.11387109756469727 data loading time\n",
            "0.11327314376831055 data loading time\n"
          ]
        },
        {
          "output_type": "stream",
          "name": "stderr",
          "text": [
            "\r 25%|██▌       | 514/2035 [2:33:23<7:30:43, 17.78s/it]"
          ]
        },
        {
          "output_type": "stream",
          "name": "stdout",
          "text": [
            "0.12950468063354492 data loading time\n",
            "2.5570662021636963 Discriminators training\n",
            "1.082313060760498 backprop discriminator\n",
            "0.24290084838867188 adversarial loss\n",
            "2.079768180847168 cycle loss\n",
            "9.335476875305176 generator backprop\n",
            "Generator Loss: 2.578234910964966 Discriminator Loss: 0.4615313410758972\n",
            "0.11111187934875488 data loading time\n",
            "0.1116030216217041 data loading time\n"
          ]
        },
        {
          "output_type": "stream",
          "name": "stderr",
          "text": [
            "\r 25%|██▌       | 515/2035 [2:33:41<7:30:50, 17.80s/it]"
          ]
        },
        {
          "output_type": "stream",
          "name": "stdout",
          "text": [
            "0.1348252296447754 data loading time\n",
            "2.5571212768554688 Discriminators training\n",
            "1.0815167427062988 backprop discriminator\n",
            "0.2404310703277588 adversarial loss\n",
            "2.091994285583496 cycle loss\n",
            "9.271216630935669 generator backprop\n",
            "Generator Loss: 3.677557945251465 Discriminator Loss: 0.43816274404525757\n",
            "0.11078071594238281 data loading time\n",
            "0.11144733428955078 data loading time\n"
          ]
        },
        {
          "output_type": "stream",
          "name": "stderr",
          "text": [
            "\r 25%|██▌       | 516/2035 [2:33:58<7:30:06, 17.78s/it]"
          ]
        },
        {
          "output_type": "stream",
          "name": "stdout",
          "text": [
            "0.12078499794006348 data loading time\n",
            "2.5664870738983154 Discriminators training\n",
            "1.0678324699401855 backprop discriminator\n",
            "0.2436833381652832 adversarial loss\n",
            "2.0861594676971436 cycle loss\n",
            "9.316579818725586 generator backprop\n",
            "Generator Loss: 2.3082146644592285 Discriminator Loss: 0.3877379298210144\n",
            "0.11140871047973633 data loading time\n",
            "0.11257004737854004 data loading time\n"
          ]
        },
        {
          "output_type": "stream",
          "name": "stderr",
          "text": [
            "\r 25%|██▌       | 517/2035 [2:34:16<7:29:55, 17.78s/it]"
          ]
        },
        {
          "output_type": "stream",
          "name": "stdout",
          "text": [
            "0.12903690338134766 data loading time\n",
            "2.560410499572754 Discriminators training\n",
            "1.083754539489746 backprop discriminator\n",
            "0.25524044036865234 adversarial loss\n",
            "2.0928585529327393 cycle loss\n",
            "9.244709014892578 generator backprop\n",
            "Generator Loss: 2.424318313598633 Discriminator Loss: 0.6051883697509766\n",
            "0.11116170883178711 data loading time\n",
            "0.11278223991394043 data loading time\n"
          ]
        },
        {
          "output_type": "stream",
          "name": "stderr",
          "text": [
            "\r 25%|██▌       | 518/2035 [2:34:34<7:29:23, 17.77s/it]"
          ]
        },
        {
          "output_type": "stream",
          "name": "stdout",
          "text": [
            "0.12282276153564453 data loading time\n",
            "2.568258285522461 Discriminators training\n",
            "1.0717532634735107 backprop discriminator\n",
            "0.24862074851989746 adversarial loss\n",
            "2.091611862182617 cycle loss\n",
            "9.304672479629517 generator backprop\n",
            "Generator Loss: 4.103901386260986 Discriminator Loss: 0.44875437021255493\n",
            "0.11031532287597656 data loading time\n",
            "0.11113691329956055 data loading time\n"
          ]
        },
        {
          "output_type": "stream",
          "name": "stderr",
          "text": [
            "\r 26%|██▌       | 519/2035 [2:34:52<7:29:13, 17.78s/it]"
          ]
        },
        {
          "output_type": "stream",
          "name": "stdout",
          "text": [
            "0.1349925994873047 data loading time\n",
            "2.5569801330566406 Discriminators training\n",
            "1.0781495571136475 backprop discriminator\n",
            "0.24886512756347656 adversarial loss\n",
            "2.0826175212860107 cycle loss\n",
            "9.321603298187256 generator backprop\n",
            "Generator Loss: 2.733492136001587 Discriminator Loss: 0.4991185963153839\n",
            "0.11059427261352539 data loading time\n",
            "0.11234140396118164 data loading time\n"
          ]
        },
        {
          "output_type": "stream",
          "name": "stderr",
          "text": [
            "\r 26%|██▌       | 520/2035 [2:35:09<7:29:03, 17.78s/it]"
          ]
        },
        {
          "output_type": "stream",
          "name": "stdout",
          "text": [
            "0.12340211868286133 data loading time\n",
            "2.5686073303222656 Discriminators training\n",
            "1.0852491855621338 backprop discriminator\n",
            "0.2463514804840088 adversarial loss\n",
            "2.1019864082336426 cycle loss\n",
            "9.394128561019897 generator backprop\n",
            "Generator Loss: 2.949477195739746 Discriminator Loss: 0.44234520196914673\n",
            "0.11177253723144531 data loading time\n",
            "0.11156511306762695 data loading time\n"
          ]
        },
        {
          "output_type": "stream",
          "name": "stderr",
          "text": [
            "\r 26%|██▌       | 521/2035 [2:35:27<7:29:42, 17.82s/it]"
          ]
        },
        {
          "output_type": "stream",
          "name": "stdout",
          "text": [
            "0.12842345237731934 data loading time\n",
            "2.577491521835327 Discriminators training\n",
            "1.091806411743164 backprop discriminator\n",
            "0.25073742866516113 adversarial loss\n",
            "2.0955982208251953 cycle loss\n",
            "9.45625376701355 generator backprop\n",
            "Generator Loss: 2.443845510482788 Discriminator Loss: 0.37463629245758057\n",
            "0.11156034469604492 data loading time\n",
            "0.11289525032043457 data loading time\n"
          ]
        },
        {
          "output_type": "stream",
          "name": "stderr",
          "text": [
            "\r 26%|██▌       | 522/2035 [2:35:45<7:30:50, 17.88s/it]"
          ]
        },
        {
          "output_type": "stream",
          "name": "stdout",
          "text": [
            "0.13030099868774414 data loading time\n",
            "2.574003219604492 Discriminators training\n",
            "1.1018781661987305 backprop discriminator\n",
            "0.24826335906982422 adversarial loss\n",
            "2.1040384769439697 cycle loss\n",
            "9.451816082000732 generator backprop\n",
            "Generator Loss: 2.8931145668029785 Discriminator Loss: 0.5839819312095642\n",
            "0.11278820037841797 data loading time\n",
            "0.11182498931884766 data loading time\n"
          ]
        },
        {
          "output_type": "stream",
          "name": "stderr",
          "text": [
            "\r 26%|██▌       | 523/2035 [2:36:03<7:31:27, 17.91s/it]"
          ]
        },
        {
          "output_type": "stream",
          "name": "stdout",
          "text": [
            "0.12733244895935059 data loading time\n",
            "2.5798075199127197 Discriminators training\n",
            "1.1038239002227783 backprop discriminator\n",
            "0.24375176429748535 adversarial loss\n",
            "2.102489709854126 cycle loss\n",
            "9.464131355285645 generator backprop\n",
            "Generator Loss: 2.7609357833862305 Discriminator Loss: 0.5719799995422363\n",
            "0.11175155639648438 data loading time\n",
            "0.12144088745117188 data loading time\n"
          ]
        },
        {
          "output_type": "stream",
          "name": "stderr",
          "text": [
            "\r 26%|██▌       | 524/2035 [2:36:21<7:32:02, 17.95s/it]"
          ]
        },
        {
          "output_type": "stream",
          "name": "stdout",
          "text": [
            "0.12658429145812988 data loading time\n",
            "2.581989049911499 Discriminators training\n",
            "1.0980768203735352 backprop discriminator\n",
            "0.25229954719543457 adversarial loss\n",
            "2.0964066982269287 cycle loss\n",
            "9.427550077438354 generator backprop\n",
            "Generator Loss: 3.0214405059814453 Discriminator Loss: 0.45041847229003906\n",
            "0.11104273796081543 data loading time\n",
            "0.11341619491577148 data loading time\n"
          ]
        },
        {
          "output_type": "stream",
          "name": "stderr",
          "text": [
            "\r 26%|██▌       | 525/2035 [2:36:39<7:31:47, 17.95s/it]"
          ]
        },
        {
          "output_type": "stream",
          "name": "stdout",
          "text": [
            "0.12782549858093262 data loading time\n",
            "2.574190616607666 Discriminators training\n",
            "1.0951621532440186 backprop discriminator\n",
            "0.241837739944458 adversarial loss\n",
            "2.0939126014709473 cycle loss\n",
            "9.476605892181396 generator backprop\n",
            "Generator Loss: 2.650228500366211 Discriminator Loss: 0.4783006012439728\n",
            "0.11271047592163086 data loading time\n",
            "0.11168599128723145 data loading time\n"
          ]
        },
        {
          "output_type": "stream",
          "name": "stderr",
          "text": [
            "\r 26%|██▌       | 526/2035 [2:36:57<7:31:54, 17.97s/it]"
          ]
        },
        {
          "output_type": "stream",
          "name": "stdout",
          "text": [
            "0.12764334678649902 data loading time\n",
            "2.5840256214141846 Discriminators training\n",
            "1.0991833209991455 backprop discriminator\n",
            "0.24480533599853516 adversarial loss\n",
            "2.1081900596618652 cycle loss\n",
            "9.530114650726318 generator backprop\n",
            "Generator Loss: 2.2610950469970703 Discriminator Loss: 0.47182774543762207\n",
            "0.11493277549743652 data loading time\n",
            "0.11241364479064941 data loading time\n"
          ]
        },
        {
          "output_type": "stream",
          "name": "stderr",
          "text": [
            "\r 26%|██▌       | 527/2035 [2:37:15<7:32:23, 18.00s/it]"
          ]
        },
        {
          "output_type": "stream",
          "name": "stdout",
          "text": [
            "0.12630939483642578 data loading time\n",
            "2.5915377140045166 Discriminators training\n",
            "1.0911486148834229 backprop discriminator\n",
            "0.25446653366088867 adversarial loss\n",
            "2.1206867694854736 cycle loss\n",
            "9.466664552688599 generator backprop\n",
            "Generator Loss: 2.565875291824341 Discriminator Loss: 0.39350396394729614\n",
            "0.11059236526489258 data loading time\n",
            "0.11525964736938477 data loading time\n"
          ]
        },
        {
          "output_type": "stream",
          "name": "stderr",
          "text": [
            "\r 26%|██▌       | 528/2035 [2:37:34<7:32:29, 18.02s/it]"
          ]
        },
        {
          "output_type": "stream",
          "name": "stdout",
          "text": [
            "0.1443653106689453 data loading time\n",
            "2.592127561569214 Discriminators training\n",
            "1.089289665222168 backprop discriminator\n",
            "0.250551700592041 adversarial loss\n",
            "2.1167683601379395 cycle loss\n",
            "9.404979705810547 generator backprop\n",
            "Generator Loss: 2.9062037467956543 Discriminator Loss: 0.5183000564575195\n",
            "0.11160039901733398 data loading time\n",
            "0.11196565628051758 data loading time\n"
          ]
        },
        {
          "output_type": "stream",
          "name": "stderr",
          "text": [
            "\r 26%|██▌       | 529/2035 [2:37:52<7:32:08, 18.01s/it]"
          ]
        },
        {
          "output_type": "stream",
          "name": "stdout",
          "text": [
            "0.13127636909484863 data loading time\n",
            "2.569628953933716 Discriminators training\n",
            "1.116274356842041 backprop discriminator\n",
            "0.2442488670349121 adversarial loss\n",
            "2.1238338947296143 cycle loss\n",
            "9.44869589805603 generator backprop\n",
            "Generator Loss: 3.1889171600341797 Discriminator Loss: 0.5234603881835938\n",
            "0.11171722412109375 data loading time\n",
            "0.11354827880859375 data loading time\n"
          ]
        },
        {
          "output_type": "stream",
          "name": "stderr",
          "text": [
            "\r 26%|██▌       | 530/2035 [2:38:10<7:32:01, 18.02s/it]"
          ]
        },
        {
          "output_type": "stream",
          "name": "stdout",
          "text": [
            "0.1249842643737793 data loading time\n",
            "2.5781350135803223 Discriminators training\n",
            "1.1004359722137451 backprop discriminator\n",
            "0.24358654022216797 adversarial loss\n",
            "2.1028196811676025 cycle loss\n",
            "9.462806224822998 generator backprop\n",
            "Generator Loss: 2.535310745239258 Discriminator Loss: 0.36198893189430237\n",
            "0.11552786827087402 data loading time\n",
            "0.11148905754089355 data loading time\n"
          ]
        },
        {
          "output_type": "stream",
          "name": "stderr",
          "text": [
            "\r 26%|██▌       | 531/2035 [2:38:28<7:31:34, 18.01s/it]"
          ]
        },
        {
          "output_type": "stream",
          "name": "stdout",
          "text": [
            "0.13068413734436035 data loading time\n",
            "2.561072826385498 Discriminators training\n",
            "1.0902156829833984 backprop discriminator\n",
            "0.25487565994262695 adversarial loss\n",
            "2.0997838973999023 cycle loss\n",
            "9.470726728439331 generator backprop\n",
            "Generator Loss: 2.3242363929748535 Discriminator Loss: 0.37661969661712646\n",
            "0.11240577697753906 data loading time\n",
            "0.11116909980773926 data loading time\n"
          ]
        },
        {
          "output_type": "stream",
          "name": "stderr",
          "text": [
            "\r 26%|██▌       | 532/2035 [2:38:46<7:31:05, 18.01s/it]"
          ]
        },
        {
          "output_type": "stream",
          "name": "stdout",
          "text": [
            "0.13289737701416016 data loading time\n",
            "2.5827136039733887 Discriminators training\n",
            "1.0840802192687988 backprop discriminator\n",
            "0.2412717342376709 adversarial loss\n",
            "2.099571704864502 cycle loss\n",
            "9.364078283309937 generator backprop\n",
            "Generator Loss: 3.0838210582733154 Discriminator Loss: 0.44923412799835205\n",
            "0.11121940612792969 data loading time\n",
            "0.11165714263916016 data loading time\n"
          ]
        },
        {
          "output_type": "stream",
          "name": "stderr",
          "text": [
            "\r 26%|██▌       | 533/2035 [2:39:03<7:29:48, 17.97s/it]"
          ]
        },
        {
          "output_type": "stream",
          "name": "stdout",
          "text": [
            "0.1282663345336914 data loading time\n",
            "2.5639405250549316 Discriminators training\n",
            "1.0895566940307617 backprop discriminator\n",
            "0.24867582321166992 adversarial loss\n",
            "2.110912561416626 cycle loss\n",
            "9.427588701248169 generator backprop\n",
            "Generator Loss: 2.46292781829834 Discriminator Loss: 0.4126443564891815\n",
            "0.11131620407104492 data loading time\n",
            "0.11190962791442871 data loading time\n"
          ]
        },
        {
          "output_type": "stream",
          "name": "stderr",
          "text": [
            "\r 26%|██▌       | 534/2035 [2:39:21<7:29:31, 17.97s/it]"
          ]
        },
        {
          "output_type": "stream",
          "name": "stdout",
          "text": [
            "0.1341252326965332 data loading time\n",
            "2.562429904937744 Discriminators training\n",
            "1.0916030406951904 backprop discriminator\n",
            "0.251936674118042 adversarial loss\n",
            "2.0971999168395996 cycle loss\n",
            "9.376474857330322 generator backprop\n",
            "Generator Loss: 3.220632791519165 Discriminator Loss: 0.4223533570766449\n",
            "0.11173343658447266 data loading time\n",
            "0.11262917518615723 data loading time\n"
          ]
        },
        {
          "output_type": "stream",
          "name": "stderr",
          "text": [
            "\r 26%|██▋       | 535/2035 [2:39:39<7:28:38, 17.95s/it]"
          ]
        },
        {
          "output_type": "stream",
          "name": "stdout",
          "text": [
            "0.1294245719909668 data loading time\n",
            "2.574834108352661 Discriminators training\n",
            "1.0846691131591797 backprop discriminator\n",
            "0.24288058280944824 adversarial loss\n",
            "2.095081090927124 cycle loss\n",
            "9.381283044815063 generator backprop\n",
            "Generator Loss: 3.1567838191986084 Discriminator Loss: 0.4614514708518982\n",
            "0.11330509185791016 data loading time\n",
            "0.1112053394317627 data loading time\n"
          ]
        },
        {
          "output_type": "stream",
          "name": "stderr",
          "text": [
            "\r 26%|██▋       | 536/2035 [2:39:57<7:27:55, 17.93s/it]"
          ]
        },
        {
          "output_type": "stream",
          "name": "stdout",
          "text": [
            "0.12767982482910156 data loading time\n",
            "2.5698747634887695 Discriminators training\n",
            "1.097254753112793 backprop discriminator\n",
            "0.2434248924255371 adversarial loss\n",
            "2.09481143951416 cycle loss\n",
            "9.358628273010254 generator backprop\n",
            "Generator Loss: 3.6866750717163086 Discriminator Loss: 0.4512662887573242\n",
            "0.11168146133422852 data loading time\n",
            "0.11231684684753418 data loading time\n"
          ]
        },
        {
          "output_type": "stream",
          "name": "stderr",
          "text": [
            "\r 26%|██▋       | 537/2035 [2:40:15<7:27:21, 17.92s/it]"
          ]
        },
        {
          "output_type": "stream",
          "name": "stdout",
          "text": [
            "0.12498307228088379 data loading time\n",
            "2.5796377658843994 Discriminators training\n",
            "1.0971295833587646 backprop discriminator\n",
            "0.252732515335083 adversarial loss\n",
            "2.1025266647338867 cycle loss\n",
            "9.252914905548096 generator backprop\n",
            "Generator Loss: 2.4599649906158447 Discriminator Loss: 0.44052714109420776\n",
            "0.1102757453918457 data loading time\n",
            "0.11154890060424805 data loading time\n"
          ]
        },
        {
          "output_type": "stream",
          "name": "stderr",
          "text": [
            "\r 26%|██▋       | 538/2035 [2:40:33<7:26:07, 17.88s/it]"
          ]
        },
        {
          "output_type": "stream",
          "name": "stdout",
          "text": [
            "0.1265246868133545 data loading time\n",
            "2.560119867324829 Discriminators training\n",
            "1.0946593284606934 backprop discriminator\n",
            "0.24315595626831055 adversarial loss\n",
            "2.089810371398926 cycle loss\n",
            "9.257608652114868 generator backprop\n",
            "Generator Loss: 2.80653977394104 Discriminator Loss: 0.48524075746536255\n",
            "0.11041784286499023 data loading time\n",
            "0.11301231384277344 data loading time\n"
          ]
        },
        {
          "output_type": "stream",
          "name": "stderr",
          "text": [
            "\r 26%|██▋       | 539/2035 [2:40:51<7:24:50, 17.84s/it]"
          ]
        },
        {
          "output_type": "stream",
          "name": "stdout",
          "text": [
            "0.12724065780639648 data loading time\n",
            "2.549283981323242 Discriminators training\n",
            "1.086608648300171 backprop discriminator\n",
            "0.24452924728393555 adversarial loss\n",
            "2.0943708419799805 cycle loss\n",
            "9.264965295791626 generator backprop\n",
            "Generator Loss: 5.233710289001465 Discriminator Loss: 0.39622071385383606\n",
            "0.11083459854125977 data loading time\n",
            "0.11104393005371094 data loading time\n"
          ]
        },
        {
          "output_type": "stream",
          "name": "stderr",
          "text": [
            "\r 27%|██▋       | 540/2035 [2:41:08<7:23:43, 17.81s/it]"
          ]
        },
        {
          "output_type": "stream",
          "name": "stdout",
          "text": [
            "0.12999582290649414 data loading time\n",
            "2.5673325061798096 Discriminators training\n",
            "1.0731096267700195 backprop discriminator\n",
            "0.2440340518951416 adversarial loss\n",
            "2.0931551456451416 cycle loss\n",
            "9.360974073410034 generator backprop\n",
            "Generator Loss: 2.492757797241211 Discriminator Loss: 0.47518014907836914\n",
            "0.11276674270629883 data loading time\n",
            "0.11354684829711914 data loading time\n"
          ]
        },
        {
          "output_type": "stream",
          "name": "stderr",
          "text": [
            "\r 27%|██▋       | 541/2035 [2:41:26<7:23:46, 17.82s/it]"
          ]
        },
        {
          "output_type": "stream",
          "name": "stdout",
          "text": [
            "0.12620759010314941 data loading time\n",
            "2.549290895462036 Discriminators training\n",
            "1.0792856216430664 backprop discriminator\n",
            "0.24830412864685059 adversarial loss\n",
            "2.095228672027588 cycle loss\n",
            "9.436028003692627 generator backprop\n",
            "Generator Loss: 2.726045846939087 Discriminator Loss: 0.437177449464798\n",
            "0.11131143569946289 data loading time\n",
            "0.11205196380615234 data loading time\n"
          ]
        },
        {
          "output_type": "stream",
          "name": "stderr",
          "text": [
            "\r 27%|██▋       | 542/2035 [2:41:44<7:24:05, 17.85s/it]"
          ]
        },
        {
          "output_type": "stream",
          "name": "stdout",
          "text": [
            "0.11841869354248047 data loading time\n",
            "2.576981782913208 Discriminators training\n",
            "1.0956134796142578 backprop discriminator\n",
            "0.24879765510559082 adversarial loss\n",
            "2.1293861865997314 cycle loss\n",
            "9.43001937866211 generator backprop\n",
            "Generator Loss: 2.329315662384033 Discriminator Loss: 0.48592478036880493\n",
            "0.11415982246398926 data loading time\n",
            "0.11287689208984375 data loading time\n"
          ]
        },
        {
          "output_type": "stream",
          "name": "stderr",
          "text": [
            "\r 27%|██▋       | 543/2035 [2:42:02<7:24:59, 17.89s/it]"
          ]
        },
        {
          "output_type": "stream",
          "name": "stdout",
          "text": [
            "0.132843017578125 data loading time\n",
            "2.5812840461730957 Discriminators training\n",
            "1.0972421169281006 backprop discriminator\n",
            "0.24180221557617188 adversarial loss\n",
            "2.0977373123168945 cycle loss\n",
            "9.365067481994629 generator backprop\n",
            "Generator Loss: 2.3402915000915527 Discriminator Loss: 0.4407446086406708\n",
            "0.11065101623535156 data loading time\n",
            "0.11292123794555664 data loading time\n"
          ]
        },
        {
          "output_type": "stream",
          "name": "stderr",
          "text": [
            "\r 27%|██▋       | 544/2035 [2:42:20<7:24:47, 17.90s/it]"
          ]
        },
        {
          "output_type": "stream",
          "name": "stdout",
          "text": [
            "0.1399216651916504 data loading time\n",
            "2.5625529289245605 Discriminators training\n",
            "1.0862751007080078 backprop discriminator\n",
            "0.24716615676879883 adversarial loss\n",
            "2.097968339920044 cycle loss\n",
            "9.391013622283936 generator backprop\n",
            "Generator Loss: 2.7468578815460205 Discriminator Loss: 0.44826337695121765\n",
            "0.11086750030517578 data loading time\n",
            "0.11267447471618652 data loading time\n"
          ]
        },
        {
          "output_type": "stream",
          "name": "stderr",
          "text": [
            "\r 27%|██▋       | 545/2035 [2:42:38<7:24:28, 17.90s/it]"
          ]
        },
        {
          "output_type": "stream",
          "name": "stdout",
          "text": [
            "0.12752223014831543 data loading time\n",
            "2.5608489513397217 Discriminators training\n",
            "1.085141897201538 backprop discriminator\n",
            "0.24755120277404785 adversarial loss\n",
            "2.089604377746582 cycle loss\n",
            "9.33582592010498 generator backprop\n",
            "Generator Loss: 2.691100835800171 Discriminator Loss: 0.3942759037017822\n",
            "0.11124110221862793 data loading time\n",
            "0.11581540107727051 data loading time\n"
          ]
        },
        {
          "output_type": "stream",
          "name": "stderr",
          "text": [
            "\r 27%|██▋       | 546/2035 [2:42:56<7:23:42, 17.88s/it]"
          ]
        },
        {
          "output_type": "stream",
          "name": "stdout",
          "text": [
            "0.13125944137573242 data loading time\n",
            "2.560706615447998 Discriminators training\n",
            "1.0826823711395264 backprop discriminator\n",
            "0.25390028953552246 adversarial loss\n",
            "2.088749408721924 cycle loss\n",
            "9.348889112472534 generator backprop\n",
            "Generator Loss: 2.6742947101593018 Discriminator Loss: 0.528613805770874\n",
            "0.11193132400512695 data loading time\n",
            "0.11235189437866211 data loading time\n"
          ]
        },
        {
          "output_type": "stream",
          "name": "stderr",
          "text": [
            "\r 27%|██▋       | 547/2035 [2:43:14<7:23:04, 17.87s/it]"
          ]
        },
        {
          "output_type": "stream",
          "name": "stdout",
          "text": [
            "0.13460922241210938 data loading time\n",
            "2.555121660232544 Discriminators training\n",
            "1.0837724208831787 backprop discriminator\n",
            "0.2539248466491699 adversarial loss\n",
            "2.0955982208251953 cycle loss\n",
            "9.447944641113281 generator backprop\n",
            "Generator Loss: 2.1779298782348633 Discriminator Loss: 0.5090770721435547\n",
            "0.11911392211914062 data loading time\n",
            "0.11120152473449707 data loading time\n"
          ]
        },
        {
          "output_type": "stream",
          "name": "stderr",
          "text": [
            "\r 27%|██▋       | 548/2035 [2:43:32<7:23:30, 17.90s/it]"
          ]
        },
        {
          "output_type": "stream",
          "name": "stdout",
          "text": [
            "0.12987661361694336 data loading time\n",
            "2.5685861110687256 Discriminators training\n",
            "1.0982835292816162 backprop discriminator\n",
            "0.2424325942993164 adversarial loss\n",
            "2.1149375438690186 cycle loss\n",
            "9.422007083892822 generator backprop\n",
            "Generator Loss: 2.942488193511963 Discriminator Loss: 0.4527227580547333\n",
            "0.11265110969543457 data loading time\n",
            "0.11262965202331543 data loading time\n"
          ]
        },
        {
          "output_type": "stream",
          "name": "stderr",
          "text": [
            "\r 27%|██▋       | 549/2035 [2:43:50<7:23:47, 17.92s/it]"
          ]
        },
        {
          "output_type": "stream",
          "name": "stdout",
          "text": [
            "0.1373748779296875 data loading time\n",
            "2.6012418270111084 Discriminators training\n",
            "1.09507155418396 backprop discriminator\n",
            "0.25260281562805176 adversarial loss\n",
            "2.0931172370910645 cycle loss\n",
            "9.458756446838379 generator backprop\n",
            "Generator Loss: 2.5411651134490967 Discriminator Loss: 0.38158589601516724\n",
            "0.11253690719604492 data loading time\n",
            "0.11257553100585938 data loading time\n"
          ]
        },
        {
          "output_type": "stream",
          "name": "stderr",
          "text": [
            "\r 27%|██▋       | 550/2035 [2:44:08<7:24:31, 17.96s/it]"
          ]
        },
        {
          "output_type": "stream",
          "name": "stdout",
          "text": [
            "0.13187479972839355 data loading time\n",
            "2.6064064502716064 Discriminators training\n",
            "1.1095507144927979 backprop discriminator\n",
            "0.25459837913513184 adversarial loss\n",
            "2.1578595638275146 cycle loss\n",
            "9.736646175384521 generator backprop\n",
            "Generator Loss: 3.163944721221924 Discriminator Loss: 0.36310526728630066\n",
            "0.11501908302307129 data loading time\n",
            "0.11370301246643066 data loading time\n"
          ]
        },
        {
          "output_type": "stream",
          "name": "stderr",
          "text": [
            "\r 27%|██▋       | 551/2035 [2:44:26<7:27:42, 18.10s/it]"
          ]
        },
        {
          "output_type": "stream",
          "name": "stdout",
          "text": [
            "0.13875174522399902 data loading time\n",
            "2.5970208644866943 Discriminators training\n",
            "1.1289236545562744 backprop discriminator\n",
            "0.24922990798950195 adversarial loss\n",
            "2.1554205417633057 cycle loss\n",
            "9.686335563659668 generator backprop\n",
            "Generator Loss: 2.723397970199585 Discriminator Loss: 0.42187416553497314\n",
            "0.11462950706481934 data loading time\n",
            "0.11319184303283691 data loading time\n"
          ]
        },
        {
          "output_type": "stream",
          "name": "stderr",
          "text": [
            "\r 27%|██▋       | 552/2035 [2:44:44<7:29:25, 18.18s/it]"
          ]
        },
        {
          "output_type": "stream",
          "name": "stdout",
          "text": [
            "0.1363978385925293 data loading time\n",
            "2.5954108238220215 Discriminators training\n",
            "1.1224443912506104 backprop discriminator\n",
            "0.2577366828918457 adversarial loss\n",
            "2.1378235816955566 cycle loss\n",
            "9.641987562179565 generator backprop\n",
            "Generator Loss: 2.7526838779449463 Discriminator Loss: 0.5146340727806091\n",
            "0.11550354957580566 data loading time\n",
            "0.1134490966796875 data loading time\n"
          ]
        },
        {
          "output_type": "stream",
          "name": "stderr",
          "text": [
            "\r 27%|██▋       | 553/2035 [2:45:03<7:30:05, 18.22s/it]"
          ]
        },
        {
          "output_type": "stream",
          "name": "stdout",
          "text": [
            "0.13172316551208496 data loading time\n",
            "2.6304497718811035 Discriminators training\n",
            "1.129873275756836 backprop discriminator\n",
            "0.25458407402038574 adversarial loss\n",
            "2.1342556476593018 cycle loss\n",
            "9.730557680130005 generator backprop\n",
            "Generator Loss: 2.2214243412017822 Discriminator Loss: 0.5036796927452087\n",
            "0.11964058876037598 data loading time\n",
            "0.12488269805908203 data loading time\n"
          ]
        },
        {
          "output_type": "stream",
          "name": "stderr",
          "text": [
            "\r 27%|██▋       | 554/2035 [2:45:21<7:32:13, 18.32s/it]"
          ]
        },
        {
          "output_type": "stream",
          "name": "stdout",
          "text": [
            "0.14067292213439941 data loading time\n",
            "2.6673583984375 Discriminators training\n",
            "1.1591579914093018 backprop discriminator\n",
            "0.25714921951293945 adversarial loss\n",
            "2.1872732639312744 cycle loss\n",
            "9.38135290145874 generator backprop\n",
            "Generator Loss: 2.9079041481018066 Discriminator Loss: 0.5309141874313354\n",
            "0.11063742637634277 data loading time\n",
            "0.1158456802368164 data loading time\n"
          ]
        },
        {
          "output_type": "stream",
          "name": "stderr",
          "text": [
            "\r 27%|██▋       | 555/2035 [2:45:39<7:30:39, 18.27s/it]"
          ]
        },
        {
          "output_type": "stream",
          "name": "stdout",
          "text": [
            "0.13226032257080078 data loading time\n",
            "2.5602734088897705 Discriminators training\n",
            "1.0742645263671875 backprop discriminator\n",
            "0.25984859466552734 adversarial loss\n",
            "2.0932669639587402 cycle loss\n",
            "9.379493474960327 generator backprop\n",
            "Generator Loss: 2.8991456031799316 Discriminator Loss: 0.5029631853103638\n",
            "0.11173701286315918 data loading time\n",
            "0.11084127426147461 data loading time\n"
          ]
        },
        {
          "output_type": "stream",
          "name": "stderr",
          "text": [
            "\r 27%|██▋       | 556/2035 [2:45:57<7:27:27, 18.15s/it]"
          ]
        },
        {
          "output_type": "stream",
          "name": "stdout",
          "text": [
            "0.12551021575927734 data loading time\n",
            "2.5833518505096436 Discriminators training\n",
            "1.0882234573364258 backprop discriminator\n",
            "0.24166107177734375 adversarial loss\n",
            "2.082695960998535 cycle loss\n",
            "9.32107400894165 generator backprop\n",
            "Generator Loss: 3.651491641998291 Discriminator Loss: 0.41465866565704346\n",
            "0.11158394813537598 data loading time\n",
            "0.11172962188720703 data loading time\n"
          ]
        },
        {
          "output_type": "stream",
          "name": "stderr",
          "text": [
            "\r 27%|██▋       | 557/2035 [2:46:15<7:24:58, 18.06s/it]"
          ]
        },
        {
          "output_type": "stream",
          "name": "stdout",
          "text": [
            "0.1288449764251709 data loading time\n",
            "2.5978353023529053 Discriminators training\n",
            "1.093674898147583 backprop discriminator\n",
            "0.25606608390808105 adversarial loss\n",
            "2.1209282875061035 cycle loss\n",
            "9.437620878219604 generator backprop\n",
            "Generator Loss: 2.3884193897247314 Discriminator Loss: 0.47259268164634705\n",
            "0.11392736434936523 data loading time\n",
            "0.11185169219970703 data loading time\n"
          ]
        },
        {
          "output_type": "stream",
          "name": "stderr",
          "text": [
            "\r 27%|██▋       | 558/2035 [2:46:33<7:24:23, 18.05s/it]"
          ]
        },
        {
          "output_type": "stream",
          "name": "stdout",
          "text": [
            "0.1262214183807373 data loading time\n",
            "2.5640370845794678 Discriminators training\n",
            "1.0732874870300293 backprop discriminator\n",
            "0.2445995807647705 adversarial loss\n",
            "2.0915632247924805 cycle loss\n",
            "9.294166088104248 generator backprop\n",
            "Generator Loss: 2.354149103164673 Discriminator Loss: 0.43629252910614014\n",
            "0.11034083366394043 data loading time\n",
            "0.11332988739013672 data loading time\n"
          ]
        },
        {
          "output_type": "stream",
          "name": "stderr",
          "text": [
            "\r 27%|██▋       | 559/2035 [2:46:51<7:21:55, 17.96s/it]"
          ]
        },
        {
          "output_type": "stream",
          "name": "stdout",
          "text": [
            "0.12720012664794922 data loading time\n",
            "2.5676043033599854 Discriminators training\n",
            "1.0766041278839111 backprop discriminator\n",
            "0.2502920627593994 adversarial loss\n",
            "2.0830881595611572 cycle loss\n",
            "9.404397249221802 generator backprop\n",
            "Generator Loss: 2.55790376663208 Discriminator Loss: 0.48578983545303345\n",
            "0.11159133911132812 data loading time\n",
            "0.11854767799377441 data loading time\n"
          ]
        },
        {
          "output_type": "stream",
          "name": "stderr",
          "text": [
            "\r 28%|██▊       | 560/2035 [2:47:09<7:21:24, 17.96s/it]"
          ]
        },
        {
          "output_type": "stream",
          "name": "stdout",
          "text": [
            "0.13115692138671875 data loading time\n",
            "2.5833117961883545 Discriminators training\n",
            "1.1080482006072998 backprop discriminator\n",
            "0.25148749351501465 adversarial loss\n",
            "2.101206064224243 cycle loss\n",
            "9.465451002120972 generator backprop\n",
            "Generator Loss: 2.3844528198242188 Discriminator Loss: 0.45038893818855286\n",
            "0.11254239082336426 data loading time\n",
            "0.11272454261779785 data loading time\n"
          ]
        },
        {
          "output_type": "stream",
          "name": "stderr",
          "text": [
            "\r 28%|██▊       | 561/2035 [2:47:27<7:21:39, 17.98s/it]"
          ]
        },
        {
          "output_type": "stream",
          "name": "stdout",
          "text": [
            "0.13524150848388672 data loading time\n",
            "2.5760622024536133 Discriminators training\n",
            "1.102231740951538 backprop discriminator\n",
            "0.24576878547668457 adversarial loss\n",
            "2.1106491088867188 cycle loss\n",
            "9.935494184494019 generator backprop\n",
            "Generator Loss: 2.6554083824157715 Discriminator Loss: 0.41050800681114197\n",
            "0.11967253684997559 data loading time\n",
            "0.11204886436462402 data loading time\n"
          ]
        },
        {
          "output_type": "stream",
          "name": "stderr",
          "text": [
            "\r 28%|██▊       | 562/2035 [2:47:45<7:25:39, 18.15s/it]"
          ]
        },
        {
          "output_type": "stream",
          "name": "stdout",
          "text": [
            "0.1302950382232666 data loading time\n",
            "2.602613687515259 Discriminators training\n",
            "1.1042945384979248 backprop discriminator\n",
            "0.25627684593200684 adversarial loss\n",
            "2.1239681243896484 cycle loss\n",
            "9.545915126800537 generator backprop\n",
            "Generator Loss: 3.1755638122558594 Discriminator Loss: 0.3777772784233093\n",
            "0.11109209060668945 data loading time\n",
            "0.1131279468536377 data loading time\n"
          ]
        },
        {
          "output_type": "stream",
          "name": "stderr",
          "text": [
            "\r 28%|██▊       | 563/2035 [2:48:04<7:25:24, 18.16s/it]"
          ]
        },
        {
          "output_type": "stream",
          "name": "stdout",
          "text": [
            "0.13761353492736816 data loading time\n",
            "2.584014415740967 Discriminators training\n",
            "1.115981101989746 backprop discriminator\n",
            "0.25200700759887695 adversarial loss\n",
            "2.116304636001587 cycle loss\n",
            "9.516628503799438 generator backprop\n",
            "Generator Loss: 2.8829185962677 Discriminator Loss: 0.4438178241252899\n",
            "0.11551356315612793 data loading time\n",
            "0.11155104637145996 data loading time\n"
          ]
        },
        {
          "output_type": "stream",
          "name": "stderr",
          "text": [
            "\r 28%|██▊       | 564/2035 [2:48:22<7:25:11, 18.16s/it]"
          ]
        },
        {
          "output_type": "stream",
          "name": "stdout",
          "text": [
            "0.1371169090270996 data loading time\n",
            "2.5776236057281494 Discriminators training\n",
            "1.1014654636383057 backprop discriminator\n",
            "0.24292755126953125 adversarial loss\n",
            "2.122218608856201 cycle loss\n",
            "9.37790584564209 generator backprop\n",
            "Generator Loss: 3.91693377494812 Discriminator Loss: 0.483045369386673\n",
            "0.11241912841796875 data loading time\n",
            "0.11206388473510742 data loading time\n"
          ]
        },
        {
          "output_type": "stream",
          "name": "stderr",
          "text": [
            "\r 28%|██▊       | 565/2035 [2:48:40<7:23:25, 18.10s/it]"
          ]
        },
        {
          "output_type": "stream",
          "name": "stdout",
          "text": [
            "0.12256002426147461 data loading time\n",
            "2.5731582641601562 Discriminators training\n",
            "1.0823185443878174 backprop discriminator\n",
            "0.24710607528686523 adversarial loss\n",
            "2.0992484092712402 cycle loss\n",
            "9.339850187301636 generator backprop\n",
            "Generator Loss: 3.2895705699920654 Discriminator Loss: 0.44263917207717896\n",
            "0.11210131645202637 data loading time\n",
            "0.11138916015625 data loading time\n"
          ]
        },
        {
          "output_type": "stream",
          "name": "stderr",
          "text": [
            "\r 28%|██▊       | 566/2035 [2:48:58<7:21:17, 18.02s/it]"
          ]
        },
        {
          "output_type": "stream",
          "name": "stdout",
          "text": [
            "0.12968730926513672 data loading time\n",
            "2.5624561309814453 Discriminators training\n",
            "1.0833208560943604 backprop discriminator\n",
            "0.24869036674499512 adversarial loss\n",
            "2.1005566120147705 cycle loss\n",
            "9.443216323852539 generator backprop\n",
            "Generator Loss: 4.18943977355957 Discriminator Loss: 0.34874147176742554\n",
            "0.11246895790100098 data loading time\n",
            "0.11333751678466797 data loading time\n"
          ]
        },
        {
          "output_type": "stream",
          "name": "stderr",
          "text": [
            "\r 28%|██▊       | 567/2035 [2:49:16<7:20:42, 18.01s/it]"
          ]
        },
        {
          "output_type": "stream",
          "name": "stdout",
          "text": [
            "0.12500476837158203 data loading time\n",
            "2.613758087158203 Discriminators training\n",
            "1.1184253692626953 backprop discriminator\n",
            "0.2488400936126709 adversarial loss\n",
            "2.1117947101593018 cycle loss\n",
            "9.481008768081665 generator backprop\n",
            "Generator Loss: 3.710500955581665 Discriminator Loss: 0.44916775822639465\n",
            "0.11202120780944824 data loading time\n",
            "0.11303019523620605 data loading time\n"
          ]
        },
        {
          "output_type": "stream",
          "name": "stderr",
          "text": [
            "\r 28%|██▊       | 568/2035 [2:49:34<7:21:04, 18.04s/it]"
          ]
        },
        {
          "output_type": "stream",
          "name": "stdout",
          "text": [
            "0.12846589088439941 data loading time\n",
            "2.56842303276062 Discriminators training\n",
            "1.0901246070861816 backprop discriminator\n",
            "0.24288034439086914 adversarial loss\n",
            "2.120344877243042 cycle loss\n",
            "9.427750587463379 generator backprop\n",
            "Generator Loss: 2.6423568725585938 Discriminator Loss: 0.5073274374008179\n",
            "0.1109473705291748 data loading time\n",
            "0.11364984512329102 data loading time\n"
          ]
        },
        {
          "output_type": "stream",
          "name": "stderr",
          "text": [
            "\r 28%|██▊       | 569/2035 [2:49:52<7:20:16, 18.02s/it]"
          ]
        },
        {
          "output_type": "stream",
          "name": "stdout",
          "text": [
            "0.12918496131896973 data loading time\n",
            "2.5769193172454834 Discriminators training\n",
            "1.0851554870605469 backprop discriminator\n",
            "0.24730777740478516 adversarial loss\n",
            "2.094228506088257 cycle loss\n",
            "9.481220722198486 generator backprop\n",
            "Generator Loss: 3.5732955932617188 Discriminator Loss: 0.4262883961200714\n",
            "0.11083126068115234 data loading time\n",
            "0.11581611633300781 data loading time\n"
          ]
        },
        {
          "output_type": "stream",
          "name": "stderr",
          "text": [
            "\r 28%|██▊       | 570/2035 [2:50:10<7:19:59, 18.02s/it]"
          ]
        },
        {
          "output_type": "stream",
          "name": "stdout",
          "text": [
            "0.13301873207092285 data loading time\n",
            "2.573803663253784 Discriminators training\n",
            "1.088686466217041 backprop discriminator\n",
            "0.2396388053894043 adversarial loss\n",
            "2.0886449813842773 cycle loss\n",
            "9.288540363311768 generator backprop\n",
            "Generator Loss: 3.401719570159912 Discriminator Loss: 0.4565790593624115\n",
            "0.11131811141967773 data loading time\n",
            "0.11067914962768555 data loading time\n"
          ]
        },
        {
          "output_type": "stream",
          "name": "stderr",
          "text": [
            "\r 28%|██▊       | 571/2035 [2:50:28<7:18:45, 17.98s/it]"
          ]
        },
        {
          "output_type": "stream",
          "name": "stdout",
          "text": [
            "0.2565913200378418 data loading time\n",
            "2.6847848892211914 Discriminators training\n",
            "1.090315818786621 backprop discriminator\n",
            "0.24085164070129395 adversarial loss\n",
            "2.0769827365875244 cycle loss\n",
            "9.181079387664795 generator backprop\n",
            "Generator Loss: 2.687451124191284 Discriminator Loss: 0.5556248426437378\n",
            "0.11098217964172363 data loading time\n",
            "0.11431622505187988 data loading time\n"
          ]
        },
        {
          "output_type": "stream",
          "name": "stderr",
          "text": [
            "\r 28%|██▊       | 572/2035 [2:50:45<7:18:02, 17.96s/it]"
          ]
        },
        {
          "output_type": "stream",
          "name": "stdout",
          "text": [
            "0.12299728393554688 data loading time\n",
            "2.5413992404937744 Discriminators training\n",
            "1.0919005870819092 backprop discriminator\n",
            "0.24904489517211914 adversarial loss\n",
            "2.0691776275634766 cycle loss\n",
            "9.230955839157104 generator backprop\n",
            "Generator Loss: 2.8569467067718506 Discriminator Loss: 0.486968457698822\n",
            "0.11136913299560547 data loading time\n",
            "0.11160707473754883 data loading time\n"
          ]
        },
        {
          "output_type": "stream",
          "name": "stderr",
          "text": [
            "\r 28%|██▊       | 573/2035 [2:51:03<7:15:42, 17.88s/it]"
          ]
        },
        {
          "output_type": "stream",
          "name": "stdout",
          "text": [
            "0.12168383598327637 data loading time\n",
            "2.5374069213867188 Discriminators training\n",
            "1.081810474395752 backprop discriminator\n",
            "0.24762415885925293 adversarial loss\n",
            "2.0975420475006104 cycle loss\n",
            "9.246257543563843 generator backprop\n",
            "Generator Loss: 2.2936782836914062 Discriminator Loss: 0.49475711584091187\n",
            "0.11169624328613281 data loading time\n",
            "0.11182594299316406 data loading time\n"
          ]
        },
        {
          "output_type": "stream",
          "name": "stderr",
          "text": [
            "\r 28%|██▊       | 574/2035 [2:51:21<7:14:15, 17.83s/it]"
          ]
        },
        {
          "output_type": "stream",
          "name": "stdout",
          "text": [
            "0.12165141105651855 data loading time\n",
            "2.5626089572906494 Discriminators training\n",
            "1.0800955295562744 backprop discriminator\n",
            "0.245131254196167 adversarial loss\n",
            "2.0812230110168457 cycle loss\n",
            "9.218546867370605 generator backprop\n",
            "Generator Loss: 2.755764961242676 Discriminator Loss: 0.3932284712791443\n",
            "0.11201238632202148 data loading time\n",
            "0.11293387413024902 data loading time\n"
          ]
        },
        {
          "output_type": "stream",
          "name": "stderr",
          "text": [
            "\r 28%|██▊       | 575/2035 [2:51:39<7:12:55, 17.79s/it]"
          ]
        },
        {
          "output_type": "stream",
          "name": "stdout",
          "text": [
            "0.12671756744384766 data loading time\n",
            "2.54844069480896 Discriminators training\n",
            "1.0681123733520508 backprop discriminator\n",
            "0.24200010299682617 adversarial loss\n",
            "2.06901478767395 cycle loss\n",
            "9.299986600875854 generator backprop\n",
            "Generator Loss: 2.3064918518066406 Discriminator Loss: 0.4958282709121704\n",
            "0.11196112632751465 data loading time\n",
            "0.11107563972473145 data loading time\n"
          ]
        },
        {
          "output_type": "stream",
          "name": "stderr",
          "text": [
            "\r 28%|██▊       | 576/2035 [2:51:56<7:12:12, 17.77s/it]"
          ]
        },
        {
          "output_type": "stream",
          "name": "stdout",
          "text": [
            "0.13118839263916016 data loading time\n",
            "2.552098274230957 Discriminators training\n",
            "1.073798418045044 backprop discriminator\n",
            "0.24465584754943848 adversarial loss\n",
            "2.1038835048675537 cycle loss\n",
            "9.235949993133545 generator backprop\n",
            "Generator Loss: 2.372512102127075 Discriminator Loss: 0.5343595743179321\n",
            "0.11353659629821777 data loading time\n",
            "0.1122579574584961 data loading time\n"
          ]
        },
        {
          "output_type": "stream",
          "name": "stderr",
          "text": [
            "\r 28%|██▊       | 577/2035 [2:52:14<7:11:27, 17.76s/it]"
          ]
        },
        {
          "output_type": "stream",
          "name": "stdout",
          "text": [
            "0.12242603302001953 data loading time\n",
            "2.5564074516296387 Discriminators training\n",
            "1.0745689868927002 backprop discriminator\n",
            "0.25525975227355957 adversarial loss\n",
            "2.0891780853271484 cycle loss\n",
            "9.255275249481201 generator backprop\n",
            "Generator Loss: 3.7550175189971924 Discriminator Loss: 0.49340003728866577\n",
            "0.11108565330505371 data loading time\n",
            "0.11050605773925781 data loading time\n"
          ]
        },
        {
          "output_type": "stream",
          "name": "stderr",
          "text": [
            "\r 28%|██▊       | 578/2035 [2:52:32<7:10:52, 17.74s/it]"
          ]
        },
        {
          "output_type": "stream",
          "name": "stdout",
          "text": [
            "0.13129448890686035 data loading time\n",
            "2.5501625537872314 Discriminators training\n",
            "1.0739035606384277 backprop discriminator\n",
            "0.2556614875793457 adversarial loss\n",
            "2.0790698528289795 cycle loss\n",
            "9.204241037368774 generator backprop\n",
            "Generator Loss: 2.3522634506225586 Discriminator Loss: 0.5976595282554626\n",
            "0.11108565330505371 data loading time\n",
            "0.11521267890930176 data loading time\n"
          ]
        },
        {
          "output_type": "stream",
          "name": "stderr",
          "text": [
            "\r 28%|██▊       | 579/2035 [2:52:49<7:10:06, 17.72s/it]"
          ]
        },
        {
          "output_type": "stream",
          "name": "stdout",
          "text": [
            "0.12735605239868164 data loading time\n",
            "2.5429699420928955 Discriminators training\n",
            "1.0820860862731934 backprop discriminator\n",
            "0.2527620792388916 adversarial loss\n",
            "2.0752205848693848 cycle loss\n",
            "9.195339918136597 generator backprop\n",
            "Generator Loss: 2.469846725463867 Discriminator Loss: 0.451302170753479\n",
            "0.11070513725280762 data loading time\n",
            "0.1120302677154541 data loading time\n"
          ]
        },
        {
          "output_type": "stream",
          "name": "stderr",
          "text": [
            "\r 29%|██▊       | 580/2035 [2:53:07<7:09:08, 17.70s/it]"
          ]
        },
        {
          "output_type": "stream",
          "name": "stdout",
          "text": [
            "0.12810015678405762 data loading time\n",
            "2.546839714050293 Discriminators training\n",
            "1.079390525817871 backprop discriminator\n",
            "0.24566292762756348 adversarial loss\n",
            "2.0747740268707275 cycle loss\n",
            "9.229729652404785 generator backprop\n",
            "Generator Loss: 2.320512294769287 Discriminator Loss: 0.4021904468536377\n",
            "0.11017179489135742 data loading time\n",
            "0.11141753196716309 data loading time\n"
          ]
        },
        {
          "output_type": "stream",
          "name": "stderr",
          "text": [
            "\r 29%|██▊       | 581/2035 [2:53:25<7:08:41, 17.69s/it]"
          ]
        },
        {
          "output_type": "stream",
          "name": "stdout",
          "text": [
            "0.12226486206054688 data loading time\n",
            "2.541011333465576 Discriminators training\n",
            "1.0633881092071533 backprop discriminator\n",
            "0.24301362037658691 adversarial loss\n",
            "2.0807979106903076 cycle loss\n",
            "9.280425548553467 generator backprop\n",
            "Generator Loss: 3.2039880752563477 Discriminator Loss: 0.3696692883968353\n",
            "0.1145772933959961 data loading time\n",
            "0.11092257499694824 data loading time\n"
          ]
        },
        {
          "output_type": "stream",
          "name": "stderr",
          "text": [
            "\r 29%|██▊       | 582/2035 [2:53:42<7:08:22, 17.69s/it]"
          ]
        },
        {
          "output_type": "stream",
          "name": "stdout",
          "text": [
            "0.12831616401672363 data loading time\n",
            "2.612703800201416 Discriminators training\n",
            "1.0961334705352783 backprop discriminator\n",
            "0.2415010929107666 adversarial loss\n",
            "2.092395544052124 cycle loss\n",
            "9.273531198501587 generator backprop\n",
            "Generator Loss: 2.8565878868103027 Discriminator Loss: 0.45484334230422974\n",
            "0.11203265190124512 data loading time\n",
            "0.11106729507446289 data loading time\n"
          ]
        },
        {
          "output_type": "stream",
          "name": "stderr",
          "text": [
            "\r 29%|██▊       | 583/2035 [2:54:00<7:09:00, 17.73s/it]"
          ]
        },
        {
          "output_type": "stream",
          "name": "stdout",
          "text": [
            "0.12803125381469727 data loading time\n",
            "2.573385238647461 Discriminators training\n",
            "1.0753369331359863 backprop discriminator\n",
            "0.24446344375610352 adversarial loss\n",
            "2.081045389175415 cycle loss\n",
            "9.32209038734436 generator backprop\n",
            "Generator Loss: 2.3213181495666504 Discriminator Loss: 0.5173723101615906\n",
            "0.11476445198059082 data loading time\n",
            "0.11189484596252441 data loading time\n"
          ]
        },
        {
          "output_type": "stream",
          "name": "stderr",
          "text": [
            "\r 29%|██▊       | 584/2035 [2:54:18<7:09:05, 17.74s/it]"
          ]
        },
        {
          "output_type": "stream",
          "name": "stdout",
          "text": [
            "0.12859487533569336 data loading time\n",
            "2.5534136295318604 Discriminators training\n",
            "1.067112922668457 backprop discriminator\n",
            "0.25871920585632324 adversarial loss\n",
            "2.109710454940796 cycle loss\n",
            "9.268755197525024 generator backprop\n",
            "Generator Loss: 2.795555591583252 Discriminator Loss: 0.4370151162147522\n",
            "0.11065864562988281 data loading time\n",
            "0.11176753044128418 data loading time\n"
          ]
        },
        {
          "output_type": "stream",
          "name": "stderr",
          "text": [
            "\r 29%|██▊       | 585/2035 [2:54:36<7:08:49, 17.74s/it]"
          ]
        },
        {
          "output_type": "stream",
          "name": "stdout",
          "text": [
            "0.13046860694885254 data loading time\n",
            "2.5511362552642822 Discriminators training\n",
            "1.080474853515625 backprop discriminator\n",
            "0.25144243240356445 adversarial loss\n",
            "2.083803176879883 cycle loss\n",
            "9.236290693283081 generator backprop\n",
            "Generator Loss: 2.9030706882476807 Discriminator Loss: 0.399912565946579\n",
            "0.11070442199707031 data loading time\n",
            "0.11861538887023926 data loading time\n"
          ]
        },
        {
          "output_type": "stream",
          "name": "stderr",
          "text": [
            "\r 29%|██▉       | 586/2035 [2:54:53<7:08:15, 17.73s/it]"
          ]
        },
        {
          "output_type": "stream",
          "name": "stdout",
          "text": [
            "0.12403202056884766 data loading time\n",
            "2.5410451889038086 Discriminators training\n",
            "1.0773036479949951 backprop discriminator\n",
            "0.2536170482635498 adversarial loss\n",
            "2.063420534133911 cycle loss\n",
            "9.252364873886108 generator backprop\n",
            "Generator Loss: 2.447812557220459 Discriminator Loss: 0.47350430488586426\n",
            "0.11053967475891113 data loading time\n",
            "0.11071586608886719 data loading time\n"
          ]
        },
        {
          "output_type": "stream",
          "name": "stderr",
          "text": [
            "\r 29%|██▉       | 587/2035 [2:55:11<7:07:26, 17.71s/it]"
          ]
        },
        {
          "output_type": "stream",
          "name": "stdout",
          "text": [
            "0.12583208084106445 data loading time\n",
            "2.5486834049224854 Discriminators training\n",
            "1.0783207416534424 backprop discriminator\n",
            "0.2456824779510498 adversarial loss\n",
            "2.078382730484009 cycle loss\n",
            "9.228431463241577 generator backprop\n",
            "Generator Loss: 2.751667022705078 Discriminator Loss: 0.5368156433105469\n",
            "0.11075925827026367 data loading time\n",
            "0.11086153984069824 data loading time\n"
          ]
        },
        {
          "output_type": "stream",
          "name": "stderr",
          "text": [
            "\r 29%|██▉       | 588/2035 [2:55:29<7:06:48, 17.70s/it]"
          ]
        },
        {
          "output_type": "stream",
          "name": "stdout",
          "text": [
            "0.13056397438049316 data loading time\n",
            "2.5331952571868896 Discriminators training\n",
            "1.0688650608062744 backprop discriminator\n",
            "0.2441556453704834 adversarial loss\n",
            "2.080634832382202 cycle loss\n",
            "9.206542015075684 generator backprop\n",
            "Generator Loss: 4.254704475402832 Discriminator Loss: 0.4173240661621094\n",
            "0.11422538757324219 data loading time\n",
            "0.11131572723388672 data loading time\n"
          ]
        },
        {
          "output_type": "stream",
          "name": "stderr",
          "text": [
            "\r 29%|██▉       | 589/2035 [2:55:46<7:05:59, 17.68s/it]"
          ]
        },
        {
          "output_type": "stream",
          "name": "stdout",
          "text": [
            "0.12374281883239746 data loading time\n",
            "2.557114839553833 Discriminators training\n",
            "1.0834548473358154 backprop discriminator\n",
            "0.2554166316986084 adversarial loss\n",
            "2.070516586303711 cycle loss\n",
            "9.236668109893799 generator backprop\n",
            "Generator Loss: 3.0135819911956787 Discriminator Loss: 0.39604148268699646\n",
            "0.11146354675292969 data loading time\n",
            "0.11100363731384277 data loading time\n"
          ]
        },
        {
          "output_type": "stream",
          "name": "stderr",
          "text": [
            "\r 29%|██▉       | 590/2035 [2:56:04<7:05:51, 17.68s/it]"
          ]
        },
        {
          "output_type": "stream",
          "name": "stdout",
          "text": [
            "0.1278095245361328 data loading time\n",
            "2.545757532119751 Discriminators training\n",
            "1.0913166999816895 backprop discriminator\n",
            "0.24976897239685059 adversarial loss\n",
            "2.092473268508911 cycle loss\n",
            "9.249324798583984 generator backprop\n",
            "Generator Loss: 3.280062198638916 Discriminator Loss: 0.5521676540374756\n",
            "0.1106562614440918 data loading time\n",
            "0.1157386302947998 data loading time\n"
          ]
        },
        {
          "output_type": "stream",
          "name": "stderr",
          "text": [
            "\r 29%|██▉       | 591/2035 [2:56:22<7:05:56, 17.70s/it]"
          ]
        },
        {
          "output_type": "stream",
          "name": "stdout",
          "text": [
            "0.12818646430969238 data loading time\n",
            "2.5492796897888184 Discriminators training\n",
            "1.0724358558654785 backprop discriminator\n",
            "0.2536628246307373 adversarial loss\n",
            "2.0687766075134277 cycle loss\n",
            "9.187484502792358 generator backprop\n",
            "Generator Loss: 2.6540770530700684 Discriminator Loss: 0.43434157967567444\n",
            "0.11026525497436523 data loading time\n",
            "0.11100292205810547 data loading time\n"
          ]
        },
        {
          "output_type": "stream",
          "name": "stderr",
          "text": [
            "\r 29%|██▉       | 592/2035 [2:56:39<7:05:11, 17.68s/it]"
          ]
        },
        {
          "output_type": "stream",
          "name": "stdout",
          "text": [
            "0.12632417678833008 data loading time\n",
            "2.5457570552825928 Discriminators training\n",
            "1.0750682353973389 backprop discriminator\n",
            "0.24256229400634766 adversarial loss\n",
            "2.0813968181610107 cycle loss\n",
            "9.226632833480835 generator backprop\n",
            "Generator Loss: 3.4893999099731445 Discriminator Loss: 0.4678589105606079\n",
            "0.1110999584197998 data loading time\n",
            "0.11124157905578613 data loading time\n"
          ]
        },
        {
          "output_type": "stream",
          "name": "stderr",
          "text": [
            "\r 29%|██▉       | 593/2035 [2:56:57<7:04:59, 17.68s/it]"
          ]
        },
        {
          "output_type": "stream",
          "name": "stdout",
          "text": [
            "0.1269545555114746 data loading time\n",
            "2.5536258220672607 Discriminators training\n",
            "1.0791964530944824 backprop discriminator\n",
            "0.2469034194946289 adversarial loss\n",
            "2.077662229537964 cycle loss\n",
            "9.210814237594604 generator backprop\n",
            "Generator Loss: 2.6373658180236816 Discriminator Loss: 0.43172311782836914\n",
            "0.11475419998168945 data loading time\n",
            "0.11347436904907227 data loading time\n"
          ]
        },
        {
          "output_type": "stream",
          "name": "stderr",
          "text": [
            "\r 29%|██▉       | 594/2035 [2:57:15<7:04:36, 17.68s/it]"
          ]
        },
        {
          "output_type": "stream",
          "name": "stdout",
          "text": [
            "0.1292421817779541 data loading time\n",
            "2.553687334060669 Discriminators training\n",
            "1.0806288719177246 backprop discriminator\n",
            "0.25525331497192383 adversarial loss\n",
            "2.08001446723938 cycle loss\n",
            "9.31679654121399 generator backprop\n",
            "Generator Loss: 2.8979859352111816 Discriminator Loss: 0.4035959243774414\n",
            "0.11084628105163574 data loading time\n",
            "0.11134552955627441 data loading time\n"
          ]
        },
        {
          "output_type": "stream",
          "name": "stderr",
          "text": [
            "\r 29%|██▉       | 595/2035 [2:57:33<7:05:06, 17.71s/it]"
          ]
        },
        {
          "output_type": "stream",
          "name": "stdout",
          "text": [
            "0.13361597061157227 data loading time\n",
            "2.5546257495880127 Discriminators training\n",
            "1.087343692779541 backprop discriminator\n",
            "0.24980378150939941 adversarial loss\n",
            "2.087925434112549 cycle loss\n",
            "9.27212119102478 generator backprop\n",
            "Generator Loss: 2.4271230697631836 Discriminator Loss: 0.5172208547592163\n",
            "0.11226606369018555 data loading time\n",
            "0.1116943359375 data loading time\n"
          ]
        },
        {
          "output_type": "stream",
          "name": "stderr",
          "text": [
            "\r 29%|██▉       | 596/2035 [2:57:50<7:05:12, 17.73s/it]"
          ]
        },
        {
          "output_type": "stream",
          "name": "stdout",
          "text": [
            "0.12322187423706055 data loading time\n",
            "2.57362699508667 Discriminators training\n",
            "1.0874824523925781 backprop discriminator\n",
            "0.2550969123840332 adversarial loss\n",
            "2.1081888675689697 cycle loss\n",
            "9.29265546798706 generator backprop\n",
            "Generator Loss: 3.436018228530884 Discriminator Loss: 0.44899415969848633\n",
            "0.11260700225830078 data loading time\n",
            "0.1125631332397461 data loading time\n"
          ]
        },
        {
          "output_type": "stream",
          "name": "stderr",
          "text": [
            "\r 29%|██▉       | 597/2035 [2:58:08<7:05:32, 17.76s/it]"
          ]
        },
        {
          "output_type": "stream",
          "name": "stdout",
          "text": [
            "0.12678289413452148 data loading time\n",
            "2.550217628479004 Discriminators training\n",
            "1.0800251960754395 backprop discriminator\n",
            "0.2500486373901367 adversarial loss\n",
            "2.095335006713867 cycle loss\n",
            "9.307570219039917 generator backprop\n",
            "Generator Loss: 2.920936107635498 Discriminator Loss: 0.4246506989002228\n",
            "0.11551666259765625 data loading time\n",
            "0.11155033111572266 data loading time\n"
          ]
        },
        {
          "output_type": "stream",
          "name": "stderr",
          "text": [
            "\r 29%|██▉       | 598/2035 [2:58:26<7:05:30, 17.77s/it]"
          ]
        },
        {
          "output_type": "stream",
          "name": "stdout",
          "text": [
            "0.12930750846862793 data loading time\n",
            "2.541626453399658 Discriminators training\n",
            "1.0820152759552002 backprop discriminator\n",
            "0.25669360160827637 adversarial loss\n",
            "2.0898563861846924 cycle loss\n",
            "9.231106281280518 generator backprop\n",
            "Generator Loss: 3.3138489723205566 Discriminator Loss: 0.5413612723350525\n",
            "0.11068940162658691 data loading time\n",
            "0.11120319366455078 data loading time\n"
          ]
        },
        {
          "output_type": "stream",
          "name": "stderr",
          "text": [
            "\r 29%|██▉       | 599/2035 [2:58:44<7:04:40, 17.74s/it]"
          ]
        },
        {
          "output_type": "stream",
          "name": "stdout",
          "text": [
            "0.12847089767456055 data loading time\n",
            "2.5433428287506104 Discriminators training\n",
            "1.0650765895843506 backprop discriminator\n",
            "0.24554109573364258 adversarial loss\n",
            "2.0843732357025146 cycle loss\n",
            "9.437338590621948 generator backprop\n",
            "Generator Loss: 2.4621191024780273 Discriminator Loss: 0.4994508922100067\n",
            "0.11663389205932617 data loading time\n",
            "0.11616206169128418 data loading time\n"
          ]
        },
        {
          "output_type": "stream",
          "name": "stderr",
          "text": [
            "\r 29%|██▉       | 600/2035 [2:59:02<7:05:56, 17.81s/it]"
          ]
        },
        {
          "output_type": "stream",
          "name": "stdout",
          "text": [
            "0.1331501007080078 data loading time\n",
            "2.6416268348693848 Discriminators training\n",
            "1.1319868564605713 backprop discriminator\n",
            "0.24684476852416992 adversarial loss\n",
            "2.250213146209717 cycle loss\n",
            "11.639315128326416 generator backprop\n",
            "Generator Loss: 2.7258241176605225 Discriminator Loss: 0.40164467692375183\n",
            "0.11591243743896484 data loading time\n",
            "0.1128079891204834 data loading time\n"
          ]
        },
        {
          "output_type": "stream",
          "name": "stderr",
          "text": [
            "\r 30%|██▉       | 601/2035 [2:59:22<7:24:38, 18.60s/it]"
          ]
        },
        {
          "output_type": "stream",
          "name": "stdout",
          "text": [
            "0.13568973541259766 data loading time\n",
            "2.7044179439544678 Discriminators training\n",
            "1.126234531402588 backprop discriminator\n",
            "0.24672675132751465 adversarial loss\n",
            "2.396186351776123 cycle loss\n",
            "9.689080715179443 generator backprop\n",
            "Generator Loss: 3.3107287883758545 Discriminator Loss: 0.3689027726650238\n",
            "0.11254620552062988 data loading time\n",
            "0.11888527870178223 data loading time\n"
          ]
        },
        {
          "output_type": "stream",
          "name": "stderr",
          "text": [
            "\r 30%|██▉       | 602/2035 [2:59:41<7:25:20, 18.65s/it]"
          ]
        },
        {
          "output_type": "stream",
          "name": "stdout",
          "text": [
            "0.13245058059692383 data loading time\n",
            "2.688836097717285 Discriminators training\n",
            "1.1324479579925537 backprop discriminator\n",
            "0.24898147583007812 adversarial loss\n",
            "2.137765645980835 cycle loss\n",
            "9.816176176071167 generator backprop\n",
            "Generator Loss: 2.6707236766815186 Discriminator Loss: 0.5822285413742065\n",
            "0.11651253700256348 data loading time\n",
            "0.11631941795349121 data loading time\n"
          ]
        },
        {
          "output_type": "stream",
          "name": "stderr",
          "text": [
            "\r 30%|██▉       | 603/2035 [3:00:00<7:24:51, 18.64s/it]"
          ]
        },
        {
          "output_type": "stream",
          "name": "stdout",
          "text": [
            "0.13396430015563965 data loading time\n",
            "2.5975890159606934 Discriminators training\n",
            "1.1078903675079346 backprop discriminator\n",
            "0.2530343532562256 adversarial loss\n",
            "2.196627140045166 cycle loss\n",
            "9.482441186904907 generator backprop\n",
            "Generator Loss: 2.9480438232421875 Discriminator Loss: 0.42018330097198486\n",
            "0.11251330375671387 data loading time\n",
            "0.11294102668762207 data loading time\n"
          ]
        },
        {
          "output_type": "stream",
          "name": "stderr",
          "text": [
            "\r 30%|██▉       | 604/2035 [3:00:18<7:21:24, 18.51s/it]"
          ]
        },
        {
          "output_type": "stream",
          "name": "stdout",
          "text": [
            "0.13200926780700684 data loading time\n",
            "2.571352005004883 Discriminators training\n",
            "1.0993528366088867 backprop discriminator\n",
            "0.24322104454040527 adversarial loss\n",
            "2.1182918548583984 cycle loss\n",
            "9.328087329864502 generator backprop\n",
            "Generator Loss: 3.016326904296875 Discriminator Loss: 0.48917269706726074\n",
            "0.11136102676391602 data loading time\n",
            "0.11156988143920898 data loading time\n"
          ]
        },
        {
          "output_type": "stream",
          "name": "stderr",
          "text": [
            "\r 30%|██▉       | 605/2035 [3:00:36<7:16:42, 18.32s/it]"
          ]
        },
        {
          "output_type": "stream",
          "name": "stdout",
          "text": [
            "0.1330859661102295 data loading time\n",
            "2.572474718093872 Discriminators training\n",
            "1.0841131210327148 backprop discriminator\n",
            "0.2439589500427246 adversarial loss\n",
            "2.1025679111480713 cycle loss\n",
            "9.341328859329224 generator backprop\n",
            "Generator Loss: 3.029204845428467 Discriminator Loss: 0.405374139547348\n",
            "0.11303901672363281 data loading time\n",
            "0.11619973182678223 data loading time\n"
          ]
        },
        {
          "output_type": "stream",
          "name": "stderr",
          "text": [
            "\r 30%|██▉       | 606/2035 [3:00:53<7:13:12, 18.19s/it]"
          ]
        },
        {
          "output_type": "stream",
          "name": "stdout",
          "text": [
            "0.12399530410766602 data loading time\n",
            "2.601973533630371 Discriminators training\n",
            "1.1029994487762451 backprop discriminator\n",
            "0.2510802745819092 adversarial loss\n",
            "2.0890614986419678 cycle loss\n",
            "9.472684383392334 generator backprop\n",
            "Generator Loss: 3.161235809326172 Discriminator Loss: 0.3751465678215027\n",
            "0.1121065616607666 data loading time\n",
            "0.11308836936950684 data loading time\n"
          ]
        },
        {
          "output_type": "stream",
          "name": "stderr",
          "text": [
            "\r 30%|██▉       | 607/2035 [3:01:12<7:11:53, 18.15s/it]"
          ]
        },
        {
          "output_type": "stream",
          "name": "stdout",
          "text": [
            "0.12880206108093262 data loading time\n",
            "2.587611436843872 Discriminators training\n",
            "1.1268243789672852 backprop discriminator\n",
            "0.24957776069641113 adversarial loss\n",
            "2.116798162460327 cycle loss\n",
            "9.553783178329468 generator backprop\n",
            "Generator Loss: 2.7109999656677246 Discriminator Loss: 0.43629488348960876\n",
            "0.11124706268310547 data loading time\n",
            "0.1132955551147461 data loading time\n"
          ]
        },
        {
          "output_type": "stream",
          "name": "stderr",
          "text": [
            "\r 30%|██▉       | 608/2035 [3:01:30<7:11:39, 18.15s/it]"
          ]
        },
        {
          "output_type": "stream",
          "name": "stdout",
          "text": [
            "0.1289668083190918 data loading time\n",
            "2.579681396484375 Discriminators training\n",
            "1.1066157817840576 backprop discriminator\n",
            "0.24581050872802734 adversarial loss\n",
            "2.1097891330718994 cycle loss\n",
            "9.440032958984375 generator backprop\n",
            "Generator Loss: 4.990511417388916 Discriminator Loss: 0.35580170154571533\n",
            "0.1112821102142334 data loading time\n",
            "0.1126241683959961 data loading time\n"
          ]
        },
        {
          "output_type": "stream",
          "name": "stderr",
          "text": [
            "\r 30%|██▉       | 609/2035 [3:01:48<7:10:27, 18.11s/it]"
          ]
        },
        {
          "output_type": "stream",
          "name": "stdout",
          "text": [
            "0.12935090065002441 data loading time\n",
            "2.5834434032440186 Discriminators training\n",
            "1.0984115600585938 backprop discriminator\n",
            "0.24685025215148926 adversarial loss\n",
            "2.115295171737671 cycle loss\n",
            "9.405457973480225 generator backprop\n",
            "Generator Loss: 3.297607898712158 Discriminator Loss: 0.4599642753601074\n",
            "0.11153554916381836 data loading time\n",
            "0.11616826057434082 data loading time\n"
          ]
        },
        {
          "output_type": "stream",
          "name": "stderr",
          "text": [
            "\r 30%|██▉       | 610/2035 [3:02:06<7:09:01, 18.06s/it]"
          ]
        },
        {
          "output_type": "stream",
          "name": "stdout",
          "text": [
            "0.13673853874206543 data loading time\n",
            "2.596057891845703 Discriminators training\n",
            "1.1207847595214844 backprop discriminator\n",
            "0.25435328483581543 adversarial loss\n",
            "2.1043508052825928 cycle loss\n",
            "9.40972900390625 generator backprop\n",
            "Generator Loss: 2.942119598388672 Discriminator Loss: 0.3857423961162567\n",
            "0.11103987693786621 data loading time\n",
            "0.11364245414733887 data loading time\n"
          ]
        },
        {
          "output_type": "stream",
          "name": "stderr",
          "text": [
            "\r 30%|███       | 611/2035 [3:02:24<7:08:35, 18.06s/it]"
          ]
        },
        {
          "output_type": "stream",
          "name": "stdout",
          "text": [
            "0.1307210922241211 data loading time\n",
            "2.5924391746520996 Discriminators training\n",
            "1.105454921722412 backprop discriminator\n",
            "0.24328351020812988 adversarial loss\n",
            "2.1066596508026123 cycle loss\n",
            "9.323352336883545 generator backprop\n",
            "Generator Loss: 2.2211496829986572 Discriminator Loss: 0.42943716049194336\n",
            "0.11300516128540039 data loading time\n",
            "0.11099672317504883 data loading time\n"
          ]
        },
        {
          "output_type": "stream",
          "name": "stderr",
          "text": [
            "\r 30%|███       | 612/2035 [3:02:42<7:07:06, 18.01s/it]"
          ]
        },
        {
          "output_type": "stream",
          "name": "stdout",
          "text": [
            "0.13106870651245117 data loading time\n",
            "2.5637869834899902 Discriminators training\n",
            "1.1145355701446533 backprop discriminator\n",
            "0.2482895851135254 adversarial loss\n",
            "2.1104729175567627 cycle loss\n",
            "9.259130954742432 generator backprop\n",
            "Generator Loss: 2.590764045715332 Discriminator Loss: 0.44002053141593933\n",
            "0.11137175559997559 data loading time\n",
            "0.11093974113464355 data loading time\n"
          ]
        },
        {
          "output_type": "stream",
          "name": "stderr",
          "text": [
            "\r 30%|███       | 613/2035 [3:02:59<7:05:16, 17.94s/it]"
          ]
        },
        {
          "output_type": "stream",
          "name": "stdout",
          "text": [
            "0.1311798095703125 data loading time\n",
            "2.54923415184021 Discriminators training\n",
            "1.0909159183502197 backprop discriminator\n",
            "0.24330759048461914 adversarial loss\n",
            "2.0734856128692627 cycle loss\n",
            "9.261250972747803 generator backprop\n",
            "Generator Loss: 3.0140864849090576 Discriminator Loss: 0.4444162845611572\n",
            "0.11182451248168945 data loading time\n",
            "0.11222195625305176 data loading time\n"
          ]
        },
        {
          "output_type": "stream",
          "name": "stderr",
          "text": [
            "\r 30%|███       | 614/2035 [3:03:17<7:03:24, 17.88s/it]"
          ]
        },
        {
          "output_type": "stream",
          "name": "stdout",
          "text": [
            "0.12684917449951172 data loading time\n",
            "2.566729784011841 Discriminators training\n",
            "1.1065919399261475 backprop discriminator\n",
            "0.2428748607635498 adversarial loss\n",
            "2.0953760147094727 cycle loss\n",
            "9.291880369186401 generator backprop\n",
            "Generator Loss: 2.612292766571045 Discriminator Loss: 0.4816802740097046\n",
            "0.11273670196533203 data loading time\n",
            "0.11244010925292969 data loading time\n"
          ]
        },
        {
          "output_type": "stream",
          "name": "stderr",
          "text": [
            "\r 30%|███       | 615/2035 [3:03:35<7:02:37, 17.86s/it]"
          ]
        },
        {
          "output_type": "stream",
          "name": "stdout",
          "text": [
            "0.1340479850769043 data loading time\n",
            "2.5484228134155273 Discriminators training\n",
            "1.0912055969238281 backprop discriminator\n",
            "0.247344970703125 adversarial loss\n",
            "2.103828191757202 cycle loss\n",
            "9.283098220825195 generator backprop\n",
            "Generator Loss: 2.7450127601623535 Discriminator Loss: 0.6489807367324829\n",
            "0.11109375953674316 data loading time\n",
            "0.11105132102966309 data loading time\n"
          ]
        },
        {
          "output_type": "stream",
          "name": "stderr",
          "text": [
            "\r 30%|███       | 616/2035 [3:03:53<7:01:52, 17.84s/it]"
          ]
        },
        {
          "output_type": "stream",
          "name": "stdout",
          "text": [
            "0.11955618858337402 data loading time\n",
            "2.572598695755005 Discriminators training\n",
            "1.0926222801208496 backprop discriminator\n",
            "0.23938393592834473 adversarial loss\n",
            "2.096621036529541 cycle loss\n",
            "9.247699499130249 generator backprop\n",
            "Generator Loss: 2.781991958618164 Discriminator Loss: 0.4373151659965515\n",
            "0.11154985427856445 data loading time\n",
            "0.11164140701293945 data loading time\n"
          ]
        },
        {
          "output_type": "stream",
          "name": "stderr",
          "text": [
            "\r 30%|███       | 617/2035 [3:04:10<7:00:59, 17.81s/it]"
          ]
        },
        {
          "output_type": "stream",
          "name": "stdout",
          "text": [
            "0.13074231147766113 data loading time\n",
            "2.5815353393554688 Discriminators training\n",
            "1.0845208168029785 backprop discriminator\n",
            "0.24181079864501953 adversarial loss\n",
            "2.0976476669311523 cycle loss\n",
            "9.361705541610718 generator backprop\n",
            "Generator Loss: 2.5862936973571777 Discriminator Loss: 0.4779857397079468\n",
            "0.11082148551940918 data loading time\n",
            "0.11366105079650879 data loading time\n"
          ]
        },
        {
          "output_type": "stream",
          "name": "stderr",
          "text": [
            "\r 30%|███       | 618/2035 [3:04:28<7:01:05, 17.83s/it]"
          ]
        },
        {
          "output_type": "stream",
          "name": "stdout",
          "text": [
            "0.1280522346496582 data loading time\n",
            "2.563398838043213 Discriminators training\n",
            "1.0873773097991943 backprop discriminator\n",
            "0.2457442283630371 adversarial loss\n",
            "2.0990021228790283 cycle loss\n",
            "9.40967869758606 generator backprop\n",
            "Generator Loss: 2.7390971183776855 Discriminator Loss: 0.3830326497554779\n",
            "0.11084842681884766 data loading time\n",
            "0.11170721054077148 data loading time\n"
          ]
        },
        {
          "output_type": "stream",
          "name": "stderr",
          "text": [
            "\r 30%|███       | 619/2035 [3:04:46<7:01:29, 17.86s/it]"
          ]
        },
        {
          "output_type": "stream",
          "name": "stdout",
          "text": [
            "0.12328362464904785 data loading time\n",
            "2.6011056900024414 Discriminators training\n",
            "1.155376672744751 backprop discriminator\n",
            "0.25963473320007324 adversarial loss\n",
            "2.1354482173919678 cycle loss\n",
            "9.474371910095215 generator backprop\n",
            "Generator Loss: 2.2752649784088135 Discriminator Loss: 0.4851004481315613\n",
            "0.11549806594848633 data loading time\n",
            "0.11422491073608398 data loading time\n"
          ]
        },
        {
          "output_type": "stream",
          "name": "stderr",
          "text": [
            "\r 30%|███       | 620/2035 [3:05:04<7:03:23, 17.95s/it]"
          ]
        },
        {
          "output_type": "stream",
          "name": "stdout",
          "text": [
            "0.13219094276428223 data loading time\n",
            "2.57236385345459 Discriminators training\n",
            "1.0843355655670166 backprop discriminator\n",
            "0.24190711975097656 adversarial loss\n",
            "2.0927987098693848 cycle loss\n",
            "9.297098398208618 generator backprop\n",
            "Generator Loss: 2.436718463897705 Discriminator Loss: 0.4846247732639313\n",
            "0.11318325996398926 data loading time\n",
            "0.1123046875 data loading time\n"
          ]
        },
        {
          "output_type": "stream",
          "name": "stderr",
          "text": [
            "\r 31%|███       | 621/2035 [3:05:22<7:02:05, 17.91s/it]"
          ]
        },
        {
          "output_type": "stream",
          "name": "stdout",
          "text": [
            "0.12232160568237305 data loading time\n",
            "2.580531358718872 Discriminators training\n",
            "1.0965678691864014 backprop discriminator\n",
            "0.23957610130310059 adversarial loss\n",
            "2.0815069675445557 cycle loss\n",
            "9.306812524795532 generator backprop\n",
            "Generator Loss: 2.7146897315979004 Discriminator Loss: 0.4380573034286499\n",
            "0.11156105995178223 data loading time\n",
            "0.11270260810852051 data loading time\n"
          ]
        },
        {
          "output_type": "stream",
          "name": "stderr",
          "text": [
            "\r 31%|███       | 622/2035 [3:05:40<7:01:11, 17.88s/it]"
          ]
        },
        {
          "output_type": "stream",
          "name": "stdout",
          "text": [
            "0.13878703117370605 data loading time\n",
            "2.56855845451355 Discriminators training\n",
            "1.0986390113830566 backprop discriminator\n",
            "0.24410510063171387 adversarial loss\n",
            "2.103706121444702 cycle loss\n",
            "9.28153395652771 generator backprop\n",
            "Generator Loss: 3.1447336673736572 Discriminator Loss: 0.418704092502594\n",
            "0.1131436824798584 data loading time\n",
            "0.11154437065124512 data loading time\n"
          ]
        },
        {
          "output_type": "stream",
          "name": "stderr",
          "text": [
            "\r 31%|███       | 623/2035 [3:05:58<7:00:25, 17.87s/it]"
          ]
        },
        {
          "output_type": "stream",
          "name": "stdout",
          "text": [
            "0.1311326026916504 data loading time\n",
            "2.5632731914520264 Discriminators training\n",
            "1.085233211517334 backprop discriminator\n",
            "0.24738383293151855 adversarial loss\n",
            "2.1089465618133545 cycle loss\n",
            "9.271271467208862 generator backprop\n",
            "Generator Loss: 2.472583293914795 Discriminator Loss: 0.370682954788208\n",
            "0.11124944686889648 data loading time\n",
            "0.11134052276611328 data loading time\n"
          ]
        },
        {
          "output_type": "stream",
          "name": "stderr",
          "text": [
            "\r 31%|███       | 624/2035 [3:06:16<6:59:30, 17.84s/it]"
          ]
        },
        {
          "output_type": "stream",
          "name": "stdout",
          "text": [
            "0.1309492588043213 data loading time\n",
            "2.5638070106506348 Discriminators training\n",
            "1.0880296230316162 backprop discriminator\n",
            "0.246537446975708 adversarial loss\n",
            "2.0848228931427 cycle loss\n",
            "9.271609783172607 generator backprop\n",
            "Generator Loss: 2.8481757640838623 Discriminator Loss: 0.41849327087402344\n",
            "0.11178255081176758 data loading time\n",
            "0.11093807220458984 data loading time\n"
          ]
        },
        {
          "output_type": "stream",
          "name": "stderr",
          "text": [
            "\r 31%|███       | 625/2035 [3:06:33<6:58:40, 17.82s/it]"
          ]
        },
        {
          "output_type": "stream",
          "name": "stdout",
          "text": [
            "0.12414884567260742 data loading time\n",
            "2.5571889877319336 Discriminators training\n",
            "1.0840189456939697 backprop discriminator\n",
            "0.24344611167907715 adversarial loss\n",
            "2.0833349227905273 cycle loss\n",
            "9.216505289077759 generator backprop\n",
            "Generator Loss: 2.9034738540649414 Discriminator Loss: 0.5137450098991394\n",
            "0.11214137077331543 data loading time\n",
            "0.11284065246582031 data loading time\n"
          ]
        },
        {
          "output_type": "stream",
          "name": "stderr",
          "text": [
            "\r 31%|███       | 626/2035 [3:06:51<6:57:39, 17.79s/it]"
          ]
        },
        {
          "output_type": "stream",
          "name": "stdout",
          "text": [
            "0.1263577938079834 data loading time\n",
            "2.5585989952087402 Discriminators training\n",
            "1.1139588356018066 backprop discriminator\n",
            "0.24297237396240234 adversarial loss\n",
            "2.077531099319458 cycle loss\n",
            "9.226370573043823 generator backprop\n",
            "Generator Loss: 3.0134902000427246 Discriminator Loss: 0.58013916015625\n",
            "0.11353564262390137 data loading time\n",
            "0.11178970336914062 data loading time\n"
          ]
        },
        {
          "output_type": "stream",
          "name": "stderr",
          "text": [
            "\r 31%|███       | 627/2035 [3:07:09<6:56:55, 17.77s/it]"
          ]
        },
        {
          "output_type": "stream",
          "name": "stdout",
          "text": [
            "0.12274432182312012 data loading time\n",
            "2.566977024078369 Discriminators training\n",
            "1.1066138744354248 backprop discriminator\n",
            "0.24312853813171387 adversarial loss\n",
            "2.1080334186553955 cycle loss\n",
            "9.339654922485352 generator backprop\n",
            "Generator Loss: 2.6301794052124023 Discriminator Loss: 0.3891948461532593\n",
            "0.11188745498657227 data loading time\n",
            "0.11240792274475098 data loading time\n"
          ]
        },
        {
          "output_type": "stream",
          "name": "stderr",
          "text": [
            "\r 31%|███       | 628/2035 [3:07:27<6:57:29, 17.80s/it]"
          ]
        },
        {
          "output_type": "stream",
          "name": "stdout",
          "text": [
            "0.13404035568237305 data loading time\n",
            "2.5690789222717285 Discriminators training\n",
            "1.0864362716674805 backprop discriminator\n",
            "0.24686646461486816 adversarial loss\n",
            "2.1238720417022705 cycle loss\n",
            "9.414885520935059 generator backprop\n",
            "Generator Loss: 2.27398419380188 Discriminator Loss: 0.48908451199531555\n",
            "0.11093831062316895 data loading time\n",
            "0.11136674880981445 data loading time\n"
          ]
        },
        {
          "output_type": "stream",
          "name": "stderr",
          "text": [
            "\r 31%|███       | 629/2035 [3:07:45<6:58:13, 17.85s/it]"
          ]
        },
        {
          "output_type": "stream",
          "name": "stdout",
          "text": [
            "0.12465333938598633 data loading time\n",
            "2.5639708042144775 Discriminators training\n",
            "1.0848054885864258 backprop discriminator\n",
            "0.24640417098999023 adversarial loss\n",
            "2.118502140045166 cycle loss\n",
            "9.27838397026062 generator backprop\n",
            "Generator Loss: 2.266361951828003 Discriminator Loss: 0.5165340900421143\n",
            "0.1110990047454834 data loading time\n",
            "0.11277008056640625 data loading time\n"
          ]
        },
        {
          "output_type": "stream",
          "name": "stderr",
          "text": [
            "\r 31%|███       | 630/2035 [3:08:03<6:57:41, 17.84s/it]"
          ]
        },
        {
          "output_type": "stream",
          "name": "stdout",
          "text": [
            "0.12674999237060547 data loading time\n",
            "2.563605308532715 Discriminators training\n",
            "1.0915565490722656 backprop discriminator\n",
            "0.2462756633758545 adversarial loss\n",
            "2.0843098163604736 cycle loss\n",
            "9.316338062286377 generator backprop\n",
            "Generator Loss: 2.76619815826416 Discriminator Loss: 0.40442919731140137\n",
            "0.11251711845397949 data loading time\n",
            "0.11090826988220215 data loading time\n"
          ]
        },
        {
          "output_type": "stream",
          "name": "stderr",
          "text": [
            "\r 31%|███       | 631/2035 [3:08:20<6:57:12, 17.83s/it]"
          ]
        },
        {
          "output_type": "stream",
          "name": "stdout",
          "text": [
            "0.1306898593902588 data loading time\n",
            "2.584113359451294 Discriminators training\n",
            "1.097815990447998 backprop discriminator\n",
            "0.24158787727355957 adversarial loss\n",
            "2.1054136753082275 cycle loss\n",
            "9.28224492073059 generator backprop\n",
            "Generator Loss: 2.987588405609131 Discriminator Loss: 0.5133398175239563\n",
            "0.11286759376525879 data loading time\n",
            "0.11950302124023438 data loading time\n"
          ]
        },
        {
          "output_type": "stream",
          "name": "stderr",
          "text": [
            "\r 31%|███       | 632/2035 [3:08:38<6:56:51, 17.83s/it]"
          ]
        },
        {
          "output_type": "stream",
          "name": "stdout",
          "text": [
            "0.12679505348205566 data loading time\n",
            "2.5514914989471436 Discriminators training\n",
            "1.09739351272583 backprop discriminator\n",
            "0.2479081153869629 adversarial loss\n",
            "2.0821890830993652 cycle loss\n",
            "9.314173221588135 generator backprop\n",
            "Generator Loss: 3.1384201049804688 Discriminator Loss: 0.49840033054351807\n",
            "0.11316108703613281 data loading time\n",
            "0.1179664134979248 data loading time\n"
          ]
        },
        {
          "output_type": "stream",
          "name": "stderr",
          "text": [
            "\r 31%|███       | 633/2035 [3:08:56<6:56:34, 17.83s/it]"
          ]
        },
        {
          "output_type": "stream",
          "name": "stdout",
          "text": [
            "0.13235759735107422 data loading time\n",
            "2.5757901668548584 Discriminators training\n",
            "1.087099313735962 backprop discriminator\n",
            "0.24441027641296387 adversarial loss\n",
            "2.0973782539367676 cycle loss\n",
            "9.29649806022644 generator backprop\n",
            "Generator Loss: 2.876509666442871 Discriminator Loss: 0.5136791467666626\n",
            "0.11092519760131836 data loading time\n",
            "0.11616706848144531 data loading time\n"
          ]
        },
        {
          "output_type": "stream",
          "name": "stderr",
          "text": [
            "\r 31%|███       | 634/2035 [3:09:14<6:56:13, 17.83s/it]"
          ]
        },
        {
          "output_type": "stream",
          "name": "stdout",
          "text": [
            "0.13561367988586426 data loading time\n",
            "2.583181142807007 Discriminators training\n",
            "1.0986931324005127 backprop discriminator\n",
            "0.25326108932495117 adversarial loss\n",
            "2.0979223251342773 cycle loss\n",
            "9.356951713562012 generator backprop\n",
            "Generator Loss: 2.092933177947998 Discriminator Loss: 0.40434467792510986\n",
            "0.1107935905456543 data loading time\n",
            "0.11112475395202637 data loading time\n"
          ]
        },
        {
          "output_type": "stream",
          "name": "stderr",
          "text": [
            "\r 31%|███       | 635/2035 [3:09:32<6:56:36, 17.85s/it]"
          ]
        },
        {
          "output_type": "stream",
          "name": "stdout",
          "text": [
            "0.12368631362915039 data loading time\n",
            "2.560344696044922 Discriminators training\n",
            "1.0886876583099365 backprop discriminator\n",
            "0.24817132949829102 adversarial loss\n",
            "2.175353527069092 cycle loss\n",
            "9.346660614013672 generator backprop\n",
            "Generator Loss: 1.892274022102356 Discriminator Loss: 0.43248268961906433\n",
            "0.1111140251159668 data loading time\n",
            "0.11170053482055664 data loading time\n"
          ]
        },
        {
          "output_type": "stream",
          "name": "stderr",
          "text": [
            "\r 31%|███▏      | 636/2035 [3:09:50<6:56:43, 17.87s/it]"
          ]
        },
        {
          "output_type": "stream",
          "name": "stdout",
          "text": [
            "0.12863826751708984 data loading time\n",
            "2.596450090408325 Discriminators training\n",
            "1.1096086502075195 backprop discriminator\n",
            "0.24152374267578125 adversarial loss\n",
            "2.122314214706421 cycle loss\n",
            "9.37088680267334 generator backprop\n",
            "Generator Loss: 2.148707866668701 Discriminator Loss: 0.4757762551307678\n",
            "0.11082053184509277 data loading time\n",
            "0.11221504211425781 data loading time\n"
          ]
        },
        {
          "output_type": "stream",
          "name": "stderr",
          "text": [
            "\r 31%|███▏      | 637/2035 [3:10:08<6:57:00, 17.90s/it]"
          ]
        },
        {
          "output_type": "stream",
          "name": "stdout",
          "text": [
            "0.12111353874206543 data loading time\n",
            "2.5637264251708984 Discriminators training\n",
            "1.081662654876709 backprop discriminator\n",
            "0.2502250671386719 adversarial loss\n",
            "2.122560739517212 cycle loss\n",
            "9.495433330535889 generator backprop\n",
            "Generator Loss: 3.373149871826172 Discriminator Loss: 0.3536035418510437\n",
            "0.11117315292358398 data loading time\n",
            "0.11233091354370117 data loading time\n"
          ]
        },
        {
          "output_type": "stream",
          "name": "stderr",
          "text": [
            "\r 31%|███▏      | 638/2035 [3:10:26<6:57:50, 17.95s/it]"
          ]
        },
        {
          "output_type": "stream",
          "name": "stdout",
          "text": [
            "0.13104867935180664 data loading time\n",
            "2.584463357925415 Discriminators training\n",
            "1.1243932247161865 backprop discriminator\n",
            "0.2562596797943115 adversarial loss\n",
            "2.176886558532715 cycle loss\n",
            "9.460832357406616 generator backprop\n",
            "Generator Loss: 3.2393603324890137 Discriminator Loss: 0.46794191002845764\n",
            "0.11432838439941406 data loading time\n",
            "0.11245083808898926 data loading time\n"
          ]
        },
        {
          "output_type": "stream",
          "name": "stderr",
          "text": [
            "\r 31%|███▏      | 639/2035 [3:10:44<6:59:00, 18.01s/it]"
          ]
        },
        {
          "output_type": "stream",
          "name": "stdout",
          "text": [
            "0.13355445861816406 data loading time\n",
            "2.599358081817627 Discriminators training\n",
            "1.1047852039337158 backprop discriminator\n",
            "0.2436351776123047 adversarial loss\n",
            "2.1085779666900635 cycle loss\n",
            "9.454094886779785 generator backprop\n",
            "Generator Loss: 2.509840965270996 Discriminator Loss: 0.4831714928150177\n",
            "0.11142373085021973 data loading time\n",
            "0.1121060848236084 data loading time\n"
          ]
        },
        {
          "output_type": "stream",
          "name": "stderr",
          "text": [
            "\r 31%|███▏      | 640/2035 [3:11:02<6:58:55, 18.02s/it]"
          ]
        },
        {
          "output_type": "stream",
          "name": "stdout",
          "text": [
            "0.12796425819396973 data loading time\n",
            "2.594909906387329 Discriminators training\n",
            "1.1116392612457275 backprop discriminator\n",
            "0.24524998664855957 adversarial loss\n",
            "2.106553554534912 cycle loss\n",
            "9.408746242523193 generator backprop\n",
            "Generator Loss: 2.4259138107299805 Discriminator Loss: 0.4787371754646301\n",
            "0.11085009574890137 data loading time\n",
            "0.11218857765197754 data loading time\n"
          ]
        },
        {
          "output_type": "stream",
          "name": "stderr",
          "text": [
            "\r 31%|███▏      | 641/2035 [3:11:20<6:58:21, 18.01s/it]"
          ]
        },
        {
          "output_type": "stream",
          "name": "stdout",
          "text": [
            "0.13408708572387695 data loading time\n",
            "2.5847418308258057 Discriminators training\n",
            "1.128007173538208 backprop discriminator\n",
            "0.25715065002441406 adversarial loss\n",
            "2.1583049297332764 cycle loss\n",
            "9.49137544631958 generator backprop\n",
            "Generator Loss: 2.4044737815856934 Discriminator Loss: 0.39541542530059814\n",
            "0.11120891571044922 data loading time\n",
            "0.11287045478820801 data loading time\n"
          ]
        },
        {
          "output_type": "stream",
          "name": "stderr",
          "text": [
            "\r 32%|███▏      | 642/2035 [3:11:38<6:59:05, 18.05s/it]"
          ]
        },
        {
          "output_type": "stream",
          "name": "stdout",
          "text": [
            "0.13959574699401855 data loading time\n",
            "2.568364143371582 Discriminators training\n",
            "1.1025397777557373 backprop discriminator\n",
            "0.24728751182556152 adversarial loss\n",
            "2.1165611743927 cycle loss\n",
            "9.428411960601807 generator backprop\n",
            "Generator Loss: 2.5490012168884277 Discriminator Loss: 0.5149080157279968\n",
            "0.1105048656463623 data loading time\n",
            "0.11283230781555176 data loading time\n"
          ]
        },
        {
          "output_type": "stream",
          "name": "stderr",
          "text": [
            "\r 32%|███▏      | 643/2035 [3:11:56<6:58:28, 18.04s/it]"
          ]
        },
        {
          "output_type": "stream",
          "name": "stdout",
          "text": [
            "0.12355208396911621 data loading time\n",
            "2.57539701461792 Discriminators training\n",
            "1.1043369770050049 backprop discriminator\n",
            "0.24965643882751465 adversarial loss\n",
            "2.1039974689483643 cycle loss\n",
            "9.415519952774048 generator backprop\n",
            "Generator Loss: 2.849043369293213 Discriminator Loss: 0.40084344148635864\n",
            "0.11533570289611816 data loading time\n",
            "0.11393046379089355 data loading time\n"
          ]
        },
        {
          "output_type": "stream",
          "name": "stderr",
          "text": [
            "\r 32%|███▏      | 644/2035 [3:12:14<6:57:42, 18.02s/it]"
          ]
        },
        {
          "output_type": "stream",
          "name": "stdout",
          "text": [
            "0.1351630687713623 data loading time\n",
            "2.5664992332458496 Discriminators training\n",
            "1.1004905700683594 backprop discriminator\n",
            "0.24682021141052246 adversarial loss\n",
            "2.096282720565796 cycle loss\n",
            "9.37556791305542 generator backprop\n",
            "Generator Loss: 2.157783031463623 Discriminator Loss: 0.4111473560333252\n",
            "0.11085224151611328 data loading time\n",
            "0.1135106086730957 data loading time\n"
          ]
        },
        {
          "output_type": "stream",
          "name": "stderr",
          "text": [
            "\r 32%|███▏      | 645/2035 [3:12:32<6:56:48, 17.99s/it]"
          ]
        },
        {
          "output_type": "stream",
          "name": "stdout",
          "text": [
            "0.1322016716003418 data loading time\n",
            "2.5785164833068848 Discriminators training\n",
            "1.0980966091156006 backprop discriminator\n",
            "0.24405407905578613 adversarial loss\n",
            "2.101050615310669 cycle loss\n",
            "9.338334321975708 generator backprop\n",
            "Generator Loss: 2.2923011779785156 Discriminator Loss: 0.4706265330314636\n",
            "0.11168766021728516 data loading time\n",
            "0.11229991912841797 data loading time\n"
          ]
        },
        {
          "output_type": "stream",
          "name": "stderr",
          "text": [
            "\r 32%|███▏      | 646/2035 [3:12:50<6:55:39, 17.95s/it]"
          ]
        },
        {
          "output_type": "stream",
          "name": "stdout",
          "text": [
            "0.12887239456176758 data loading time\n",
            "2.5749528408050537 Discriminators training\n",
            "1.0928049087524414 backprop discriminator\n",
            "0.24707436561584473 adversarial loss\n",
            "2.102588415145874 cycle loss\n",
            "9.33474063873291 generator backprop\n",
            "Generator Loss: 2.5977468490600586 Discriminator Loss: 0.41098374128341675\n",
            "0.11054563522338867 data loading time\n",
            "0.11104941368103027 data loading time\n"
          ]
        },
        {
          "output_type": "stream",
          "name": "stderr",
          "text": [
            "\r 32%|███▏      | 647/2035 [3:13:08<6:54:45, 17.93s/it]"
          ]
        },
        {
          "output_type": "stream",
          "name": "stdout",
          "text": [
            "0.13037467002868652 data loading time\n",
            "2.5663113594055176 Discriminators training\n",
            "1.0963513851165771 backprop discriminator\n",
            "0.25331759452819824 adversarial loss\n",
            "2.103017807006836 cycle loss\n",
            "9.346331119537354 generator backprop\n",
            "Generator Loss: 2.6942896842956543 Discriminator Loss: 0.43783125281333923\n",
            "0.11107087135314941 data loading time\n",
            "0.11377406120300293 data loading time\n"
          ]
        },
        {
          "output_type": "stream",
          "name": "stderr",
          "text": [
            "\r 32%|███▏      | 648/2035 [3:13:26<6:54:23, 17.93s/it]"
          ]
        },
        {
          "output_type": "stream",
          "name": "stdout",
          "text": [
            "0.1267080307006836 data loading time\n",
            "2.5807979106903076 Discriminators training\n",
            "1.1013548374176025 backprop discriminator\n",
            "0.24320745468139648 adversarial loss\n",
            "2.092442035675049 cycle loss\n",
            "9.458316564559937 generator backprop\n",
            "Generator Loss: 3.1773862838745117 Discriminator Loss: 0.44072458148002625\n",
            "0.11189937591552734 data loading time\n",
            "0.11239290237426758 data loading time\n"
          ]
        },
        {
          "output_type": "stream",
          "name": "stderr",
          "text": [
            "\r 32%|███▏      | 649/2035 [3:13:44<6:54:36, 17.95s/it]"
          ]
        },
        {
          "output_type": "stream",
          "name": "stdout",
          "text": [
            "0.13268303871154785 data loading time\n",
            "2.559243679046631 Discriminators training\n",
            "1.0849027633666992 backprop discriminator\n",
            "0.2511136531829834 adversarial loss\n",
            "2.1021902561187744 cycle loss\n",
            "9.264621496200562 generator backprop\n",
            "Generator Loss: 2.395061492919922 Discriminator Loss: 0.5127347707748413\n",
            "0.11147642135620117 data loading time\n",
            "0.11183667182922363 data loading time\n"
          ]
        },
        {
          "output_type": "stream",
          "name": "stderr",
          "text": [
            "\r 32%|███▏      | 650/2035 [3:14:01<6:53:05, 17.90s/it]"
          ]
        },
        {
          "output_type": "stream",
          "name": "stdout",
          "text": [
            "0.12465953826904297 data loading time\n",
            "2.562889575958252 Discriminators training\n",
            "1.0899074077606201 backprop discriminator\n",
            "0.24863338470458984 adversarial loss\n",
            "2.0907912254333496 cycle loss\n",
            "9.293001890182495 generator backprop\n",
            "Generator Loss: 3.781588554382324 Discriminator Loss: 0.39002513885498047\n",
            "0.11223506927490234 data loading time\n",
            "0.1117854118347168 data loading time\n"
          ]
        },
        {
          "output_type": "stream",
          "name": "stderr",
          "text": [
            "\r 32%|███▏      | 651/2035 [3:14:19<6:52:08, 17.87s/it]"
          ]
        },
        {
          "output_type": "stream",
          "name": "stdout",
          "text": [
            "0.13194894790649414 data loading time\n",
            "2.577220916748047 Discriminators training\n",
            "1.1031811237335205 backprop discriminator\n",
            "0.2485795021057129 adversarial loss\n",
            "2.1106512546539307 cycle loss\n",
            "10.034277439117432 generator backprop\n",
            "Generator Loss: 3.429335355758667 Discriminator Loss: 0.4249200224876404\n",
            "0.11226034164428711 data loading time\n",
            "0.11066293716430664 data loading time\n"
          ]
        },
        {
          "output_type": "stream",
          "name": "stderr",
          "text": [
            "\r 32%|███▏      | 652/2035 [3:14:38<6:56:47, 18.08s/it]"
          ]
        },
        {
          "output_type": "stream",
          "name": "stdout",
          "text": [
            "0.1256718635559082 data loading time\n",
            "2.5657424926757812 Discriminators training\n",
            "1.0910077095031738 backprop discriminator\n",
            "0.2484114170074463 adversarial loss\n",
            "2.0974972248077393 cycle loss\n",
            "9.274864435195923 generator backprop\n",
            "Generator Loss: 2.616579055786133 Discriminator Loss: 0.5508644580841064\n",
            "0.11133623123168945 data loading time\n",
            "0.11560368537902832 data loading time\n"
          ]
        },
        {
          "output_type": "stream",
          "name": "stderr",
          "text": [
            "\r 32%|███▏      | 653/2035 [3:14:55<6:54:23, 17.99s/it]"
          ]
        },
        {
          "output_type": "stream",
          "name": "stdout",
          "text": [
            "0.13100290298461914 data loading time\n",
            "2.5742859840393066 Discriminators training\n",
            "1.0794141292572021 backprop discriminator\n",
            "0.2545812129974365 adversarial loss\n",
            "2.08451509475708 cycle loss\n",
            "9.26255989074707 generator backprop\n",
            "Generator Loss: 3.826434850692749 Discriminator Loss: 0.5140514373779297\n",
            "0.11057138442993164 data loading time\n",
            "0.11197757720947266 data loading time\n"
          ]
        },
        {
          "output_type": "stream",
          "name": "stderr",
          "text": [
            "\r 32%|███▏      | 654/2035 [3:15:13<6:52:24, 17.92s/it]"
          ]
        },
        {
          "output_type": "stream",
          "name": "stdout",
          "text": [
            "0.12708139419555664 data loading time\n",
            "2.554581880569458 Discriminators training\n",
            "1.0816700458526611 backprop discriminator\n",
            "0.24471068382263184 adversarial loss\n",
            "2.0782968997955322 cycle loss\n",
            "9.255958795547485 generator backprop\n",
            "Generator Loss: 2.293123722076416 Discriminator Loss: 0.4896193742752075\n",
            "0.1110081672668457 data loading time\n",
            "0.1117393970489502 data loading time\n"
          ]
        },
        {
          "output_type": "stream",
          "name": "stderr",
          "text": [
            "\r 32%|███▏      | 655/2035 [3:15:31<6:50:50, 17.86s/it]"
          ]
        },
        {
          "output_type": "stream",
          "name": "stdout",
          "text": [
            "0.13138747215270996 data loading time\n",
            "2.554042339324951 Discriminators training\n",
            "1.0988574028015137 backprop discriminator\n",
            "0.24638843536376953 adversarial loss\n",
            "2.084237813949585 cycle loss\n",
            "9.232804298400879 generator backprop\n",
            "Generator Loss: 2.561386823654175 Discriminator Loss: 0.502887487411499\n",
            "0.11075854301452637 data loading time\n",
            "0.11057329177856445 data loading time\n"
          ]
        },
        {
          "output_type": "stream",
          "name": "stderr",
          "text": [
            "\r 32%|███▏      | 656/2035 [3:15:49<6:49:36, 17.82s/it]"
          ]
        },
        {
          "output_type": "stream",
          "name": "stdout",
          "text": [
            "0.12260842323303223 data loading time\n",
            "2.567474126815796 Discriminators training\n",
            "1.0842969417572021 backprop discriminator\n",
            "0.24869489669799805 adversarial loss\n",
            "2.093883752822876 cycle loss\n",
            "9.265932559967041 generator backprop\n",
            "Generator Loss: 3.343108654022217 Discriminator Loss: 0.42500659823417664\n",
            "0.1112213134765625 data loading time\n",
            "0.1121363639831543 data loading time\n"
          ]
        },
        {
          "output_type": "stream",
          "name": "stderr",
          "text": [
            "\r 32%|███▏      | 657/2035 [3:16:06<6:49:01, 17.81s/it]"
          ]
        },
        {
          "output_type": "stream",
          "name": "stdout",
          "text": [
            "0.12175726890563965 data loading time\n",
            "2.555072784423828 Discriminators training\n",
            "1.0891897678375244 backprop discriminator\n",
            "0.2442467212677002 adversarial loss\n",
            "2.0897836685180664 cycle loss\n",
            "9.196465969085693 generator backprop\n",
            "Generator Loss: 3.117936611175537 Discriminator Loss: 0.44494354724884033\n",
            "0.11462974548339844 data loading time\n",
            "0.11292529106140137 data loading time\n"
          ]
        },
        {
          "output_type": "stream",
          "name": "stderr",
          "text": [
            "\r 32%|███▏      | 658/2035 [3:16:24<6:47:45, 17.77s/it]"
          ]
        },
        {
          "output_type": "stream",
          "name": "stdout",
          "text": [
            "0.12496566772460938 data loading time\n",
            "2.5441641807556152 Discriminators training\n",
            "1.0769176483154297 backprop discriminator\n",
            "0.2517430782318115 adversarial loss\n",
            "2.070188522338867 cycle loss\n",
            "9.200672388076782 generator backprop\n",
            "Generator Loss: 2.455566883087158 Discriminator Loss: 0.39053747057914734\n",
            "0.11078524589538574 data loading time\n",
            "0.11057806015014648 data loading time\n"
          ]
        },
        {
          "output_type": "stream",
          "name": "stderr",
          "text": [
            "\r 32%|███▏      | 659/2035 [3:16:42<6:46:30, 17.73s/it]"
          ]
        },
        {
          "output_type": "stream",
          "name": "stdout",
          "text": [
            "0.1254405975341797 data loading time\n",
            "2.537518262863159 Discriminators training\n",
            "1.081744909286499 backprop discriminator\n",
            "0.24686098098754883 adversarial loss\n",
            "2.0849268436431885 cycle loss\n",
            "9.254649877548218 generator backprop\n",
            "Generator Loss: 3.2209720611572266 Discriminator Loss: 0.3557899594306946\n",
            "0.11074018478393555 data loading time\n",
            "0.11228299140930176 data loading time\n"
          ]
        },
        {
          "output_type": "stream",
          "name": "stderr",
          "text": [
            "\r 32%|███▏      | 660/2035 [3:16:59<6:46:03, 17.72s/it]"
          ]
        },
        {
          "output_type": "stream",
          "name": "stdout",
          "text": [
            "0.12940573692321777 data loading time\n",
            "2.5503427982330322 Discriminators training\n",
            "1.0874061584472656 backprop discriminator\n",
            "0.24457240104675293 adversarial loss\n",
            "2.082108736038208 cycle loss\n",
            "9.269592046737671 generator backprop\n",
            "Generator Loss: 3.524385929107666 Discriminator Loss: 0.4597512483596802\n",
            "0.11145782470703125 data loading time\n",
            "0.11090946197509766 data loading time\n"
          ]
        },
        {
          "output_type": "stream",
          "name": "stderr",
          "text": [
            "\r 32%|███▏      | 661/2035 [3:17:17<6:45:56, 17.73s/it]"
          ]
        },
        {
          "output_type": "stream",
          "name": "stdout",
          "text": [
            "0.11972689628601074 data loading time\n",
            "2.556825876235962 Discriminators training\n",
            "1.0817384719848633 backprop discriminator\n",
            "0.24776887893676758 adversarial loss\n",
            "2.07635235786438 cycle loss\n",
            "9.218604326248169 generator backprop\n",
            "Generator Loss: 4.661309242248535 Discriminator Loss: 0.4913323223590851\n",
            "0.11176323890686035 data loading time\n",
            "0.11182260513305664 data loading time\n"
          ]
        },
        {
          "output_type": "stream",
          "name": "stderr",
          "text": [
            "\r 33%|███▎      | 662/2035 [3:17:35<6:45:16, 17.71s/it]"
          ]
        },
        {
          "output_type": "stream",
          "name": "stdout",
          "text": [
            "0.12946128845214844 data loading time\n",
            "2.5668601989746094 Discriminators training\n",
            "1.091402292251587 backprop discriminator\n",
            "0.24264812469482422 adversarial loss\n",
            "2.080334424972534 cycle loss\n",
            "9.318859577178955 generator backprop\n",
            "Generator Loss: 2.6572606563568115 Discriminator Loss: 0.3304542899131775\n",
            "0.11091089248657227 data loading time\n",
            "0.11084413528442383 data loading time\n"
          ]
        },
        {
          "output_type": "stream",
          "name": "stderr",
          "text": [
            "\r 33%|███▎      | 663/2035 [3:17:53<6:45:31, 17.73s/it]"
          ]
        },
        {
          "output_type": "stream",
          "name": "stdout",
          "text": [
            "0.12697196006774902 data loading time\n",
            "2.562544822692871 Discriminators training\n",
            "1.0918962955474854 backprop discriminator\n",
            "0.24543285369873047 adversarial loss\n",
            "2.0830256938934326 cycle loss\n",
            "9.27376937866211 generator backprop\n",
            "Generator Loss: 3.769129753112793 Discriminator Loss: 0.38901570439338684\n",
            "0.11049342155456543 data loading time\n",
            "0.11198639869689941 data loading time\n"
          ]
        },
        {
          "output_type": "stream",
          "name": "stderr",
          "text": [
            "\r 33%|███▎      | 664/2035 [3:18:10<6:45:30, 17.75s/it]"
          ]
        },
        {
          "output_type": "stream",
          "name": "stdout",
          "text": [
            "0.1300363540649414 data loading time\n",
            "2.572960615158081 Discriminators training\n",
            "1.089529037475586 backprop discriminator\n",
            "0.2414097785949707 adversarial loss\n",
            "2.09726881980896 cycle loss\n",
            "9.264753580093384 generator backprop\n",
            "Generator Loss: 2.6779472827911377 Discriminator Loss: 0.4944162368774414\n",
            "0.11411476135253906 data loading time\n",
            "0.11117291450500488 data loading time\n"
          ]
        },
        {
          "output_type": "stream",
          "name": "stderr",
          "text": [
            "\r 33%|███▎      | 665/2035 [3:18:28<6:45:28, 17.76s/it]"
          ]
        },
        {
          "output_type": "stream",
          "name": "stdout",
          "text": [
            "0.12572574615478516 data loading time\n",
            "2.549314022064209 Discriminators training\n",
            "1.0985839366912842 backprop discriminator\n",
            "0.2513585090637207 adversarial loss\n",
            "2.1022884845733643 cycle loss\n",
            "9.398607730865479 generator backprop\n",
            "Generator Loss: 2.619448661804199 Discriminator Loss: 0.46775007247924805\n",
            "0.11124396324157715 data loading time\n",
            "0.11252593994140625 data loading time\n"
          ]
        },
        {
          "output_type": "stream",
          "name": "stderr",
          "text": [
            "\r 33%|███▎      | 666/2035 [3:18:46<6:46:21, 17.81s/it]"
          ]
        },
        {
          "output_type": "stream",
          "name": "stdout",
          "text": [
            "0.1344895362854004 data loading time\n",
            "2.563476800918579 Discriminators training\n",
            "1.104569435119629 backprop discriminator\n",
            "0.2470700740814209 adversarial loss\n",
            "2.1249701976776123 cycle loss\n",
            "9.372885704040527 generator backprop\n",
            "Generator Loss: 3.475041151046753 Discriminator Loss: 0.3444851338863373\n",
            "0.11102414131164551 data loading time\n",
            "0.11134743690490723 data loading time\n"
          ]
        },
        {
          "output_type": "stream",
          "name": "stderr",
          "text": [
            "\r 33%|███▎      | 667/2035 [3:19:04<6:46:51, 17.84s/it]"
          ]
        },
        {
          "output_type": "stream",
          "name": "stdout",
          "text": [
            "0.11816692352294922 data loading time\n",
            "2.5679893493652344 Discriminators training\n",
            "1.0946309566497803 backprop discriminator\n",
            "0.24810266494750977 adversarial loss\n",
            "2.089007616043091 cycle loss\n",
            "9.407285928726196 generator backprop\n",
            "Generator Loss: 2.3684446811676025 Discriminator Loss: 0.46524229645729065\n",
            "0.11270618438720703 data loading time\n",
            "0.11642217636108398 data loading time\n"
          ]
        },
        {
          "output_type": "stream",
          "name": "stderr",
          "text": [
            "\r 33%|███▎      | 668/2035 [3:19:22<6:46:59, 17.86s/it]"
          ]
        },
        {
          "output_type": "stream",
          "name": "stdout",
          "text": [
            "0.12969231605529785 data loading time\n",
            "2.586428642272949 Discriminators training\n",
            "1.1053500175476074 backprop discriminator\n",
            "0.26209402084350586 adversarial loss\n",
            "2.1085779666900635 cycle loss\n",
            "9.384832859039307 generator backprop\n",
            "Generator Loss: 2.723386764526367 Discriminator Loss: 0.4659195840358734\n",
            "0.11268830299377441 data loading time\n",
            "0.11168742179870605 data loading time\n"
          ]
        },
        {
          "output_type": "stream",
          "name": "stderr",
          "text": [
            "\r 33%|███▎      | 669/2035 [3:19:40<6:47:24, 17.90s/it]"
          ]
        },
        {
          "output_type": "stream",
          "name": "stdout",
          "text": [
            "0.1305708885192871 data loading time\n",
            "2.5804762840270996 Discriminators training\n",
            "1.107231855392456 backprop discriminator\n",
            "0.2407989501953125 adversarial loss\n",
            "2.105529546737671 cycle loss\n",
            "9.37326455116272 generator backprop\n",
            "Generator Loss: 2.719635486602783 Discriminator Loss: 0.4526287913322449\n",
            "0.11174297332763672 data loading time\n",
            "0.11361169815063477 data loading time\n"
          ]
        },
        {
          "output_type": "stream",
          "name": "stderr",
          "text": [
            "\r 33%|███▎      | 670/2035 [3:19:58<6:47:21, 17.91s/it]"
          ]
        },
        {
          "output_type": "stream",
          "name": "stdout",
          "text": [
            "0.13548731803894043 data loading time\n",
            "2.566201686859131 Discriminators training\n",
            "1.095290184020996 backprop discriminator\n",
            "0.2454526424407959 adversarial loss\n",
            "2.1016883850097656 cycle loss\n",
            "9.26904582977295 generator backprop\n",
            "Generator Loss: 2.2908480167388916 Discriminator Loss: 0.4880402088165283\n",
            "0.11040639877319336 data loading time\n",
            "0.1124730110168457 data loading time\n"
          ]
        },
        {
          "output_type": "stream",
          "name": "stderr",
          "text": [
            "\r 33%|███▎      | 671/2035 [3:20:16<6:46:16, 17.87s/it]"
          ]
        },
        {
          "output_type": "stream",
          "name": "stdout",
          "text": [
            "0.13974237442016602 data loading time\n",
            "2.5384840965270996 Discriminators training\n",
            "1.0890040397644043 backprop discriminator\n",
            "0.24487853050231934 adversarial loss\n",
            "2.087601900100708 cycle loss\n",
            "9.215347528457642 generator backprop\n",
            "Generator Loss: 3.0251598358154297 Discriminator Loss: 0.4612535834312439\n",
            "0.11537694931030273 data loading time\n",
            "0.11245441436767578 data loading time\n"
          ]
        },
        {
          "output_type": "stream",
          "name": "stderr",
          "text": [
            "\r 33%|███▎      | 672/2035 [3:20:33<6:44:41, 17.82s/it]"
          ]
        },
        {
          "output_type": "stream",
          "name": "stdout",
          "text": [
            "0.12799572944641113 data loading time\n",
            "2.553495407104492 Discriminators training\n",
            "1.0857629776000977 backprop discriminator\n",
            "0.24626564979553223 adversarial loss\n",
            "2.0810658931732178 cycle loss\n",
            "9.229236841201782 generator backprop\n",
            "Generator Loss: 2.6347575187683105 Discriminator Loss: 0.4782024025917053\n",
            "0.11147594451904297 data loading time\n",
            "0.11172747611999512 data loading time\n"
          ]
        },
        {
          "output_type": "stream",
          "name": "stderr",
          "text": [
            "\r 33%|███▎      | 673/2035 [3:20:51<6:43:38, 17.78s/it]"
          ]
        },
        {
          "output_type": "stream",
          "name": "stdout",
          "text": [
            "0.12421965599060059 data loading time\n",
            "2.558505058288574 Discriminators training\n",
            "1.0903239250183105 backprop discriminator\n",
            "0.24550867080688477 adversarial loss\n",
            "2.1130809783935547 cycle loss\n",
            "9.286100625991821 generator backprop\n",
            "Generator Loss: 3.924994945526123 Discriminator Loss: 0.4815870523452759\n",
            "0.11469268798828125 data loading time\n",
            "0.11238265037536621 data loading time\n"
          ]
        },
        {
          "output_type": "stream",
          "name": "stderr",
          "text": [
            "\r 33%|███▎      | 674/2035 [3:21:09<6:43:33, 17.79s/it]"
          ]
        },
        {
          "output_type": "stream",
          "name": "stdout",
          "text": [
            "0.12521910667419434 data loading time\n",
            "2.555083990097046 Discriminators training\n",
            "1.0844576358795166 backprop discriminator\n",
            "0.259411096572876 adversarial loss\n",
            "2.0836904048919678 cycle loss\n",
            "9.234167337417603 generator backprop\n",
            "Generator Loss: 2.3409695625305176 Discriminator Loss: 0.46624755859375\n",
            "0.11024904251098633 data loading time\n",
            "0.11065101623535156 data loading time\n"
          ]
        },
        {
          "output_type": "stream",
          "name": "stderr",
          "text": [
            "\r 33%|███▎      | 675/2035 [3:21:27<6:42:56, 17.78s/it]"
          ]
        },
        {
          "output_type": "stream",
          "name": "stdout",
          "text": [
            "0.14046072959899902 data loading time\n",
            "2.5644774436950684 Discriminators training\n",
            "1.0951049327850342 backprop discriminator\n",
            "0.2431938648223877 adversarial loss\n",
            "2.088815927505493 cycle loss\n",
            "9.377526998519897 generator backprop\n",
            "Generator Loss: 2.7646708488464355 Discriminator Loss: 0.44928085803985596\n",
            "0.1152951717376709 data loading time\n",
            "0.11102080345153809 data loading time\n"
          ]
        },
        {
          "output_type": "stream",
          "name": "stderr",
          "text": [
            "\r 33%|███▎      | 676/2035 [3:21:45<6:43:22, 17.81s/it]"
          ]
        },
        {
          "output_type": "stream",
          "name": "stdout",
          "text": [
            "0.1304161548614502 data loading time\n",
            "2.562443733215332 Discriminators training\n",
            "1.1112847328186035 backprop discriminator\n",
            "0.2483987808227539 adversarial loss\n",
            "2.1032931804656982 cycle loss\n",
            "9.362492799758911 generator backprop\n",
            "Generator Loss: 3.3034067153930664 Discriminator Loss: 0.5322027206420898\n",
            "0.11285233497619629 data loading time\n",
            "0.11206769943237305 data loading time\n"
          ]
        },
        {
          "output_type": "stream",
          "name": "stderr",
          "text": [
            "\r 33%|███▎      | 677/2035 [3:22:02<6:43:48, 17.84s/it]"
          ]
        },
        {
          "output_type": "stream",
          "name": "stdout",
          "text": [
            "0.13264226913452148 data loading time\n",
            "2.577763557434082 Discriminators training\n",
            "1.0931005477905273 backprop discriminator\n",
            "0.24414539337158203 adversarial loss\n",
            "2.113856315612793 cycle loss\n",
            "9.296226739883423 generator backprop\n",
            "Generator Loss: 2.636436700820923 Discriminator Loss: 0.6096941828727722\n",
            "0.11186909675598145 data loading time\n",
            "0.11271858215332031 data loading time\n"
          ]
        },
        {
          "output_type": "stream",
          "name": "stderr",
          "text": [
            "\r 33%|███▎      | 678/2035 [3:22:20<6:43:29, 17.84s/it]"
          ]
        },
        {
          "output_type": "stream",
          "name": "stdout",
          "text": [
            "0.12604212760925293 data loading time\n",
            "2.57206654548645 Discriminators training\n",
            "1.0879857540130615 backprop discriminator\n",
            "0.2503948211669922 adversarial loss\n",
            "2.0802090167999268 cycle loss\n",
            "9.267767429351807 generator backprop\n",
            "Generator Loss: 2.9943747520446777 Discriminator Loss: 0.4790007174015045\n",
            "0.11026501655578613 data loading time\n",
            "0.11205124855041504 data loading time\n"
          ]
        },
        {
          "output_type": "stream",
          "name": "stderr",
          "text": [
            "\r 33%|███▎      | 679/2035 [3:22:38<6:42:33, 17.81s/it]"
          ]
        },
        {
          "output_type": "stream",
          "name": "stdout",
          "text": [
            "0.14092040061950684 data loading time\n",
            "2.554485559463501 Discriminators training\n",
            "1.0888299942016602 backprop discriminator\n",
            "0.2511179447174072 adversarial loss\n",
            "2.100759983062744 cycle loss\n",
            "9.29258394241333 generator backprop\n",
            "Generator Loss: 2.995225429534912 Discriminator Loss: 0.5389318466186523\n",
            "0.11127305030822754 data loading time\n",
            "0.11089539527893066 data loading time\n"
          ]
        },
        {
          "output_type": "stream",
          "name": "stderr",
          "text": [
            "\r 33%|███▎      | 680/2035 [3:22:56<6:42:14, 17.81s/it]"
          ]
        },
        {
          "output_type": "stream",
          "name": "stdout",
          "text": [
            "0.13205933570861816 data loading time\n",
            "2.5703701972961426 Discriminators training\n",
            "1.090735912322998 backprop discriminator\n",
            "0.24924206733703613 adversarial loss\n",
            "2.0947835445404053 cycle loss\n",
            "9.292999505996704 generator backprop\n",
            "Generator Loss: 2.46100115776062 Discriminator Loss: 0.4601057171821594\n",
            "0.11117911338806152 data loading time\n",
            "0.11274123191833496 data loading time\n"
          ]
        },
        {
          "output_type": "stream",
          "name": "stderr",
          "text": [
            "\r 33%|███▎      | 681/2035 [3:23:14<6:42:02, 17.82s/it]"
          ]
        },
        {
          "output_type": "stream",
          "name": "stdout",
          "text": [
            "0.13159489631652832 data loading time\n",
            "2.5665669441223145 Discriminators training\n",
            "1.1007280349731445 backprop discriminator\n",
            "0.24619698524475098 adversarial loss\n",
            "2.093935966491699 cycle loss\n",
            "9.332509756088257 generator backprop\n",
            "Generator Loss: 2.5875988006591797 Discriminator Loss: 0.45352548360824585\n",
            "0.11129927635192871 data loading time\n",
            "0.11131453514099121 data loading time\n"
          ]
        },
        {
          "output_type": "stream",
          "name": "stderr",
          "text": [
            "\r 34%|███▎      | 682/2035 [3:23:32<6:42:01, 17.83s/it]"
          ]
        },
        {
          "output_type": "stream",
          "name": "stdout",
          "text": [
            "0.12716197967529297 data loading time\n",
            "2.5653746128082275 Discriminators training\n",
            "1.0991947650909424 backprop discriminator\n",
            "0.24446368217468262 adversarial loss\n",
            "2.0948827266693115 cycle loss\n",
            "9.294233560562134 generator backprop\n",
            "Generator Loss: 2.6550893783569336 Discriminator Loss: 0.4961152672767639\n",
            "0.11083769798278809 data loading time\n",
            "0.11199355125427246 data loading time\n"
          ]
        },
        {
          "output_type": "stream",
          "name": "stderr",
          "text": [
            "\r 34%|███▎      | 683/2035 [3:23:49<6:41:35, 17.82s/it]"
          ]
        },
        {
          "output_type": "stream",
          "name": "stdout",
          "text": [
            "0.12521100044250488 data loading time\n",
            "2.5666439533233643 Discriminators training\n",
            "1.0985732078552246 backprop discriminator\n",
            "0.24360346794128418 adversarial loss\n",
            "2.0939297676086426 cycle loss\n",
            "9.293235778808594 generator backprop\n",
            "Generator Loss: 3.6813039779663086 Discriminator Loss: 0.4656299948692322\n",
            "0.11236977577209473 data loading time\n",
            "0.11181879043579102 data loading time\n"
          ]
        },
        {
          "output_type": "stream",
          "name": "stderr",
          "text": [
            "\r 34%|███▎      | 684/2035 [3:24:07<6:41:08, 17.82s/it]"
          ]
        },
        {
          "output_type": "stream",
          "name": "stdout",
          "text": [
            "0.12908077239990234 data loading time\n",
            "2.5714449882507324 Discriminators training\n",
            "1.089000940322876 backprop discriminator\n",
            "0.24518990516662598 adversarial loss\n",
            "2.1117119789123535 cycle loss\n",
            "9.350883960723877 generator backprop\n",
            "Generator Loss: 2.29013729095459 Discriminator Loss: 0.5588011741638184\n",
            "0.1105351448059082 data loading time\n",
            "0.1166083812713623 data loading time\n"
          ]
        },
        {
          "output_type": "stream",
          "name": "stderr",
          "text": [
            "\r 34%|███▎      | 685/2035 [3:24:25<6:41:30, 17.84s/it]"
          ]
        },
        {
          "output_type": "stream",
          "name": "stdout",
          "text": [
            "0.12955117225646973 data loading time\n",
            "2.5796966552734375 Discriminators training\n",
            "1.095968246459961 backprop discriminator\n",
            "0.24925875663757324 adversarial loss\n",
            "2.09560227394104 cycle loss\n",
            "9.358082056045532 generator backprop\n",
            "Generator Loss: 2.353091239929199 Discriminator Loss: 0.514420747756958\n",
            "0.11185431480407715 data loading time\n",
            "0.11191272735595703 data loading time\n"
          ]
        },
        {
          "output_type": "stream",
          "name": "stderr",
          "text": [
            "\r 34%|███▎      | 686/2035 [3:24:43<6:41:35, 17.86s/it]"
          ]
        },
        {
          "output_type": "stream",
          "name": "stdout",
          "text": [
            "0.1215062141418457 data loading time\n",
            "2.5645477771759033 Discriminators training\n",
            "1.0961487293243408 backprop discriminator\n",
            "0.24413204193115234 adversarial loss\n",
            "2.1072161197662354 cycle loss\n",
            "9.388845205307007 generator backprop\n",
            "Generator Loss: 2.4922943115234375 Discriminator Loss: 0.4622693657875061\n",
            "0.11158967018127441 data loading time\n",
            "0.11854863166809082 data loading time\n"
          ]
        },
        {
          "output_type": "stream",
          "name": "stderr",
          "text": [
            "\r 34%|███▍      | 687/2035 [3:25:01<6:41:47, 17.88s/it]"
          ]
        },
        {
          "output_type": "stream",
          "name": "stdout",
          "text": [
            "0.12848973274230957 data loading time\n",
            "2.571117401123047 Discriminators training\n",
            "1.0926177501678467 backprop discriminator\n",
            "0.24644994735717773 adversarial loss\n",
            "2.0893900394439697 cycle loss\n",
            "9.256213665008545 generator backprop\n",
            "Generator Loss: 2.80576753616333 Discriminator Loss: 0.42931634187698364\n",
            "0.11056280136108398 data loading time\n",
            "0.11101174354553223 data loading time\n"
          ]
        },
        {
          "output_type": "stream",
          "name": "stderr",
          "text": [
            "\r 34%|███▍      | 688/2035 [3:25:19<6:40:54, 17.86s/it]"
          ]
        },
        {
          "output_type": "stream",
          "name": "stdout",
          "text": [
            "0.13272666931152344 data loading time\n",
            "2.577157735824585 Discriminators training\n",
            "1.0942621231079102 backprop discriminator\n",
            "0.24370098114013672 adversarial loss\n",
            "2.1010613441467285 cycle loss\n",
            "9.284441709518433 generator backprop\n",
            "Generator Loss: 3.151113510131836 Discriminator Loss: 0.5355793237686157\n",
            "0.11148381233215332 data loading time\n",
            "0.11275672912597656 data loading time\n"
          ]
        },
        {
          "output_type": "stream",
          "name": "stderr",
          "text": [
            "\r 34%|███▍      | 689/2035 [3:25:36<6:40:19, 17.85s/it]"
          ]
        },
        {
          "output_type": "stream",
          "name": "stdout",
          "text": [
            "0.12431931495666504 data loading time\n",
            "2.5672426223754883 Discriminators training\n",
            "1.0903356075286865 backprop discriminator\n",
            "0.24789977073669434 adversarial loss\n",
            "2.0858731269836426 cycle loss\n",
            "9.29267930984497 generator backprop\n",
            "Generator Loss: 3.06758451461792 Discriminator Loss: 0.5198585987091064\n",
            "0.11150741577148438 data loading time\n",
            "0.11312222480773926 data loading time\n"
          ]
        },
        {
          "output_type": "stream",
          "name": "stderr",
          "text": [
            "\r 34%|███▍      | 690/2035 [3:25:54<6:39:45, 17.83s/it]"
          ]
        },
        {
          "output_type": "stream",
          "name": "stdout",
          "text": [
            "0.19720959663391113 data loading time\n",
            "2.594694137573242 Discriminators training\n",
            "1.1183505058288574 backprop discriminator\n",
            "0.24703598022460938 adversarial loss\n",
            "2.099754810333252 cycle loss\n",
            "9.295552968978882 generator backprop\n",
            "Generator Loss: 3.9735937118530273 Discriminator Loss: 0.41375547647476196\n",
            "0.11167502403259277 data loading time\n",
            "0.11146092414855957 data loading time\n"
          ]
        },
        {
          "output_type": "stream",
          "name": "stderr",
          "text": [
            "\r 34%|███▍      | 691/2035 [3:26:12<6:40:06, 17.86s/it]"
          ]
        },
        {
          "output_type": "stream",
          "name": "stdout",
          "text": [
            "0.12878942489624023 data loading time\n",
            "2.5700089931488037 Discriminators training\n",
            "1.0920627117156982 backprop discriminator\n",
            "0.24048066139221191 adversarial loss\n",
            "2.10543155670166 cycle loss\n",
            "9.28549313545227 generator backprop\n",
            "Generator Loss: 2.6283040046691895 Discriminator Loss: 0.47818759083747864\n",
            "0.11352777481079102 data loading time\n",
            "0.11613917350769043 data loading time\n"
          ]
        },
        {
          "output_type": "stream",
          "name": "stderr",
          "text": [
            "\r 34%|███▍      | 692/2035 [3:26:30<6:39:22, 17.84s/it]"
          ]
        },
        {
          "output_type": "stream",
          "name": "stdout",
          "text": [
            "0.13249731063842773 data loading time\n",
            "2.5526139736175537 Discriminators training\n",
            "1.0801565647125244 backprop discriminator\n",
            "0.25025105476379395 adversarial loss\n",
            "2.078829765319824 cycle loss\n",
            "9.26703953742981 generator backprop\n",
            "Generator Loss: 2.397113800048828 Discriminator Loss: 0.4929623007774353\n",
            "0.1106264591217041 data loading time\n",
            "0.11187887191772461 data loading time\n"
          ]
        },
        {
          "output_type": "stream",
          "name": "stderr",
          "text": [
            "\r 34%|███▍      | 693/2035 [3:26:48<6:38:24, 17.81s/it]"
          ]
        },
        {
          "output_type": "stream",
          "name": "stdout",
          "text": [
            "0.13208413124084473 data loading time\n",
            "2.577212333679199 Discriminators training\n",
            "1.1097068786621094 backprop discriminator\n",
            "0.2443375587463379 adversarial loss\n",
            "2.0946452617645264 cycle loss\n",
            "9.349458456039429 generator backprop\n",
            "Generator Loss: 2.5869336128234863 Discriminator Loss: 0.48111647367477417\n",
            "0.11121559143066406 data loading time\n",
            "0.11655235290527344 data loading time\n"
          ]
        },
        {
          "output_type": "stream",
          "name": "stderr",
          "text": [
            "\r 34%|███▍      | 694/2035 [3:27:06<6:38:45, 17.84s/it]"
          ]
        },
        {
          "output_type": "stream",
          "name": "stdout",
          "text": [
            "0.12878870964050293 data loading time\n",
            "2.5564584732055664 Discriminators training\n",
            "1.1009016036987305 backprop discriminator\n",
            "0.2526404857635498 adversarial loss\n",
            "2.0998921394348145 cycle loss\n",
            "9.33170771598816 generator backprop\n",
            "Generator Loss: 2.4307608604431152 Discriminator Loss: 0.4686816930770874\n",
            "0.11045026779174805 data loading time\n",
            "0.11199235916137695 data loading time\n"
          ]
        },
        {
          "output_type": "stream",
          "name": "stderr",
          "text": [
            "\r 34%|███▍      | 695/2035 [3:27:24<6:38:34, 17.85s/it]"
          ]
        },
        {
          "output_type": "stream",
          "name": "stdout",
          "text": [
            "0.19869184494018555 data loading time\n",
            "2.570181131362915 Discriminators training\n",
            "1.0973906517028809 backprop discriminator\n",
            "0.2510077953338623 adversarial loss\n",
            "2.1016793251037598 cycle loss\n",
            "9.40260624885559 generator backprop\n",
            "Generator Loss: 2.926750421524048 Discriminator Loss: 0.4075484871864319\n",
            "0.11098670959472656 data loading time\n",
            "0.11160492897033691 data loading time\n"
          ]
        },
        {
          "output_type": "stream",
          "name": "stderr",
          "text": [
            "\r 34%|███▍      | 696/2035 [3:27:42<6:39:25, 17.90s/it]"
          ]
        },
        {
          "output_type": "stream",
          "name": "stdout",
          "text": [
            "0.13041210174560547 data loading time\n",
            "2.5740694999694824 Discriminators training\n",
            "1.0908899307250977 backprop discriminator\n",
            "0.24179697036743164 adversarial loss\n",
            "2.1190731525421143 cycle loss\n",
            "9.416759490966797 generator backprop\n",
            "Generator Loss: 2.454348087310791 Discriminator Loss: 0.5080844163894653\n",
            "0.1117246150970459 data loading time\n",
            "0.11507153511047363 data loading time\n"
          ]
        },
        {
          "output_type": "stream",
          "name": "stderr",
          "text": [
            "\r 34%|███▍      | 697/2035 [3:28:00<6:39:37, 17.92s/it]"
          ]
        },
        {
          "output_type": "stream",
          "name": "stdout",
          "text": [
            "0.12593626976013184 data loading time\n",
            "2.576718330383301 Discriminators training\n",
            "1.104321002960205 backprop discriminator\n",
            "0.2510716915130615 adversarial loss\n",
            "2.114095687866211 cycle loss\n",
            "9.413251161575317 generator backprop\n",
            "Generator Loss: 3.4086244106292725 Discriminator Loss: 0.4046775698661804\n",
            "0.11086606979370117 data loading time\n",
            "0.11176252365112305 data loading time\n"
          ]
        },
        {
          "output_type": "stream",
          "name": "stderr",
          "text": [
            "\r 34%|███▍      | 698/2035 [3:28:17<6:39:40, 17.94s/it]"
          ]
        },
        {
          "output_type": "stream",
          "name": "stdout",
          "text": [
            "0.12602567672729492 data loading time\n",
            "2.590468406677246 Discriminators training\n",
            "1.0917158126831055 backprop discriminator\n",
            "0.2476637363433838 adversarial loss\n",
            "2.1090238094329834 cycle loss\n",
            "9.296537637710571 generator backprop\n",
            "Generator Loss: 2.3646507263183594 Discriminator Loss: 0.5329029560089111\n",
            "0.11443185806274414 data loading time\n",
            "0.11176824569702148 data loading time\n"
          ]
        },
        {
          "output_type": "stream",
          "name": "stderr",
          "text": [
            "\r 34%|███▍      | 699/2035 [3:28:35<6:39:02, 17.92s/it]"
          ]
        },
        {
          "output_type": "stream",
          "name": "stdout",
          "text": [
            "0.13169217109680176 data loading time\n",
            "2.5556604862213135 Discriminators training\n",
            "1.1100313663482666 backprop discriminator\n",
            "0.24223732948303223 adversarial loss\n",
            "2.0949528217315674 cycle loss\n",
            "9.328367471694946 generator backprop\n",
            "Generator Loss: 2.2353110313415527 Discriminator Loss: 0.556747555732727\n",
            "0.1121973991394043 data loading time\n",
            "0.11111092567443848 data loading time\n"
          ]
        },
        {
          "output_type": "stream",
          "name": "stderr",
          "text": [
            "\r 34%|███▍      | 700/2035 [3:28:53<6:38:19, 17.90s/it]"
          ]
        },
        {
          "output_type": "stream",
          "name": "stdout",
          "text": [
            "0.13870930671691895 data loading time\n",
            "2.5608913898468018 Discriminators training\n",
            "1.0978338718414307 backprop discriminator\n",
            "0.2432234287261963 adversarial loss\n",
            "2.1064674854278564 cycle loss\n",
            "9.370766878128052 generator backprop\n",
            "Generator Loss: 2.282073974609375 Discriminator Loss: 0.4321589469909668\n",
            "0.11209726333618164 data loading time\n",
            "0.11208009719848633 data loading time\n"
          ]
        },
        {
          "output_type": "stream",
          "name": "stderr",
          "text": [
            "\r 34%|███▍      | 701/2035 [3:29:11<6:38:12, 17.91s/it]"
          ]
        },
        {
          "output_type": "stream",
          "name": "stdout",
          "text": [
            "0.12343764305114746 data loading time\n",
            "2.6162781715393066 Discriminators training\n",
            "1.1039583683013916 backprop discriminator\n",
            "0.24591994285583496 adversarial loss\n",
            "2.104044198989868 cycle loss\n",
            "9.448769807815552 generator backprop\n",
            "Generator Loss: 2.3578150272369385 Discriminator Loss: 0.43954598903656006\n",
            "0.11596846580505371 data loading time\n",
            "0.11333060264587402 data loading time\n"
          ]
        },
        {
          "output_type": "stream",
          "name": "stderr",
          "text": [
            "\r 34%|███▍      | 702/2035 [3:29:29<6:38:47, 17.95s/it]"
          ]
        },
        {
          "output_type": "stream",
          "name": "stdout",
          "text": [
            "0.12439322471618652 data loading time\n",
            "2.5906875133514404 Discriminators training\n",
            "1.1022515296936035 backprop discriminator\n",
            "0.24754738807678223 adversarial loss\n",
            "2.0996203422546387 cycle loss\n",
            "9.517691612243652 generator backprop\n",
            "Generator Loss: 2.3201918601989746 Discriminator Loss: 0.40652790665626526\n",
            "0.11286473274230957 data loading time\n",
            "0.11369490623474121 data loading time\n"
          ]
        },
        {
          "output_type": "stream",
          "name": "stderr",
          "text": [
            "\r 35%|███▍      | 703/2035 [3:29:47<6:39:25, 17.99s/it]"
          ]
        },
        {
          "output_type": "stream",
          "name": "stdout",
          "text": [
            "0.12460494041442871 data loading time\n",
            "2.588557004928589 Discriminators training\n",
            "1.1001503467559814 backprop discriminator\n",
            "0.24936723709106445 adversarial loss\n",
            "2.115631103515625 cycle loss\n",
            "9.456618547439575 generator backprop\n",
            "Generator Loss: 2.2303099632263184 Discriminator Loss: 0.46209582686424255\n",
            "0.11203360557556152 data loading time\n",
            "0.11181139945983887 data loading time\n"
          ]
        },
        {
          "output_type": "stream",
          "name": "stderr",
          "text": [
            "\r 35%|███▍      | 704/2035 [3:30:05<6:39:26, 18.01s/it]"
          ]
        },
        {
          "output_type": "stream",
          "name": "stdout",
          "text": [
            "0.13192009925842285 data loading time\n",
            "2.585465669631958 Discriminators training\n",
            "1.1076548099517822 backprop discriminator\n",
            "0.24355578422546387 adversarial loss\n",
            "2.1188971996307373 cycle loss\n",
            "9.458087682723999 generator backprop\n",
            "Generator Loss: 3.034626007080078 Discriminator Loss: 0.4877215027809143\n",
            "0.11271309852600098 data loading time\n",
            "0.11184525489807129 data loading time\n"
          ]
        },
        {
          "output_type": "stream",
          "name": "stderr",
          "text": [
            "\r 35%|███▍      | 705/2035 [3:30:23<6:39:27, 18.02s/it]"
          ]
        },
        {
          "output_type": "stream",
          "name": "stdout",
          "text": [
            "0.1282970905303955 data loading time\n",
            "2.5939314365386963 Discriminators training\n",
            "1.0987398624420166 backprop discriminator\n",
            "0.24317431449890137 adversarial loss\n",
            "2.132037878036499 cycle loss\n",
            "9.483766794204712 generator backprop\n",
            "Generator Loss: 2.4629478454589844 Discriminator Loss: 0.45616182684898376\n",
            "0.11627578735351562 data loading time\n",
            "0.1128687858581543 data loading time\n"
          ]
        },
        {
          "output_type": "stream",
          "name": "stderr",
          "text": [
            "\r 35%|███▍      | 706/2035 [3:30:41<6:39:35, 18.04s/it]"
          ]
        },
        {
          "output_type": "stream",
          "name": "stdout",
          "text": [
            "0.13432717323303223 data loading time\n",
            "2.5740153789520264 Discriminators training\n",
            "1.1274282932281494 backprop discriminator\n",
            "0.24322772026062012 adversarial loss\n",
            "2.117899179458618 cycle loss\n",
            "9.46682357788086 generator backprop\n",
            "Generator Loss: 3.037708044052124 Discriminator Loss: 0.4218730330467224\n",
            "0.11127948760986328 data loading time\n",
            "0.11275911331176758 data loading time\n"
          ]
        },
        {
          "output_type": "stream",
          "name": "stderr",
          "text": [
            "\r 35%|███▍      | 707/2035 [3:31:00<6:39:26, 18.05s/it]"
          ]
        },
        {
          "output_type": "stream",
          "name": "stdout",
          "text": [
            "0.13418197631835938 data loading time\n",
            "2.5746946334838867 Discriminators training\n",
            "1.1010842323303223 backprop discriminator\n",
            "0.26425743103027344 adversarial loss\n",
            "2.0998661518096924 cycle loss\n",
            "9.46425175666809 generator backprop\n",
            "Generator Loss: 2.810800075531006 Discriminator Loss: 0.4867791533470154\n",
            "0.11149787902832031 data loading time\n",
            "0.11114144325256348 data loading time\n"
          ]
        },
        {
          "output_type": "stream",
          "name": "stderr",
          "text": [
            "\r 35%|███▍      | 708/2035 [3:31:18<6:39:02, 18.04s/it]"
          ]
        },
        {
          "output_type": "stream",
          "name": "stdout",
          "text": [
            "0.12604284286499023 data loading time\n",
            "2.5955610275268555 Discriminators training\n",
            "1.095505714416504 backprop discriminator\n",
            "0.24874281883239746 adversarial loss\n",
            "2.1097662448883057 cycle loss\n",
            "9.43998408317566 generator backprop\n",
            "Generator Loss: 3.635397434234619 Discriminator Loss: 0.36538881063461304\n",
            "0.11118602752685547 data loading time\n",
            "0.11200833320617676 data loading time\n"
          ]
        },
        {
          "output_type": "stream",
          "name": "stderr",
          "text": [
            "\r 35%|███▍      | 709/2035 [3:31:36<6:38:30, 18.03s/it]"
          ]
        },
        {
          "output_type": "stream",
          "name": "stdout",
          "text": [
            "0.13653993606567383 data loading time\n",
            "2.5862174034118652 Discriminators training\n",
            "1.0961487293243408 backprop discriminator\n",
            "0.24681448936462402 adversarial loss\n",
            "2.112741708755493 cycle loss\n",
            "9.472941160202026 generator backprop\n",
            "Generator Loss: 2.891214370727539 Discriminator Loss: 0.4096689820289612\n",
            "0.11201071739196777 data loading time\n",
            "0.11303448677062988 data loading time\n"
          ]
        },
        {
          "output_type": "stream",
          "name": "stderr",
          "text": [
            "\r 35%|███▍      | 710/2035 [3:31:54<6:38:23, 18.04s/it]"
          ]
        },
        {
          "output_type": "stream",
          "name": "stdout",
          "text": [
            "0.13193082809448242 data loading time\n",
            "2.601963996887207 Discriminators training\n",
            "1.1099374294281006 backprop discriminator\n",
            "0.2534499168395996 adversarial loss\n",
            "2.1189470291137695 cycle loss\n",
            "9.532136678695679 generator backprop\n",
            "Generator Loss: 2.599414348602295 Discriminator Loss: 0.47181427478790283\n",
            "0.11189699172973633 data loading time\n",
            "0.11423110961914062 data loading time\n"
          ]
        },
        {
          "output_type": "stream",
          "name": "stderr",
          "text": [
            "\r 35%|███▍      | 711/2035 [3:32:12<6:38:50, 18.07s/it]"
          ]
        },
        {
          "output_type": "stream",
          "name": "stdout",
          "text": [
            "0.13721036911010742 data loading time\n",
            "2.5799360275268555 Discriminators training\n",
            "1.0971672534942627 backprop discriminator\n",
            "0.2513236999511719 adversarial loss\n",
            "2.0912163257598877 cycle loss\n",
            "9.392228126525879 generator backprop\n",
            "Generator Loss: 2.540860891342163 Discriminator Loss: 0.4359475374221802\n",
            "0.11050224304199219 data loading time\n",
            "0.11362266540527344 data loading time\n"
          ]
        },
        {
          "output_type": "stream",
          "name": "stderr",
          "text": [
            "\r 35%|███▍      | 712/2035 [3:32:30<6:37:30, 18.03s/it]"
          ]
        },
        {
          "output_type": "stream",
          "name": "stdout",
          "text": [
            "0.13077139854431152 data loading time\n",
            "2.573363780975342 Discriminators training\n",
            "1.0928881168365479 backprop discriminator\n",
            "0.2501716613769531 adversarial loss\n",
            "2.1079909801483154 cycle loss\n",
            "9.402457475662231 generator backprop\n",
            "Generator Loss: 2.4110844135284424 Discriminator Loss: 0.41602569818496704\n",
            "0.11574578285217285 data loading time\n",
            "0.11168551445007324 data loading time\n"
          ]
        },
        {
          "output_type": "stream",
          "name": "stderr",
          "text": [
            "\r 35%|███▌      | 713/2035 [3:32:48<6:36:37, 18.00s/it]"
          ]
        },
        {
          "output_type": "stream",
          "name": "stdout",
          "text": [
            "0.13233423233032227 data loading time\n",
            "2.5652737617492676 Discriminators training\n",
            "1.093116044998169 backprop discriminator\n",
            "0.248582124710083 adversarial loss\n",
            "2.099456787109375 cycle loss\n",
            "9.41683316230774 generator backprop\n",
            "Generator Loss: 2.917032241821289 Discriminator Loss: 0.41011860966682434\n",
            "0.11167788505554199 data loading time\n",
            "0.11256718635559082 data loading time\n"
          ]
        },
        {
          "output_type": "stream",
          "name": "stderr",
          "text": [
            "\r 35%|███▌      | 714/2035 [3:33:06<6:36:04, 17.99s/it]"
          ]
        },
        {
          "output_type": "stream",
          "name": "stdout",
          "text": [
            "0.1414475440979004 data loading time\n",
            "2.57409930229187 Discriminators training\n",
            "1.1127724647521973 backprop discriminator\n",
            "0.2451152801513672 adversarial loss\n",
            "2.0984601974487305 cycle loss\n",
            "9.405059576034546 generator backprop\n",
            "Generator Loss: 2.5013530254364014 Discriminator Loss: 0.5060667991638184\n",
            "0.11033368110656738 data loading time\n",
            "0.11296296119689941 data loading time\n"
          ]
        },
        {
          "output_type": "stream",
          "name": "stderr",
          "text": [
            "\r 35%|███▌      | 715/2035 [3:33:24<6:35:33, 17.98s/it]"
          ]
        },
        {
          "output_type": "stream",
          "name": "stdout",
          "text": [
            "0.13535499572753906 data loading time\n",
            "2.583725690841675 Discriminators training\n",
            "1.1103932857513428 backprop discriminator\n",
            "0.24637198448181152 adversarial loss\n",
            "2.1220507621765137 cycle loss\n",
            "9.499902725219727 generator backprop\n",
            "Generator Loss: 2.768544912338257 Discriminator Loss: 0.3682734966278076\n",
            "0.11104249954223633 data loading time\n",
            "0.11318016052246094 data loading time\n"
          ]
        },
        {
          "output_type": "stream",
          "name": "stderr",
          "text": [
            "\r 35%|███▌      | 716/2035 [3:33:42<6:35:55, 18.01s/it]"
          ]
        },
        {
          "output_type": "stream",
          "name": "stdout",
          "text": [
            "0.1326274871826172 data loading time\n",
            "2.5948421955108643 Discriminators training\n",
            "1.1173956394195557 backprop discriminator\n",
            "0.24853873252868652 adversarial loss\n",
            "2.122699737548828 cycle loss\n",
            "9.495046138763428 generator backprop\n",
            "Generator Loss: 3.2725818157196045 Discriminator Loss: 0.44026297330856323\n",
            "0.11194229125976562 data loading time\n",
            "0.11615443229675293 data loading time\n"
          ]
        },
        {
          "output_type": "stream",
          "name": "stderr",
          "text": [
            "\r 35%|███▌      | 717/2035 [3:34:00<6:36:17, 18.04s/it]"
          ]
        },
        {
          "output_type": "stream",
          "name": "stdout",
          "text": [
            "0.12939691543579102 data loading time\n",
            "2.583810567855835 Discriminators training\n",
            "1.1065163612365723 backprop discriminator\n",
            "0.2520260810852051 adversarial loss\n",
            "2.147815465927124 cycle loss\n",
            "9.7306649684906 generator backprop\n",
            "Generator Loss: 2.661102294921875 Discriminator Loss: 0.40634357929229736\n",
            "0.11373186111450195 data loading time\n",
            "0.11315774917602539 data loading time\n"
          ]
        },
        {
          "output_type": "stream",
          "name": "stderr",
          "text": [
            "\r 35%|███▌      | 718/2035 [3:34:18<6:38:14, 18.14s/it]"
          ]
        },
        {
          "output_type": "stream",
          "name": "stdout",
          "text": [
            "0.13113760948181152 data loading time\n",
            "2.6184847354888916 Discriminators training\n",
            "1.1266443729400635 backprop discriminator\n",
            "0.24759745597839355 adversarial loss\n",
            "2.1554930210113525 cycle loss\n",
            "10.745089530944824 generator backprop\n",
            "Generator Loss: 2.631260871887207 Discriminator Loss: 0.3715560734272003\n",
            "0.11718392372131348 data loading time\n",
            "0.1118628978729248 data loading time\n"
          ]
        },
        {
          "output_type": "stream",
          "name": "stderr",
          "text": [
            "\r 35%|███▌      | 719/2035 [3:34:38<6:46:23, 18.53s/it]"
          ]
        },
        {
          "output_type": "stream",
          "name": "stdout",
          "text": [
            "0.12964510917663574 data loading time\n",
            "2.590836524963379 Discriminators training\n",
            "1.1281793117523193 backprop discriminator\n",
            "0.24842357635498047 adversarial loss\n",
            "2.1319243907928467 cycle loss\n",
            "9.580871343612671 generator backprop\n",
            "Generator Loss: 4.104496002197266 Discriminator Loss: 0.34930673241615295\n",
            "0.11157488822937012 data loading time\n",
            "0.11285233497619629 data loading time\n"
          ]
        },
        {
          "output_type": "stream",
          "name": "stderr",
          "text": [
            "\r 35%|███▌      | 720/2035 [3:34:56<6:44:02, 18.44s/it]"
          ]
        },
        {
          "output_type": "stream",
          "name": "stdout",
          "text": [
            "0.13166570663452148 data loading time\n",
            "2.5919573307037354 Discriminators training\n",
            "1.1168420314788818 backprop discriminator\n",
            "0.25585269927978516 adversarial loss\n",
            "2.108949899673462 cycle loss\n",
            "9.497817993164062 generator backprop\n",
            "Generator Loss: 3.4743428230285645 Discriminator Loss: 0.4616697132587433\n",
            "0.11245560646057129 data loading time\n",
            "0.11345243453979492 data loading time\n"
          ]
        },
        {
          "output_type": "stream",
          "name": "stderr",
          "text": [
            "\r 35%|███▌      | 721/2035 [3:35:14<6:41:44, 18.34s/it]"
          ]
        },
        {
          "output_type": "stream",
          "name": "stdout",
          "text": [
            "0.12547063827514648 data loading time\n",
            "2.5899078845977783 Discriminators training\n",
            "1.1133043766021729 backprop discriminator\n",
            "0.26074862480163574 adversarial loss\n",
            "2.112935781478882 cycle loss\n",
            "9.580922842025757 generator backprop\n",
            "Generator Loss: 3.3194117546081543 Discriminator Loss: 0.4963812828063965\n",
            "0.11282086372375488 data loading time\n",
            "0.1129605770111084 data loading time\n"
          ]
        },
        {
          "output_type": "stream",
          "name": "stderr",
          "text": [
            "\r 35%|███▌      | 722/2035 [3:35:32<6:40:24, 18.30s/it]"
          ]
        },
        {
          "output_type": "stream",
          "name": "stdout",
          "text": [
            "0.126939058303833 data loading time\n",
            "2.6016016006469727 Discriminators training\n",
            "1.1329360008239746 backprop discriminator\n",
            "0.2461397647857666 adversarial loss\n",
            "2.1252362728118896 cycle loss\n",
            "9.549603939056396 generator backprop\n",
            "Generator Loss: 3.336092948913574 Discriminator Loss: 0.40876978635787964\n",
            "0.11308073997497559 data loading time\n",
            "0.11223769187927246 data loading time\n"
          ]
        },
        {
          "output_type": "stream",
          "name": "stderr",
          "text": [
            "\r 36%|███▌      | 723/2035 [3:35:50<6:39:23, 18.26s/it]"
          ]
        },
        {
          "output_type": "stream",
          "name": "stdout",
          "text": [
            "0.13687372207641602 data loading time\n",
            "2.6137783527374268 Discriminators training\n",
            "1.1149146556854248 backprop discriminator\n",
            "0.2559816837310791 adversarial loss\n",
            "2.135009765625 cycle loss\n",
            "9.621535062789917 generator backprop\n",
            "Generator Loss: 2.9517879486083984 Discriminator Loss: 0.3394932448863983\n",
            "0.1111452579498291 data loading time\n",
            "0.11324834823608398 data loading time\n"
          ]
        },
        {
          "output_type": "stream",
          "name": "stderr",
          "text": [
            "\r 36%|███▌      | 724/2035 [3:36:09<6:39:07, 18.27s/it]"
          ]
        },
        {
          "output_type": "stream",
          "name": "stdout",
          "text": [
            "0.13343262672424316 data loading time\n",
            "2.59769606590271 Discriminators training\n",
            "1.125596046447754 backprop discriminator\n",
            "0.24731731414794922 adversarial loss\n",
            "2.111253499984741 cycle loss\n",
            "9.520774126052856 generator backprop\n",
            "Generator Loss: 2.8966073989868164 Discriminator Loss: 0.44315043091773987\n",
            "0.11127901077270508 data loading time\n",
            "0.11306095123291016 data loading time\n"
          ]
        },
        {
          "output_type": "stream",
          "name": "stderr",
          "text": [
            "\r 36%|███▌      | 725/2035 [3:36:27<6:38:00, 18.23s/it]"
          ]
        },
        {
          "output_type": "stream",
          "name": "stdout",
          "text": [
            "0.13359951972961426 data loading time\n",
            "2.6098873615264893 Discriminators training\n",
            "1.1222519874572754 backprop discriminator\n",
            "0.24980759620666504 adversarial loss\n",
            "2.1089015007019043 cycle loss\n",
            "9.43219804763794 generator backprop\n",
            "Generator Loss: 3.5704827308654785 Discriminator Loss: 0.28468286991119385\n",
            "0.11467695236206055 data loading time\n",
            "0.11809396743774414 data loading time\n"
          ]
        },
        {
          "output_type": "stream",
          "name": "stderr",
          "text": [
            "\r 36%|███▌      | 726/2035 [3:36:45<6:36:36, 18.18s/it]"
          ]
        },
        {
          "output_type": "stream",
          "name": "stdout",
          "text": [
            "0.11896657943725586 data loading time\n",
            "2.583165168762207 Discriminators training\n",
            "1.1229948997497559 backprop discriminator\n",
            "0.25110936164855957 adversarial loss\n",
            "2.1229212284088135 cycle loss\n",
            "9.514745235443115 generator backprop\n",
            "Generator Loss: 3.1421523094177246 Discriminator Loss: 0.37522631883621216\n",
            "0.11621642112731934 data loading time\n",
            "0.11439323425292969 data loading time\n"
          ]
        },
        {
          "output_type": "stream",
          "name": "stderr",
          "text": [
            "\r 36%|███▌      | 727/2035 [3:37:03<6:36:08, 18.17s/it]"
          ]
        },
        {
          "output_type": "stream",
          "name": "stdout",
          "text": [
            "0.1318659782409668 data loading time\n",
            "2.6012823581695557 Discriminators training\n",
            "1.1134366989135742 backprop discriminator\n",
            "0.25936102867126465 adversarial loss\n",
            "2.1375019550323486 cycle loss\n",
            "9.61838150024414 generator backprop\n",
            "Generator Loss: 2.849550485610962 Discriminator Loss: 0.3578265309333801\n",
            "0.11417293548583984 data loading time\n",
            "0.11890006065368652 data loading time\n"
          ]
        },
        {
          "output_type": "stream",
          "name": "stderr",
          "text": [
            "\r 36%|███▌      | 728/2035 [3:37:21<6:36:47, 18.22s/it]"
          ]
        },
        {
          "output_type": "stream",
          "name": "stdout",
          "text": [
            "0.1265730857849121 data loading time\n",
            "2.6189568042755127 Discriminators training\n",
            "1.1277573108673096 backprop discriminator\n",
            "0.2515716552734375 adversarial loss\n",
            "2.1357946395874023 cycle loss\n",
            "9.675904750823975 generator backprop\n",
            "Generator Loss: 2.8111329078674316 Discriminator Loss: 0.5421701669692993\n",
            "0.11268997192382812 data loading time\n",
            "0.11388278007507324 data loading time\n"
          ]
        },
        {
          "output_type": "stream",
          "name": "stderr",
          "text": [
            "\r 36%|███▌      | 729/2035 [3:37:40<6:37:43, 18.27s/it]"
          ]
        },
        {
          "output_type": "stream",
          "name": "stdout",
          "text": [
            "0.146148681640625 data loading time\n",
            "2.6285927295684814 Discriminators training\n",
            "1.1253252029418945 backprop discriminator\n",
            "0.24845170974731445 adversarial loss\n",
            "2.1360127925872803 cycle loss\n",
            "9.581398010253906 generator backprop\n",
            "Generator Loss: 3.572779655456543 Discriminator Loss: 0.23053357005119324\n",
            "0.11361575126647949 data loading time\n",
            "0.11378288269042969 data loading time\n"
          ]
        },
        {
          "output_type": "stream",
          "name": "stderr",
          "text": [
            "\r 36%|███▌      | 730/2035 [3:37:58<6:37:33, 18.28s/it]"
          ]
        },
        {
          "output_type": "stream",
          "name": "stdout",
          "text": [
            "0.12698888778686523 data loading time\n",
            "2.613612413406372 Discriminators training\n",
            "1.1135528087615967 backprop discriminator\n",
            "0.24887847900390625 adversarial loss\n",
            "2.129124641418457 cycle loss\n",
            "9.473816871643066 generator backprop\n",
            "Generator Loss: 2.6681127548217773 Discriminator Loss: 0.41063106060028076\n",
            "0.11159253120422363 data loading time\n",
            "0.11291933059692383 data loading time\n"
          ]
        },
        {
          "output_type": "stream",
          "name": "stderr",
          "text": [
            "\r 36%|███▌      | 731/2035 [3:38:16<6:36:10, 18.23s/it]"
          ]
        },
        {
          "output_type": "stream",
          "name": "stdout",
          "text": [
            "0.1271829605102539 data loading time\n",
            "2.5689284801483154 Discriminators training\n",
            "1.1093664169311523 backprop discriminator\n",
            "0.2561652660369873 adversarial loss\n",
            "2.1077661514282227 cycle loss\n",
            "9.469674825668335 generator backprop\n",
            "Generator Loss: 3.4599814414978027 Discriminator Loss: 0.3488120436668396\n",
            "0.1119382381439209 data loading time\n",
            "0.1146538257598877 data loading time\n"
          ]
        },
        {
          "output_type": "stream",
          "name": "stderr",
          "text": [
            "\r 36%|███▌      | 732/2035 [3:38:34<6:34:47, 18.18s/it]"
          ]
        },
        {
          "output_type": "stream",
          "name": "stdout",
          "text": [
            "0.1306746006011963 data loading time\n",
            "2.587646484375 Discriminators training\n",
            "1.1028356552124023 backprop discriminator\n",
            "0.24966716766357422 adversarial loss\n",
            "2.1095869541168213 cycle loss\n",
            "9.374509811401367 generator backprop\n",
            "Generator Loss: 2.615097999572754 Discriminator Loss: 0.3546292185783386\n",
            "0.11133265495300293 data loading time\n",
            "0.11146259307861328 data loading time\n"
          ]
        },
        {
          "output_type": "stream",
          "name": "stderr",
          "text": [
            "\r 36%|███▌      | 733/2035 [3:38:52<6:33:03, 18.11s/it]"
          ]
        },
        {
          "output_type": "stream",
          "name": "stdout",
          "text": [
            "0.12309551239013672 data loading time\n",
            "2.5851409435272217 Discriminators training\n",
            "1.0953559875488281 backprop discriminator\n",
            "0.25259923934936523 adversarial loss\n",
            "2.1064095497131348 cycle loss\n",
            "9.472577810287476 generator backprop\n",
            "Generator Loss: 2.573699951171875 Discriminator Loss: 0.3740740120410919\n",
            "0.11320018768310547 data loading time\n",
            "0.11369013786315918 data loading time\n"
          ]
        },
        {
          "output_type": "stream",
          "name": "stderr",
          "text": [
            "\r 36%|███▌      | 734/2035 [3:39:10<6:32:28, 18.10s/it]"
          ]
        },
        {
          "output_type": "stream",
          "name": "stdout",
          "text": [
            "0.1311943531036377 data loading time\n",
            "2.5961616039276123 Discriminators training\n",
            "1.1072330474853516 backprop discriminator\n",
            "0.24438858032226562 adversarial loss\n",
            "2.1116151809692383 cycle loss\n",
            "9.477041244506836 generator backprop\n",
            "Generator Loss: 2.4360616207122803 Discriminator Loss: 0.3861486613750458\n",
            "0.11154937744140625 data loading time\n",
            "0.11285805702209473 data loading time\n"
          ]
        },
        {
          "output_type": "stream",
          "name": "stderr",
          "text": [
            "\r 36%|███▌      | 735/2035 [3:39:28<6:32:03, 18.10s/it]"
          ]
        },
        {
          "output_type": "stream",
          "name": "stdout",
          "text": [
            "0.12634730339050293 data loading time\n",
            "2.6008241176605225 Discriminators training\n",
            "1.1093058586120605 backprop discriminator\n",
            "0.2546885013580322 adversarial loss\n",
            "2.108065366744995 cycle loss\n",
            "9.48841142654419 generator backprop\n",
            "Generator Loss: 3.961970567703247 Discriminator Loss: 0.32928967475891113\n",
            "0.11139416694641113 data loading time\n",
            "0.11284279823303223 data loading time\n"
          ]
        },
        {
          "output_type": "stream",
          "name": "stderr",
          "text": [
            "\r 36%|███▌      | 736/2035 [3:39:46<6:31:43, 18.09s/it]"
          ]
        },
        {
          "output_type": "stream",
          "name": "stdout",
          "text": [
            "0.1250138282775879 data loading time\n",
            "2.6024067401885986 Discriminators training\n",
            "1.1166291236877441 backprop discriminator\n",
            "0.24773788452148438 adversarial loss\n",
            "2.147756576538086 cycle loss\n",
            "9.513972282409668 generator backprop\n",
            "Generator Loss: 2.2860519886016846 Discriminator Loss: 0.3697875142097473\n",
            "0.1118612289428711 data loading time\n",
            "0.11139225959777832 data loading time\n"
          ]
        },
        {
          "output_type": "stream",
          "name": "stderr",
          "text": [
            "\r 36%|███▌      | 737/2035 [3:40:05<6:31:55, 18.12s/it]"
          ]
        },
        {
          "output_type": "stream",
          "name": "stdout",
          "text": [
            "0.12187337875366211 data loading time\n",
            "2.5993385314941406 Discriminators training\n",
            "1.1085615158081055 backprop discriminator\n",
            "0.24784255027770996 adversarial loss\n",
            "2.1358792781829834 cycle loss\n",
            "9.525184392929077 generator backprop\n",
            "Generator Loss: 2.782243251800537 Discriminator Loss: 0.36676859855651855\n",
            "0.11249041557312012 data loading time\n",
            "0.11240243911743164 data loading time\n"
          ]
        },
        {
          "output_type": "stream",
          "name": "stderr",
          "text": [
            "\r 36%|███▋      | 738/2035 [3:40:23<6:31:54, 18.13s/it]"
          ]
        },
        {
          "output_type": "stream",
          "name": "stdout",
          "text": [
            "0.13547444343566895 data loading time\n",
            "2.6113028526306152 Discriminators training\n",
            "1.113447666168213 backprop discriminator\n",
            "0.2446424961090088 adversarial loss\n",
            "2.1234264373779297 cycle loss\n",
            "9.51292085647583 generator backprop\n",
            "Generator Loss: 3.1531472206115723 Discriminator Loss: 0.2890995144844055\n",
            "0.11656856536865234 data loading time\n",
            "0.11235189437866211 data loading time\n"
          ]
        },
        {
          "output_type": "stream",
          "name": "stderr",
          "text": [
            "\r 36%|███▋      | 739/2035 [3:40:41<6:31:40, 18.13s/it]"
          ]
        },
        {
          "output_type": "stream",
          "name": "stdout",
          "text": [
            "0.13112664222717285 data loading time\n",
            "2.589474678039551 Discriminators training\n",
            "1.1015839576721191 backprop discriminator\n",
            "0.24717307090759277 adversarial loss\n",
            "2.108407735824585 cycle loss\n",
            "9.440561056137085 generator backprop\n",
            "Generator Loss: 3.5045688152313232 Discriminator Loss: 0.36582809686660767\n",
            "0.1112968921661377 data loading time\n",
            "0.11180830001831055 data loading time\n"
          ]
        },
        {
          "output_type": "stream",
          "name": "stderr",
          "text": [
            "\r 36%|███▋      | 740/2035 [3:40:59<6:30:39, 18.10s/it]"
          ]
        },
        {
          "output_type": "stream",
          "name": "stdout",
          "text": [
            "0.12917256355285645 data loading time\n",
            "2.6290173530578613 Discriminators training\n",
            "1.1071481704711914 backprop discriminator\n",
            "0.2610321044921875 adversarial loss\n",
            "2.1200599670410156 cycle loss\n",
            "9.420639038085938 generator backprop\n",
            "Generator Loss: 6.043440818786621 Discriminator Loss: 0.47290387749671936\n",
            "0.11147427558898926 data loading time\n",
            "0.11199760437011719 data loading time\n"
          ]
        },
        {
          "output_type": "stream",
          "name": "stderr",
          "text": [
            "\r 36%|███▋      | 741/2035 [3:41:17<6:30:06, 18.09s/it]"
          ]
        },
        {
          "output_type": "stream",
          "name": "stdout",
          "text": [
            "0.13460373878479004 data loading time\n",
            "2.597301721572876 Discriminators training\n",
            "1.1186058521270752 backprop discriminator\n",
            "0.24889922142028809 adversarial loss\n",
            "2.1160521507263184 cycle loss\n",
            "9.51610517501831 generator backprop\n",
            "Generator Loss: 2.7426772117614746 Discriminator Loss: 0.4781196713447571\n",
            "0.11257553100585938 data loading time\n",
            "0.11602592468261719 data loading time\n"
          ]
        },
        {
          "output_type": "stream",
          "name": "stderr",
          "text": [
            "\r 36%|███▋      | 742/2035 [3:41:35<6:30:16, 18.11s/it]"
          ]
        },
        {
          "output_type": "stream",
          "name": "stdout",
          "text": [
            "0.1379988193511963 data loading time\n",
            "2.5922458171844482 Discriminators training\n",
            "1.1326546669006348 backprop discriminator\n",
            "0.251204252243042 adversarial loss\n",
            "2.1490228176116943 cycle loss\n",
            "9.522586107254028 generator backprop\n",
            "Generator Loss: 5.565188407897949 Discriminator Loss: 0.4612674415111542\n",
            "0.11343240737915039 data loading time\n",
            "0.11266565322875977 data loading time\n"
          ]
        },
        {
          "output_type": "stream",
          "name": "stderr",
          "text": [
            "\r 37%|███▋      | 743/2035 [3:41:53<6:30:37, 18.14s/it]"
          ]
        },
        {
          "output_type": "stream",
          "name": "stdout",
          "text": [
            "0.12957453727722168 data loading time\n",
            "2.613204002380371 Discriminators training\n",
            "1.1166346073150635 backprop discriminator\n",
            "0.2507500648498535 adversarial loss\n",
            "2.1251742839813232 cycle loss\n",
            "9.453219890594482 generator backprop\n",
            "Generator Loss: 3.529829502105713 Discriminator Loss: 0.49771344661712646\n",
            "0.11584877967834473 data loading time\n",
            "0.11213517189025879 data loading time\n"
          ]
        },
        {
          "output_type": "stream",
          "name": "stderr",
          "text": [
            "\r 37%|███▋      | 744/2035 [3:42:11<6:30:01, 18.13s/it]"
          ]
        },
        {
          "output_type": "stream",
          "name": "stdout",
          "text": [
            "0.1287214756011963 data loading time\n",
            "2.5836687088012695 Discriminators training\n",
            "1.1099097728729248 backprop discriminator\n",
            "0.24328899383544922 adversarial loss\n",
            "2.117398977279663 cycle loss\n",
            "9.45545482635498 generator backprop\n",
            "Generator Loss: 3.706268072128296 Discriminator Loss: 0.41477859020233154\n",
            "0.11180567741394043 data loading time\n",
            "0.1145787239074707 data loading time\n"
          ]
        },
        {
          "output_type": "stream",
          "name": "stderr",
          "text": [
            "\r 37%|███▋      | 745/2035 [3:42:29<6:29:08, 18.10s/it]"
          ]
        },
        {
          "output_type": "stream",
          "name": "stdout",
          "text": [
            "0.13214635848999023 data loading time\n",
            "2.5944511890411377 Discriminators training\n",
            "1.1044776439666748 backprop discriminator\n",
            "0.25298595428466797 adversarial loss\n",
            "2.1146674156188965 cycle loss\n",
            "9.364694833755493 generator backprop\n",
            "Generator Loss: 2.649313449859619 Discriminator Loss: 0.2861793041229248\n",
            "0.11166977882385254 data loading time\n",
            "0.11311078071594238 data loading time\n"
          ]
        },
        {
          "output_type": "stream",
          "name": "stderr",
          "text": [
            "\r 37%|███▋      | 746/2035 [3:42:47<6:27:59, 18.06s/it]"
          ]
        },
        {
          "output_type": "stream",
          "name": "stdout",
          "text": [
            "0.13476920127868652 data loading time\n",
            "2.574521780014038 Discriminators training\n",
            "1.0918891429901123 backprop discriminator\n",
            "0.24684715270996094 adversarial loss\n",
            "2.10648250579834 cycle loss\n",
            "9.447516202926636 generator backprop\n",
            "Generator Loss: 3.3881888389587402 Discriminator Loss: 0.4282462000846863\n",
            "0.11256957054138184 data loading time\n",
            "0.11215734481811523 data loading time\n"
          ]
        },
        {
          "output_type": "stream",
          "name": "stderr",
          "text": [
            "\r 37%|███▋      | 747/2035 [3:43:05<6:27:20, 18.04s/it]"
          ]
        },
        {
          "output_type": "stream",
          "name": "stdout",
          "text": [
            "0.13007855415344238 data loading time\n",
            "2.5708072185516357 Discriminators training\n",
            "1.1069824695587158 backprop discriminator\n",
            "0.2448735237121582 adversarial loss\n",
            "2.1140966415405273 cycle loss\n",
            "9.443304300308228 generator backprop\n",
            "Generator Loss: 3.6880686283111572 Discriminator Loss: 0.3714532256126404\n",
            "0.11114025115966797 data loading time\n",
            "0.11562466621398926 data loading time\n"
          ]
        },
        {
          "output_type": "stream",
          "name": "stderr",
          "text": [
            "\r 37%|███▋      | 748/2035 [3:43:23<6:26:55, 18.04s/it]"
          ]
        },
        {
          "output_type": "stream",
          "name": "stdout",
          "text": [
            "0.12830471992492676 data loading time\n",
            "2.573378324508667 Discriminators training\n",
            "1.1050758361816406 backprop discriminator\n",
            "0.2509725093841553 adversarial loss\n",
            "2.1109867095947266 cycle loss\n",
            "9.530956745147705 generator backprop\n",
            "Generator Loss: 3.2617220878601074 Discriminator Loss: 0.46727579832077026\n",
            "0.11133646965026855 data loading time\n",
            "0.11285662651062012 data loading time\n"
          ]
        },
        {
          "output_type": "stream",
          "name": "stderr",
          "text": [
            "\r 37%|███▋      | 749/2035 [3:43:42<6:27:14, 18.07s/it]"
          ]
        },
        {
          "output_type": "stream",
          "name": "stdout",
          "text": [
            "0.1338484287261963 data loading time\n",
            "2.590566396713257 Discriminators training\n",
            "1.106313705444336 backprop discriminator\n",
            "0.24866580963134766 adversarial loss\n",
            "2.1336302757263184 cycle loss\n",
            "9.49380612373352 generator backprop\n",
            "Generator Loss: 2.8027448654174805 Discriminator Loss: 0.44476309418678284\n",
            "0.11197018623352051 data loading time\n",
            "0.11256170272827148 data loading time\n"
          ]
        },
        {
          "output_type": "stream",
          "name": "stderr",
          "text": [
            "\r 37%|███▋      | 750/2035 [3:44:00<6:27:10, 18.08s/it]"
          ]
        },
        {
          "output_type": "stream",
          "name": "stdout",
          "text": [
            "0.1331770420074463 data loading time\n",
            "2.6102535724639893 Discriminators training\n",
            "1.1109423637390137 backprop discriminator\n",
            "0.24550628662109375 adversarial loss\n",
            "2.1171364784240723 cycle loss\n",
            "9.474754095077515 generator backprop\n",
            "Generator Loss: 2.803300380706787 Discriminator Loss: 0.43316730856895447\n",
            "0.11183619499206543 data loading time\n",
            "0.1123206615447998 data loading time\n"
          ]
        },
        {
          "output_type": "stream",
          "name": "stderr",
          "text": [
            "\r 37%|███▋      | 751/2035 [3:44:18<6:26:56, 18.08s/it]"
          ]
        },
        {
          "output_type": "stream",
          "name": "stdout",
          "text": [
            "0.12911701202392578 data loading time\n",
            "2.6009559631347656 Discriminators training\n",
            "1.091909408569336 backprop discriminator\n",
            "0.2466902732849121 adversarial loss\n",
            "2.10290789604187 cycle loss\n",
            "9.408100605010986 generator backprop\n",
            "Generator Loss: 2.4575440883636475 Discriminator Loss: 0.43238210678100586\n",
            "0.1111609935760498 data loading time\n",
            "0.11223840713500977 data loading time\n"
          ]
        },
        {
          "output_type": "stream",
          "name": "stderr",
          "text": [
            "\r 37%|███▋      | 752/2035 [3:44:36<6:25:56, 18.05s/it]"
          ]
        },
        {
          "output_type": "stream",
          "name": "stdout",
          "text": [
            "0.13006949424743652 data loading time\n",
            "2.584418296813965 Discriminators training\n",
            "1.1027858257293701 backprop discriminator\n",
            "0.2545630931854248 adversarial loss\n",
            "2.118217706680298 cycle loss\n",
            "9.383005142211914 generator backprop\n",
            "Generator Loss: 2.954101085662842 Discriminator Loss: 0.30999234318733215\n",
            "0.11102437973022461 data loading time\n",
            "0.11324954032897949 data loading time\n"
          ]
        },
        {
          "output_type": "stream",
          "name": "stderr",
          "text": [
            "\r 37%|███▋      | 753/2035 [3:44:54<6:25:15, 18.03s/it]"
          ]
        },
        {
          "output_type": "stream",
          "name": "stdout",
          "text": [
            "0.13230609893798828 data loading time\n",
            "2.573263168334961 Discriminators training\n",
            "1.1256358623504639 backprop discriminator\n",
            "0.24885272979736328 adversarial loss\n",
            "2.115633010864258 cycle loss\n",
            "9.413400173187256 generator backprop\n",
            "Generator Loss: 2.8682870864868164 Discriminator Loss: 0.3468010425567627\n",
            "0.11109733581542969 data loading time\n",
            "0.11159276962280273 data loading time\n"
          ]
        },
        {
          "output_type": "stream",
          "name": "stderr",
          "text": [
            "\r 37%|███▋      | 754/2035 [3:45:12<6:24:55, 18.03s/it]"
          ]
        },
        {
          "output_type": "stream",
          "name": "stdout",
          "text": [
            "0.1335608959197998 data loading time\n",
            "2.5793979167938232 Discriminators training\n",
            "1.0898377895355225 backprop discriminator\n",
            "0.24691295623779297 adversarial loss\n",
            "2.1072819232940674 cycle loss\n",
            "9.403371334075928 generator backprop\n",
            "Generator Loss: 3.1040141582489014 Discriminator Loss: 0.372405469417572\n",
            "0.11493444442749023 data loading time\n",
            "0.11136603355407715 data loading time\n"
          ]
        },
        {
          "output_type": "stream",
          "name": "stderr",
          "text": [
            "\r 37%|███▋      | 755/2035 [3:45:30<6:23:56, 18.00s/it]"
          ]
        },
        {
          "output_type": "stream",
          "name": "stdout",
          "text": [
            "0.12672877311706543 data loading time\n",
            "2.594438314437866 Discriminators training\n",
            "1.0960619449615479 backprop discriminator\n",
            "0.2536895275115967 adversarial loss\n",
            "2.1101536750793457 cycle loss\n",
            "9.380932807922363 generator backprop\n",
            "Generator Loss: 2.953796148300171 Discriminator Loss: 0.38114631175994873\n",
            "0.11165690422058105 data loading time\n",
            "0.11205363273620605 data loading time\n"
          ]
        },
        {
          "output_type": "stream",
          "name": "stderr",
          "text": [
            "\r 37%|███▋      | 756/2035 [3:45:48<6:23:25, 17.99s/it]"
          ]
        },
        {
          "output_type": "stream",
          "name": "stdout",
          "text": [
            "0.13198423385620117 data loading time\n",
            "2.576157331466675 Discriminators training\n",
            "1.1020793914794922 backprop discriminator\n",
            "0.24784183502197266 adversarial loss\n",
            "2.117588758468628 cycle loss\n",
            "9.385081052780151 generator backprop\n",
            "Generator Loss: 3.533125162124634 Discriminator Loss: 0.35678091645240784\n",
            "0.11049938201904297 data loading time\n",
            "0.11179137229919434 data loading time\n"
          ]
        },
        {
          "output_type": "stream",
          "name": "stderr",
          "text": [
            "\r 37%|███▋      | 757/2035 [3:46:06<6:22:50, 17.97s/it]"
          ]
        },
        {
          "output_type": "stream",
          "name": "stdout",
          "text": [
            "0.12903189659118652 data loading time\n",
            "2.587583541870117 Discriminators training\n",
            "1.0887670516967773 backprop discriminator\n",
            "0.24544286727905273 adversarial loss\n",
            "2.0986249446868896 cycle loss\n",
            "9.420302152633667 generator backprop\n",
            "Generator Loss: 3.4268078804016113 Discriminator Loss: 0.39062774181365967\n",
            "0.11156201362609863 data loading time\n",
            "0.11171674728393555 data loading time\n"
          ]
        },
        {
          "output_type": "stream",
          "name": "stderr",
          "text": [
            "\r 37%|███▋      | 758/2035 [3:46:24<6:22:30, 17.97s/it]"
          ]
        },
        {
          "output_type": "stream",
          "name": "stdout",
          "text": [
            "0.12995648384094238 data loading time\n",
            "2.578873872756958 Discriminators training\n",
            "1.0962567329406738 backprop discriminator\n",
            "0.2521672248840332 adversarial loss\n",
            "2.09352707862854 cycle loss\n",
            "9.401119232177734 generator backprop\n",
            "Generator Loss: 3.1015725135803223 Discriminator Loss: 0.40969207882881165\n",
            "0.11090683937072754 data loading time\n",
            "0.11158895492553711 data loading time\n"
          ]
        },
        {
          "output_type": "stream",
          "name": "stderr",
          "text": [
            "\r 37%|███▋      | 759/2035 [3:46:41<6:21:56, 17.96s/it]"
          ]
        },
        {
          "output_type": "stream",
          "name": "stdout",
          "text": [
            "0.127244234085083 data loading time\n",
            "2.5597076416015625 Discriminators training\n",
            "1.0816919803619385 backprop discriminator\n",
            "0.245835542678833 adversarial loss\n",
            "2.1153244972229004 cycle loss\n",
            "9.45114254951477 generator backprop\n",
            "Generator Loss: 2.6612114906311035 Discriminator Loss: 0.2852831482887268\n",
            "0.1126255989074707 data loading time\n",
            "0.11136960983276367 data loading time\n"
          ]
        },
        {
          "output_type": "stream",
          "name": "stderr",
          "text": [
            "\r 37%|███▋      | 760/2035 [3:46:59<6:21:52, 17.97s/it]"
          ]
        },
        {
          "output_type": "stream",
          "name": "stdout",
          "text": [
            "0.13621807098388672 data loading time\n",
            "2.609066963195801 Discriminators training\n",
            "1.0864479541778564 backprop discriminator\n",
            "0.24393534660339355 adversarial loss\n",
            "2.0981271266937256 cycle loss\n",
            "9.381977319717407 generator backprop\n",
            "Generator Loss: 2.6250908374786377 Discriminator Loss: 0.3482838273048401\n",
            "0.11218643188476562 data loading time\n",
            "0.11579489707946777 data loading time\n"
          ]
        },
        {
          "output_type": "stream",
          "name": "stderr",
          "text": [
            "\r 37%|███▋      | 761/2035 [3:47:17<6:21:24, 17.96s/it]"
          ]
        },
        {
          "output_type": "stream",
          "name": "stdout",
          "text": [
            "0.1212158203125 data loading time\n",
            "2.5585415363311768 Discriminators training\n",
            "1.0900499820709229 backprop discriminator\n",
            "0.2574739456176758 adversarial loss\n",
            "2.0966482162475586 cycle loss\n",
            "9.38848876953125 generator backprop\n",
            "Generator Loss: 2.901951313018799 Discriminator Loss: 0.40015798807144165\n",
            "0.11136412620544434 data loading time\n",
            "0.11343526840209961 data loading time\n"
          ]
        },
        {
          "output_type": "stream",
          "name": "stderr",
          "text": [
            "\r 37%|███▋      | 762/2035 [3:47:35<6:20:49, 17.95s/it]"
          ]
        },
        {
          "output_type": "stream",
          "name": "stdout",
          "text": [
            "0.13730216026306152 data loading time\n",
            "2.5878288745880127 Discriminators training\n",
            "1.0955934524536133 backprop discriminator\n",
            "0.2493422031402588 adversarial loss\n",
            "2.109532594680786 cycle loss\n",
            "9.419795751571655 generator backprop\n",
            "Generator Loss: 2.8955376148223877 Discriminator Loss: 0.4128556251525879\n",
            "0.11133813858032227 data loading time\n",
            "0.11222267150878906 data loading time\n"
          ]
        },
        {
          "output_type": "stream",
          "name": "stderr",
          "text": [
            "\r 37%|███▋      | 763/2035 [3:47:53<6:20:51, 17.96s/it]"
          ]
        },
        {
          "output_type": "stream",
          "name": "stdout",
          "text": [
            "0.13216471672058105 data loading time\n",
            "2.582242488861084 Discriminators training\n",
            "1.1049907207489014 backprop discriminator\n",
            "0.24582672119140625 adversarial loss\n",
            "2.107714891433716 cycle loss\n",
            "9.383882999420166 generator backprop\n",
            "Generator Loss: 3.229799747467041 Discriminator Loss: 0.34895071387290955\n",
            "0.11136031150817871 data loading time\n",
            "0.11622071266174316 data loading time\n"
          ]
        },
        {
          "output_type": "stream",
          "name": "stderr",
          "text": [
            "\r 38%|███▊      | 764/2035 [3:48:11<6:20:32, 17.96s/it]"
          ]
        },
        {
          "output_type": "stream",
          "name": "stdout",
          "text": [
            "0.13077330589294434 data loading time\n",
            "2.578568935394287 Discriminators training\n",
            "1.0965847969055176 backprop discriminator\n",
            "0.25295186042785645 adversarial loss\n",
            "2.0833303928375244 cycle loss\n",
            "9.33783745765686 generator backprop\n",
            "Generator Loss: 2.6127681732177734 Discriminator Loss: 0.4007573127746582\n",
            "0.11145353317260742 data loading time\n",
            "0.11163473129272461 data loading time\n"
          ]
        },
        {
          "output_type": "stream",
          "name": "stderr",
          "text": [
            "\r 38%|███▊      | 765/2035 [3:48:29<6:19:35, 17.93s/it]"
          ]
        },
        {
          "output_type": "stream",
          "name": "stdout",
          "text": [
            "0.1273648738861084 data loading time\n",
            "2.5837299823760986 Discriminators training\n",
            "1.0938305854797363 backprop discriminator\n",
            "0.24240875244140625 adversarial loss\n",
            "2.0977540016174316 cycle loss\n",
            "9.353981256484985 generator backprop\n",
            "Generator Loss: 2.3490633964538574 Discriminator Loss: 0.4115888476371765\n",
            "0.11485648155212402 data loading time\n",
            "0.11146688461303711 data loading time\n"
          ]
        },
        {
          "output_type": "stream",
          "name": "stderr",
          "text": [
            "\r 38%|███▊      | 766/2035 [3:48:47<6:18:56, 17.92s/it]"
          ]
        },
        {
          "output_type": "stream",
          "name": "stdout",
          "text": [
            "0.13538360595703125 data loading time\n",
            "2.5569283962249756 Discriminators training\n",
            "1.085996389389038 backprop discriminator\n",
            "0.2528560161590576 adversarial loss\n",
            "2.0913870334625244 cycle loss\n",
            "9.339299440383911 generator backprop\n",
            "Generator Loss: 2.85697078704834 Discriminator Loss: 0.307158887386322\n",
            "0.1116490364074707 data loading time\n",
            "0.11161351203918457 data loading time\n"
          ]
        },
        {
          "output_type": "stream",
          "name": "stderr",
          "text": [
            "\r 38%|███▊      | 767/2035 [3:49:05<6:18:09, 17.89s/it]"
          ]
        },
        {
          "output_type": "stream",
          "name": "stdout",
          "text": [
            "0.12674617767333984 data loading time\n",
            "2.5735788345336914 Discriminators training\n",
            "1.0948245525360107 backprop discriminator\n",
            "0.24585914611816406 adversarial loss\n",
            "2.114121913909912 cycle loss\n",
            "9.451270341873169 generator backprop\n",
            "Generator Loss: 2.2902519702911377 Discriminator Loss: 0.3584591746330261\n",
            "0.1144261360168457 data loading time\n",
            "0.11122584342956543 data loading time\n"
          ]
        },
        {
          "output_type": "stream",
          "name": "stderr",
          "text": [
            "\r 38%|███▊      | 768/2035 [3:49:23<6:18:35, 17.93s/it]"
          ]
        },
        {
          "output_type": "stream",
          "name": "stdout",
          "text": [
            "0.13221526145935059 data loading time\n",
            "2.5837924480438232 Discriminators training\n",
            "1.0934090614318848 backprop discriminator\n",
            "0.2461085319519043 adversarial loss\n",
            "2.100766181945801 cycle loss\n",
            "9.529675722122192 generator backprop\n",
            "Generator Loss: 2.4629604816436768 Discriminator Loss: 0.4732119143009186\n",
            "0.11581730842590332 data loading time\n",
            "0.11271214485168457 data loading time\n"
          ]
        },
        {
          "output_type": "stream",
          "name": "stderr",
          "text": [
            "\r 38%|███▊      | 769/2035 [3:49:41<6:19:12, 17.97s/it]"
          ]
        },
        {
          "output_type": "stream",
          "name": "stdout",
          "text": [
            "0.12969517707824707 data loading time\n",
            "2.5787789821624756 Discriminators training\n",
            "1.1020400524139404 backprop discriminator\n",
            "0.24390912055969238 adversarial loss\n",
            "2.117959499359131 cycle loss\n",
            "9.461878776550293 generator backprop\n",
            "Generator Loss: 2.750199556350708 Discriminator Loss: 0.5873398780822754\n",
            "0.11160159111022949 data loading time\n",
            "0.11243915557861328 data loading time\n"
          ]
        },
        {
          "output_type": "stream",
          "name": "stderr",
          "text": [
            "\r 38%|███▊      | 770/2035 [3:49:59<6:19:17, 17.99s/it]"
          ]
        },
        {
          "output_type": "stream",
          "name": "stdout",
          "text": [
            "0.1315164566040039 data loading time\n",
            "2.6083340644836426 Discriminators training\n",
            "1.1174070835113525 backprop discriminator\n",
            "0.2541654109954834 adversarial loss\n",
            "2.107050895690918 cycle loss\n",
            "9.345217943191528 generator backprop\n",
            "Generator Loss: 3.929999589920044 Discriminator Loss: 0.42806223034858704\n",
            "0.11110854148864746 data loading time\n",
            "0.11254405975341797 data loading time\n"
          ]
        },
        {
          "output_type": "stream",
          "name": "stderr",
          "text": [
            "\r 38%|███▊      | 771/2035 [3:50:17<6:18:54, 17.99s/it]"
          ]
        },
        {
          "output_type": "stream",
          "name": "stdout",
          "text": [
            "0.13048291206359863 data loading time\n",
            "2.5821988582611084 Discriminators training\n",
            "1.1094844341278076 backprop discriminator\n",
            "0.24652481079101562 adversarial loss\n",
            "2.12151837348938 cycle loss\n",
            "9.33985948562622 generator backprop\n",
            "Generator Loss: 3.040161609649658 Discriminator Loss: 0.44281521439552307\n",
            "0.11673808097839355 data loading time\n",
            "0.11255431175231934 data loading time\n"
          ]
        },
        {
          "output_type": "stream",
          "name": "stderr",
          "text": [
            "\r 38%|███▊      | 772/2035 [3:50:35<6:18:12, 17.97s/it]"
          ]
        },
        {
          "output_type": "stream",
          "name": "stdout",
          "text": [
            "0.13017010688781738 data loading time\n",
            "2.5762085914611816 Discriminators training\n",
            "1.1016871929168701 backprop discriminator\n",
            "0.24787020683288574 adversarial loss\n",
            "2.0982630252838135 cycle loss\n",
            "9.338807582855225 generator backprop\n",
            "Generator Loss: 2.466188430786133 Discriminator Loss: 0.473253458738327\n",
            "0.11152076721191406 data loading time\n",
            "0.11122918128967285 data loading time\n"
          ]
        },
        {
          "output_type": "stream",
          "name": "stderr",
          "text": [
            "\r 38%|███▊      | 773/2035 [3:50:53<6:17:24, 17.94s/it]"
          ]
        },
        {
          "output_type": "stream",
          "name": "stdout",
          "text": [
            "0.13214898109436035 data loading time\n",
            "2.579413890838623 Discriminators training\n",
            "1.102299451828003 backprop discriminator\n",
            "0.248765230178833 adversarial loss\n",
            "2.345341444015503 cycle loss\n",
            "11.417673110961914 generator backprop\n",
            "Generator Loss: 3.1299116611480713 Discriminator Loss: 0.41728445887565613\n",
            "0.11135578155517578 data loading time\n",
            "0.11241292953491211 data loading time\n"
          ]
        },
        {
          "output_type": "stream",
          "name": "stderr",
          "text": [
            "\r 38%|███▊      | 774/2035 [3:51:13<6:31:30, 18.63s/it]"
          ]
        },
        {
          "output_type": "stream",
          "name": "stdout",
          "text": [
            "0.12063121795654297 data loading time\n",
            "2.5744612216949463 Discriminators training\n",
            "1.1068859100341797 backprop discriminator\n",
            "0.24526691436767578 adversarial loss\n",
            "2.4297330379486084 cycle loss\n",
            "9.481013536453247 generator backprop\n",
            "Generator Loss: 2.5328197479248047 Discriminator Loss: 0.45299196243286133\n",
            "0.11120176315307617 data loading time\n",
            "0.11121463775634766 data loading time\n"
          ]
        },
        {
          "output_type": "stream",
          "name": "stderr",
          "text": [
            "\r 38%|███▊      | 775/2035 [3:51:31<6:29:32, 18.55s/it]"
          ]
        },
        {
          "output_type": "stream",
          "name": "stdout",
          "text": [
            "0.12886691093444824 data loading time\n",
            "2.5829498767852783 Discriminators training\n",
            "1.109919548034668 backprop discriminator\n",
            "0.2487013339996338 adversarial loss\n",
            "2.1087141036987305 cycle loss\n",
            "9.395968437194824 generator backprop\n",
            "Generator Loss: 2.6775689125061035 Discriminator Loss: 0.41285067796707153\n",
            "0.11681199073791504 data loading time\n",
            "0.11130356788635254 data loading time\n"
          ]
        },
        {
          "output_type": "stream",
          "name": "stderr",
          "text": [
            "\r 38%|███▊      | 776/2035 [3:51:49<6:25:39, 18.38s/it]"
          ]
        },
        {
          "output_type": "stream",
          "name": "stdout",
          "text": [
            "0.12303662300109863 data loading time\n",
            "2.5959057807922363 Discriminators training\n",
            "1.1218712329864502 backprop discriminator\n",
            "0.2436068058013916 adversarial loss\n",
            "2.122468948364258 cycle loss\n",
            "9.429063081741333 generator backprop\n",
            "Generator Loss: 3.2685227394104004 Discriminator Loss: 0.4708073139190674\n",
            "0.11269760131835938 data loading time\n",
            "0.11177206039428711 data loading time\n"
          ]
        },
        {
          "output_type": "stream",
          "name": "stderr",
          "text": [
            "\r 38%|███▊      | 777/2035 [3:52:07<6:23:13, 18.28s/it]"
          ]
        },
        {
          "output_type": "stream",
          "name": "stdout",
          "text": [
            "0.13307404518127441 data loading time\n",
            "2.5793559551239014 Discriminators training\n",
            "1.1091783046722412 backprop discriminator\n",
            "0.24471759796142578 adversarial loss\n",
            "2.1314876079559326 cycle loss\n",
            "9.485699653625488 generator backprop\n",
            "Generator Loss: 2.847978353500366 Discriminator Loss: 0.44350504875183105\n",
            "0.11212778091430664 data loading time\n",
            "0.11288690567016602 data loading time\n"
          ]
        },
        {
          "output_type": "stream",
          "name": "stderr",
          "text": [
            "\r 38%|███▊      | 778/2035 [3:52:25<6:22:00, 18.23s/it]"
          ]
        },
        {
          "output_type": "stream",
          "name": "stdout",
          "text": [
            "0.13154935836791992 data loading time\n",
            "2.603252410888672 Discriminators training\n",
            "1.1133348941802979 backprop discriminator\n",
            "0.24767017364501953 adversarial loss\n",
            "2.146946668624878 cycle loss\n",
            "9.499338626861572 generator backprop\n",
            "Generator Loss: 2.522850751876831 Discriminator Loss: 0.4515223205089569\n",
            "0.11098980903625488 data loading time\n",
            "0.1116788387298584 data loading time\n"
          ]
        },
        {
          "output_type": "stream",
          "name": "stderr",
          "text": [
            "\r 38%|███▊      | 779/2035 [3:52:44<6:21:07, 18.21s/it]"
          ]
        },
        {
          "output_type": "stream",
          "name": "stdout",
          "text": [
            "0.13305377960205078 data loading time\n",
            "2.5760645866394043 Discriminators training\n",
            "1.107663631439209 backprop discriminator\n",
            "0.24759483337402344 adversarial loss\n",
            "2.1198441982269287 cycle loss\n",
            "9.4490807056427 generator backprop\n",
            "Generator Loss: 2.8037970066070557 Discriminator Loss: 0.4729204475879669\n",
            "0.11441802978515625 data loading time\n",
            "0.11281180381774902 data loading time\n"
          ]
        },
        {
          "output_type": "stream",
          "name": "stderr",
          "text": [
            "\r 38%|███▊      | 780/2035 [3:53:02<6:19:51, 18.16s/it]"
          ]
        },
        {
          "output_type": "stream",
          "name": "stdout",
          "text": [
            "0.13013219833374023 data loading time\n",
            "2.5874457359313965 Discriminators training\n",
            "1.132734775543213 backprop discriminator\n",
            "0.24555206298828125 adversarial loss\n",
            "2.1339359283447266 cycle loss\n",
            "9.50698471069336 generator backprop\n",
            "Generator Loss: 2.6290011405944824 Discriminator Loss: 0.5342957973480225\n",
            "0.11261224746704102 data loading time\n",
            "0.11214423179626465 data loading time\n"
          ]
        },
        {
          "output_type": "stream",
          "name": "stderr",
          "text": [
            "\r 38%|███▊      | 781/2035 [3:53:20<6:19:27, 18.16s/it]"
          ]
        },
        {
          "output_type": "stream",
          "name": "stdout",
          "text": [
            "0.12574005126953125 data loading time\n",
            "2.591979742050171 Discriminators training\n",
            "1.116584300994873 backprop discriminator\n",
            "0.25334858894348145 adversarial loss\n",
            "2.1211206912994385 cycle loss\n",
            "9.636016607284546 generator backprop\n",
            "Generator Loss: 2.448213577270508 Discriminator Loss: 0.4319787323474884\n",
            "0.11162519454956055 data loading time\n",
            "0.1151890754699707 data loading time\n"
          ]
        },
        {
          "output_type": "stream",
          "name": "stderr",
          "text": [
            "\r 38%|███▊      | 782/2035 [3:53:38<6:19:42, 18.18s/it]"
          ]
        },
        {
          "output_type": "stream",
          "name": "stdout",
          "text": [
            "0.13471221923828125 data loading time\n",
            "2.5997986793518066 Discriminators training\n",
            "1.1056082248687744 backprop discriminator\n",
            "0.2543935775756836 adversarial loss\n",
            "2.1232216358184814 cycle loss\n",
            "9.490462064743042 generator backprop\n",
            "Generator Loss: 2.3115899562835693 Discriminator Loss: 0.4204806685447693\n",
            "0.11291646957397461 data loading time\n",
            "0.11373257637023926 data loading time\n"
          ]
        },
        {
          "output_type": "stream",
          "name": "stderr",
          "text": [
            "\r 38%|███▊      | 783/2035 [3:53:56<6:19:02, 18.16s/it]"
          ]
        },
        {
          "output_type": "stream",
          "name": "stdout",
          "text": [
            "0.1341550350189209 data loading time\n",
            "2.595547676086426 Discriminators training\n",
            "1.1092357635498047 backprop discriminator\n",
            "0.24953556060791016 adversarial loss\n",
            "2.1437253952026367 cycle loss\n",
            "9.563154935836792 generator backprop\n",
            "Generator Loss: 2.341726779937744 Discriminator Loss: 0.47516733407974243\n",
            "0.11290264129638672 data loading time\n",
            "0.11213850975036621 data loading time\n"
          ]
        },
        {
          "output_type": "stream",
          "name": "stderr",
          "text": [
            "\r 39%|███▊      | 784/2035 [3:54:14<6:18:59, 18.18s/it]"
          ]
        },
        {
          "output_type": "stream",
          "name": "stdout",
          "text": [
            "0.13028717041015625 data loading time\n",
            "2.597707509994507 Discriminators training\n",
            "1.112757682800293 backprop discriminator\n",
            "0.2501375675201416 adversarial loss\n",
            "2.143876552581787 cycle loss\n",
            "9.593351125717163 generator backprop\n",
            "Generator Loss: 3.2413406372070312 Discriminator Loss: 0.5212938189506531\n",
            "0.11182260513305664 data loading time\n",
            "0.11349010467529297 data loading time\n"
          ]
        },
        {
          "output_type": "stream",
          "name": "stderr",
          "text": [
            "\r 39%|███▊      | 785/2035 [3:54:33<6:19:18, 18.21s/it]"
          ]
        },
        {
          "output_type": "stream",
          "name": "stdout",
          "text": [
            "0.13186931610107422 data loading time\n",
            "2.598129987716675 Discriminators training\n",
            "1.1085278987884521 backprop discriminator\n",
            "0.24603009223937988 adversarial loss\n",
            "2.1255316734313965 cycle loss\n",
            "9.510428428649902 generator backprop\n",
            "Generator Loss: 2.633183479309082 Discriminator Loss: 0.5311839580535889\n",
            "0.1107182502746582 data loading time\n",
            "0.11186814308166504 data loading time\n"
          ]
        },
        {
          "output_type": "stream",
          "name": "stderr",
          "text": [
            "\r 39%|███▊      | 786/2035 [3:54:51<6:18:27, 18.18s/it]"
          ]
        },
        {
          "output_type": "stream",
          "name": "stdout",
          "text": [
            "0.1310126781463623 data loading time\n",
            "2.5862209796905518 Discriminators training\n",
            "1.1041052341461182 backprop discriminator\n",
            "0.24802327156066895 adversarial loss\n",
            "2.1277194023132324 cycle loss\n",
            "9.525907278060913 generator backprop\n",
            "Generator Loss: 2.206622362136841 Discriminator Loss: 0.4960362911224365\n",
            "0.11285042762756348 data loading time\n",
            "0.11277985572814941 data loading time\n"
          ]
        },
        {
          "output_type": "stream",
          "name": "stderr",
          "text": [
            "\r 39%|███▊      | 787/2035 [3:55:09<6:17:48, 18.16s/it]"
          ]
        },
        {
          "output_type": "stream",
          "name": "stdout",
          "text": [
            "0.12459015846252441 data loading time\n",
            "2.5923731327056885 Discriminators training\n",
            "1.1066689491271973 backprop discriminator\n",
            "0.2505054473876953 adversarial loss\n",
            "2.1150448322296143 cycle loss\n",
            "9.526794195175171 generator backprop\n",
            "Generator Loss: 2.805159091949463 Discriminator Loss: 0.380402147769928\n",
            "0.11346054077148438 data loading time\n",
            "0.11712908744812012 data loading time\n"
          ]
        },
        {
          "output_type": "stream",
          "name": "stderr",
          "text": [
            "\r 39%|███▊      | 788/2035 [3:55:27<6:17:14, 18.15s/it]"
          ]
        },
        {
          "output_type": "stream",
          "name": "stdout",
          "text": [
            "0.12540316581726074 data loading time\n",
            "2.575997829437256 Discriminators training\n",
            "1.123870849609375 backprop discriminator\n",
            "0.25667643547058105 adversarial loss\n",
            "2.134309768676758 cycle loss\n",
            "9.635653734207153 generator backprop\n",
            "Generator Loss: 3.110757827758789 Discriminator Loss: 0.4385431110858917\n",
            "0.11250758171081543 data loading time\n",
            "0.11592364311218262 data loading time\n"
          ]
        },
        {
          "output_type": "stream",
          "name": "stderr",
          "text": [
            "\r 39%|███▉      | 789/2035 [3:55:45<6:17:43, 18.19s/it]"
          ]
        },
        {
          "output_type": "stream",
          "name": "stdout",
          "text": [
            "0.12717914581298828 data loading time\n",
            "2.607680320739746 Discriminators training\n",
            "1.1078448295593262 backprop discriminator\n",
            "0.25086522102355957 adversarial loss\n",
            "2.1312310695648193 cycle loss\n",
            "9.55812954902649 generator backprop\n",
            "Generator Loss: 3.070930004119873 Discriminator Loss: 0.4468280076980591\n",
            "0.11215043067932129 data loading time\n",
            "0.11411428451538086 data loading time\n"
          ]
        },
        {
          "output_type": "stream",
          "name": "stderr",
          "text": [
            "\r 39%|███▉      | 790/2035 [3:56:04<6:17:34, 18.20s/it]"
          ]
        },
        {
          "output_type": "stream",
          "name": "stdout",
          "text": [
            "0.13159394264221191 data loading time\n",
            "2.6028263568878174 Discriminators training\n",
            "1.124218463897705 backprop discriminator\n",
            "0.26033544540405273 adversarial loss\n",
            "2.1553566455841064 cycle loss\n",
            "9.632943153381348 generator backprop\n",
            "Generator Loss: 2.8469390869140625 Discriminator Loss: 0.42128127813339233\n",
            "0.11169028282165527 data loading time\n",
            "0.11212563514709473 data loading time\n"
          ]
        },
        {
          "output_type": "stream",
          "name": "stderr",
          "text": [
            "\r 39%|███▉      | 791/2035 [3:56:22<6:18:07, 18.24s/it]"
          ]
        },
        {
          "output_type": "stream",
          "name": "stdout",
          "text": [
            "0.12880301475524902 data loading time\n",
            "2.595902681350708 Discriminators training\n",
            "1.1203196048736572 backprop discriminator\n",
            "0.2595386505126953 adversarial loss\n",
            "2.143941640853882 cycle loss\n",
            "9.549598455429077 generator backprop\n",
            "Generator Loss: 3.2619881629943848 Discriminator Loss: 0.45258474349975586\n",
            "0.11165738105773926 data loading time\n",
            "0.11216139793395996 data loading time\n"
          ]
        },
        {
          "output_type": "stream",
          "name": "stderr",
          "text": [
            "\r 39%|███▉      | 792/2035 [3:56:40<6:17:46, 18.24s/it]"
          ]
        },
        {
          "output_type": "stream",
          "name": "stdout",
          "text": [
            "0.12705135345458984 data loading time\n",
            "2.5817644596099854 Discriminators training\n",
            "1.1034581661224365 backprop discriminator\n",
            "0.24692702293395996 adversarial loss\n",
            "2.1246328353881836 cycle loss\n",
            "9.525267362594604 generator backprop\n",
            "Generator Loss: 2.517817497253418 Discriminator Loss: 0.47560617327690125\n",
            "0.11276364326477051 data loading time\n",
            "0.11224746704101562 data loading time\n"
          ]
        },
        {
          "output_type": "stream",
          "name": "stderr",
          "text": [
            "\r 39%|███▉      | 793/2035 [3:56:58<6:16:52, 18.21s/it]"
          ]
        },
        {
          "output_type": "stream",
          "name": "stdout",
          "text": [
            "0.1346137523651123 data loading time\n",
            "2.6010096073150635 Discriminators training\n",
            "1.112285852432251 backprop discriminator\n",
            "0.24644970893859863 adversarial loss\n",
            "2.13350248336792 cycle loss\n",
            "9.706604480743408 generator backprop\n",
            "Generator Loss: 3.8135721683502197 Discriminator Loss: 0.41976672410964966\n",
            "0.11380171775817871 data loading time\n",
            "0.11227822303771973 data loading time\n"
          ]
        },
        {
          "output_type": "stream",
          "name": "stderr",
          "text": [
            "\r 39%|███▉      | 794/2035 [3:57:17<6:17:32, 18.25s/it]"
          ]
        },
        {
          "output_type": "stream",
          "name": "stdout",
          "text": [
            "0.13063597679138184 data loading time\n",
            "2.6113712787628174 Discriminators training\n",
            "1.1215684413909912 backprop discriminator\n",
            "0.24917101860046387 adversarial loss\n",
            "2.1294713020324707 cycle loss\n",
            "9.583608627319336 generator backprop\n",
            "Generator Loss: 2.609302520751953 Discriminator Loss: 0.3940665125846863\n",
            "0.11360740661621094 data loading time\n",
            "0.1132650375366211 data loading time\n"
          ]
        },
        {
          "output_type": "stream",
          "name": "stderr",
          "text": [
            "\r 39%|███▉      | 795/2035 [3:57:35<6:17:14, 18.25s/it]"
          ]
        },
        {
          "output_type": "stream",
          "name": "stdout",
          "text": [
            "0.140183687210083 data loading time\n",
            "2.6074776649475098 Discriminators training\n",
            "1.1144483089447021 backprop discriminator\n",
            "0.2491166591644287 adversarial loss\n",
            "2.1376423835754395 cycle loss\n",
            "9.588268041610718 generator backprop\n",
            "Generator Loss: 2.8120288848876953 Discriminator Loss: 0.48439478874206543\n",
            "0.11182403564453125 data loading time\n",
            "0.11193370819091797 data loading time\n"
          ]
        },
        {
          "output_type": "stream",
          "name": "stderr",
          "text": [
            "\r 39%|███▉      | 796/2035 [3:57:53<6:16:55, 18.25s/it]"
          ]
        },
        {
          "output_type": "stream",
          "name": "stdout",
          "text": [
            "0.13041186332702637 data loading time\n",
            "2.6065168380737305 Discriminators training\n",
            "1.1129555702209473 backprop discriminator\n",
            "0.24998903274536133 adversarial loss\n",
            "2.1436519622802734 cycle loss\n",
            "9.610665082931519 generator backprop\n",
            "Generator Loss: 3.248173713684082 Discriminator Loss: 0.5363359451293945\n",
            "0.11193966865539551 data loading time\n",
            "0.11182641983032227 data loading time\n"
          ]
        },
        {
          "output_type": "stream",
          "name": "stderr",
          "text": [
            "\r 39%|███▉      | 797/2035 [3:58:11<6:16:45, 18.26s/it]"
          ]
        },
        {
          "output_type": "stream",
          "name": "stdout",
          "text": [
            "0.13068556785583496 data loading time\n",
            "2.600184679031372 Discriminators training\n",
            "1.1184678077697754 backprop discriminator\n",
            "0.25391173362731934 adversarial loss\n",
            "2.1451470851898193 cycle loss\n",
            "9.556063890457153 generator backprop\n",
            "Generator Loss: 4.2761945724487305 Discriminator Loss: 0.5357375741004944\n",
            "0.1109476089477539 data loading time\n",
            "0.11274361610412598 data loading time\n"
          ]
        },
        {
          "output_type": "stream",
          "name": "stderr",
          "text": [
            "\r 39%|███▉      | 798/2035 [3:58:30<6:16:09, 18.25s/it]"
          ]
        },
        {
          "output_type": "stream",
          "name": "stdout",
          "text": [
            "0.12864065170288086 data loading time\n",
            "2.6024787425994873 Discriminators training\n",
            "1.120450496673584 backprop discriminator\n",
            "0.24617671966552734 adversarial loss\n",
            "2.1240639686584473 cycle loss\n",
            "9.511686325073242 generator backprop\n",
            "Generator Loss: 3.450228691101074 Discriminator Loss: 0.4470149278640747\n",
            "0.11585068702697754 data loading time\n",
            "0.11172842979431152 data loading time\n"
          ]
        },
        {
          "output_type": "stream",
          "name": "stderr",
          "text": [
            "\r 39%|███▉      | 799/2035 [3:58:48<6:15:13, 18.22s/it]"
          ]
        },
        {
          "output_type": "stream",
          "name": "stdout",
          "text": [
            "0.1318819522857666 data loading time\n",
            "2.613985776901245 Discriminators training\n",
            "1.1023814678192139 backprop discriminator\n",
            "0.2500290870666504 adversarial loss\n",
            "2.1313369274139404 cycle loss\n",
            "9.515824556350708 generator backprop\n",
            "Generator Loss: 2.582815647125244 Discriminator Loss: 0.42747992277145386\n",
            "0.11415648460388184 data loading time\n",
            "0.11838912963867188 data loading time\n"
          ]
        },
        {
          "output_type": "stream",
          "name": "stderr",
          "text": [
            "\r 39%|███▉      | 800/2035 [3:59:06<6:14:37, 18.20s/it]"
          ]
        },
        {
          "output_type": "stream",
          "name": "stdout",
          "text": [
            "0.12482786178588867 data loading time\n",
            "2.59328293800354 Discriminators training\n",
            "1.1173863410949707 backprop discriminator\n",
            "0.25710368156433105 adversarial loss\n",
            "2.132702112197876 cycle loss\n",
            "9.588604927062988 generator backprop\n",
            "Generator Loss: 2.7776570320129395 Discriminator Loss: 0.3760448694229126\n",
            "0.11260628700256348 data loading time\n",
            "0.11729025840759277 data loading time\n"
          ]
        },
        {
          "output_type": "stream",
          "name": "stderr",
          "text": [
            "\r 39%|███▉      | 801/2035 [3:59:24<6:14:30, 18.21s/it]"
          ]
        },
        {
          "output_type": "stream",
          "name": "stdout",
          "text": [
            "0.12891197204589844 data loading time\n",
            "2.586418867111206 Discriminators training\n",
            "1.1032421588897705 backprop discriminator\n",
            "0.25585460662841797 adversarial loss\n",
            "2.1171891689300537 cycle loss\n",
            "9.640535116195679 generator backprop\n",
            "Generator Loss: 2.2409555912017822 Discriminator Loss: 0.41383904218673706\n",
            "0.11285400390625 data loading time\n",
            "0.11295938491821289 data loading time\n"
          ]
        },
        {
          "output_type": "stream",
          "name": "stderr",
          "text": [
            "\r 39%|███▉      | 802/2035 [3:59:42<6:14:27, 18.22s/it]"
          ]
        },
        {
          "output_type": "stream",
          "name": "stdout",
          "text": [
            "0.13137412071228027 data loading time\n",
            "2.583754062652588 Discriminators training\n",
            "1.126589298248291 backprop discriminator\n",
            "0.25087404251098633 adversarial loss\n",
            "2.1257216930389404 cycle loss\n",
            "9.531554460525513 generator backprop\n",
            "Generator Loss: 2.5243375301361084 Discriminator Loss: 0.491646409034729\n",
            "0.11219501495361328 data loading time\n",
            "0.1123197078704834 data loading time\n"
          ]
        },
        {
          "output_type": "stream",
          "name": "stderr",
          "text": [
            "\r 39%|███▉      | 803/2035 [4:00:01<6:13:51, 18.21s/it]"
          ]
        },
        {
          "output_type": "stream",
          "name": "stdout",
          "text": [
            "0.14474964141845703 data loading time\n",
            "2.6030304431915283 Discriminators training\n",
            "1.095118522644043 backprop discriminator\n",
            "0.24666762351989746 adversarial loss\n",
            "2.134746551513672 cycle loss\n",
            "9.546490907669067 generator backprop\n",
            "Generator Loss: 2.269407272338867 Discriminator Loss: 0.556137204170227\n",
            "0.11141347885131836 data loading time\n",
            "0.11154437065124512 data loading time\n"
          ]
        },
        {
          "output_type": "stream",
          "name": "stderr",
          "text": [
            "\r 40%|███▉      | 804/2035 [4:00:19<6:13:19, 18.20s/it]"
          ]
        },
        {
          "output_type": "stream",
          "name": "stdout",
          "text": [
            "0.12584590911865234 data loading time\n",
            "2.5933961868286133 Discriminators training\n",
            "1.0950486660003662 backprop discriminator\n",
            "0.24691319465637207 adversarial loss\n",
            "2.1329057216644287 cycle loss\n",
            "9.469463586807251 generator backprop\n",
            "Generator Loss: 3.0045032501220703 Discriminator Loss: 0.37785354256629944\n",
            "0.11130404472351074 data loading time\n",
            "0.11172819137573242 data loading time\n"
          ]
        },
        {
          "output_type": "stream",
          "name": "stderr",
          "text": [
            "\r 40%|███▉      | 805/2035 [4:00:37<6:12:11, 18.16s/it]"
          ]
        },
        {
          "output_type": "stream",
          "name": "stdout",
          "text": [
            "0.12983441352844238 data loading time\n",
            "2.5779919624328613 Discriminators training\n",
            "1.0879285335540771 backprop discriminator\n",
            "0.247727632522583 adversarial loss\n",
            "2.1237170696258545 cycle loss\n",
            "9.413040399551392 generator backprop\n",
            "Generator Loss: 2.621281862258911 Discriminator Loss: 0.6028460264205933\n",
            "0.11176109313964844 data loading time\n",
            "0.11609005928039551 data loading time\n"
          ]
        },
        {
          "output_type": "stream",
          "name": "stderr",
          "text": [
            "\r 40%|███▉      | 806/2035 [4:00:55<6:10:45, 18.10s/it]"
          ]
        },
        {
          "output_type": "stream",
          "name": "stdout",
          "text": [
            "0.1336519718170166 data loading time\n",
            "2.570798635482788 Discriminators training\n",
            "1.0875356197357178 backprop discriminator\n",
            "0.24925684928894043 adversarial loss\n",
            "2.111090898513794 cycle loss\n",
            "9.45714545249939 generator backprop\n",
            "Generator Loss: 2.2929527759552 Discriminator Loss: 0.43959593772888184\n",
            "0.11087155342102051 data loading time\n",
            "0.11237049102783203 data loading time\n"
          ]
        },
        {
          "output_type": "stream",
          "name": "stderr",
          "text": [
            "\r 40%|███▉      | 807/2035 [4:01:13<6:09:57, 18.08s/it]"
          ]
        },
        {
          "output_type": "stream",
          "name": "stdout",
          "text": [
            "0.13208794593811035 data loading time\n",
            "2.5779709815979004 Discriminators training\n",
            "1.0978460311889648 backprop discriminator\n",
            "0.25052618980407715 adversarial loss\n",
            "2.11181902885437 cycle loss\n",
            "9.56002926826477 generator backprop\n",
            "Generator Loss: 3.081803321838379 Discriminator Loss: 0.4148825705051422\n",
            "0.11140179634094238 data loading time\n",
            "0.11319708824157715 data loading time\n"
          ]
        },
        {
          "output_type": "stream",
          "name": "stderr",
          "text": [
            "\r 40%|███▉      | 808/2035 [4:01:31<6:10:00, 18.09s/it]"
          ]
        },
        {
          "output_type": "stream",
          "name": "stdout",
          "text": [
            "0.12502336502075195 data loading time\n",
            "2.625795364379883 Discriminators training\n",
            "1.108496904373169 backprop discriminator\n",
            "0.2540934085845947 adversarial loss\n",
            "2.1256399154663086 cycle loss\n",
            "9.574411869049072 generator backprop\n",
            "Generator Loss: 3.458070755004883 Discriminator Loss: 0.4543921649456024\n",
            "0.11128926277160645 data loading time\n",
            "0.11252307891845703 data loading time\n"
          ]
        },
        {
          "output_type": "stream",
          "name": "stderr",
          "text": [
            "\r 40%|███▉      | 809/2035 [4:01:49<6:10:32, 18.13s/it]"
          ]
        },
        {
          "output_type": "stream",
          "name": "stdout",
          "text": [
            "0.13083386421203613 data loading time\n",
            "2.6217026710510254 Discriminators training\n",
            "1.124262809753418 backprop discriminator\n",
            "0.25014257431030273 adversarial loss\n",
            "2.146104574203491 cycle loss\n",
            "9.551379442214966 generator backprop\n",
            "Generator Loss: 3.512624740600586 Discriminator Loss: 0.47281742095947266\n",
            "0.11251473426818848 data loading time\n",
            "0.11225509643554688 data loading time\n"
          ]
        },
        {
          "output_type": "stream",
          "name": "stderr",
          "text": [
            "\r 40%|███▉      | 810/2035 [4:02:07<6:10:50, 18.16s/it]"
          ]
        },
        {
          "output_type": "stream",
          "name": "stdout",
          "text": [
            "0.1393566131591797 data loading time\n",
            "2.625994920730591 Discriminators training\n",
            "1.1422975063323975 backprop discriminator\n",
            "0.25102782249450684 adversarial loss\n",
            "2.158205270767212 cycle loss\n",
            "9.480486392974854 generator backprop\n",
            "Generator Loss: 2.5728485584259033 Discriminator Loss: 0.4908231198787689\n",
            "0.11087203025817871 data loading time\n",
            "0.11262822151184082 data loading time\n"
          ]
        },
        {
          "output_type": "stream",
          "name": "stderr",
          "text": [
            "\r 40%|███▉      | 811/2035 [4:02:26<6:10:41, 18.17s/it]"
          ]
        },
        {
          "output_type": "stream",
          "name": "stdout",
          "text": [
            "0.12877225875854492 data loading time\n",
            "2.5879151821136475 Discriminators training\n",
            "1.1088261604309082 backprop discriminator\n",
            "0.24541497230529785 adversarial loss\n",
            "2.1274919509887695 cycle loss\n",
            "10.616175889968872 generator backprop\n",
            "Generator Loss: 2.6613035202026367 Discriminator Loss: 0.4928273558616638\n",
            "0.11079907417297363 data loading time\n",
            "0.11203527450561523 data loading time\n"
          ]
        },
        {
          "output_type": "stream",
          "name": "stderr",
          "text": [
            "\r 40%|███▉      | 812/2035 [4:02:45<6:16:50, 18.49s/it]"
          ]
        },
        {
          "output_type": "stream",
          "name": "stdout",
          "text": [
            "0.13681554794311523 data loading time\n",
            "2.6034176349639893 Discriminators training\n",
            "1.1069340705871582 backprop discriminator\n",
            "0.25491833686828613 adversarial loss\n",
            "2.1435892581939697 cycle loss\n",
            "9.450017213821411 generator backprop\n",
            "Generator Loss: 3.062008857727051 Discriminator Loss: 0.4392651915550232\n",
            "0.11165738105773926 data loading time\n",
            "0.11177897453308105 data loading time\n"
          ]
        },
        {
          "output_type": "stream",
          "name": "stderr",
          "text": [
            "\r 40%|███▉      | 813/2035 [4:03:03<6:14:12, 18.37s/it]"
          ]
        },
        {
          "output_type": "stream",
          "name": "stdout",
          "text": [
            "0.12885665893554688 data loading time\n",
            "2.5857903957366943 Discriminators training\n",
            "1.1056594848632812 backprop discriminator\n",
            "0.2538108825683594 adversarial loss\n",
            "2.128021240234375 cycle loss\n",
            "9.445295095443726 generator backprop\n",
            "Generator Loss: 2.63979434967041 Discriminator Loss: 0.4333822429180145\n",
            "0.11104536056518555 data loading time\n",
            "0.11348986625671387 data loading time\n"
          ]
        },
        {
          "output_type": "stream",
          "name": "stderr",
          "text": [
            "\r 40%|████      | 814/2035 [4:03:21<6:12:04, 18.28s/it]"
          ]
        },
        {
          "output_type": "stream",
          "name": "stdout",
          "text": [
            "0.13233327865600586 data loading time\n",
            "2.58339262008667 Discriminators training\n",
            "1.1045722961425781 backprop discriminator\n",
            "0.24794578552246094 adversarial loss\n",
            "2.142216682434082 cycle loss\n",
            "9.476202011108398 generator backprop\n",
            "Generator Loss: 2.490504741668701 Discriminator Loss: 0.4403820335865021\n",
            "0.1106417179107666 data loading time\n",
            "0.11172628402709961 data loading time\n"
          ]
        },
        {
          "output_type": "stream",
          "name": "stderr",
          "text": [
            "\r 40%|████      | 815/2035 [4:03:39<6:10:31, 18.22s/it]"
          ]
        },
        {
          "output_type": "stream",
          "name": "stdout",
          "text": [
            "0.13459205627441406 data loading time\n",
            "2.5990500450134277 Discriminators training\n",
            "1.1101570129394531 backprop discriminator\n",
            "0.24709153175354004 adversarial loss\n",
            "2.1098811626434326 cycle loss\n",
            "9.51246452331543 generator backprop\n",
            "Generator Loss: 2.3669850826263428 Discriminator Loss: 0.5658546090126038\n",
            "0.11638665199279785 data loading time\n",
            "0.11249017715454102 data loading time\n"
          ]
        },
        {
          "output_type": "stream",
          "name": "stderr",
          "text": [
            "\r 40%|████      | 816/2035 [4:03:57<6:09:33, 18.19s/it]"
          ]
        },
        {
          "output_type": "stream",
          "name": "stdout",
          "text": [
            "0.13179659843444824 data loading time\n",
            "2.6048338413238525 Discriminators training\n",
            "1.105468988418579 backprop discriminator\n",
            "0.25104403495788574 adversarial loss\n",
            "2.1439623832702637 cycle loss\n",
            "9.53421950340271 generator backprop\n",
            "Generator Loss: 2.911576271057129 Discriminator Loss: 0.5733306407928467\n",
            "0.11191034317016602 data loading time\n",
            "0.11234402656555176 data loading time\n"
          ]
        },
        {
          "output_type": "stream",
          "name": "stderr",
          "text": [
            "\r 40%|████      | 817/2035 [4:04:15<6:09:15, 18.19s/it]"
          ]
        },
        {
          "output_type": "stream",
          "name": "stdout",
          "text": [
            "0.12411046028137207 data loading time\n",
            "2.599351406097412 Discriminators training\n",
            "1.1063218116760254 backprop discriminator\n",
            "0.25269198417663574 adversarial loss\n",
            "2.126549243927002 cycle loss\n",
            "9.452512264251709 generator backprop\n",
            "Generator Loss: 2.1725456714630127 Discriminator Loss: 0.4923631548881531\n",
            "0.1116034984588623 data loading time\n",
            "0.11137986183166504 data loading time\n"
          ]
        },
        {
          "output_type": "stream",
          "name": "stderr",
          "text": [
            "\r 40%|████      | 818/2035 [4:04:33<6:08:22, 18.16s/it]"
          ]
        },
        {
          "output_type": "stream",
          "name": "stdout",
          "text": [
            "0.1324293613433838 data loading time\n",
            "2.58420729637146 Discriminators training\n",
            "1.097815990447998 backprop discriminator\n",
            "0.25081634521484375 adversarial loss\n",
            "2.1186163425445557 cycle loss\n",
            "9.435011148452759 generator backprop\n",
            "Generator Loss: 2.462594509124756 Discriminator Loss: 0.3801250457763672\n",
            "0.11365771293640137 data loading time\n",
            "0.11261796951293945 data loading time\n"
          ]
        },
        {
          "output_type": "stream",
          "name": "stderr",
          "text": [
            "\r 40%|████      | 819/2035 [4:04:51<6:07:17, 18.12s/it]"
          ]
        },
        {
          "output_type": "stream",
          "name": "stdout",
          "text": [
            "0.12961530685424805 data loading time\n",
            "2.577725410461426 Discriminators training\n",
            "1.1019794940948486 backprop discriminator\n",
            "0.2436966896057129 adversarial loss\n",
            "2.119985818862915 cycle loss\n",
            "9.409507274627686 generator backprop\n",
            "Generator Loss: 2.8065428733825684 Discriminator Loss: 0.4146106541156769\n",
            "0.11213469505310059 data loading time\n",
            "0.1119532585144043 data loading time\n"
          ]
        },
        {
          "output_type": "stream",
          "name": "stderr",
          "text": [
            "\r 40%|████      | 820/2035 [4:05:09<6:06:01, 18.08s/it]"
          ]
        },
        {
          "output_type": "stream",
          "name": "stdout",
          "text": [
            "0.13119745254516602 data loading time\n",
            "2.5827298164367676 Discriminators training\n",
            "1.1936335563659668 backprop discriminator\n",
            "0.24955391883850098 adversarial loss\n",
            "2.108247995376587 cycle loss\n",
            "9.441782474517822 generator backprop\n",
            "Generator Loss: 2.7958900928497314 Discriminator Loss: 0.5094622373580933\n",
            "0.11122584342956543 data loading time\n",
            "0.11902976036071777 data loading time\n"
          ]
        },
        {
          "output_type": "stream",
          "name": "stderr",
          "text": [
            "\r 40%|████      | 821/2035 [4:05:28<6:05:51, 18.08s/it]"
          ]
        },
        {
          "output_type": "stream",
          "name": "stdout",
          "text": [
            "0.12606048583984375 data loading time\n",
            "2.5821425914764404 Discriminators training\n",
            "1.1067469120025635 backprop discriminator\n",
            "0.25255560874938965 adversarial loss\n",
            "2.140648365020752 cycle loss\n",
            "9.596871852874756 generator backprop\n",
            "Generator Loss: 3.0277762413024902 Discriminator Loss: 0.3698120713233948\n",
            "0.11172008514404297 data loading time\n",
            "0.1116180419921875 data loading time\n"
          ]
        },
        {
          "output_type": "stream",
          "name": "stderr",
          "text": [
            "\r 40%|████      | 822/2035 [4:05:46<6:06:11, 18.11s/it]"
          ]
        },
        {
          "output_type": "stream",
          "name": "stdout",
          "text": [
            "0.13979554176330566 data loading time\n",
            "2.594054698944092 Discriminators training\n",
            "1.1100454330444336 backprop discriminator\n",
            "0.24831175804138184 adversarial loss\n",
            "2.1185197830200195 cycle loss\n",
            "9.42767333984375 generator backprop\n",
            "Generator Loss: 2.5220282077789307 Discriminator Loss: 0.5037699937820435\n",
            "0.11087179183959961 data loading time\n",
            "0.1117401123046875 data loading time\n"
          ]
        },
        {
          "output_type": "stream",
          "name": "stderr",
          "text": [
            "\r 40%|████      | 823/2035 [4:06:04<6:05:19, 18.09s/it]"
          ]
        },
        {
          "output_type": "stream",
          "name": "stdout",
          "text": [
            "0.12008428573608398 data loading time\n",
            "2.5910069942474365 Discriminators training\n",
            "1.0954921245574951 backprop discriminator\n",
            "0.25075244903564453 adversarial loss\n",
            "2.1270511150360107 cycle loss\n",
            "9.438324213027954 generator backprop\n",
            "Generator Loss: 3.4286422729492188 Discriminator Loss: 0.4634971618652344\n",
            "0.1121222972869873 data loading time\n",
            "0.11163759231567383 data loading time\n"
          ]
        },
        {
          "output_type": "stream",
          "name": "stderr",
          "text": [
            "\r 40%|████      | 824/2035 [4:06:22<6:04:36, 18.06s/it]"
          ]
        },
        {
          "output_type": "stream",
          "name": "stdout",
          "text": [
            "0.1305849552154541 data loading time\n",
            "2.573425769805908 Discriminators training\n",
            "1.0895578861236572 backprop discriminator\n",
            "0.24453949928283691 adversarial loss\n",
            "2.103691816329956 cycle loss\n",
            "9.351566314697266 generator backprop\n",
            "Generator Loss: 2.9431533813476562 Discriminator Loss: 0.549811601638794\n",
            "0.11068534851074219 data loading time\n",
            "0.11127448081970215 data loading time\n"
          ]
        },
        {
          "output_type": "stream",
          "name": "stderr",
          "text": [
            "\r 41%|████      | 825/2035 [4:06:40<6:03:07, 18.01s/it]"
          ]
        },
        {
          "output_type": "stream",
          "name": "stdout",
          "text": [
            "0.13123464584350586 data loading time\n",
            "2.5552384853363037 Discriminators training\n",
            "1.090421438217163 backprop discriminator\n",
            "0.251187801361084 adversarial loss\n",
            "2.0975723266601562 cycle loss\n",
            "9.468484163284302 generator backprop\n",
            "Generator Loss: 3.256598472595215 Discriminator Loss: 0.4889526963233948\n",
            "0.11058783531188965 data loading time\n",
            "0.11381363868713379 data loading time\n"
          ]
        },
        {
          "output_type": "stream",
          "name": "stderr",
          "text": [
            "\r 41%|████      | 826/2035 [4:06:58<6:02:45, 18.00s/it]"
          ]
        },
        {
          "output_type": "stream",
          "name": "stdout",
          "text": [
            "0.12367367744445801 data loading time\n",
            "2.577547073364258 Discriminators training\n",
            "1.0955991744995117 backprop discriminator\n",
            "0.24492526054382324 adversarial loss\n",
            "2.1232962608337402 cycle loss\n",
            "9.499269723892212 generator backprop\n",
            "Generator Loss: 3.212803840637207 Discriminator Loss: 0.5446887612342834\n",
            "0.11195778846740723 data loading time\n",
            "0.11215662956237793 data loading time\n"
          ]
        },
        {
          "output_type": "stream",
          "name": "stderr",
          "text": [
            "\r 41%|████      | 827/2035 [4:07:16<6:02:48, 18.02s/it]"
          ]
        },
        {
          "output_type": "stream",
          "name": "stdout",
          "text": [
            "0.12128782272338867 data loading time\n",
            "2.588059186935425 Discriminators training\n",
            "1.1017065048217773 backprop discriminator\n",
            "0.24718356132507324 adversarial loss\n",
            "2.125814914703369 cycle loss\n",
            "9.423191785812378 generator backprop\n",
            "Generator Loss: 2.6412975788116455 Discriminator Loss: 0.47592970728874207\n",
            "0.11157989501953125 data loading time\n",
            "0.115447998046875 data loading time\n"
          ]
        },
        {
          "output_type": "stream",
          "name": "stderr",
          "text": [
            "\r 41%|████      | 828/2035 [4:07:34<6:02:38, 18.03s/it]"
          ]
        },
        {
          "output_type": "stream",
          "name": "stdout",
          "text": [
            "0.11830735206604004 data loading time\n",
            "2.5876803398132324 Discriminators training\n",
            "1.1010191440582275 backprop discriminator\n",
            "0.25547051429748535 adversarial loss\n",
            "2.120124340057373 cycle loss\n",
            "9.432372808456421 generator backprop\n",
            "Generator Loss: 2.9470481872558594 Discriminator Loss: 0.3786639869213104\n",
            "0.11191439628601074 data loading time\n",
            "0.11266636848449707 data loading time\n"
          ]
        },
        {
          "output_type": "stream",
          "name": "stderr",
          "text": [
            "\r 41%|████      | 829/2035 [4:07:52<6:02:14, 18.02s/it]"
          ]
        },
        {
          "output_type": "stream",
          "name": "stdout",
          "text": [
            "0.1277003288269043 data loading time\n",
            "2.599384307861328 Discriminators training\n",
            "1.0946013927459717 backprop discriminator\n",
            "0.2452712059020996 adversarial loss\n",
            "2.128753185272217 cycle loss\n",
            "9.432651042938232 generator backprop\n",
            "Generator Loss: 2.5708274841308594 Discriminator Loss: 0.4185689091682434\n",
            "0.11151957511901855 data loading time\n",
            "0.11325669288635254 data loading time\n"
          ]
        },
        {
          "output_type": "stream",
          "name": "stderr",
          "text": [
            "\r 41%|████      | 830/2035 [4:08:10<6:01:52, 18.02s/it]"
          ]
        },
        {
          "output_type": "stream",
          "name": "stdout",
          "text": [
            "0.1363527774810791 data loading time\n",
            "2.581019163131714 Discriminators training\n",
            "1.1051650047302246 backprop discriminator\n",
            "0.24787092208862305 adversarial loss\n",
            "2.1313016414642334 cycle loss\n",
            "9.449060678482056 generator backprop\n",
            "Generator Loss: 2.397088050842285 Discriminator Loss: 0.4021539092063904\n",
            "0.11383795738220215 data loading time\n",
            "0.11341476440429688 data loading time\n"
          ]
        },
        {
          "output_type": "stream",
          "name": "stderr",
          "text": [
            "\r 41%|████      | 831/2035 [4:08:28<6:01:40, 18.02s/it]"
          ]
        },
        {
          "output_type": "stream",
          "name": "stdout",
          "text": [
            "0.1344435214996338 data loading time\n",
            "2.5720419883728027 Discriminators training\n",
            "1.0966589450836182 backprop discriminator\n",
            "0.25841331481933594 adversarial loss\n",
            "2.141878366470337 cycle loss\n",
            "9.4619140625 generator backprop\n",
            "Generator Loss: 2.2107763290405273 Discriminator Loss: 0.6796533465385437\n",
            "0.11117362976074219 data loading time\n",
            "0.11213111877441406 data loading time\n"
          ]
        },
        {
          "output_type": "stream",
          "name": "stderr",
          "text": [
            "\r 41%|████      | 832/2035 [4:08:46<6:01:31, 18.03s/it]"
          ]
        },
        {
          "output_type": "stream",
          "name": "stdout",
          "text": [
            "0.1370391845703125 data loading time\n",
            "2.5709636211395264 Discriminators training\n",
            "1.103119134902954 backprop discriminator\n",
            "0.2501962184906006 adversarial loss\n",
            "2.115614175796509 cycle loss\n",
            "9.45318078994751 generator backprop\n",
            "Generator Loss: 2.452488899230957 Discriminator Loss: 0.6132674217224121\n",
            "0.11147260665893555 data loading time\n",
            "0.11199021339416504 data loading time\n"
          ]
        },
        {
          "output_type": "stream",
          "name": "stderr",
          "text": [
            "\r 41%|████      | 833/2035 [4:09:04<6:01:18, 18.03s/it]"
          ]
        },
        {
          "output_type": "stream",
          "name": "stdout",
          "text": [
            "0.13058900833129883 data loading time\n",
            "2.6023619174957275 Discriminators training\n",
            "1.1074602603912354 backprop discriminator\n",
            "0.25011134147644043 adversarial loss\n",
            "2.1270217895507812 cycle loss\n",
            "9.483043670654297 generator backprop\n",
            "Generator Loss: 2.534303903579712 Discriminator Loss: 0.4584729075431824\n",
            "0.11241602897644043 data loading time\n",
            "0.1140289306640625 data loading time\n"
          ]
        },
        {
          "output_type": "stream",
          "name": "stderr",
          "text": [
            "\r 41%|████      | 834/2035 [4:09:22<6:01:23, 18.05s/it]"
          ]
        },
        {
          "output_type": "stream",
          "name": "stdout",
          "text": [
            "0.12391042709350586 data loading time\n",
            "2.581603765487671 Discriminators training\n",
            "1.0967872142791748 backprop discriminator\n",
            "0.24801850318908691 adversarial loss\n",
            "2.118483781814575 cycle loss\n",
            "9.558390378952026 generator backprop\n",
            "Generator Loss: 2.5804545879364014 Discriminator Loss: 0.44127652049064636\n",
            "0.1164100170135498 data loading time\n",
            "0.11779117584228516 data loading time\n"
          ]
        },
        {
          "output_type": "stream",
          "name": "stderr",
          "text": [
            "\r 41%|████      | 835/2035 [4:09:40<6:01:39, 18.08s/it]"
          ]
        },
        {
          "output_type": "stream",
          "name": "stdout",
          "text": [
            "0.12662196159362793 data loading time\n",
            "2.6114022731781006 Discriminators training\n",
            "1.1219234466552734 backprop discriminator\n",
            "0.24815750122070312 adversarial loss\n",
            "2.131150722503662 cycle loss\n",
            "9.526042699813843 generator backprop\n",
            "Generator Loss: 2.5866973400115967 Discriminator Loss: 0.415237694978714\n",
            "0.11213302612304688 data loading time\n",
            "0.11592221260070801 data loading time\n"
          ]
        },
        {
          "output_type": "stream",
          "name": "stderr",
          "text": [
            "\r 41%|████      | 836/2035 [4:09:58<6:01:55, 18.11s/it]"
          ]
        },
        {
          "output_type": "stream",
          "name": "stdout",
          "text": [
            "0.13318729400634766 data loading time\n",
            "2.5996251106262207 Discriminators training\n",
            "1.1135005950927734 backprop discriminator\n",
            "0.25627923011779785 adversarial loss\n",
            "2.131887435913086 cycle loss\n",
            "9.5634286403656 generator backprop\n",
            "Generator Loss: 2.143225908279419 Discriminator Loss: 0.4603648781776428\n",
            "0.11157488822937012 data loading time\n",
            "0.11274051666259766 data loading time\n"
          ]
        },
        {
          "output_type": "stream",
          "name": "stderr",
          "text": [
            "\r 41%|████      | 837/2035 [4:10:17<6:02:09, 18.14s/it]"
          ]
        },
        {
          "output_type": "stream",
          "name": "stdout",
          "text": [
            "0.13187098503112793 data loading time\n",
            "2.595211982727051 Discriminators training\n",
            "1.119863510131836 backprop discriminator\n",
            "0.2526388168334961 adversarial loss\n",
            "2.1151533126831055 cycle loss\n",
            "9.483860731124878 generator backprop\n",
            "Generator Loss: 2.4308555126190186 Discriminator Loss: 0.4007095396518707\n",
            "0.11169600486755371 data loading time\n",
            "0.11225676536560059 data loading time\n"
          ]
        },
        {
          "output_type": "stream",
          "name": "stderr",
          "text": [
            "\r 41%|████      | 838/2035 [4:10:35<6:01:39, 18.13s/it]"
          ]
        },
        {
          "output_type": "stream",
          "name": "stdout",
          "text": [
            "0.12994122505187988 data loading time\n",
            "2.577981948852539 Discriminators training\n",
            "1.1180977821350098 backprop discriminator\n",
            "0.2489335536956787 adversarial loss\n",
            "2.1297247409820557 cycle loss\n",
            "9.525511980056763 generator backprop\n",
            "Generator Loss: 2.372236728668213 Discriminator Loss: 0.4169095754623413\n",
            "0.11155152320861816 data loading time\n",
            "0.1116185188293457 data loading time\n"
          ]
        },
        {
          "output_type": "stream",
          "name": "stderr",
          "text": [
            "\r 41%|████      | 839/2035 [4:10:53<6:01:25, 18.13s/it]"
          ]
        },
        {
          "output_type": "stream",
          "name": "stdout",
          "text": [
            "0.13275623321533203 data loading time\n",
            "2.5742218494415283 Discriminators training\n",
            "1.097703456878662 backprop discriminator\n",
            "0.24504661560058594 adversarial loss\n",
            "2.1197879314422607 cycle loss\n",
            "9.54119348526001 generator backprop\n",
            "Generator Loss: 3.8407797813415527 Discriminator Loss: 0.5584726333618164\n",
            "0.11171269416809082 data loading time\n",
            "0.11263918876647949 data loading time\n"
          ]
        },
        {
          "output_type": "stream",
          "name": "stderr",
          "text": [
            "\r 41%|████▏     | 840/2035 [4:11:11<6:01:08, 18.13s/it]"
          ]
        },
        {
          "output_type": "stream",
          "name": "stdout",
          "text": [
            "0.12271523475646973 data loading time\n",
            "2.5807390213012695 Discriminators training\n",
            "1.1044278144836426 backprop discriminator\n",
            "0.24556541442871094 adversarial loss\n",
            "2.1450674533843994 cycle loss\n",
            "9.494193315505981 generator backprop\n",
            "Generator Loss: 2.1484479904174805 Discriminator Loss: 0.4953908622264862\n",
            "0.11355280876159668 data loading time\n",
            "0.1123342514038086 data loading time\n"
          ]
        },
        {
          "output_type": "stream",
          "name": "stderr",
          "text": [
            "\r 41%|████▏     | 841/2035 [4:11:29<6:00:37, 18.12s/it]"
          ]
        },
        {
          "output_type": "stream",
          "name": "stdout",
          "text": [
            "0.13197755813598633 data loading time\n",
            "2.580805540084839 Discriminators training\n",
            "1.095928430557251 backprop discriminator\n",
            "0.2570931911468506 adversarial loss\n",
            "2.1449828147888184 cycle loss\n",
            "9.550448417663574 generator backprop\n",
            "Generator Loss: 2.4118547439575195 Discriminator Loss: 0.5158947706222534\n",
            "0.11308956146240234 data loading time\n",
            "0.11646556854248047 data loading time\n"
          ]
        },
        {
          "output_type": "stream",
          "name": "stderr",
          "text": [
            "\r 41%|████▏     | 842/2035 [4:11:47<6:00:57, 18.15s/it]"
          ]
        },
        {
          "output_type": "stream",
          "name": "stdout",
          "text": [
            "0.1317586898803711 data loading time\n",
            "2.5976920127868652 Discriminators training\n",
            "1.1126346588134766 backprop discriminator\n",
            "0.2632417678833008 adversarial loss\n",
            "2.1264877319335938 cycle loss\n",
            "9.525743007659912 generator backprop\n",
            "Generator Loss: 2.466773509979248 Discriminator Loss: 0.40504544973373413\n",
            "0.11320066452026367 data loading time\n",
            "0.1125035285949707 data loading time\n"
          ]
        },
        {
          "output_type": "stream",
          "name": "stderr",
          "text": [
            "\r 41%|████▏     | 843/2035 [4:12:05<6:00:57, 18.17s/it]"
          ]
        },
        {
          "output_type": "stream",
          "name": "stdout",
          "text": [
            "0.12731599807739258 data loading time\n",
            "2.594531774520874 Discriminators training\n",
            "1.1149139404296875 backprop discriminator\n",
            "0.2561495304107666 adversarial loss\n",
            "2.1291046142578125 cycle loss\n",
            "9.651769399642944 generator backprop\n",
            "Generator Loss: 2.2464380264282227 Discriminator Loss: 0.37577325105667114\n",
            "0.11597657203674316 data loading time\n",
            "0.11263060569763184 data loading time\n"
          ]
        },
        {
          "output_type": "stream",
          "name": "stderr",
          "text": [
            "\r 41%|████▏     | 844/2035 [4:12:24<6:01:26, 18.21s/it]"
          ]
        },
        {
          "output_type": "stream",
          "name": "stdout",
          "text": [
            "0.12984704971313477 data loading time\n",
            "2.597275972366333 Discriminators training\n",
            "1.1237621307373047 backprop discriminator\n",
            "0.25823497772216797 adversarial loss\n",
            "2.1369948387145996 cycle loss\n",
            "9.57813572883606 generator backprop\n",
            "Generator Loss: 3.0078611373901367 Discriminator Loss: 0.3679293096065521\n",
            "0.11337900161743164 data loading time\n",
            "0.11551117897033691 data loading time\n"
          ]
        },
        {
          "output_type": "stream",
          "name": "stderr",
          "text": [
            "\r 42%|████▏     | 845/2035 [4:12:42<6:01:25, 18.22s/it]"
          ]
        },
        {
          "output_type": "stream",
          "name": "stdout",
          "text": [
            "0.13504743576049805 data loading time\n",
            "2.5802066326141357 Discriminators training\n",
            "1.105036735534668 backprop discriminator\n",
            "0.24945807456970215 adversarial loss\n",
            "2.147550344467163 cycle loss\n",
            "9.538573741912842 generator backprop\n",
            "Generator Loss: 2.8308115005493164 Discriminator Loss: 0.4480157792568207\n",
            "0.11335301399230957 data loading time\n",
            "0.1124415397644043 data loading time\n"
          ]
        },
        {
          "output_type": "stream",
          "name": "stderr",
          "text": [
            "\r 42%|████▏     | 846/2035 [4:13:00<6:00:46, 18.21s/it]"
          ]
        },
        {
          "output_type": "stream",
          "name": "stdout",
          "text": [
            "0.1347954273223877 data loading time\n",
            "2.6010758876800537 Discriminators training\n",
            "1.120316505432129 backprop discriminator\n",
            "0.24758481979370117 adversarial loss\n",
            "2.1270594596862793 cycle loss\n",
            "9.580130100250244 generator backprop\n",
            "Generator Loss: 3.028428316116333 Discriminator Loss: 0.46625739336013794\n",
            "0.11132240295410156 data loading time\n",
            "0.11329340934753418 data loading time\n"
          ]
        },
        {
          "output_type": "stream",
          "name": "stderr",
          "text": [
            "\r 42%|████▏     | 847/2035 [4:13:18<6:00:46, 18.22s/it]"
          ]
        },
        {
          "output_type": "stream",
          "name": "stdout",
          "text": [
            "0.13266515731811523 data loading time\n",
            "2.6129708290100098 Discriminators training\n",
            "1.1224124431610107 backprop discriminator\n",
            "0.2559473514556885 adversarial loss\n",
            "2.165517568588257 cycle loss\n",
            "9.718064308166504 generator backprop\n",
            "Generator Loss: 2.344630241394043 Discriminator Loss: 0.5182361006736755\n",
            "0.11236572265625 data loading time\n",
            "0.11354351043701172 data loading time\n"
          ]
        },
        {
          "output_type": "stream",
          "name": "stderr",
          "text": [
            "\r 42%|████▏     | 848/2035 [4:13:37<6:01:51, 18.29s/it]"
          ]
        },
        {
          "output_type": "stream",
          "name": "stdout",
          "text": [
            "0.1309967041015625 data loading time\n",
            "2.5979223251342773 Discriminators training\n",
            "1.1372060775756836 backprop discriminator\n",
            "0.2503018379211426 adversarial loss\n",
            "2.138051986694336 cycle loss\n",
            "9.668255090713501 generator backprop\n",
            "Generator Loss: 2.399179697036743 Discriminator Loss: 0.3932706415653229\n",
            "0.11301517486572266 data loading time\n",
            "0.1156167984008789 data loading time\n"
          ]
        },
        {
          "output_type": "stream",
          "name": "stderr",
          "text": [
            "\r 42%|████▏     | 849/2035 [4:13:55<6:02:07, 18.32s/it]"
          ]
        },
        {
          "output_type": "stream",
          "name": "stdout",
          "text": [
            "0.14091014862060547 data loading time\n",
            "2.590883731842041 Discriminators training\n",
            "1.1203422546386719 backprop discriminator\n",
            "0.2552964687347412 adversarial loss\n",
            "2.146033525466919 cycle loss\n",
            "9.635358810424805 generator backprop\n",
            "Generator Loss: 2.3318841457366943 Discriminator Loss: 0.48441484570503235\n",
            "0.11304092407226562 data loading time\n",
            "0.11661648750305176 data loading time\n"
          ]
        },
        {
          "output_type": "stream",
          "name": "stderr",
          "text": [
            "\r 42%|████▏     | 850/2035 [4:14:14<6:01:53, 18.32s/it]"
          ]
        },
        {
          "output_type": "stream",
          "name": "stdout",
          "text": [
            "0.13669967651367188 data loading time\n",
            "2.61448335647583 Discriminators training\n",
            "1.1039555072784424 backprop discriminator\n",
            "0.2513580322265625 adversarial loss\n",
            "2.153259754180908 cycle loss\n",
            "9.642245054244995 generator backprop\n",
            "Generator Loss: 2.27362322807312 Discriminator Loss: 0.3877667188644409\n",
            "0.11080002784729004 data loading time\n",
            "0.11338376998901367 data loading time\n"
          ]
        },
        {
          "output_type": "stream",
          "name": "stderr",
          "text": [
            "\r 42%|████▏     | 851/2035 [4:14:32<6:01:34, 18.32s/it]"
          ]
        },
        {
          "output_type": "stream",
          "name": "stdout",
          "text": [
            "0.13971567153930664 data loading time\n",
            "2.618497848510742 Discriminators training\n",
            "1.1223986148834229 backprop discriminator\n",
            "0.24942827224731445 adversarial loss\n",
            "2.1299235820770264 cycle loss\n",
            "9.540498733520508 generator backprop\n",
            "Generator Loss: 3.06826114654541 Discriminator Loss: 0.4086175858974457\n",
            "0.11197233200073242 data loading time\n",
            "0.11373686790466309 data loading time\n"
          ]
        },
        {
          "output_type": "stream",
          "name": "stderr",
          "text": [
            "\r 42%|████▏     | 852/2035 [4:14:50<6:00:37, 18.29s/it]"
          ]
        },
        {
          "output_type": "stream",
          "name": "stdout",
          "text": [
            "0.12508845329284668 data loading time\n",
            "2.608083963394165 Discriminators training\n",
            "1.1091809272766113 backprop discriminator\n",
            "0.2511012554168701 adversarial loss\n",
            "2.138533592224121 cycle loss\n",
            "9.590657472610474 generator backprop\n",
            "Generator Loss: 2.332742691040039 Discriminator Loss: 0.5054579973220825\n",
            "0.11154031753540039 data loading time\n",
            "0.1142876148223877 data loading time\n"
          ]
        },
        {
          "output_type": "stream",
          "name": "stderr",
          "text": [
            "\r 42%|████▏     | 853/2035 [4:15:08<6:00:11, 18.28s/it]"
          ]
        },
        {
          "output_type": "stream",
          "name": "stdout",
          "text": [
            "0.1348729133605957 data loading time\n",
            "2.603848457336426 Discriminators training\n",
            "1.114729881286621 backprop discriminator\n",
            "0.247877836227417 adversarial loss\n",
            "2.1254701614379883 cycle loss\n",
            "9.534013748168945 generator backprop\n",
            "Generator Loss: 1.8500151634216309 Discriminator Loss: 0.5867703557014465\n",
            "0.11118912696838379 data loading time\n",
            "0.11146903038024902 data loading time\n"
          ]
        },
        {
          "output_type": "stream",
          "name": "stderr",
          "text": [
            "\r 42%|████▏     | 854/2035 [4:15:27<5:59:09, 18.25s/it]"
          ]
        },
        {
          "output_type": "stream",
          "name": "stdout",
          "text": [
            "0.12612271308898926 data loading time\n",
            "2.583279848098755 Discriminators training\n",
            "1.117523431777954 backprop discriminator\n",
            "0.24651622772216797 adversarial loss\n",
            "2.133225202560425 cycle loss\n",
            "9.56711745262146 generator backprop\n",
            "Generator Loss: 2.542876720428467 Discriminator Loss: 0.36014997959136963\n",
            "0.11117696762084961 data loading time\n",
            "0.11210894584655762 data loading time\n"
          ]
        },
        {
          "output_type": "stream",
          "name": "stderr",
          "text": [
            "\r 42%|████▏     | 855/2035 [4:15:45<5:58:35, 18.23s/it]"
          ]
        },
        {
          "output_type": "stream",
          "name": "stdout",
          "text": [
            "0.12849783897399902 data loading time\n",
            "2.604598045349121 Discriminators training\n",
            "1.1069862842559814 backprop discriminator\n",
            "0.24689126014709473 adversarial loss\n",
            "2.1355693340301514 cycle loss\n",
            "9.53188180923462 generator backprop\n",
            "Generator Loss: 2.40109920501709 Discriminator Loss: 0.40543991327285767\n",
            "0.11762022972106934 data loading time\n",
            "0.11484837532043457 data loading time\n"
          ]
        },
        {
          "output_type": "stream",
          "name": "stderr",
          "text": [
            "\r 42%|████▏     | 856/2035 [4:16:03<5:57:58, 18.22s/it]"
          ]
        },
        {
          "output_type": "stream",
          "name": "stdout",
          "text": [
            "0.13661980628967285 data loading time\n",
            "2.629359245300293 Discriminators training\n",
            "1.1121628284454346 backprop discriminator\n",
            "0.24847960472106934 adversarial loss\n",
            "2.148527145385742 cycle loss\n",
            "9.50116229057312 generator backprop\n",
            "Generator Loss: 2.8541388511657715 Discriminator Loss: 0.46316012740135193\n",
            "0.1132044792175293 data loading time\n",
            "0.11208248138427734 data loading time\n"
          ]
        },
        {
          "output_type": "stream",
          "name": "stderr",
          "text": [
            "\r 42%|████▏     | 857/2035 [4:16:21<5:57:26, 18.21s/it]"
          ]
        },
        {
          "output_type": "stream",
          "name": "stdout",
          "text": [
            "0.13327789306640625 data loading time\n",
            "2.5883429050445557 Discriminators training\n",
            "1.1000337600708008 backprop discriminator\n",
            "0.25638771057128906 adversarial loss\n",
            "2.1158597469329834 cycle loss\n",
            "9.473649978637695 generator backprop\n",
            "Generator Loss: 3.1194334030151367 Discriminator Loss: 0.34516680240631104\n",
            "0.11222529411315918 data loading time\n",
            "0.11280107498168945 data loading time\n"
          ]
        },
        {
          "output_type": "stream",
          "name": "stderr",
          "text": [
            "\r 42%|████▏     | 858/2035 [4:16:39<5:56:20, 18.17s/it]"
          ]
        },
        {
          "output_type": "stream",
          "name": "stdout",
          "text": [
            "0.12778663635253906 data loading time\n",
            "2.588783025741577 Discriminators training\n",
            "1.1076104640960693 backprop discriminator\n",
            "0.25151586532592773 adversarial loss\n",
            "2.1207149028778076 cycle loss\n",
            "9.507112741470337 generator backprop\n",
            "Generator Loss: 2.4187755584716797 Discriminator Loss: 0.42357635498046875\n",
            "0.11203241348266602 data loading time\n",
            "0.11326193809509277 data loading time\n"
          ]
        },
        {
          "output_type": "stream",
          "name": "stderr",
          "text": [
            "\r 42%|████▏     | 859/2035 [4:16:57<5:55:46, 18.15s/it]"
          ]
        },
        {
          "output_type": "stream",
          "name": "stdout",
          "text": [
            "0.13019871711730957 data loading time\n",
            "2.5907504558563232 Discriminators training\n",
            "1.1104016304016113 backprop discriminator\n",
            "0.24582648277282715 adversarial loss\n",
            "2.127608060836792 cycle loss\n",
            "9.520771980285645 generator backprop\n",
            "Generator Loss: 3.0511586666107178 Discriminator Loss: 0.43564942479133606\n",
            "0.11343765258789062 data loading time\n",
            "0.11342811584472656 data loading time\n"
          ]
        },
        {
          "output_type": "stream",
          "name": "stderr",
          "text": [
            "\r 42%|████▏     | 860/2035 [4:17:15<5:55:24, 18.15s/it]"
          ]
        },
        {
          "output_type": "stream",
          "name": "stdout",
          "text": [
            "0.1224360466003418 data loading time\n",
            "2.591184139251709 Discriminators training\n",
            "1.1042616367340088 backprop discriminator\n",
            "0.24910497665405273 adversarial loss\n",
            "2.1218018531799316 cycle loss\n",
            "9.480000972747803 generator backprop\n",
            "Generator Loss: 3.492690086364746 Discriminator Loss: 0.5156862139701843\n",
            "0.11372900009155273 data loading time\n",
            "0.11121964454650879 data loading time\n"
          ]
        },
        {
          "output_type": "stream",
          "name": "stderr",
          "text": [
            "\r 42%|████▏     | 861/2035 [4:17:34<5:54:36, 18.12s/it]"
          ]
        },
        {
          "output_type": "stream",
          "name": "stdout",
          "text": [
            "0.12432360649108887 data loading time\n",
            "2.609107732772827 Discriminators training\n",
            "1.0999674797058105 backprop discriminator\n",
            "0.2504901885986328 adversarial loss\n",
            "2.1237823963165283 cycle loss\n",
            "9.406213760375977 generator backprop\n",
            "Generator Loss: 2.6695218086242676 Discriminator Loss: 0.40591633319854736\n",
            "0.11075544357299805 data loading time\n",
            "0.11173653602600098 data loading time\n"
          ]
        },
        {
          "output_type": "stream",
          "name": "stderr",
          "text": [
            "\r 42%|████▏     | 862/2035 [4:17:52<5:53:36, 18.09s/it]"
          ]
        },
        {
          "output_type": "stream",
          "name": "stdout",
          "text": [
            "0.12680339813232422 data loading time\n",
            "2.587857484817505 Discriminators training\n",
            "1.0984830856323242 backprop discriminator\n",
            "0.2525005340576172 adversarial loss\n",
            "2.1272778511047363 cycle loss\n",
            "9.440767526626587 generator backprop\n",
            "Generator Loss: 2.7808656692504883 Discriminator Loss: 0.5408146381378174\n",
            "0.1112215518951416 data loading time\n",
            "0.11425924301147461 data loading time\n"
          ]
        },
        {
          "output_type": "stream",
          "name": "stderr",
          "text": [
            "\r 42%|████▏     | 863/2035 [4:18:10<5:52:55, 18.07s/it]"
          ]
        },
        {
          "output_type": "stream",
          "name": "stdout",
          "text": [
            "0.13220691680908203 data loading time\n",
            "2.588286876678467 Discriminators training\n",
            "1.1045703887939453 backprop discriminator\n",
            "0.24749469757080078 adversarial loss\n",
            "2.1218442916870117 cycle loss\n",
            "9.42087435722351 generator backprop\n",
            "Generator Loss: 2.7950570583343506 Discriminator Loss: 0.5548251867294312\n",
            "0.11332201957702637 data loading time\n",
            "0.11290764808654785 data loading time\n"
          ]
        },
        {
          "output_type": "stream",
          "name": "stderr",
          "text": [
            "\r 42%|████▏     | 864/2035 [4:18:28<5:52:22, 18.05s/it]"
          ]
        },
        {
          "output_type": "stream",
          "name": "stdout",
          "text": [
            "0.13393831253051758 data loading time\n",
            "2.567558526992798 Discriminators training\n",
            "1.1063096523284912 backprop discriminator\n",
            "0.24643635749816895 adversarial loss\n",
            "2.1205403804779053 cycle loss\n",
            "9.455838918685913 generator backprop\n",
            "Generator Loss: 2.5578532218933105 Discriminator Loss: 0.38999223709106445\n",
            "0.11090373992919922 data loading time\n",
            "0.11729168891906738 data loading time\n"
          ]
        },
        {
          "output_type": "stream",
          "name": "stderr",
          "text": [
            "\r 43%|████▎     | 865/2035 [4:18:46<5:51:54, 18.05s/it]"
          ]
        },
        {
          "output_type": "stream",
          "name": "stdout",
          "text": [
            "0.13109421730041504 data loading time\n",
            "2.598125696182251 Discriminators training\n",
            "1.089257001876831 backprop discriminator\n",
            "0.2538917064666748 adversarial loss\n",
            "2.1156532764434814 cycle loss\n",
            "9.47819185256958 generator backprop\n",
            "Generator Loss: 3.34722900390625 Discriminator Loss: 0.4428831934928894\n",
            "0.11085844039916992 data loading time\n",
            "0.11263585090637207 data loading time\n"
          ]
        },
        {
          "output_type": "stream",
          "name": "stderr",
          "text": [
            "\r 43%|████▎     | 866/2035 [4:19:04<5:51:44, 18.05s/it]"
          ]
        },
        {
          "output_type": "stream",
          "name": "stdout",
          "text": [
            "0.12801432609558105 data loading time\n",
            "2.592442035675049 Discriminators training\n",
            "1.1048996448516846 backprop discriminator\n",
            "0.24784183502197266 adversarial loss\n",
            "2.123584747314453 cycle loss\n",
            "9.506102323532104 generator backprop\n",
            "Generator Loss: 2.978745698928833 Discriminator Loss: 0.3670845031738281\n",
            "0.11439275741577148 data loading time\n",
            "0.11471772193908691 data loading time\n"
          ]
        },
        {
          "output_type": "stream",
          "name": "stderr",
          "text": [
            "\r 43%|████▎     | 867/2035 [4:19:22<5:51:47, 18.07s/it]"
          ]
        },
        {
          "output_type": "stream",
          "name": "stdout",
          "text": [
            "0.12842679023742676 data loading time\n",
            "2.5936484336853027 Discriminators training\n",
            "1.105212688446045 backprop discriminator\n",
            "0.24870777130126953 adversarial loss\n",
            "2.149160146713257 cycle loss\n",
            "9.651874303817749 generator backprop\n",
            "Generator Loss: 2.4878430366516113 Discriminator Loss: 0.48770684003829956\n",
            "0.11181354522705078 data loading time\n",
            "0.11329364776611328 data loading time\n"
          ]
        },
        {
          "output_type": "stream",
          "name": "stderr",
          "text": [
            "\r 43%|████▎     | 868/2035 [4:19:40<5:52:50, 18.14s/it]"
          ]
        },
        {
          "output_type": "stream",
          "name": "stdout",
          "text": [
            "0.1348869800567627 data loading time\n",
            "2.6022379398345947 Discriminators training\n",
            "1.1256818771362305 backprop discriminator\n",
            "0.24836063385009766 adversarial loss\n",
            "2.1370368003845215 cycle loss\n",
            "9.613181114196777 generator backprop\n",
            "Generator Loss: 3.3829355239868164 Discriminator Loss: 0.5201735496520996\n",
            "0.11227989196777344 data loading time\n",
            "0.11255478858947754 data loading time\n"
          ]
        },
        {
          "output_type": "stream",
          "name": "stderr",
          "text": [
            "\r 43%|████▎     | 869/2035 [4:19:58<5:53:24, 18.19s/it]"
          ]
        },
        {
          "output_type": "stream",
          "name": "stdout",
          "text": [
            "0.12972092628479004 data loading time\n",
            "2.606220245361328 Discriminators training\n",
            "1.1093769073486328 backprop discriminator\n",
            "0.24966764450073242 adversarial loss\n",
            "2.158047676086426 cycle loss\n",
            "9.547869682312012 generator backprop\n",
            "Generator Loss: 2.251652479171753 Discriminator Loss: 0.4347231984138489\n",
            "0.11230230331420898 data loading time\n",
            "0.11377692222595215 data loading time\n"
          ]
        },
        {
          "output_type": "stream",
          "name": "stderr",
          "text": [
            "\r 43%|████▎     | 870/2035 [4:20:17<5:53:16, 18.19s/it]"
          ]
        },
        {
          "output_type": "stream",
          "name": "stdout",
          "text": [
            "0.1305708885192871 data loading time\n",
            "2.604464292526245 Discriminators training\n",
            "1.106738567352295 backprop discriminator\n",
            "0.2507610321044922 adversarial loss\n",
            "2.1375670433044434 cycle loss\n",
            "9.708421468734741 generator backprop\n",
            "Generator Loss: 2.557877779006958 Discriminator Loss: 0.4338928461074829\n",
            "0.113677978515625 data loading time\n",
            "0.11383676528930664 data loading time\n"
          ]
        },
        {
          "output_type": "stream",
          "name": "stderr",
          "text": [
            "\r 43%|████▎     | 871/2035 [4:20:35<5:53:59, 18.25s/it]"
          ]
        },
        {
          "output_type": "stream",
          "name": "stdout",
          "text": [
            "0.13042616844177246 data loading time\n",
            "2.6372077465057373 Discriminators training\n",
            "1.1314878463745117 backprop discriminator\n",
            "0.2498931884765625 adversarial loss\n",
            "2.1389124393463135 cycle loss\n",
            "9.608829259872437 generator backprop\n",
            "Generator Loss: 2.22938871383667 Discriminator Loss: 0.4781583249568939\n",
            "0.11560845375061035 data loading time\n",
            "0.11382770538330078 data loading time\n"
          ]
        },
        {
          "output_type": "stream",
          "name": "stderr",
          "text": [
            "\r 43%|████▎     | 872/2035 [4:20:53<5:54:08, 18.27s/it]"
          ]
        },
        {
          "output_type": "stream",
          "name": "stdout",
          "text": [
            "0.13698840141296387 data loading time\n",
            "2.637333631515503 Discriminators training\n",
            "1.1336638927459717 backprop discriminator\n",
            "0.3357870578765869 adversarial loss\n",
            "2.1535727977752686 cycle loss\n",
            "9.746977806091309 generator backprop\n",
            "Generator Loss: 2.459934711456299 Discriminator Loss: 0.4059765338897705\n",
            "0.11156702041625977 data loading time\n",
            "0.11460328102111816 data loading time\n"
          ]
        },
        {
          "output_type": "stream",
          "name": "stderr",
          "text": [
            "\r 43%|████▎     | 873/2035 [4:21:12<5:55:45, 18.37s/it]"
          ]
        },
        {
          "output_type": "stream",
          "name": "stdout",
          "text": [
            "0.13213014602661133 data loading time\n",
            "2.6283962726593018 Discriminators training\n",
            "1.120863914489746 backprop discriminator\n",
            "0.24959492683410645 adversarial loss\n",
            "2.1492292881011963 cycle loss\n"
          ]
        }
      ],
      "metadata": {
        "colab": {
          "base_uri": "https://localhost:8080/"
        },
        "id": "_gKDyMbFjbau",
        "outputId": "c090444a-6c7c-46a0-ec66-40e3bb8e5b00"
      }
    }
  ]
}